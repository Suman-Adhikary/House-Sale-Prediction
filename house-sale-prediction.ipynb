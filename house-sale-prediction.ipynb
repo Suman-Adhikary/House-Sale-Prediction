{
 "cells": [
  {
   "cell_type": "code",
   "execution_count": 1,
   "id": "8d4bd4ea",
   "metadata": {
    "_cell_guid": "b1076dfc-b9ad-4769-8c92-a6c4dae69d19",
    "_uuid": "8f2839f25d086af736a60e9eeb907d3b93b6e0e5",
    "execution": {
     "iopub.execute_input": "2022-11-14T12:55:01.638778Z",
     "iopub.status.busy": "2022-11-14T12:55:01.637951Z",
     "iopub.status.idle": "2022-11-14T12:55:01.651433Z",
     "shell.execute_reply": "2022-11-14T12:55:01.650299Z"
    },
    "papermill": {
     "duration": 0.047277,
     "end_time": "2022-11-14T12:55:01.654618",
     "exception": false,
     "start_time": "2022-11-14T12:55:01.607341",
     "status": "completed"
    },
    "tags": []
   },
   "outputs": [
    {
     "name": "stdout",
     "output_type": "stream",
     "text": [
      "/kaggle/input/house-prices-advanced-regression-techniques/sample_submission.csv\n",
      "/kaggle/input/house-prices-advanced-regression-techniques/data_description.txt\n",
      "/kaggle/input/house-prices-advanced-regression-techniques/train.csv\n",
      "/kaggle/input/house-prices-advanced-regression-techniques/test.csv\n"
     ]
    }
   ],
   "source": [
    "# This Python 3 environment comes with many helpful analytics libraries installed\n",
    "# It is defined by the kaggle/python Docker image: https://github.com/kaggle/docker-python\n",
    "# For example, here's several helpful packages to load\n",
    "\n",
    "import numpy as np # linear algebra\n",
    "import pandas as pd # data processing, CSV file I/O (e.g. pd.read_csv)\n",
    "\n",
    "# Input data files are available in the read-only \"../input/\" directory\n",
    "# For example, running this (by clicking run or pressing Shift+Enter) will list all files under the input directory\n",
    "\n",
    "import os\n",
    "for dirname, _, filenames in os.walk('/kaggle/input'):\n",
    "    for filename in filenames:\n",
    "        print(os.path.join(dirname, filename))\n",
    "\n",
    "# You can write up to 20GB to the current directory (/kaggle/working/) that gets preserved as output when you create a version using \"Save & Run All\" \n",
    "# You can also write temporary files to /kaggle/temp/, but they won't be saved outside of the current session"
   ]
  },
  {
   "cell_type": "markdown",
   "id": "00a81f0e",
   "metadata": {
    "papermill": {
     "duration": 0.020449,
     "end_time": "2022-11-14T12:55:01.697967",
     "exception": false,
     "start_time": "2022-11-14T12:55:01.677518",
     "status": "completed"
    },
    "tags": []
   },
   "source": [
    "> # **Read the datasets**"
   ]
  },
  {
   "cell_type": "code",
   "execution_count": 2,
   "id": "06e2a851",
   "metadata": {
    "execution": {
     "iopub.execute_input": "2022-11-14T12:55:01.741112Z",
     "iopub.status.busy": "2022-11-14T12:55:01.740615Z",
     "iopub.status.idle": "2022-11-14T12:55:01.820869Z",
     "shell.execute_reply": "2022-11-14T12:55:01.819835Z"
    },
    "papermill": {
     "duration": 0.104972,
     "end_time": "2022-11-14T12:55:01.823648",
     "exception": false,
     "start_time": "2022-11-14T12:55:01.718676",
     "status": "completed"
    },
    "tags": []
   },
   "outputs": [],
   "source": [
    "train_data = pd.read_csv('/kaggle/input/house-prices-advanced-regression-techniques/train.csv')\n",
    "test_data = pd.read_csv('/kaggle/input/house-prices-advanced-regression-techniques/test.csv')"
   ]
  },
  {
   "cell_type": "markdown",
   "id": "db003d7d",
   "metadata": {
    "papermill": {
     "duration": 0.020461,
     "end_time": "2022-11-14T12:55:01.865163",
     "exception": false,
     "start_time": "2022-11-14T12:55:01.844702",
     "status": "completed"
    },
    "tags": []
   },
   "source": [
    "> # **Feature Engineering**"
   ]
  },
  {
   "cell_type": "markdown",
   "id": "73222c7c",
   "metadata": {
    "papermill": {
     "duration": 0.022729,
     "end_time": "2022-11-14T12:55:01.916860",
     "exception": false,
     "start_time": "2022-11-14T12:55:01.894131",
     "status": "completed"
    },
    "tags": []
   },
   "source": [
    "## Drop the column where missing value greater then 1000"
   ]
  },
  {
   "cell_type": "code",
   "execution_count": 3,
   "id": "02932761",
   "metadata": {
    "execution": {
     "iopub.execute_input": "2022-11-14T12:55:01.965609Z",
     "iopub.status.busy": "2022-11-14T12:55:01.964744Z",
     "iopub.status.idle": "2022-11-14T12:55:01.990628Z",
     "shell.execute_reply": "2022-11-14T12:55:01.989273Z"
    },
    "papermill": {
     "duration": 0.054609,
     "end_time": "2022-11-14T12:55:01.993250",
     "exception": false,
     "start_time": "2022-11-14T12:55:01.938641",
     "status": "completed"
    },
    "tags": []
   },
   "outputs": [
    {
     "data": {
      "text/plain": [
       "(1460, 77)"
      ]
     },
     "execution_count": 3,
     "metadata": {},
     "output_type": "execute_result"
    }
   ],
   "source": [
    "train_data = train_data.drop(train_data.columns[train_data.isna().sum() > 1000], axis = 1)\n",
    "train_data.shape"
   ]
  },
  {
   "cell_type": "code",
   "execution_count": 4,
   "id": "e2d964a7",
   "metadata": {
    "execution": {
     "iopub.execute_input": "2022-11-14T12:55:02.038511Z",
     "iopub.status.busy": "2022-11-14T12:55:02.037724Z",
     "iopub.status.idle": "2022-11-14T12:55:02.053261Z",
     "shell.execute_reply": "2022-11-14T12:55:02.052029Z"
    },
    "papermill": {
     "duration": 0.041433,
     "end_time": "2022-11-14T12:55:02.055930",
     "exception": false,
     "start_time": "2022-11-14T12:55:02.014497",
     "status": "completed"
    },
    "tags": []
   },
   "outputs": [
    {
     "data": {
      "text/plain": [
       "(1459, 76)"
      ]
     },
     "execution_count": 4,
     "metadata": {},
     "output_type": "execute_result"
    }
   ],
   "source": [
    "test_data = test_data.drop(test_data.columns[test_data.isna().sum() > 1000], axis = 1)\n",
    "test_data.shape"
   ]
  },
  {
   "cell_type": "markdown",
   "id": "c8884650",
   "metadata": {
    "papermill": {
     "duration": 0.020471,
     "end_time": "2022-11-14T12:55:02.099733",
     "exception": false,
     "start_time": "2022-11-14T12:55:02.079262",
     "status": "completed"
    },
    "tags": []
   },
   "source": [
    "## Read train and test data"
   ]
  },
  {
   "cell_type": "code",
   "execution_count": 5,
   "id": "a8905ed1",
   "metadata": {
    "execution": {
     "iopub.execute_input": "2022-11-14T12:55:02.143959Z",
     "iopub.status.busy": "2022-11-14T12:55:02.143159Z",
     "iopub.status.idle": "2022-11-14T12:55:02.187064Z",
     "shell.execute_reply": "2022-11-14T12:55:02.185752Z"
    },
    "papermill": {
     "duration": 0.06935,
     "end_time": "2022-11-14T12:55:02.189878",
     "exception": false,
     "start_time": "2022-11-14T12:55:02.120528",
     "status": "completed"
    },
    "tags": []
   },
   "outputs": [
    {
     "data": {
      "text/html": [
       "<div>\n",
       "<style scoped>\n",
       "    .dataframe tbody tr th:only-of-type {\n",
       "        vertical-align: middle;\n",
       "    }\n",
       "\n",
       "    .dataframe tbody tr th {\n",
       "        vertical-align: top;\n",
       "    }\n",
       "\n",
       "    .dataframe thead th {\n",
       "        text-align: right;\n",
       "    }\n",
       "</style>\n",
       "<table border=\"1\" class=\"dataframe\">\n",
       "  <thead>\n",
       "    <tr style=\"text-align: right;\">\n",
       "      <th></th>\n",
       "      <th>Id</th>\n",
       "      <th>MSSubClass</th>\n",
       "      <th>MSZoning</th>\n",
       "      <th>LotFrontage</th>\n",
       "      <th>LotArea</th>\n",
       "      <th>Street</th>\n",
       "      <th>LotShape</th>\n",
       "      <th>LandContour</th>\n",
       "      <th>Utilities</th>\n",
       "      <th>LotConfig</th>\n",
       "      <th>...</th>\n",
       "      <th>EnclosedPorch</th>\n",
       "      <th>3SsnPorch</th>\n",
       "      <th>ScreenPorch</th>\n",
       "      <th>PoolArea</th>\n",
       "      <th>MiscVal</th>\n",
       "      <th>MoSold</th>\n",
       "      <th>YrSold</th>\n",
       "      <th>SaleType</th>\n",
       "      <th>SaleCondition</th>\n",
       "      <th>SalePrice</th>\n",
       "    </tr>\n",
       "  </thead>\n",
       "  <tbody>\n",
       "    <tr>\n",
       "      <th>0</th>\n",
       "      <td>1</td>\n",
       "      <td>60</td>\n",
       "      <td>RL</td>\n",
       "      <td>65.0</td>\n",
       "      <td>8450</td>\n",
       "      <td>Pave</td>\n",
       "      <td>Reg</td>\n",
       "      <td>Lvl</td>\n",
       "      <td>AllPub</td>\n",
       "      <td>Inside</td>\n",
       "      <td>...</td>\n",
       "      <td>0</td>\n",
       "      <td>0</td>\n",
       "      <td>0</td>\n",
       "      <td>0</td>\n",
       "      <td>0</td>\n",
       "      <td>2</td>\n",
       "      <td>2008</td>\n",
       "      <td>WD</td>\n",
       "      <td>Normal</td>\n",
       "      <td>208500</td>\n",
       "    </tr>\n",
       "    <tr>\n",
       "      <th>1</th>\n",
       "      <td>2</td>\n",
       "      <td>20</td>\n",
       "      <td>RL</td>\n",
       "      <td>80.0</td>\n",
       "      <td>9600</td>\n",
       "      <td>Pave</td>\n",
       "      <td>Reg</td>\n",
       "      <td>Lvl</td>\n",
       "      <td>AllPub</td>\n",
       "      <td>FR2</td>\n",
       "      <td>...</td>\n",
       "      <td>0</td>\n",
       "      <td>0</td>\n",
       "      <td>0</td>\n",
       "      <td>0</td>\n",
       "      <td>0</td>\n",
       "      <td>5</td>\n",
       "      <td>2007</td>\n",
       "      <td>WD</td>\n",
       "      <td>Normal</td>\n",
       "      <td>181500</td>\n",
       "    </tr>\n",
       "    <tr>\n",
       "      <th>2</th>\n",
       "      <td>3</td>\n",
       "      <td>60</td>\n",
       "      <td>RL</td>\n",
       "      <td>68.0</td>\n",
       "      <td>11250</td>\n",
       "      <td>Pave</td>\n",
       "      <td>IR1</td>\n",
       "      <td>Lvl</td>\n",
       "      <td>AllPub</td>\n",
       "      <td>Inside</td>\n",
       "      <td>...</td>\n",
       "      <td>0</td>\n",
       "      <td>0</td>\n",
       "      <td>0</td>\n",
       "      <td>0</td>\n",
       "      <td>0</td>\n",
       "      <td>9</td>\n",
       "      <td>2008</td>\n",
       "      <td>WD</td>\n",
       "      <td>Normal</td>\n",
       "      <td>223500</td>\n",
       "    </tr>\n",
       "    <tr>\n",
       "      <th>3</th>\n",
       "      <td>4</td>\n",
       "      <td>70</td>\n",
       "      <td>RL</td>\n",
       "      <td>60.0</td>\n",
       "      <td>9550</td>\n",
       "      <td>Pave</td>\n",
       "      <td>IR1</td>\n",
       "      <td>Lvl</td>\n",
       "      <td>AllPub</td>\n",
       "      <td>Corner</td>\n",
       "      <td>...</td>\n",
       "      <td>272</td>\n",
       "      <td>0</td>\n",
       "      <td>0</td>\n",
       "      <td>0</td>\n",
       "      <td>0</td>\n",
       "      <td>2</td>\n",
       "      <td>2006</td>\n",
       "      <td>WD</td>\n",
       "      <td>Abnorml</td>\n",
       "      <td>140000</td>\n",
       "    </tr>\n",
       "    <tr>\n",
       "      <th>4</th>\n",
       "      <td>5</td>\n",
       "      <td>60</td>\n",
       "      <td>RL</td>\n",
       "      <td>84.0</td>\n",
       "      <td>14260</td>\n",
       "      <td>Pave</td>\n",
       "      <td>IR1</td>\n",
       "      <td>Lvl</td>\n",
       "      <td>AllPub</td>\n",
       "      <td>FR2</td>\n",
       "      <td>...</td>\n",
       "      <td>0</td>\n",
       "      <td>0</td>\n",
       "      <td>0</td>\n",
       "      <td>0</td>\n",
       "      <td>0</td>\n",
       "      <td>12</td>\n",
       "      <td>2008</td>\n",
       "      <td>WD</td>\n",
       "      <td>Normal</td>\n",
       "      <td>250000</td>\n",
       "    </tr>\n",
       "    <tr>\n",
       "      <th>...</th>\n",
       "      <td>...</td>\n",
       "      <td>...</td>\n",
       "      <td>...</td>\n",
       "      <td>...</td>\n",
       "      <td>...</td>\n",
       "      <td>...</td>\n",
       "      <td>...</td>\n",
       "      <td>...</td>\n",
       "      <td>...</td>\n",
       "      <td>...</td>\n",
       "      <td>...</td>\n",
       "      <td>...</td>\n",
       "      <td>...</td>\n",
       "      <td>...</td>\n",
       "      <td>...</td>\n",
       "      <td>...</td>\n",
       "      <td>...</td>\n",
       "      <td>...</td>\n",
       "      <td>...</td>\n",
       "      <td>...</td>\n",
       "      <td>...</td>\n",
       "    </tr>\n",
       "    <tr>\n",
       "      <th>1455</th>\n",
       "      <td>1456</td>\n",
       "      <td>60</td>\n",
       "      <td>RL</td>\n",
       "      <td>62.0</td>\n",
       "      <td>7917</td>\n",
       "      <td>Pave</td>\n",
       "      <td>Reg</td>\n",
       "      <td>Lvl</td>\n",
       "      <td>AllPub</td>\n",
       "      <td>Inside</td>\n",
       "      <td>...</td>\n",
       "      <td>0</td>\n",
       "      <td>0</td>\n",
       "      <td>0</td>\n",
       "      <td>0</td>\n",
       "      <td>0</td>\n",
       "      <td>8</td>\n",
       "      <td>2007</td>\n",
       "      <td>WD</td>\n",
       "      <td>Normal</td>\n",
       "      <td>175000</td>\n",
       "    </tr>\n",
       "    <tr>\n",
       "      <th>1456</th>\n",
       "      <td>1457</td>\n",
       "      <td>20</td>\n",
       "      <td>RL</td>\n",
       "      <td>85.0</td>\n",
       "      <td>13175</td>\n",
       "      <td>Pave</td>\n",
       "      <td>Reg</td>\n",
       "      <td>Lvl</td>\n",
       "      <td>AllPub</td>\n",
       "      <td>Inside</td>\n",
       "      <td>...</td>\n",
       "      <td>0</td>\n",
       "      <td>0</td>\n",
       "      <td>0</td>\n",
       "      <td>0</td>\n",
       "      <td>0</td>\n",
       "      <td>2</td>\n",
       "      <td>2010</td>\n",
       "      <td>WD</td>\n",
       "      <td>Normal</td>\n",
       "      <td>210000</td>\n",
       "    </tr>\n",
       "    <tr>\n",
       "      <th>1457</th>\n",
       "      <td>1458</td>\n",
       "      <td>70</td>\n",
       "      <td>RL</td>\n",
       "      <td>66.0</td>\n",
       "      <td>9042</td>\n",
       "      <td>Pave</td>\n",
       "      <td>Reg</td>\n",
       "      <td>Lvl</td>\n",
       "      <td>AllPub</td>\n",
       "      <td>Inside</td>\n",
       "      <td>...</td>\n",
       "      <td>0</td>\n",
       "      <td>0</td>\n",
       "      <td>0</td>\n",
       "      <td>0</td>\n",
       "      <td>2500</td>\n",
       "      <td>5</td>\n",
       "      <td>2010</td>\n",
       "      <td>WD</td>\n",
       "      <td>Normal</td>\n",
       "      <td>266500</td>\n",
       "    </tr>\n",
       "    <tr>\n",
       "      <th>1458</th>\n",
       "      <td>1459</td>\n",
       "      <td>20</td>\n",
       "      <td>RL</td>\n",
       "      <td>68.0</td>\n",
       "      <td>9717</td>\n",
       "      <td>Pave</td>\n",
       "      <td>Reg</td>\n",
       "      <td>Lvl</td>\n",
       "      <td>AllPub</td>\n",
       "      <td>Inside</td>\n",
       "      <td>...</td>\n",
       "      <td>112</td>\n",
       "      <td>0</td>\n",
       "      <td>0</td>\n",
       "      <td>0</td>\n",
       "      <td>0</td>\n",
       "      <td>4</td>\n",
       "      <td>2010</td>\n",
       "      <td>WD</td>\n",
       "      <td>Normal</td>\n",
       "      <td>142125</td>\n",
       "    </tr>\n",
       "    <tr>\n",
       "      <th>1459</th>\n",
       "      <td>1460</td>\n",
       "      <td>20</td>\n",
       "      <td>RL</td>\n",
       "      <td>75.0</td>\n",
       "      <td>9937</td>\n",
       "      <td>Pave</td>\n",
       "      <td>Reg</td>\n",
       "      <td>Lvl</td>\n",
       "      <td>AllPub</td>\n",
       "      <td>Inside</td>\n",
       "      <td>...</td>\n",
       "      <td>0</td>\n",
       "      <td>0</td>\n",
       "      <td>0</td>\n",
       "      <td>0</td>\n",
       "      <td>0</td>\n",
       "      <td>6</td>\n",
       "      <td>2008</td>\n",
       "      <td>WD</td>\n",
       "      <td>Normal</td>\n",
       "      <td>147500</td>\n",
       "    </tr>\n",
       "  </tbody>\n",
       "</table>\n",
       "<p>1460 rows × 77 columns</p>\n",
       "</div>"
      ],
      "text/plain": [
       "        Id  MSSubClass MSZoning  LotFrontage  LotArea Street LotShape  \\\n",
       "0        1          60       RL         65.0     8450   Pave      Reg   \n",
       "1        2          20       RL         80.0     9600   Pave      Reg   \n",
       "2        3          60       RL         68.0    11250   Pave      IR1   \n",
       "3        4          70       RL         60.0     9550   Pave      IR1   \n",
       "4        5          60       RL         84.0    14260   Pave      IR1   \n",
       "...    ...         ...      ...          ...      ...    ...      ...   \n",
       "1455  1456          60       RL         62.0     7917   Pave      Reg   \n",
       "1456  1457          20       RL         85.0    13175   Pave      Reg   \n",
       "1457  1458          70       RL         66.0     9042   Pave      Reg   \n",
       "1458  1459          20       RL         68.0     9717   Pave      Reg   \n",
       "1459  1460          20       RL         75.0     9937   Pave      Reg   \n",
       "\n",
       "     LandContour Utilities LotConfig  ... EnclosedPorch 3SsnPorch ScreenPorch  \\\n",
       "0            Lvl    AllPub    Inside  ...             0         0           0   \n",
       "1            Lvl    AllPub       FR2  ...             0         0           0   \n",
       "2            Lvl    AllPub    Inside  ...             0         0           0   \n",
       "3            Lvl    AllPub    Corner  ...           272         0           0   \n",
       "4            Lvl    AllPub       FR2  ...             0         0           0   \n",
       "...          ...       ...       ...  ...           ...       ...         ...   \n",
       "1455         Lvl    AllPub    Inside  ...             0         0           0   \n",
       "1456         Lvl    AllPub    Inside  ...             0         0           0   \n",
       "1457         Lvl    AllPub    Inside  ...             0         0           0   \n",
       "1458         Lvl    AllPub    Inside  ...           112         0           0   \n",
       "1459         Lvl    AllPub    Inside  ...             0         0           0   \n",
       "\n",
       "     PoolArea MiscVal MoSold  YrSold  SaleType  SaleCondition  SalePrice  \n",
       "0           0       0      2    2008        WD         Normal     208500  \n",
       "1           0       0      5    2007        WD         Normal     181500  \n",
       "2           0       0      9    2008        WD         Normal     223500  \n",
       "3           0       0      2    2006        WD        Abnorml     140000  \n",
       "4           0       0     12    2008        WD         Normal     250000  \n",
       "...       ...     ...    ...     ...       ...            ...        ...  \n",
       "1455        0       0      8    2007        WD         Normal     175000  \n",
       "1456        0       0      2    2010        WD         Normal     210000  \n",
       "1457        0    2500      5    2010        WD         Normal     266500  \n",
       "1458        0       0      4    2010        WD         Normal     142125  \n",
       "1459        0       0      6    2008        WD         Normal     147500  \n",
       "\n",
       "[1460 rows x 77 columns]"
      ]
     },
     "execution_count": 5,
     "metadata": {},
     "output_type": "execute_result"
    }
   ],
   "source": [
    "train_data"
   ]
  },
  {
   "cell_type": "code",
   "execution_count": 6,
   "id": "beb2b051",
   "metadata": {
    "execution": {
     "iopub.execute_input": "2022-11-14T12:55:02.237660Z",
     "iopub.status.busy": "2022-11-14T12:55:02.237137Z",
     "iopub.status.idle": "2022-11-14T12:55:02.270979Z",
     "shell.execute_reply": "2022-11-14T12:55:02.269673Z"
    },
    "papermill": {
     "duration": 0.059761,
     "end_time": "2022-11-14T12:55:02.273557",
     "exception": false,
     "start_time": "2022-11-14T12:55:02.213796",
     "status": "completed"
    },
    "tags": []
   },
   "outputs": [
    {
     "data": {
      "text/html": [
       "<div>\n",
       "<style scoped>\n",
       "    .dataframe tbody tr th:only-of-type {\n",
       "        vertical-align: middle;\n",
       "    }\n",
       "\n",
       "    .dataframe tbody tr th {\n",
       "        vertical-align: top;\n",
       "    }\n",
       "\n",
       "    .dataframe thead th {\n",
       "        text-align: right;\n",
       "    }\n",
       "</style>\n",
       "<table border=\"1\" class=\"dataframe\">\n",
       "  <thead>\n",
       "    <tr style=\"text-align: right;\">\n",
       "      <th></th>\n",
       "      <th>Id</th>\n",
       "      <th>MSSubClass</th>\n",
       "      <th>MSZoning</th>\n",
       "      <th>LotFrontage</th>\n",
       "      <th>LotArea</th>\n",
       "      <th>Street</th>\n",
       "      <th>LotShape</th>\n",
       "      <th>LandContour</th>\n",
       "      <th>Utilities</th>\n",
       "      <th>LotConfig</th>\n",
       "      <th>...</th>\n",
       "      <th>OpenPorchSF</th>\n",
       "      <th>EnclosedPorch</th>\n",
       "      <th>3SsnPorch</th>\n",
       "      <th>ScreenPorch</th>\n",
       "      <th>PoolArea</th>\n",
       "      <th>MiscVal</th>\n",
       "      <th>MoSold</th>\n",
       "      <th>YrSold</th>\n",
       "      <th>SaleType</th>\n",
       "      <th>SaleCondition</th>\n",
       "    </tr>\n",
       "  </thead>\n",
       "  <tbody>\n",
       "    <tr>\n",
       "      <th>0</th>\n",
       "      <td>1461</td>\n",
       "      <td>20</td>\n",
       "      <td>RH</td>\n",
       "      <td>80.0</td>\n",
       "      <td>11622</td>\n",
       "      <td>Pave</td>\n",
       "      <td>Reg</td>\n",
       "      <td>Lvl</td>\n",
       "      <td>AllPub</td>\n",
       "      <td>Inside</td>\n",
       "      <td>...</td>\n",
       "      <td>0</td>\n",
       "      <td>0</td>\n",
       "      <td>0</td>\n",
       "      <td>120</td>\n",
       "      <td>0</td>\n",
       "      <td>0</td>\n",
       "      <td>6</td>\n",
       "      <td>2010</td>\n",
       "      <td>WD</td>\n",
       "      <td>Normal</td>\n",
       "    </tr>\n",
       "    <tr>\n",
       "      <th>1</th>\n",
       "      <td>1462</td>\n",
       "      <td>20</td>\n",
       "      <td>RL</td>\n",
       "      <td>81.0</td>\n",
       "      <td>14267</td>\n",
       "      <td>Pave</td>\n",
       "      <td>IR1</td>\n",
       "      <td>Lvl</td>\n",
       "      <td>AllPub</td>\n",
       "      <td>Corner</td>\n",
       "      <td>...</td>\n",
       "      <td>36</td>\n",
       "      <td>0</td>\n",
       "      <td>0</td>\n",
       "      <td>0</td>\n",
       "      <td>0</td>\n",
       "      <td>12500</td>\n",
       "      <td>6</td>\n",
       "      <td>2010</td>\n",
       "      <td>WD</td>\n",
       "      <td>Normal</td>\n",
       "    </tr>\n",
       "    <tr>\n",
       "      <th>2</th>\n",
       "      <td>1463</td>\n",
       "      <td>60</td>\n",
       "      <td>RL</td>\n",
       "      <td>74.0</td>\n",
       "      <td>13830</td>\n",
       "      <td>Pave</td>\n",
       "      <td>IR1</td>\n",
       "      <td>Lvl</td>\n",
       "      <td>AllPub</td>\n",
       "      <td>Inside</td>\n",
       "      <td>...</td>\n",
       "      <td>34</td>\n",
       "      <td>0</td>\n",
       "      <td>0</td>\n",
       "      <td>0</td>\n",
       "      <td>0</td>\n",
       "      <td>0</td>\n",
       "      <td>3</td>\n",
       "      <td>2010</td>\n",
       "      <td>WD</td>\n",
       "      <td>Normal</td>\n",
       "    </tr>\n",
       "    <tr>\n",
       "      <th>3</th>\n",
       "      <td>1464</td>\n",
       "      <td>60</td>\n",
       "      <td>RL</td>\n",
       "      <td>78.0</td>\n",
       "      <td>9978</td>\n",
       "      <td>Pave</td>\n",
       "      <td>IR1</td>\n",
       "      <td>Lvl</td>\n",
       "      <td>AllPub</td>\n",
       "      <td>Inside</td>\n",
       "      <td>...</td>\n",
       "      <td>36</td>\n",
       "      <td>0</td>\n",
       "      <td>0</td>\n",
       "      <td>0</td>\n",
       "      <td>0</td>\n",
       "      <td>0</td>\n",
       "      <td>6</td>\n",
       "      <td>2010</td>\n",
       "      <td>WD</td>\n",
       "      <td>Normal</td>\n",
       "    </tr>\n",
       "    <tr>\n",
       "      <th>4</th>\n",
       "      <td>1465</td>\n",
       "      <td>120</td>\n",
       "      <td>RL</td>\n",
       "      <td>43.0</td>\n",
       "      <td>5005</td>\n",
       "      <td>Pave</td>\n",
       "      <td>IR1</td>\n",
       "      <td>HLS</td>\n",
       "      <td>AllPub</td>\n",
       "      <td>Inside</td>\n",
       "      <td>...</td>\n",
       "      <td>82</td>\n",
       "      <td>0</td>\n",
       "      <td>0</td>\n",
       "      <td>144</td>\n",
       "      <td>0</td>\n",
       "      <td>0</td>\n",
       "      <td>1</td>\n",
       "      <td>2010</td>\n",
       "      <td>WD</td>\n",
       "      <td>Normal</td>\n",
       "    </tr>\n",
       "    <tr>\n",
       "      <th>...</th>\n",
       "      <td>...</td>\n",
       "      <td>...</td>\n",
       "      <td>...</td>\n",
       "      <td>...</td>\n",
       "      <td>...</td>\n",
       "      <td>...</td>\n",
       "      <td>...</td>\n",
       "      <td>...</td>\n",
       "      <td>...</td>\n",
       "      <td>...</td>\n",
       "      <td>...</td>\n",
       "      <td>...</td>\n",
       "      <td>...</td>\n",
       "      <td>...</td>\n",
       "      <td>...</td>\n",
       "      <td>...</td>\n",
       "      <td>...</td>\n",
       "      <td>...</td>\n",
       "      <td>...</td>\n",
       "      <td>...</td>\n",
       "      <td>...</td>\n",
       "    </tr>\n",
       "    <tr>\n",
       "      <th>1454</th>\n",
       "      <td>2915</td>\n",
       "      <td>160</td>\n",
       "      <td>RM</td>\n",
       "      <td>21.0</td>\n",
       "      <td>1936</td>\n",
       "      <td>Pave</td>\n",
       "      <td>Reg</td>\n",
       "      <td>Lvl</td>\n",
       "      <td>AllPub</td>\n",
       "      <td>Inside</td>\n",
       "      <td>...</td>\n",
       "      <td>0</td>\n",
       "      <td>0</td>\n",
       "      <td>0</td>\n",
       "      <td>0</td>\n",
       "      <td>0</td>\n",
       "      <td>0</td>\n",
       "      <td>6</td>\n",
       "      <td>2006</td>\n",
       "      <td>WD</td>\n",
       "      <td>Normal</td>\n",
       "    </tr>\n",
       "    <tr>\n",
       "      <th>1455</th>\n",
       "      <td>2916</td>\n",
       "      <td>160</td>\n",
       "      <td>RM</td>\n",
       "      <td>21.0</td>\n",
       "      <td>1894</td>\n",
       "      <td>Pave</td>\n",
       "      <td>Reg</td>\n",
       "      <td>Lvl</td>\n",
       "      <td>AllPub</td>\n",
       "      <td>Inside</td>\n",
       "      <td>...</td>\n",
       "      <td>24</td>\n",
       "      <td>0</td>\n",
       "      <td>0</td>\n",
       "      <td>0</td>\n",
       "      <td>0</td>\n",
       "      <td>0</td>\n",
       "      <td>4</td>\n",
       "      <td>2006</td>\n",
       "      <td>WD</td>\n",
       "      <td>Abnorml</td>\n",
       "    </tr>\n",
       "    <tr>\n",
       "      <th>1456</th>\n",
       "      <td>2917</td>\n",
       "      <td>20</td>\n",
       "      <td>RL</td>\n",
       "      <td>160.0</td>\n",
       "      <td>20000</td>\n",
       "      <td>Pave</td>\n",
       "      <td>Reg</td>\n",
       "      <td>Lvl</td>\n",
       "      <td>AllPub</td>\n",
       "      <td>Inside</td>\n",
       "      <td>...</td>\n",
       "      <td>0</td>\n",
       "      <td>0</td>\n",
       "      <td>0</td>\n",
       "      <td>0</td>\n",
       "      <td>0</td>\n",
       "      <td>0</td>\n",
       "      <td>9</td>\n",
       "      <td>2006</td>\n",
       "      <td>WD</td>\n",
       "      <td>Abnorml</td>\n",
       "    </tr>\n",
       "    <tr>\n",
       "      <th>1457</th>\n",
       "      <td>2918</td>\n",
       "      <td>85</td>\n",
       "      <td>RL</td>\n",
       "      <td>62.0</td>\n",
       "      <td>10441</td>\n",
       "      <td>Pave</td>\n",
       "      <td>Reg</td>\n",
       "      <td>Lvl</td>\n",
       "      <td>AllPub</td>\n",
       "      <td>Inside</td>\n",
       "      <td>...</td>\n",
       "      <td>32</td>\n",
       "      <td>0</td>\n",
       "      <td>0</td>\n",
       "      <td>0</td>\n",
       "      <td>0</td>\n",
       "      <td>700</td>\n",
       "      <td>7</td>\n",
       "      <td>2006</td>\n",
       "      <td>WD</td>\n",
       "      <td>Normal</td>\n",
       "    </tr>\n",
       "    <tr>\n",
       "      <th>1458</th>\n",
       "      <td>2919</td>\n",
       "      <td>60</td>\n",
       "      <td>RL</td>\n",
       "      <td>74.0</td>\n",
       "      <td>9627</td>\n",
       "      <td>Pave</td>\n",
       "      <td>Reg</td>\n",
       "      <td>Lvl</td>\n",
       "      <td>AllPub</td>\n",
       "      <td>Inside</td>\n",
       "      <td>...</td>\n",
       "      <td>48</td>\n",
       "      <td>0</td>\n",
       "      <td>0</td>\n",
       "      <td>0</td>\n",
       "      <td>0</td>\n",
       "      <td>0</td>\n",
       "      <td>11</td>\n",
       "      <td>2006</td>\n",
       "      <td>WD</td>\n",
       "      <td>Normal</td>\n",
       "    </tr>\n",
       "  </tbody>\n",
       "</table>\n",
       "<p>1459 rows × 76 columns</p>\n",
       "</div>"
      ],
      "text/plain": [
       "        Id  MSSubClass MSZoning  LotFrontage  LotArea Street LotShape  \\\n",
       "0     1461          20       RH         80.0    11622   Pave      Reg   \n",
       "1     1462          20       RL         81.0    14267   Pave      IR1   \n",
       "2     1463          60       RL         74.0    13830   Pave      IR1   \n",
       "3     1464          60       RL         78.0     9978   Pave      IR1   \n",
       "4     1465         120       RL         43.0     5005   Pave      IR1   \n",
       "...    ...         ...      ...          ...      ...    ...      ...   \n",
       "1454  2915         160       RM         21.0     1936   Pave      Reg   \n",
       "1455  2916         160       RM         21.0     1894   Pave      Reg   \n",
       "1456  2917          20       RL        160.0    20000   Pave      Reg   \n",
       "1457  2918          85       RL         62.0    10441   Pave      Reg   \n",
       "1458  2919          60       RL         74.0     9627   Pave      Reg   \n",
       "\n",
       "     LandContour Utilities LotConfig  ... OpenPorchSF EnclosedPorch 3SsnPorch  \\\n",
       "0            Lvl    AllPub    Inside  ...           0             0         0   \n",
       "1            Lvl    AllPub    Corner  ...          36             0         0   \n",
       "2            Lvl    AllPub    Inside  ...          34             0         0   \n",
       "3            Lvl    AllPub    Inside  ...          36             0         0   \n",
       "4            HLS    AllPub    Inside  ...          82             0         0   \n",
       "...          ...       ...       ...  ...         ...           ...       ...   \n",
       "1454         Lvl    AllPub    Inside  ...           0             0         0   \n",
       "1455         Lvl    AllPub    Inside  ...          24             0         0   \n",
       "1456         Lvl    AllPub    Inside  ...           0             0         0   \n",
       "1457         Lvl    AllPub    Inside  ...          32             0         0   \n",
       "1458         Lvl    AllPub    Inside  ...          48             0         0   \n",
       "\n",
       "     ScreenPorch PoolArea MiscVal  MoSold  YrSold  SaleType  SaleCondition  \n",
       "0            120        0       0       6    2010        WD         Normal  \n",
       "1              0        0   12500       6    2010        WD         Normal  \n",
       "2              0        0       0       3    2010        WD         Normal  \n",
       "3              0        0       0       6    2010        WD         Normal  \n",
       "4            144        0       0       1    2010        WD         Normal  \n",
       "...          ...      ...     ...     ...     ...       ...            ...  \n",
       "1454           0        0       0       6    2006        WD         Normal  \n",
       "1455           0        0       0       4    2006        WD        Abnorml  \n",
       "1456           0        0       0       9    2006        WD        Abnorml  \n",
       "1457           0        0     700       7    2006        WD         Normal  \n",
       "1458           0        0       0      11    2006        WD         Normal  \n",
       "\n",
       "[1459 rows x 76 columns]"
      ]
     },
     "execution_count": 6,
     "metadata": {},
     "output_type": "execute_result"
    }
   ],
   "source": [
    "test_data"
   ]
  },
  {
   "cell_type": "markdown",
   "id": "926d5a88",
   "metadata": {
    "papermill": {
     "duration": 0.021707,
     "end_time": "2022-11-14T12:55:02.317931",
     "exception": false,
     "start_time": "2022-11-14T12:55:02.296224",
     "status": "completed"
    },
    "tags": []
   },
   "source": [
    "## Find number of missing values of train data"
   ]
  },
  {
   "cell_type": "code",
   "execution_count": 7,
   "id": "1a7b22bf",
   "metadata": {
    "execution": {
     "iopub.execute_input": "2022-11-14T12:55:02.364071Z",
     "iopub.status.busy": "2022-11-14T12:55:02.363606Z",
     "iopub.status.idle": "2022-11-14T12:55:02.405709Z",
     "shell.execute_reply": "2022-11-14T12:55:02.404388Z"
    },
    "papermill": {
     "duration": 0.069542,
     "end_time": "2022-11-14T12:55:02.409588",
     "exception": false,
     "start_time": "2022-11-14T12:55:02.340046",
     "status": "completed"
    },
    "tags": []
   },
   "outputs": [
    {
     "name": "stdout",
     "output_type": "stream",
     "text": [
      "LotFrontage 259 float64\n",
      "MasVnrType 8 object\n",
      "MasVnrArea 8 float64\n",
      "BsmtQual 37 object\n",
      "BsmtCond 37 object\n",
      "BsmtExposure 38 object\n",
      "BsmtFinType1 37 object\n",
      "BsmtFinType2 38 object\n",
      "Electrical 1 object\n",
      "FireplaceQu 690 object\n",
      "GarageType 81 object\n",
      "GarageYrBlt 81 float64\n",
      "GarageFinish 81 object\n",
      "GarageQual 81 object\n",
      "GarageCond 81 object\n"
     ]
    }
   ],
   "source": [
    "missing_train_values = [col for col in train_data.columns if train_data[col].isna().sum() > 0]\n",
    "for col in missing_train_values:\n",
    "    print(col, train_data[col].isna().sum(), train_data[col].dtypes)"
   ]
  },
  {
   "cell_type": "markdown",
   "id": "8a215b6b",
   "metadata": {
    "papermill": {
     "duration": 0.022984,
     "end_time": "2022-11-14T12:55:02.456429",
     "exception": false,
     "start_time": "2022-11-14T12:55:02.433445",
     "status": "completed"
    },
    "tags": []
   },
   "source": [
    "## Checking skewness of missing columns of train data"
   ]
  },
  {
   "cell_type": "code",
   "execution_count": 8,
   "id": "ab6fb27c",
   "metadata": {
    "execution": {
     "iopub.execute_input": "2022-11-14T12:55:02.503243Z",
     "iopub.status.busy": "2022-11-14T12:55:02.502801Z",
     "iopub.status.idle": "2022-11-14T12:55:03.951991Z",
     "shell.execute_reply": "2022-11-14T12:55:03.950684Z"
    },
    "papermill": {
     "duration": 1.475691,
     "end_time": "2022-11-14T12:55:03.954609",
     "exception": false,
     "start_time": "2022-11-14T12:55:02.478918",
     "status": "completed"
    },
    "tags": []
   },
   "outputs": [
    {
     "name": "stderr",
     "output_type": "stream",
     "text": [
      "/opt/conda/lib/python3.7/site-packages/seaborn/distributions.py:2619: FutureWarning: `distplot` is a deprecated function and will be removed in a future version. Please adapt your code to use either `displot` (a figure-level function with similar flexibility) or `histplot` (an axes-level function for histograms).\n",
      "  warnings.warn(msg, FutureWarning)\n"
     ]
    },
    {
     "data": {
      "text/plain": [
       "<AxesSubplot:xlabel='LotFrontage', ylabel='Density'>"
      ]
     },
     "execution_count": 8,
     "metadata": {},
     "output_type": "execute_result"
    },
    {
     "data": {
      "image/png": "[encoded data removed]",
      "text/plain": [
       "<Figure size 720x432 with 1 Axes>"
      ]
     },
     "metadata": {
      "needs_background": "light"
     },
     "output_type": "display_data"
    }
   ],
   "source": [
    "import seaborn as sns\n",
    "import matplotlib.pyplot as plt\n",
    "fig, ax = plt.subplots(figsize = (10, 6))\n",
    "sns.distplot(train_data['LotFrontage'])"
   ]
  },
  {
   "cell_type": "code",
   "execution_count": 9,
   "id": "3aeab721",
   "metadata": {
    "execution": {
     "iopub.execute_input": "2022-11-14T12:55:04.003056Z",
     "iopub.status.busy": "2022-11-14T12:55:04.002184Z",
     "iopub.status.idle": "2022-11-14T12:55:04.270482Z",
     "shell.execute_reply": "2022-11-14T12:55:04.269220Z"
    },
    "papermill": {
     "duration": 0.295023,
     "end_time": "2022-11-14T12:55:04.272861",
     "exception": false,
     "start_time": "2022-11-14T12:55:03.977838",
     "status": "completed"
    },
    "tags": []
   },
   "outputs": [
    {
     "name": "stderr",
     "output_type": "stream",
     "text": [
      "/opt/conda/lib/python3.7/site-packages/seaborn/distributions.py:2619: FutureWarning: `distplot` is a deprecated function and will be removed in a future version. Please adapt your code to use either `displot` (a figure-level function with similar flexibility) or `histplot` (an axes-level function for histograms).\n",
      "  warnings.warn(msg, FutureWarning)\n"
     ]
    },
    {
     "data": {
      "text/plain": [
       "<AxesSubplot:xlabel='GarageYrBlt', ylabel='Density'>"
      ]
     },
     "execution_count": 9,
     "metadata": {},
     "output_type": "execute_result"
    },
    {
     "data": {
      "image/png": "[encoded data removed]",
      "text/plain": [
       "<Figure size 432x288 with 1 Axes>"
      ]
     },
     "metadata": {
      "needs_background": "light"
     },
     "output_type": "display_data"
    }
   ],
   "source": [
    "sns.distplot(train_data['GarageYrBlt'])"
   ]
  },
  {
   "cell_type": "markdown",
   "id": "241ce369",
   "metadata": {
    "papermill": {
     "duration": 0.024296,
     "end_time": "2022-11-14T12:55:04.321260",
     "exception": false,
     "start_time": "2022-11-14T12:55:04.296964",
     "status": "completed"
    },
    "tags": []
   },
   "source": [
    "## Fullfill missing data by median in train dataset"
   ]
  },
  {
   "cell_type": "code",
   "execution_count": 10,
   "id": "0fb428d1",
   "metadata": {
    "execution": {
     "iopub.execute_input": "2022-11-14T12:55:04.371563Z",
     "iopub.status.busy": "2022-11-14T12:55:04.371033Z",
     "iopub.status.idle": "2022-11-14T12:55:04.686696Z",
     "shell.execute_reply": "2022-11-14T12:55:04.685124Z"
    },
    "papermill": {
     "duration": 0.343851,
     "end_time": "2022-11-14T12:55:04.689904",
     "exception": false,
     "start_time": "2022-11-14T12:55:04.346053",
     "status": "completed"
    },
    "tags": []
   },
   "outputs": [],
   "source": [
    "from sklearn.impute import SimpleImputer\n",
    "imputer_median = SimpleImputer(missing_values = np.nan, strategy = 'median')\n",
    "imputer_median.fit(train_data[['LotFrontage', 'GarageYrBlt', 'MasVnrArea']])\n",
    "train_data[['LotFrontage', 'GarageYrBlt', 'MasVnrArea']] = imputer_median.transform(train_data[['LotFrontage', 'GarageYrBlt', 'MasVnrArea']])"
   ]
  },
  {
   "cell_type": "code",
   "execution_count": 11,
   "id": "2f7592e0",
   "metadata": {
    "execution": {
     "iopub.execute_input": "2022-11-14T12:55:04.739147Z",
     "iopub.status.busy": "2022-11-14T12:55:04.738660Z",
     "iopub.status.idle": "2022-11-14T12:55:04.771689Z",
     "shell.execute_reply": "2022-11-14T12:55:04.769979Z"
    },
    "papermill": {
     "duration": 0.06159,
     "end_time": "2022-11-14T12:55:04.774825",
     "exception": false,
     "start_time": "2022-11-14T12:55:04.713235",
     "status": "completed"
    },
    "tags": []
   },
   "outputs": [
    {
     "name": "stdout",
     "output_type": "stream",
     "text": [
      "MasVnrType 8 object\n",
      "BsmtQual 37 object\n",
      "BsmtCond 37 object\n",
      "BsmtExposure 38 object\n",
      "BsmtFinType1 37 object\n",
      "BsmtFinType2 38 object\n",
      "Electrical 1 object\n",
      "FireplaceQu 690 object\n",
      "GarageType 81 object\n",
      "GarageFinish 81 object\n",
      "GarageQual 81 object\n",
      "GarageCond 81 object\n"
     ]
    }
   ],
   "source": [
    "missing_train_values = [col for col in train_data.columns if train_data[col].isna().sum() > 0]\n",
    "for col in missing_train_values:\n",
    "    print(col, train_data[col].isna().sum(), train_data[col].dtypes)"
   ]
  },
  {
   "cell_type": "markdown",
   "id": "5725b882",
   "metadata": {
    "papermill": {
     "duration": 0.023283,
     "end_time": "2022-11-14T12:55:04.822148",
     "exception": false,
     "start_time": "2022-11-14T12:55:04.798865",
     "status": "completed"
    },
    "tags": []
   },
   "source": [
    "## Drop FireplaceQu column for high missing value on train dataset"
   ]
  },
  {
   "cell_type": "code",
   "execution_count": 12,
   "id": "7b50d13e",
   "metadata": {
    "execution": {
     "iopub.execute_input": "2022-11-14T12:55:04.873231Z",
     "iopub.status.busy": "2022-11-14T12:55:04.872374Z",
     "iopub.status.idle": "2022-11-14T12:55:04.879587Z",
     "shell.execute_reply": "2022-11-14T12:55:04.878709Z"
    },
    "papermill": {
     "duration": 0.035995,
     "end_time": "2022-11-14T12:55:04.881949",
     "exception": false,
     "start_time": "2022-11-14T12:55:04.845954",
     "status": "completed"
    },
    "tags": []
   },
   "outputs": [],
   "source": [
    "train_data = train_data.drop(columns = 'FireplaceQu')"
   ]
  },
  {
   "cell_type": "markdown",
   "id": "a151fc60",
   "metadata": {
    "papermill": {
     "duration": 0.024419,
     "end_time": "2022-11-14T12:55:04.929856",
     "exception": false,
     "start_time": "2022-11-14T12:55:04.905437",
     "status": "completed"
    },
    "tags": []
   },
   "source": [
    "## Fullfill missing categorical data by most frequent value on training dataset "
   ]
  },
  {
   "cell_type": "code",
   "execution_count": 13,
   "id": "2a895269",
   "metadata": {
    "execution": {
     "iopub.execute_input": "2022-11-14T12:55:04.978619Z",
     "iopub.status.busy": "2022-11-14T12:55:04.977814Z",
     "iopub.status.idle": "2022-11-14T12:55:05.006961Z",
     "shell.execute_reply": "2022-11-14T12:55:05.006011Z"
    },
    "papermill": {
     "duration": 0.056557,
     "end_time": "2022-11-14T12:55:05.009570",
     "exception": false,
     "start_time": "2022-11-14T12:55:04.953013",
     "status": "completed"
    },
    "tags": []
   },
   "outputs": [],
   "source": [
    "object_train_data = [col for col in train_data.columns if (train_data[col].dtypes == 'object' and train_data[col].isna().sum() > 0)]\n",
    "imputer_object = SimpleImputer(missing_values = np.nan, strategy = 'most_frequent')\n",
    "imputer_object.fit(train_data[object_train_data])\n",
    "train_data[object_train_data] = imputer_object.transform(train_data[object_train_data])"
   ]
  },
  {
   "cell_type": "markdown",
   "id": "dba98f72",
   "metadata": {
    "papermill": {
     "duration": 0.023035,
     "end_time": "2022-11-14T12:55:05.055954",
     "exception": false,
     "start_time": "2022-11-14T12:55:05.032919",
     "status": "completed"
    },
    "tags": []
   },
   "source": [
    "### Checking missing values(if any)"
   ]
  },
  {
   "cell_type": "code",
   "execution_count": 14,
   "id": "3428401d",
   "metadata": {
    "execution": {
     "iopub.execute_input": "2022-11-14T12:55:05.105465Z",
     "iopub.status.busy": "2022-11-14T12:55:05.104190Z",
     "iopub.status.idle": "2022-11-14T12:55:05.117372Z",
     "shell.execute_reply": "2022-11-14T12:55:05.116243Z"
    },
    "papermill": {
     "duration": 0.040444,
     "end_time": "2022-11-14T12:55:05.119806",
     "exception": false,
     "start_time": "2022-11-14T12:55:05.079362",
     "status": "completed"
    },
    "tags": []
   },
   "outputs": [
    {
     "data": {
      "text/plain": [
       "0"
      ]
     },
     "execution_count": 14,
     "metadata": {},
     "output_type": "execute_result"
    }
   ],
   "source": [
    "train_data.isna().sum().sum()"
   ]
  },
  {
   "cell_type": "code",
   "execution_count": 15,
   "id": "9ec47994",
   "metadata": {
    "execution": {
     "iopub.execute_input": "2022-11-14T12:55:05.169313Z",
     "iopub.status.busy": "2022-11-14T12:55:05.168810Z",
     "iopub.status.idle": "2022-11-14T12:55:05.175040Z",
     "shell.execute_reply": "2022-11-14T12:55:05.174311Z"
    },
    "papermill": {
     "duration": 0.033943,
     "end_time": "2022-11-14T12:55:05.177280",
     "exception": false,
     "start_time": "2022-11-14T12:55:05.143337",
     "status": "completed"
    },
    "tags": []
   },
   "outputs": [
    {
     "data": {
      "text/plain": [
       "(1460, 76)"
      ]
     },
     "execution_count": 15,
     "metadata": {},
     "output_type": "execute_result"
    }
   ],
   "source": [
    "train_data.shape"
   ]
  },
  {
   "cell_type": "markdown",
   "id": "9df3085a",
   "metadata": {
    "papermill": {
     "duration": 0.023323,
     "end_time": "2022-11-14T12:55:05.224402",
     "exception": false,
     "start_time": "2022-11-14T12:55:05.201079",
     "status": "completed"
    },
    "tags": []
   },
   "source": [
    "## Find the number of missing data of test data."
   ]
  },
  {
   "cell_type": "code",
   "execution_count": 16,
   "id": "ddccba44",
   "metadata": {
    "execution": {
     "iopub.execute_input": "2022-11-14T12:55:05.273631Z",
     "iopub.status.busy": "2022-11-14T12:55:05.272774Z",
     "iopub.status.idle": "2022-11-14T12:55:05.306723Z",
     "shell.execute_reply": "2022-11-14T12:55:05.305199Z"
    },
    "papermill": {
     "duration": 0.061394,
     "end_time": "2022-11-14T12:55:05.309235",
     "exception": false,
     "start_time": "2022-11-14T12:55:05.247841",
     "status": "completed"
    },
    "tags": []
   },
   "outputs": [
    {
     "name": "stdout",
     "output_type": "stream",
     "text": [
      "MSZoning 4 object\n",
      "LotFrontage 227 float64\n",
      "Utilities 2 object\n",
      "Exterior1st 1 object\n",
      "Exterior2nd 1 object\n",
      "MasVnrType 16 object\n",
      "MasVnrArea 15 float64\n",
      "BsmtQual 44 object\n",
      "BsmtCond 45 object\n",
      "BsmtExposure 44 object\n",
      "BsmtFinType1 42 object\n",
      "BsmtFinSF1 1 float64\n",
      "BsmtFinType2 42 object\n",
      "BsmtFinSF2 1 float64\n",
      "BsmtUnfSF 1 float64\n",
      "TotalBsmtSF 1 float64\n",
      "BsmtFullBath 2 float64\n",
      "BsmtHalfBath 2 float64\n",
      "KitchenQual 1 object\n",
      "Functional 2 object\n",
      "FireplaceQu 730 object\n",
      "GarageType 76 object\n",
      "GarageYrBlt 78 float64\n",
      "GarageFinish 78 object\n",
      "GarageCars 1 float64\n",
      "GarageArea 1 float64\n",
      "GarageQual 78 object\n",
      "GarageCond 78 object\n",
      "SaleType 1 object\n"
     ]
    }
   ],
   "source": [
    "missing_test_values = [col for col in test_data.columns if test_data[col].isna().sum() > 0]\n",
    "for col in missing_test_values:\n",
    "    print(col, test_data[col].isna().sum(), test_data[col].dtypes)"
   ]
  },
  {
   "cell_type": "markdown",
   "id": "937d3251",
   "metadata": {
    "papermill": {
     "duration": 0.023437,
     "end_time": "2022-11-14T12:55:05.356424",
     "exception": false,
     "start_time": "2022-11-14T12:55:05.332987",
     "status": "completed"
    },
    "tags": []
   },
   "source": [
    "## Replacing missing value with mode and median."
   ]
  },
  {
   "cell_type": "code",
   "execution_count": 17,
   "id": "facf77a1",
   "metadata": {
    "execution": {
     "iopub.execute_input": "2022-11-14T12:55:05.407338Z",
     "iopub.status.busy": "2022-11-14T12:55:05.406527Z",
     "iopub.status.idle": "2022-11-14T12:55:05.423730Z",
     "shell.execute_reply": "2022-11-14T12:55:05.422546Z"
    },
    "papermill": {
     "duration": 0.046277,
     "end_time": "2022-11-14T12:55:05.426782",
     "exception": false,
     "start_time": "2022-11-14T12:55:05.380505",
     "status": "completed"
    },
    "tags": []
   },
   "outputs": [],
   "source": [
    "float_test_data = [col for col in test_data.columns if (test_data[col].dtypes == 'float64' and test_data[col].isna().sum() > 0)]\n",
    "imputer_test_median = SimpleImputer(missing_values = np.nan, strategy = 'median')\n",
    "imputer_test_median.fit(test_data[float_test_data])\n",
    "test_data[float_test_data] = imputer_test_median.transform(test_data[float_test_data])"
   ]
  },
  {
   "cell_type": "code",
   "execution_count": 18,
   "id": "8cd252e0",
   "metadata": {
    "execution": {
     "iopub.execute_input": "2022-11-14T12:55:05.477432Z",
     "iopub.status.busy": "2022-11-14T12:55:05.476532Z",
     "iopub.status.idle": "2022-11-14T12:55:05.483865Z",
     "shell.execute_reply": "2022-11-14T12:55:05.483055Z"
    },
    "papermill": {
     "duration": 0.035539,
     "end_time": "2022-11-14T12:55:05.486333",
     "exception": false,
     "start_time": "2022-11-14T12:55:05.450794",
     "status": "completed"
    },
    "tags": []
   },
   "outputs": [],
   "source": [
    "test_data = test_data.drop(columns = 'FireplaceQu')"
   ]
  },
  {
   "cell_type": "code",
   "execution_count": 19,
   "id": "d13a0e66",
   "metadata": {
    "execution": {
     "iopub.execute_input": "2022-11-14T12:55:05.537818Z",
     "iopub.status.busy": "2022-11-14T12:55:05.536898Z",
     "iopub.status.idle": "2022-11-14T12:55:05.568377Z",
     "shell.execute_reply": "2022-11-14T12:55:05.567440Z"
    },
    "papermill": {
     "duration": 0.059912,
     "end_time": "2022-11-14T12:55:05.571126",
     "exception": false,
     "start_time": "2022-11-14T12:55:05.511214",
     "status": "completed"
    },
    "tags": []
   },
   "outputs": [],
   "source": [
    "object_test_data = [col for col in test_data.columns if (test_data[col].dtypes == 'object' and test_data[col].isna().sum() > 0)]\n",
    "imputer_test_mode = SimpleImputer(missing_values = np.nan, strategy = 'most_frequent')\n",
    "imputer_test_mode.fit(test_data[object_test_data])\n",
    "test_data[object_test_data] = imputer_test_mode.transform(test_data[object_test_data])"
   ]
  },
  {
   "cell_type": "code",
   "execution_count": 20,
   "id": "d980ad3d",
   "metadata": {
    "execution": {
     "iopub.execute_input": "2022-11-14T12:55:05.621435Z",
     "iopub.status.busy": "2022-11-14T12:55:05.620666Z",
     "iopub.status.idle": "2022-11-14T12:55:05.627867Z",
     "shell.execute_reply": "2022-11-14T12:55:05.626827Z"
    },
    "papermill": {
     "duration": 0.035049,
     "end_time": "2022-11-14T12:55:05.630048",
     "exception": false,
     "start_time": "2022-11-14T12:55:05.594999",
     "status": "completed"
    },
    "tags": []
   },
   "outputs": [
    {
     "data": {
      "text/plain": [
       "(1459, 75)"
      ]
     },
     "execution_count": 20,
     "metadata": {},
     "output_type": "execute_result"
    }
   ],
   "source": [
    "test_data.shape"
   ]
  },
  {
   "cell_type": "markdown",
   "id": "7b5e1d30",
   "metadata": {
    "papermill": {
     "duration": 0.023198,
     "end_time": "2022-11-14T12:55:05.676862",
     "exception": false,
     "start_time": "2022-11-14T12:55:05.653664",
     "status": "completed"
    },
    "tags": []
   },
   "source": [
    "### Checking missing values(if any)"
   ]
  },
  {
   "cell_type": "code",
   "execution_count": 21,
   "id": "7bc24f9f",
   "metadata": {
    "execution": {
     "iopub.execute_input": "2022-11-14T12:55:05.727505Z",
     "iopub.status.busy": "2022-11-14T12:55:05.726728Z",
     "iopub.status.idle": "2022-11-14T12:55:05.738677Z",
     "shell.execute_reply": "2022-11-14T12:55:05.737629Z"
    },
    "papermill": {
     "duration": 0.039572,
     "end_time": "2022-11-14T12:55:05.740969",
     "exception": false,
     "start_time": "2022-11-14T12:55:05.701397",
     "status": "completed"
    },
    "tags": []
   },
   "outputs": [
    {
     "data": {
      "text/plain": [
       "0"
      ]
     },
     "execution_count": 21,
     "metadata": {},
     "output_type": "execute_result"
    }
   ],
   "source": [
    "test_data.isna().sum().sum()"
   ]
  },
  {
   "cell_type": "markdown",
   "id": "cb8786f3",
   "metadata": {
    "papermill": {
     "duration": 0.023788,
     "end_time": "2022-11-14T12:55:05.789032",
     "exception": false,
     "start_time": "2022-11-14T12:55:05.765244",
     "status": "completed"
    },
    "tags": []
   },
   "source": [
    "## Find no of unique categorical data of train data"
   ]
  },
  {
   "cell_type": "code",
   "execution_count": 22,
   "id": "cd6c6dfc",
   "metadata": {
    "execution": {
     "iopub.execute_input": "2022-11-14T12:55:05.838406Z",
     "iopub.status.busy": "2022-11-14T12:55:05.837716Z",
     "iopub.status.idle": "2022-11-14T12:55:05.855617Z",
     "shell.execute_reply": "2022-11-14T12:55:05.854605Z"
    },
    "papermill": {
     "duration": 0.045647,
     "end_time": "2022-11-14T12:55:05.858217",
     "exception": false,
     "start_time": "2022-11-14T12:55:05.812570",
     "status": "completed"
    },
    "tags": []
   },
   "outputs": [
    {
     "name": "stdout",
     "output_type": "stream",
     "text": [
      "MSZoning : 5\n",
      "Street : 2\n",
      "LotShape : 4\n",
      "LandContour : 4\n",
      "Utilities : 2\n",
      "LotConfig : 5\n",
      "LandSlope : 3\n",
      "Neighborhood : 25\n",
      "Condition1 : 9\n",
      "Condition2 : 8\n",
      "BldgType : 5\n",
      "HouseStyle : 8\n",
      "RoofStyle : 6\n",
      "RoofMatl : 8\n",
      "Exterior1st : 15\n",
      "Exterior2nd : 16\n",
      "MasVnrType : 4\n",
      "ExterQual : 4\n",
      "ExterCond : 5\n",
      "Foundation : 6\n",
      "BsmtQual : 4\n",
      "BsmtCond : 4\n",
      "BsmtExposure : 4\n",
      "BsmtFinType1 : 6\n",
      "BsmtFinType2 : 6\n",
      "Heating : 6\n",
      "HeatingQC : 5\n",
      "CentralAir : 2\n",
      "Electrical : 5\n",
      "KitchenQual : 4\n",
      "Functional : 7\n",
      "GarageType : 6\n",
      "GarageFinish : 3\n",
      "GarageQual : 5\n",
      "GarageCond : 5\n",
      "PavedDrive : 3\n",
      "SaleType : 9\n",
      "SaleCondition : 6\n"
     ]
    }
   ],
   "source": [
    "for i in train_data.columns:\n",
    "    if train_data[i].dtypes == 'object':\n",
    "        print(f\"{i} : {train_data[i].nunique()}\")"
   ]
  },
  {
   "cell_type": "code",
   "execution_count": 23,
   "id": "dbbb50a1",
   "metadata": {
    "execution": {
     "iopub.execute_input": "2022-11-14T12:55:05.909089Z",
     "iopub.status.busy": "2022-11-14T12:55:05.908353Z",
     "iopub.status.idle": "2022-11-14T12:55:05.918937Z",
     "shell.execute_reply": "2022-11-14T12:55:05.917746Z"
    },
    "papermill": {
     "duration": 0.039457,
     "end_time": "2022-11-14T12:55:05.922003",
     "exception": false,
     "start_time": "2022-11-14T12:55:05.882546",
     "status": "completed"
    },
    "tags": []
   },
   "outputs": [],
   "source": [
    "NoSeWa = train_data[train_data['Utilities'] != 'AllPub'].index\n",
    "train_data.drop(NoSeWa, inplace = True)"
   ]
  },
  {
   "cell_type": "markdown",
   "id": "31fcfe2c",
   "metadata": {
    "papermill": {
     "duration": 0.033983,
     "end_time": "2022-11-14T12:55:05.987155",
     "exception": false,
     "start_time": "2022-11-14T12:55:05.953172",
     "status": "completed"
    },
    "tags": []
   },
   "source": [
    "## Comparison no of categorical variable between train and test data"
   ]
  },
  {
   "cell_type": "code",
   "execution_count": 24,
   "id": "a3ccbdc1",
   "metadata": {
    "execution": {
     "iopub.execute_input": "2022-11-14T12:55:06.047030Z",
     "iopub.status.busy": "2022-11-14T12:55:06.045982Z",
     "iopub.status.idle": "2022-11-14T12:55:06.060022Z",
     "shell.execute_reply": "2022-11-14T12:55:06.058873Z"
    },
    "papermill": {
     "duration": 0.045073,
     "end_time": "2022-11-14T12:55:06.062563",
     "exception": false,
     "start_time": "2022-11-14T12:55:06.017490",
     "status": "completed"
    },
    "tags": []
   },
   "outputs": [
    {
     "data": {
      "text/plain": [
       "Condition2  Condition2\n",
       "Artery      Artery           2\n",
       "Feedr       Feedr            6\n",
       "Norm        Norm          1444\n",
       "PosA        PosA             1\n",
       "PosN        PosN             2\n",
       "RRAe        RRAe             1\n",
       "RRAn        RRAn             1\n",
       "RRNn        RRNn             2\n",
       "Name: Condition2, dtype: int64"
      ]
     },
     "execution_count": 24,
     "metadata": {},
     "output_type": "execute_result"
    }
   ],
   "source": [
    "train_data.groupby('Condition2')['Condition2'].value_counts()"
   ]
  },
  {
   "cell_type": "code",
   "execution_count": 25,
   "id": "b993de13",
   "metadata": {
    "execution": {
     "iopub.execute_input": "2022-11-14T12:55:06.117369Z",
     "iopub.status.busy": "2022-11-14T12:55:06.116119Z",
     "iopub.status.idle": "2022-11-14T12:55:06.140246Z",
     "shell.execute_reply": "2022-11-14T12:55:06.139074Z"
    },
    "papermill": {
     "duration": 0.053692,
     "end_time": "2022-11-14T12:55:06.142665",
     "exception": false,
     "start_time": "2022-11-14T12:55:06.088973",
     "status": "completed"
    },
    "tags": []
   },
   "outputs": [
    {
     "data": {
      "text/plain": [
       "Condition2  Condition2\n",
       "Artery      Artery           3\n",
       "Feedr       Feedr            7\n",
       "Norm        Norm          1444\n",
       "PosA        PosA             3\n",
       "PosN        PosN             2\n",
       "Name: Condition2, dtype: int64"
      ]
     },
     "execution_count": 25,
     "metadata": {},
     "output_type": "execute_result"
    }
   ],
   "source": [
    "test_data.groupby('Condition2')['Condition2'].value_counts()"
   ]
  },
  {
   "cell_type": "code",
   "execution_count": 26,
   "id": "58c0f690",
   "metadata": {
    "execution": {
     "iopub.execute_input": "2022-11-14T12:55:06.195880Z",
     "iopub.status.busy": "2022-11-14T12:55:06.194749Z",
     "iopub.status.idle": "2022-11-14T12:55:06.208463Z",
     "shell.execute_reply": "2022-11-14T12:55:06.207084Z"
    },
    "papermill": {
     "duration": 0.044065,
     "end_time": "2022-11-14T12:55:06.211615",
     "exception": false,
     "start_time": "2022-11-14T12:55:06.167550",
     "status": "completed"
    },
    "tags": []
   },
   "outputs": [],
   "source": [
    "D1 = train_data[(train_data['Condition2'] == 'RRAe') | (train_data['Condition2'] == 'RRAn') | (train_data['Condition2'] == 'RRNn')].index\n",
    "train_data.drop(D1, inplace = True)"
   ]
  },
  {
   "cell_type": "code",
   "execution_count": 27,
   "id": "cd88e5c0",
   "metadata": {
    "execution": {
     "iopub.execute_input": "2022-11-14T12:55:06.264759Z",
     "iopub.status.busy": "2022-11-14T12:55:06.263423Z",
     "iopub.status.idle": "2022-11-14T12:55:06.281766Z",
     "shell.execute_reply": "2022-11-14T12:55:06.280520Z"
    },
    "papermill": {
     "duration": 0.048755,
     "end_time": "2022-11-14T12:55:06.285439",
     "exception": false,
     "start_time": "2022-11-14T12:55:06.236684",
     "status": "completed"
    },
    "tags": []
   },
   "outputs": [
    {
     "data": {
      "text/plain": [
       "HouseStyle  HouseStyle\n",
       "1.5Fin      1.5Fin        153\n",
       "1.5Unf      1.5Unf         14\n",
       "1Story      1Story        723\n",
       "2.5Fin      2.5Fin          8\n",
       "2.5Unf      2.5Unf         11\n",
       "2Story      2Story        445\n",
       "SFoyer      SFoyer         37\n",
       "SLvl        SLvl           64\n",
       "Name: HouseStyle, dtype: int64"
      ]
     },
     "execution_count": 27,
     "metadata": {},
     "output_type": "execute_result"
    }
   ],
   "source": [
    "train_data.groupby('HouseStyle')['HouseStyle'].value_counts()"
   ]
  },
  {
   "cell_type": "code",
   "execution_count": 28,
   "id": "bc8d3f9d",
   "metadata": {
    "execution": {
     "iopub.execute_input": "2022-11-14T12:55:06.348669Z",
     "iopub.status.busy": "2022-11-14T12:55:06.347155Z",
     "iopub.status.idle": "2022-11-14T12:55:06.360169Z",
     "shell.execute_reply": "2022-11-14T12:55:06.358783Z"
    },
    "papermill": {
     "duration": 0.048083,
     "end_time": "2022-11-14T12:55:06.362819",
     "exception": false,
     "start_time": "2022-11-14T12:55:06.314736",
     "status": "completed"
    },
    "tags": []
   },
   "outputs": [
    {
     "data": {
      "text/plain": [
       "HouseStyle  HouseStyle\n",
       "1.5Fin      1.5Fin        160\n",
       "1.5Unf      1.5Unf          5\n",
       "1Story      1Story        745\n",
       "2.5Unf      2.5Unf         13\n",
       "2Story      2Story        427\n",
       "SFoyer      SFoyer         46\n",
       "SLvl        SLvl           63\n",
       "Name: HouseStyle, dtype: int64"
      ]
     },
     "execution_count": 28,
     "metadata": {},
     "output_type": "execute_result"
    }
   ],
   "source": [
    "test_data.groupby('HouseStyle')['HouseStyle'].value_counts()"
   ]
  },
  {
   "cell_type": "code",
   "execution_count": 29,
   "id": "89f737b5",
   "metadata": {
    "execution": {
     "iopub.execute_input": "2022-11-14T12:55:06.416639Z",
     "iopub.status.busy": "2022-11-14T12:55:06.416135Z",
     "iopub.status.idle": "2022-11-14T12:55:06.425625Z",
     "shell.execute_reply": "2022-11-14T12:55:06.424488Z"
    },
    "papermill": {
     "duration": 0.038444,
     "end_time": "2022-11-14T12:55:06.428007",
     "exception": false,
     "start_time": "2022-11-14T12:55:06.389563",
     "status": "completed"
    },
    "tags": []
   },
   "outputs": [],
   "source": [
    "D2 = train_data[train_data['HouseStyle'] == '2.5Fin'].index\n",
    "train_data.drop(D2, inplace = True)"
   ]
  },
  {
   "cell_type": "code",
   "execution_count": 30,
   "id": "8f6240bd",
   "metadata": {
    "execution": {
     "iopub.execute_input": "2022-11-14T12:55:06.481345Z",
     "iopub.status.busy": "2022-11-14T12:55:06.480305Z",
     "iopub.status.idle": "2022-11-14T12:55:06.493531Z",
     "shell.execute_reply": "2022-11-14T12:55:06.492437Z"
    },
    "papermill": {
     "duration": 0.042246,
     "end_time": "2022-11-14T12:55:06.495811",
     "exception": false,
     "start_time": "2022-11-14T12:55:06.453565",
     "status": "completed"
    },
    "tags": []
   },
   "outputs": [
    {
     "data": {
      "text/plain": [
       "RoofMatl  RoofMatl\n",
       "ClyTile   ClyTile        1\n",
       "CompShg   CompShg     1422\n",
       "Membran   Membran        1\n",
       "Metal     Metal          1\n",
       "Roll      Roll           1\n",
       "Tar&Grv   Tar&Grv       11\n",
       "WdShake   WdShake        5\n",
       "WdShngl   WdShngl        5\n",
       "Name: RoofMatl, dtype: int64"
      ]
     },
     "execution_count": 30,
     "metadata": {},
     "output_type": "execute_result"
    }
   ],
   "source": [
    "train_data.groupby('RoofMatl')['RoofMatl'].value_counts()"
   ]
  },
  {
   "cell_type": "code",
   "execution_count": 31,
   "id": "2ef06752",
   "metadata": {
    "execution": {
     "iopub.execute_input": "2022-11-14T12:55:06.549139Z",
     "iopub.status.busy": "2022-11-14T12:55:06.548350Z",
     "iopub.status.idle": "2022-11-14T12:55:06.560943Z",
     "shell.execute_reply": "2022-11-14T12:55:06.559800Z"
    },
    "papermill": {
     "duration": 0.042586,
     "end_time": "2022-11-14T12:55:06.563574",
     "exception": false,
     "start_time": "2022-11-14T12:55:06.520988",
     "status": "completed"
    },
    "tags": []
   },
   "outputs": [
    {
     "data": {
      "text/plain": [
       "RoofMatl  RoofMatl\n",
       "CompShg   CompShg     1442\n",
       "Tar&Grv   Tar&Grv       12\n",
       "WdShake   WdShake        4\n",
       "WdShngl   WdShngl        1\n",
       "Name: RoofMatl, dtype: int64"
      ]
     },
     "execution_count": 31,
     "metadata": {},
     "output_type": "execute_result"
    }
   ],
   "source": [
    "test_data.groupby('RoofMatl')['RoofMatl'].value_counts()"
   ]
  },
  {
   "cell_type": "code",
   "execution_count": 32,
   "id": "605dbf25",
   "metadata": {
    "execution": {
     "iopub.execute_input": "2022-11-14T12:55:06.616572Z",
     "iopub.status.busy": "2022-11-14T12:55:06.615676Z",
     "iopub.status.idle": "2022-11-14T12:55:06.626231Z",
     "shell.execute_reply": "2022-11-14T12:55:06.625336Z"
    },
    "papermill": {
     "duration": 0.039895,
     "end_time": "2022-11-14T12:55:06.628878",
     "exception": false,
     "start_time": "2022-11-14T12:55:06.588983",
     "status": "completed"
    },
    "tags": []
   },
   "outputs": [],
   "source": [
    "D3 = train_data[(train_data['RoofMatl'] == 'ClyTile') | (train_data['RoofMatl'] == 'Membran') | (train_data['RoofMatl'] == 'Metal') | (train_data['RoofMatl'] == 'Roll')].index\n",
    "train_data.drop(D3, inplace = True)"
   ]
  },
  {
   "cell_type": "code",
   "execution_count": 33,
   "id": "06901b98",
   "metadata": {
    "execution": {
     "iopub.execute_input": "2022-11-14T12:55:06.686313Z",
     "iopub.status.busy": "2022-11-14T12:55:06.685386Z",
     "iopub.status.idle": "2022-11-14T12:55:06.700049Z",
     "shell.execute_reply": "2022-11-14T12:55:06.698851Z"
    },
    "papermill": {
     "duration": 0.049634,
     "end_time": "2022-11-14T12:55:06.703441",
     "exception": false,
     "start_time": "2022-11-14T12:55:06.653807",
     "status": "completed"
    },
    "tags": []
   },
   "outputs": [
    {
     "data": {
      "text/plain": [
       "Exterior1st  Exterior1st\n",
       "AsbShng      AsbShng         19\n",
       "AsphShn      AsphShn          1\n",
       "BrkComm      BrkComm          2\n",
       "BrkFace      BrkFace         50\n",
       "CBlock       CBlock           1\n",
       "CemntBd      CemntBd         60\n",
       "HdBoard      HdBoard        221\n",
       "ImStucc      ImStucc          1\n",
       "MetalSd      MetalSd        217\n",
       "Plywood      Plywood        105\n",
       "Stone        Stone            2\n",
       "Stucco       Stucco          24\n",
       "VinylSd      VinylSd        513\n",
       "Wd Sdng      Wd Sdng        201\n",
       "WdShing      WdShing         26\n",
       "Name: Exterior1st, dtype: int64"
      ]
     },
     "execution_count": 33,
     "metadata": {},
     "output_type": "execute_result"
    }
   ],
   "source": [
    "train_data.groupby('Exterior1st')['Exterior1st'].value_counts()"
   ]
  },
  {
   "cell_type": "code",
   "execution_count": 34,
   "id": "23ed004c",
   "metadata": {
    "execution": {
     "iopub.execute_input": "2022-11-14T12:55:06.755232Z",
     "iopub.status.busy": "2022-11-14T12:55:06.754768Z",
     "iopub.status.idle": "2022-11-14T12:55:06.766599Z",
     "shell.execute_reply": "2022-11-14T12:55:06.765651Z"
    },
    "papermill": {
     "duration": 0.040546,
     "end_time": "2022-11-14T12:55:06.768878",
     "exception": false,
     "start_time": "2022-11-14T12:55:06.728332",
     "status": "completed"
    },
    "tags": []
   },
   "outputs": [
    {
     "data": {
      "text/plain": [
       "Exterior1st  Exterior1st\n",
       "AsbShng      AsbShng         24\n",
       "AsphShn      AsphShn          1\n",
       "BrkComm      BrkComm          4\n",
       "BrkFace      BrkFace         37\n",
       "CBlock       CBlock           1\n",
       "CemntBd      CemntBd         65\n",
       "HdBoard      HdBoard        220\n",
       "MetalSd      MetalSd        230\n",
       "Plywood      Plywood        113\n",
       "Stucco       Stucco          18\n",
       "VinylSd      VinylSd        511\n",
       "Wd Sdng      Wd Sdng        205\n",
       "WdShing      WdShing         30\n",
       "Name: Exterior1st, dtype: int64"
      ]
     },
     "execution_count": 34,
     "metadata": {},
     "output_type": "execute_result"
    }
   ],
   "source": [
    "test_data.groupby('Exterior1st')['Exterior1st'].value_counts()"
   ]
  },
  {
   "cell_type": "code",
   "execution_count": 35,
   "id": "b8e43934",
   "metadata": {
    "execution": {
     "iopub.execute_input": "2022-11-14T12:55:06.822493Z",
     "iopub.status.busy": "2022-11-14T12:55:06.821584Z",
     "iopub.status.idle": "2022-11-14T12:55:06.830903Z",
     "shell.execute_reply": "2022-11-14T12:55:06.830053Z"
    },
    "papermill": {
     "duration": 0.039333,
     "end_time": "2022-11-14T12:55:06.833665",
     "exception": false,
     "start_time": "2022-11-14T12:55:06.794332",
     "status": "completed"
    },
    "tags": []
   },
   "outputs": [],
   "source": [
    "D4 = train_data[(train_data['Exterior1st'] == 'Stone') | (train_data['Exterior1st'] == 'ImStucc')].index\n",
    "train_data.drop(D4, inplace = True)                     "
   ]
  },
  {
   "cell_type": "code",
   "execution_count": 36,
   "id": "a6a559a3",
   "metadata": {
    "execution": {
     "iopub.execute_input": "2022-11-14T12:55:06.889943Z",
     "iopub.status.busy": "2022-11-14T12:55:06.889486Z",
     "iopub.status.idle": "2022-11-14T12:55:06.901486Z",
     "shell.execute_reply": "2022-11-14T12:55:06.900519Z"
    },
    "papermill": {
     "duration": 0.043023,
     "end_time": "2022-11-14T12:55:06.903875",
     "exception": false,
     "start_time": "2022-11-14T12:55:06.860852",
     "status": "completed"
    },
    "tags": []
   },
   "outputs": [
    {
     "data": {
      "text/plain": [
       "Exterior2nd  Exterior2nd\n",
       "AsbShng      AsbShng         19\n",
       "AsphShn      AsphShn          3\n",
       "Brk Cmn      Brk Cmn          7\n",
       "BrkFace      BrkFace         25\n",
       "CBlock       CBlock           1\n",
       "CmentBd      CmentBd         59\n",
       "HdBoard      HdBoard        205\n",
       "ImStucc      ImStucc          9\n",
       "MetalSd      MetalSd        211\n",
       "Other        Other            1\n",
       "Plywood      Plywood        138\n",
       "Stone        Stone            4\n",
       "Stucco       Stucco          25\n",
       "VinylSd      VinylSd        502\n",
       "Wd Sdng      Wd Sdng        193\n",
       "Wd Shng      Wd Shng         38\n",
       "Name: Exterior2nd, dtype: int64"
      ]
     },
     "execution_count": 36,
     "metadata": {},
     "output_type": "execute_result"
    }
   ],
   "source": [
    "train_data.groupby('Exterior2nd')['Exterior2nd'].value_counts()"
   ]
  },
  {
   "cell_type": "code",
   "execution_count": 37,
   "id": "67a0b365",
   "metadata": {
    "execution": {
     "iopub.execute_input": "2022-11-14T12:55:06.956546Z",
     "iopub.status.busy": "2022-11-14T12:55:06.956039Z",
     "iopub.status.idle": "2022-11-14T12:55:06.968313Z",
     "shell.execute_reply": "2022-11-14T12:55:06.967202Z"
    },
    "papermill": {
     "duration": 0.041748,
     "end_time": "2022-11-14T12:55:06.970876",
     "exception": false,
     "start_time": "2022-11-14T12:55:06.929128",
     "status": "completed"
    },
    "tags": []
   },
   "outputs": [
    {
     "data": {
      "text/plain": [
       "Exterior2nd  Exterior2nd\n",
       "AsbShng      AsbShng         18\n",
       "AsphShn      AsphShn          1\n",
       "Brk Cmn      Brk Cmn         15\n",
       "BrkFace      BrkFace         22\n",
       "CBlock       CBlock           2\n",
       "CmentBd      CmentBd         66\n",
       "HdBoard      HdBoard        199\n",
       "ImStucc      ImStucc          5\n",
       "MetalSd      MetalSd        233\n",
       "Plywood      Plywood        128\n",
       "Stone        Stone            1\n",
       "Stucco       Stucco          21\n",
       "VinylSd      VinylSd        511\n",
       "Wd Sdng      Wd Sdng        194\n",
       "Wd Shng      Wd Shng         43\n",
       "Name: Exterior2nd, dtype: int64"
      ]
     },
     "execution_count": 37,
     "metadata": {},
     "output_type": "execute_result"
    }
   ],
   "source": [
    "test_data.groupby('Exterior2nd')['Exterior2nd'].value_counts()"
   ]
  },
  {
   "cell_type": "code",
   "execution_count": 38,
   "id": "4094fcb3",
   "metadata": {
    "execution": {
     "iopub.execute_input": "2022-11-14T12:55:07.024471Z",
     "iopub.status.busy": "2022-11-14T12:55:07.023195Z",
     "iopub.status.idle": "2022-11-14T12:55:07.031285Z",
     "shell.execute_reply": "2022-11-14T12:55:07.030462Z"
    },
    "papermill": {
     "duration": 0.036995,
     "end_time": "2022-11-14T12:55:07.033422",
     "exception": false,
     "start_time": "2022-11-14T12:55:06.996427",
     "status": "completed"
    },
    "tags": []
   },
   "outputs": [],
   "source": [
    "D5 = train_data[(train_data['Exterior2nd'] == 'Other')].index\n",
    "train_data.drop(D5, inplace = True)"
   ]
  },
  {
   "cell_type": "code",
   "execution_count": 39,
   "id": "3f2f5ec0",
   "metadata": {
    "execution": {
     "iopub.execute_input": "2022-11-14T12:55:07.086258Z",
     "iopub.status.busy": "2022-11-14T12:55:07.085326Z",
     "iopub.status.idle": "2022-11-14T12:55:07.096335Z",
     "shell.execute_reply": "2022-11-14T12:55:07.095088Z"
    },
    "papermill": {
     "duration": 0.039919,
     "end_time": "2022-11-14T12:55:07.098744",
     "exception": false,
     "start_time": "2022-11-14T12:55:07.058825",
     "status": "completed"
    },
    "tags": []
   },
   "outputs": [
    {
     "data": {
      "text/plain": [
       "Heating  Heating\n",
       "Floor    Floor         1\n",
       "GasA     GasA       1407\n",
       "GasW     GasW         18\n",
       "Grav     Grav          7\n",
       "OthW     OthW          2\n",
       "Wall     Wall          4\n",
       "Name: Heating, dtype: int64"
      ]
     },
     "execution_count": 39,
     "metadata": {},
     "output_type": "execute_result"
    }
   ],
   "source": [
    "train_data.groupby('Heating')['Heating'].value_counts()"
   ]
  },
  {
   "cell_type": "code",
   "execution_count": 40,
   "id": "5a27b6fa",
   "metadata": {
    "execution": {
     "iopub.execute_input": "2022-11-14T12:55:07.151900Z",
     "iopub.status.busy": "2022-11-14T12:55:07.151065Z",
     "iopub.status.idle": "2022-11-14T12:55:07.163485Z",
     "shell.execute_reply": "2022-11-14T12:55:07.162180Z"
    },
    "papermill": {
     "duration": 0.041821,
     "end_time": "2022-11-14T12:55:07.165961",
     "exception": false,
     "start_time": "2022-11-14T12:55:07.124140",
     "status": "completed"
    },
    "tags": []
   },
   "outputs": [
    {
     "data": {
      "text/plain": [
       "Heating  Heating\n",
       "GasA     GasA       1446\n",
       "GasW     GasW          9\n",
       "Grav     Grav          2\n",
       "Wall     Wall          2\n",
       "Name: Heating, dtype: int64"
      ]
     },
     "execution_count": 40,
     "metadata": {},
     "output_type": "execute_result"
    }
   ],
   "source": [
    "test_data.groupby('Heating')['Heating'].value_counts()"
   ]
  },
  {
   "cell_type": "code",
   "execution_count": 41,
   "id": "d81f7de8",
   "metadata": {
    "execution": {
     "iopub.execute_input": "2022-11-14T12:55:07.221045Z",
     "iopub.status.busy": "2022-11-14T12:55:07.219895Z",
     "iopub.status.idle": "2022-11-14T12:55:07.229709Z",
     "shell.execute_reply": "2022-11-14T12:55:07.228569Z"
    },
    "papermill": {
     "duration": 0.040197,
     "end_time": "2022-11-14T12:55:07.232195",
     "exception": false,
     "start_time": "2022-11-14T12:55:07.191998",
     "status": "completed"
    },
    "tags": []
   },
   "outputs": [],
   "source": [
    "D6 = train_data[(train_data['Heating'] == 'Floor') | (train_data['Heating'] == 'OthW')].index\n",
    "train_data.drop(D6, inplace = True)"
   ]
  },
  {
   "cell_type": "code",
   "execution_count": 42,
   "id": "43e8235a",
   "metadata": {
    "execution": {
     "iopub.execute_input": "2022-11-14T12:55:07.285409Z",
     "iopub.status.busy": "2022-11-14T12:55:07.284939Z",
     "iopub.status.idle": "2022-11-14T12:55:07.296047Z",
     "shell.execute_reply": "2022-11-14T12:55:07.295055Z"
    },
    "papermill": {
     "duration": 0.040123,
     "end_time": "2022-11-14T12:55:07.298208",
     "exception": false,
     "start_time": "2022-11-14T12:55:07.258085",
     "status": "completed"
    },
    "tags": []
   },
   "outputs": [
    {
     "data": {
      "text/plain": [
       "Electrical  Electrical\n",
       "FuseA       FuseA           91\n",
       "FuseF       FuseF           27\n",
       "FuseP       FuseP            3\n",
       "Mix         Mix              1\n",
       "SBrkr       SBrkr         1314\n",
       "Name: Electrical, dtype: int64"
      ]
     },
     "execution_count": 42,
     "metadata": {},
     "output_type": "execute_result"
    }
   ],
   "source": [
    "train_data.groupby('Electrical')['Electrical'].value_counts()"
   ]
  },
  {
   "cell_type": "code",
   "execution_count": 43,
   "id": "2ac8dbd3",
   "metadata": {
    "execution": {
     "iopub.execute_input": "2022-11-14T12:55:07.352310Z",
     "iopub.status.busy": "2022-11-14T12:55:07.351503Z",
     "iopub.status.idle": "2022-11-14T12:55:07.362197Z",
     "shell.execute_reply": "2022-11-14T12:55:07.361076Z"
    },
    "papermill": {
     "duration": 0.040665,
     "end_time": "2022-11-14T12:55:07.364773",
     "exception": false,
     "start_time": "2022-11-14T12:55:07.324108",
     "status": "completed"
    },
    "tags": []
   },
   "outputs": [
    {
     "data": {
      "text/plain": [
       "Electrical  Electrical\n",
       "FuseA       FuseA           94\n",
       "FuseF       FuseF           23\n",
       "FuseP       FuseP            5\n",
       "SBrkr       SBrkr         1337\n",
       "Name: Electrical, dtype: int64"
      ]
     },
     "execution_count": 43,
     "metadata": {},
     "output_type": "execute_result"
    }
   ],
   "source": [
    "test_data.groupby('Electrical')['Electrical'].value_counts()"
   ]
  },
  {
   "cell_type": "code",
   "execution_count": 44,
   "id": "a3b71550",
   "metadata": {
    "execution": {
     "iopub.execute_input": "2022-11-14T12:55:07.419554Z",
     "iopub.status.busy": "2022-11-14T12:55:07.419030Z",
     "iopub.status.idle": "2022-11-14T12:55:07.427784Z",
     "shell.execute_reply": "2022-11-14T12:55:07.426898Z"
    },
    "papermill": {
     "duration": 0.038471,
     "end_time": "2022-11-14T12:55:07.430109",
     "exception": false,
     "start_time": "2022-11-14T12:55:07.391638",
     "status": "completed"
    },
    "tags": []
   },
   "outputs": [],
   "source": [
    "D7 = train_data[(train_data['Electrical'] == 'Mix')].index\n",
    "train_data.drop(D7, inplace = True)"
   ]
  },
  {
   "cell_type": "code",
   "execution_count": 45,
   "id": "18dd9cc4",
   "metadata": {
    "execution": {
     "iopub.execute_input": "2022-11-14T12:55:07.484208Z",
     "iopub.status.busy": "2022-11-14T12:55:07.483342Z",
     "iopub.status.idle": "2022-11-14T12:55:07.495380Z",
     "shell.execute_reply": "2022-11-14T12:55:07.494224Z"
    },
    "papermill": {
     "duration": 0.042021,
     "end_time": "2022-11-14T12:55:07.497741",
     "exception": false,
     "start_time": "2022-11-14T12:55:07.455720",
     "status": "completed"
    },
    "tags": []
   },
   "outputs": [
    {
     "data": {
      "text/plain": [
       "GarageQual  GarageQual\n",
       "Ex          Ex               2\n",
       "Fa          Fa              46\n",
       "Gd          Gd              14\n",
       "Po          Po               2\n",
       "TA          TA            1371\n",
       "Name: GarageQual, dtype: int64"
      ]
     },
     "execution_count": 45,
     "metadata": {},
     "output_type": "execute_result"
    }
   ],
   "source": [
    "train_data.groupby('GarageQual')['GarageQual'].value_counts()"
   ]
  },
  {
   "cell_type": "code",
   "execution_count": 46,
   "id": "4bcf84c2",
   "metadata": {
    "execution": {
     "iopub.execute_input": "2022-11-14T12:55:07.552370Z",
     "iopub.status.busy": "2022-11-14T12:55:07.551446Z",
     "iopub.status.idle": "2022-11-14T12:55:07.562642Z",
     "shell.execute_reply": "2022-11-14T12:55:07.561578Z"
    },
    "papermill": {
     "duration": 0.041201,
     "end_time": "2022-11-14T12:55:07.564960",
     "exception": false,
     "start_time": "2022-11-14T12:55:07.523759",
     "status": "completed"
    },
    "tags": []
   },
   "outputs": [
    {
     "data": {
      "text/plain": [
       "GarageQual  GarageQual\n",
       "Fa          Fa              76\n",
       "Gd          Gd              10\n",
       "Po          Po               2\n",
       "TA          TA            1371\n",
       "Name: GarageQual, dtype: int64"
      ]
     },
     "execution_count": 46,
     "metadata": {},
     "output_type": "execute_result"
    }
   ],
   "source": [
    "test_data.groupby('GarageQual')['GarageQual'].value_counts()"
   ]
  },
  {
   "cell_type": "code",
   "execution_count": 47,
   "id": "1e91f417",
   "metadata": {
    "execution": {
     "iopub.execute_input": "2022-11-14T12:55:07.619841Z",
     "iopub.status.busy": "2022-11-14T12:55:07.618950Z",
     "iopub.status.idle": "2022-11-14T12:55:07.627399Z",
     "shell.execute_reply": "2022-11-14T12:55:07.626588Z"
    },
    "papermill": {
     "duration": 0.03845,
     "end_time": "2022-11-14T12:55:07.629656",
     "exception": false,
     "start_time": "2022-11-14T12:55:07.591206",
     "status": "completed"
    },
    "tags": []
   },
   "outputs": [],
   "source": [
    "D8 = train_data[(train_data['GarageQual'] == 'Ex')].index\n",
    "train_data.drop(D8, inplace = True)"
   ]
  },
  {
   "cell_type": "code",
   "execution_count": 48,
   "id": "88973684",
   "metadata": {
    "execution": {
     "iopub.execute_input": "2022-11-14T12:55:07.683121Z",
     "iopub.status.busy": "2022-11-14T12:55:07.682666Z",
     "iopub.status.idle": "2022-11-14T12:55:07.690227Z",
     "shell.execute_reply": "2022-11-14T12:55:07.689210Z"
    },
    "papermill": {
     "duration": 0.037213,
     "end_time": "2022-11-14T12:55:07.692458",
     "exception": false,
     "start_time": "2022-11-14T12:55:07.655245",
     "status": "completed"
    },
    "tags": []
   },
   "outputs": [],
   "source": [
    "train_data = train_data.drop(columns = 'GarageCond')"
   ]
  },
  {
   "cell_type": "code",
   "execution_count": 49,
   "id": "a74724ee",
   "metadata": {
    "execution": {
     "iopub.execute_input": "2022-11-14T12:55:07.747331Z",
     "iopub.status.busy": "2022-11-14T12:55:07.746532Z",
     "iopub.status.idle": "2022-11-14T12:55:07.753110Z",
     "shell.execute_reply": "2022-11-14T12:55:07.752346Z"
    },
    "papermill": {
     "duration": 0.036411,
     "end_time": "2022-11-14T12:55:07.755180",
     "exception": false,
     "start_time": "2022-11-14T12:55:07.718769",
     "status": "completed"
    },
    "tags": []
   },
   "outputs": [],
   "source": [
    "test_data = test_data.drop(columns = 'GarageCond')"
   ]
  },
  {
   "cell_type": "code",
   "execution_count": 50,
   "id": "faa4bf65",
   "metadata": {
    "execution": {
     "iopub.execute_input": "2022-11-14T12:55:07.810621Z",
     "iopub.status.busy": "2022-11-14T12:55:07.809736Z",
     "iopub.status.idle": "2022-11-14T12:55:07.815327Z",
     "shell.execute_reply": "2022-11-14T12:55:07.814118Z"
    },
    "papermill": {
     "duration": 0.036128,
     "end_time": "2022-11-14T12:55:07.817715",
     "exception": false,
     "start_time": "2022-11-14T12:55:07.781587",
     "status": "completed"
    },
    "tags": []
   },
   "outputs": [],
   "source": [
    "# train_data.groupby('GarageCond')['GarageCond'].value_counts()"
   ]
  },
  {
   "cell_type": "code",
   "execution_count": 51,
   "id": "b85c713f",
   "metadata": {
    "execution": {
     "iopub.execute_input": "2022-11-14T12:55:07.873626Z",
     "iopub.status.busy": "2022-11-14T12:55:07.873128Z",
     "iopub.status.idle": "2022-11-14T12:55:07.877955Z",
     "shell.execute_reply": "2022-11-14T12:55:07.876719Z"
    },
    "papermill": {
     "duration": 0.035261,
     "end_time": "2022-11-14T12:55:07.880364",
     "exception": false,
     "start_time": "2022-11-14T12:55:07.845103",
     "status": "completed"
    },
    "tags": []
   },
   "outputs": [],
   "source": [
    "# test_data.groupby('GarageCond')['GarageCond'].value_counts()"
   ]
  },
  {
   "cell_type": "code",
   "execution_count": 52,
   "id": "0d2aa228",
   "metadata": {
    "execution": {
     "iopub.execute_input": "2022-11-14T12:55:07.934448Z",
     "iopub.status.busy": "2022-11-14T12:55:07.933941Z",
     "iopub.status.idle": "2022-11-14T12:55:07.938656Z",
     "shell.execute_reply": "2022-11-14T12:55:07.937501Z"
    },
    "papermill": {
     "duration": 0.034509,
     "end_time": "2022-11-14T12:55:07.941062",
     "exception": false,
     "start_time": "2022-11-14T12:55:07.906553",
     "status": "completed"
    },
    "tags": []
   },
   "outputs": [],
   "source": [
    "# D9 = test_data[(test_data['GarageCond'] == 'Ex')].index\n",
    "# test_data.drop(D9, inplace = True)"
   ]
  },
  {
   "cell_type": "code",
   "execution_count": 53,
   "id": "b5f21a8f",
   "metadata": {
    "execution": {
     "iopub.execute_input": "2022-11-14T12:55:07.996065Z",
     "iopub.status.busy": "2022-11-14T12:55:07.995603Z",
     "iopub.status.idle": "2022-11-14T12:55:08.016840Z",
     "shell.execute_reply": "2022-11-14T12:55:08.015497Z"
    },
    "papermill": {
     "duration": 0.052254,
     "end_time": "2022-11-14T12:55:08.019364",
     "exception": false,
     "start_time": "2022-11-14T12:55:07.967110",
     "status": "completed"
    },
    "tags": []
   },
   "outputs": [
    {
     "name": "stdout",
     "output_type": "stream",
     "text": [
      "MSZoning : 5\n",
      "Street : 2\n",
      "LotShape : 4\n",
      "LandContour : 4\n",
      "Utilities : 1\n",
      "LotConfig : 5\n",
      "LandSlope : 3\n",
      "Neighborhood : 25\n",
      "Condition1 : 9\n",
      "Condition2 : 5\n",
      "BldgType : 5\n",
      "HouseStyle : 7\n",
      "RoofStyle : 6\n",
      "RoofMatl : 4\n",
      "Exterior1st : 13\n",
      "Exterior2nd : 15\n",
      "MasVnrType : 4\n",
      "ExterQual : 4\n",
      "ExterCond : 5\n",
      "Foundation : 6\n",
      "BsmtQual : 4\n",
      "BsmtCond : 4\n",
      "BsmtExposure : 4\n",
      "BsmtFinType1 : 6\n",
      "BsmtFinType2 : 6\n",
      "Heating : 4\n",
      "HeatingQC : 5\n",
      "CentralAir : 2\n",
      "Electrical : 4\n",
      "KitchenQual : 4\n",
      "Functional : 7\n",
      "GarageType : 6\n",
      "GarageFinish : 3\n",
      "GarageQual : 4\n",
      "PavedDrive : 3\n",
      "SaleType : 9\n",
      "SaleCondition : 6\n"
     ]
    }
   ],
   "source": [
    "for i in train_data.columns:\n",
    "    if train_data[i].dtypes == 'object':\n",
    "        print(f\"{i} : {train_data[i].nunique()}\")"
   ]
  },
  {
   "cell_type": "code",
   "execution_count": 54,
   "id": "396089de",
   "metadata": {
    "execution": {
     "iopub.execute_input": "2022-11-14T12:55:08.075164Z",
     "iopub.status.busy": "2022-11-14T12:55:08.074236Z",
     "iopub.status.idle": "2022-11-14T12:55:08.086658Z",
     "shell.execute_reply": "2022-11-14T12:55:08.085693Z"
    },
    "papermill": {
     "duration": 0.043046,
     "end_time": "2022-11-14T12:55:08.088672",
     "exception": false,
     "start_time": "2022-11-14T12:55:08.045626",
     "status": "completed"
    },
    "tags": []
   },
   "outputs": [
    {
     "data": {
      "text/plain": [
       "0"
      ]
     },
     "execution_count": 54,
     "metadata": {},
     "output_type": "execute_result"
    }
   ],
   "source": [
    "train_data.isna().sum().sum()"
   ]
  },
  {
   "cell_type": "code",
   "execution_count": 55,
   "id": "8630c73a",
   "metadata": {
    "execution": {
     "iopub.execute_input": "2022-11-14T12:55:08.142503Z",
     "iopub.status.busy": "2022-11-14T12:55:08.141996Z",
     "iopub.status.idle": "2022-11-14T12:55:08.148923Z",
     "shell.execute_reply": "2022-11-14T12:55:08.147839Z"
    },
    "papermill": {
     "duration": 0.036608,
     "end_time": "2022-11-14T12:55:08.151219",
     "exception": false,
     "start_time": "2022-11-14T12:55:08.114611",
     "status": "completed"
    },
    "tags": []
   },
   "outputs": [
    {
     "data": {
      "text/plain": [
       "(1433, 75)"
      ]
     },
     "execution_count": 55,
     "metadata": {},
     "output_type": "execute_result"
    }
   ],
   "source": [
    "train_data.shape"
   ]
  },
  {
   "cell_type": "code",
   "execution_count": 56,
   "id": "6a2b0cfd",
   "metadata": {
    "execution": {
     "iopub.execute_input": "2022-11-14T12:55:08.205437Z",
     "iopub.status.busy": "2022-11-14T12:55:08.204971Z",
     "iopub.status.idle": "2022-11-14T12:55:08.221020Z",
     "shell.execute_reply": "2022-11-14T12:55:08.219881Z"
    },
    "papermill": {
     "duration": 0.046059,
     "end_time": "2022-11-14T12:55:08.223540",
     "exception": false,
     "start_time": "2022-11-14T12:55:08.177481",
     "status": "completed"
    },
    "tags": []
   },
   "outputs": [
    {
     "data": {
      "text/plain": [
       "['Neighborhood',\n",
       " 'Condition1',\n",
       " 'HouseStyle',\n",
       " 'RoofStyle',\n",
       " 'Exterior1st',\n",
       " 'Exterior2nd',\n",
       " 'Foundation',\n",
       " 'BsmtFinType1',\n",
       " 'BsmtFinType2',\n",
       " 'Functional',\n",
       " 'GarageType',\n",
       " 'SaleType',\n",
       " 'SaleCondition']"
      ]
     },
     "execution_count": 56,
     "metadata": {},
     "output_type": "execute_result"
    }
   ],
   "source": [
    "Label_train_data = [col for col in train_data.columns if (train_data[col].dtypes == 'object' and train_data[col].nunique() > 5)]\n",
    "Label_train_data"
   ]
  },
  {
   "cell_type": "code",
   "execution_count": 57,
   "id": "c1460eb8",
   "metadata": {
    "execution": {
     "iopub.execute_input": "2022-11-14T12:55:08.277714Z",
     "iopub.status.busy": "2022-11-14T12:55:08.277226Z",
     "iopub.status.idle": "2022-11-14T12:55:08.293475Z",
     "shell.execute_reply": "2022-11-14T12:55:08.292262Z"
    },
    "papermill": {
     "duration": 0.045965,
     "end_time": "2022-11-14T12:55:08.295908",
     "exception": false,
     "start_time": "2022-11-14T12:55:08.249943",
     "status": "completed"
    },
    "tags": []
   },
   "outputs": [
    {
     "data": {
      "text/plain": [
       "['MSZoning',\n",
       " 'Street',\n",
       " 'LotShape',\n",
       " 'LandContour',\n",
       " 'Utilities',\n",
       " 'LotConfig',\n",
       " 'LandSlope',\n",
       " 'Condition2',\n",
       " 'BldgType',\n",
       " 'RoofMatl',\n",
       " 'MasVnrType',\n",
       " 'ExterQual',\n",
       " 'ExterCond',\n",
       " 'BsmtQual',\n",
       " 'BsmtCond',\n",
       " 'BsmtExposure',\n",
       " 'Heating',\n",
       " 'HeatingQC',\n",
       " 'CentralAir',\n",
       " 'Electrical',\n",
       " 'KitchenQual',\n",
       " 'GarageFinish',\n",
       " 'GarageQual',\n",
       " 'PavedDrive']"
      ]
     },
     "execution_count": 57,
     "metadata": {},
     "output_type": "execute_result"
    }
   ],
   "source": [
    "OneHot_train_data = [col for col in train_data.columns if (train_data[col].dtypes == 'object' and train_data[col].nunique() <= 5)]\n",
    "OneHot_train_data"
   ]
  },
  {
   "cell_type": "markdown",
   "id": "40c417b9",
   "metadata": {
    "papermill": {
     "duration": 0.025952,
     "end_time": "2022-11-14T12:55:08.348438",
     "exception": false,
     "start_time": "2022-11-14T12:55:08.322486",
     "status": "completed"
    },
    "tags": []
   },
   "source": [
    "# Encoding train data"
   ]
  },
  {
   "cell_type": "code",
   "execution_count": 58,
   "id": "9a3b6c92",
   "metadata": {
    "execution": {
     "iopub.execute_input": "2022-11-14T12:55:08.403925Z",
     "iopub.status.busy": "2022-11-14T12:55:08.403475Z",
     "iopub.status.idle": "2022-11-14T12:55:08.425766Z",
     "shell.execute_reply": "2022-11-14T12:55:08.424708Z"
    },
    "papermill": {
     "duration": 0.053575,
     "end_time": "2022-11-14T12:55:08.428513",
     "exception": false,
     "start_time": "2022-11-14T12:55:08.374938",
     "status": "completed"
    },
    "tags": []
   },
   "outputs": [],
   "source": [
    "from sklearn.preprocessing import LabelEncoder\n",
    "L = train_data[Label_train_data] = train_data[Label_train_data].apply(LabelEncoder().fit_transform)\n",
    "L = np.array(L)"
   ]
  },
  {
   "cell_type": "code",
   "execution_count": 59,
   "id": "4688bec6",
   "metadata": {
    "execution": {
     "iopub.execute_input": "2022-11-14T12:55:08.483349Z",
     "iopub.status.busy": "2022-11-14T12:55:08.482867Z",
     "iopub.status.idle": "2022-11-14T12:55:08.489307Z",
     "shell.execute_reply": "2022-11-14T12:55:08.488487Z"
    },
    "papermill": {
     "duration": 0.036424,
     "end_time": "2022-11-14T12:55:08.491400",
     "exception": false,
     "start_time": "2022-11-14T12:55:08.454976",
     "status": "completed"
    },
    "tags": []
   },
   "outputs": [
    {
     "data": {
      "text/plain": [
       "array([[ 5,  2,  4, ...,  1,  8,  4],\n",
       "       [24,  1,  2, ...,  1,  8,  4],\n",
       "       [ 5,  2,  4, ...,  1,  8,  4],\n",
       "       ...,\n",
       "       [ 6,  2,  4, ...,  1,  8,  4],\n",
       "       [12,  2,  2, ...,  1,  8,  4],\n",
       "       [ 7,  2,  2, ...,  1,  8,  4]])"
      ]
     },
     "execution_count": 59,
     "metadata": {},
     "output_type": "execute_result"
    }
   ],
   "source": [
    "L"
   ]
  },
  {
   "cell_type": "code",
   "execution_count": 60,
   "id": "3daf7503",
   "metadata": {
    "execution": {
     "iopub.execute_input": "2022-11-14T12:55:08.546133Z",
     "iopub.status.busy": "2022-11-14T12:55:08.545676Z",
     "iopub.status.idle": "2022-11-14T12:55:08.557952Z",
     "shell.execute_reply": "2022-11-14T12:55:08.557001Z"
    },
    "papermill": {
     "duration": 0.042782,
     "end_time": "2022-11-14T12:55:08.560482",
     "exception": false,
     "start_time": "2022-11-14T12:55:08.517700",
     "status": "completed"
    },
    "tags": []
   },
   "outputs": [],
   "source": [
    "X = train_data.iloc[:, :-1].values\n",
    "y = train_data.iloc[:,-1].values"
   ]
  },
  {
   "cell_type": "code",
   "execution_count": 61,
   "id": "8f26307f",
   "metadata": {
    "execution": {
     "iopub.execute_input": "2022-11-14T12:55:08.616871Z",
     "iopub.status.busy": "2022-11-14T12:55:08.616035Z",
     "iopub.status.idle": "2022-11-14T12:55:08.623215Z",
     "shell.execute_reply": "2022-11-14T12:55:08.622126Z"
    },
    "papermill": {
     "duration": 0.038815,
     "end_time": "2022-11-14T12:55:08.625741",
     "exception": false,
     "start_time": "2022-11-14T12:55:08.586926",
     "status": "completed"
    },
    "tags": []
   },
   "outputs": [
    {
     "data": {
      "text/plain": [
       "(1433, 74)"
      ]
     },
     "execution_count": 61,
     "metadata": {},
     "output_type": "execute_result"
    }
   ],
   "source": [
    "X.shape"
   ]
  },
  {
   "cell_type": "code",
   "execution_count": 62,
   "id": "36423d0b",
   "metadata": {
    "execution": {
     "iopub.execute_input": "2022-11-14T12:55:08.681249Z",
     "iopub.status.busy": "2022-11-14T12:55:08.680788Z",
     "iopub.status.idle": "2022-11-14T12:55:08.687925Z",
     "shell.execute_reply": "2022-11-14T12:55:08.686999Z"
    },
    "papermill": {
     "duration": 0.037649,
     "end_time": "2022-11-14T12:55:08.690160",
     "exception": false,
     "start_time": "2022-11-14T12:55:08.652511",
     "status": "completed"
    },
    "tags": []
   },
   "outputs": [
    {
     "data": {
      "text/plain": [
       "array([208500, 181500, 223500, ..., 266500, 142125, 147500])"
      ]
     },
     "execution_count": 62,
     "metadata": {},
     "output_type": "execute_result"
    }
   ],
   "source": [
    "y"
   ]
  },
  {
   "cell_type": "code",
   "execution_count": 63,
   "id": "5eee8fc5",
   "metadata": {
    "execution": {
     "iopub.execute_input": "2022-11-14T12:55:08.747148Z",
     "iopub.status.busy": "2022-11-14T12:55:08.746206Z",
     "iopub.status.idle": "2022-11-14T12:55:08.752116Z",
     "shell.execute_reply": "2022-11-14T12:55:08.751118Z"
    },
    "papermill": {
     "duration": 0.036753,
     "end_time": "2022-11-14T12:55:08.754232",
     "exception": false,
     "start_time": "2022-11-14T12:55:08.717479",
     "status": "completed"
    },
    "tags": []
   },
   "outputs": [],
   "source": [
    "unique_col_index = []\n",
    "for i in OneHot_train_data:\n",
    "    unique_col_index.append(train_data.columns.get_loc(i))    "
   ]
  },
  {
   "cell_type": "code",
   "execution_count": 64,
   "id": "cbb6178f",
   "metadata": {
    "execution": {
     "iopub.execute_input": "2022-11-14T12:55:08.809353Z",
     "iopub.status.busy": "2022-11-14T12:55:08.808879Z",
     "iopub.status.idle": "2022-11-14T12:55:08.850772Z",
     "shell.execute_reply": "2022-11-14T12:55:08.849637Z"
    },
    "papermill": {
     "duration": 0.072871,
     "end_time": "2022-11-14T12:55:08.853752",
     "exception": false,
     "start_time": "2022-11-14T12:55:08.780881",
     "status": "completed"
    },
    "tags": []
   },
   "outputs": [],
   "source": [
    "from sklearn.compose import ColumnTransformer\n",
    "from sklearn.preprocessing import OneHotEncoder\n",
    "ct = ColumnTransformer(transformers =[('enc', OneHotEncoder(sparse = False, drop ='first'), unique_col_index), ], remainder ='passthrough')\n",
    "X = np.array(ct.fit_transform(X))"
   ]
  },
  {
   "cell_type": "code",
   "execution_count": 65,
   "id": "3db181b0",
   "metadata": {
    "execution": {
     "iopub.execute_input": "2022-11-14T12:55:08.911562Z",
     "iopub.status.busy": "2022-11-14T12:55:08.910132Z",
     "iopub.status.idle": "2022-11-14T12:55:08.921227Z",
     "shell.execute_reply": "2022-11-14T12:55:08.920004Z"
    },
    "papermill": {
     "duration": 0.042841,
     "end_time": "2022-11-14T12:55:08.923571",
     "exception": false,
     "start_time": "2022-11-14T12:55:08.880730",
     "status": "completed"
    },
    "tags": []
   },
   "outputs": [
    {
     "data": {
      "text/plain": [
       "array([[0.0, 0.0, 1.0, ..., 1, 8, 4],\n",
       "       [0.0, 0.0, 1.0, ..., 1, 8, 4],\n",
       "       [0.0, 0.0, 1.0, ..., 1, 8, 4],\n",
       "       ...,\n",
       "       [0.0, 0.0, 1.0, ..., 1, 8, 4],\n",
       "       [0.0, 0.0, 1.0, ..., 1, 8, 4],\n",
       "       [0.0, 0.0, 1.0, ..., 1, 8, 4]], dtype=object)"
      ]
     },
     "execution_count": 65,
     "metadata": {},
     "output_type": "execute_result"
    }
   ],
   "source": [
    "main_train = np.concatenate((X,L), axis = 1)\n",
    "main_train"
   ]
  },
  {
   "cell_type": "code",
   "execution_count": 66,
   "id": "f61e98f8",
   "metadata": {
    "execution": {
     "iopub.execute_input": "2022-11-14T12:55:08.979526Z",
     "iopub.status.busy": "2022-11-14T12:55:08.979011Z",
     "iopub.status.idle": "2022-11-14T12:55:08.986451Z",
     "shell.execute_reply": "2022-11-14T12:55:08.985264Z"
    },
    "papermill": {
     "duration": 0.038379,
     "end_time": "2022-11-14T12:55:08.989073",
     "exception": false,
     "start_time": "2022-11-14T12:55:08.950694",
     "status": "completed"
    },
    "tags": []
   },
   "outputs": [
    {
     "data": {
      "text/plain": [
       "(1433, 131)"
      ]
     },
     "execution_count": 66,
     "metadata": {},
     "output_type": "execute_result"
    }
   ],
   "source": [
    "main_train.shape"
   ]
  },
  {
   "cell_type": "markdown",
   "id": "227bbc72",
   "metadata": {
    "papermill": {
     "duration": 0.026399,
     "end_time": "2022-11-14T12:55:09.043220",
     "exception": false,
     "start_time": "2022-11-14T12:55:09.016821",
     "status": "completed"
    },
    "tags": []
   },
   "source": [
    "## Find no of unique categorical data of test data"
   ]
  },
  {
   "cell_type": "code",
   "execution_count": 67,
   "id": "c69438ed",
   "metadata": {
    "execution": {
     "iopub.execute_input": "2022-11-14T12:55:09.100041Z",
     "iopub.status.busy": "2022-11-14T12:55:09.099592Z",
     "iopub.status.idle": "2022-11-14T12:55:09.119199Z",
     "shell.execute_reply": "2022-11-14T12:55:09.117860Z"
    },
    "papermill": {
     "duration": 0.052466,
     "end_time": "2022-11-14T12:55:09.122569",
     "exception": false,
     "start_time": "2022-11-14T12:55:09.070103",
     "status": "completed"
    },
    "tags": []
   },
   "outputs": [
    {
     "name": "stdout",
     "output_type": "stream",
     "text": [
      "MSZoning : 5\n",
      "Street : 2\n",
      "LotShape : 4\n",
      "LandContour : 4\n",
      "Utilities : 1\n",
      "LotConfig : 5\n",
      "LandSlope : 3\n",
      "Neighborhood : 25\n",
      "Condition1 : 9\n",
      "Condition2 : 5\n",
      "BldgType : 5\n",
      "HouseStyle : 7\n",
      "RoofStyle : 6\n",
      "RoofMatl : 4\n",
      "Exterior1st : 13\n",
      "Exterior2nd : 15\n",
      "MasVnrType : 4\n",
      "ExterQual : 4\n",
      "ExterCond : 5\n",
      "Foundation : 6\n",
      "BsmtQual : 4\n",
      "BsmtCond : 4\n",
      "BsmtExposure : 4\n",
      "BsmtFinType1 : 6\n",
      "BsmtFinType2 : 6\n",
      "Heating : 4\n",
      "HeatingQC : 5\n",
      "CentralAir : 2\n",
      "Electrical : 4\n",
      "KitchenQual : 4\n",
      "Functional : 7\n",
      "GarageType : 6\n",
      "GarageFinish : 3\n",
      "GarageQual : 4\n",
      "PavedDrive : 3\n",
      "SaleType : 9\n",
      "SaleCondition : 6\n"
     ]
    }
   ],
   "source": [
    "for i in test_data.columns:\n",
    "    if test_data[i].dtypes == 'object':\n",
    "        print(f\"{i} : {test_data[i].nunique()}\")"
   ]
  },
  {
   "cell_type": "code",
   "execution_count": 68,
   "id": "eb44a8c9",
   "metadata": {
    "execution": {
     "iopub.execute_input": "2022-11-14T12:55:09.179066Z",
     "iopub.status.busy": "2022-11-14T12:55:09.178115Z",
     "iopub.status.idle": "2022-11-14T12:55:09.194798Z",
     "shell.execute_reply": "2022-11-14T12:55:09.193540Z"
    },
    "papermill": {
     "duration": 0.047875,
     "end_time": "2022-11-14T12:55:09.197548",
     "exception": false,
     "start_time": "2022-11-14T12:55:09.149673",
     "status": "completed"
    },
    "tags": []
   },
   "outputs": [
    {
     "data": {
      "text/plain": [
       "['Neighborhood',\n",
       " 'Condition1',\n",
       " 'HouseStyle',\n",
       " 'RoofStyle',\n",
       " 'Exterior1st',\n",
       " 'Exterior2nd',\n",
       " 'Foundation',\n",
       " 'BsmtFinType1',\n",
       " 'BsmtFinType2',\n",
       " 'Functional',\n",
       " 'GarageType',\n",
       " 'SaleType',\n",
       " 'SaleCondition']"
      ]
     },
     "execution_count": 68,
     "metadata": {},
     "output_type": "execute_result"
    }
   ],
   "source": [
    "Label_test_data = [col for col in test_data.columns if (test_data[col].dtypes == 'object' and test_data[col].nunique() > 5)]\n",
    "Label_test_data"
   ]
  },
  {
   "cell_type": "code",
   "execution_count": 69,
   "id": "5138ad39",
   "metadata": {
    "execution": {
     "iopub.execute_input": "2022-11-14T12:55:09.254884Z",
     "iopub.status.busy": "2022-11-14T12:55:09.254223Z",
     "iopub.status.idle": "2022-11-14T12:55:09.270394Z",
     "shell.execute_reply": "2022-11-14T12:55:09.269190Z"
    },
    "papermill": {
     "duration": 0.047741,
     "end_time": "2022-11-14T12:55:09.272905",
     "exception": false,
     "start_time": "2022-11-14T12:55:09.225164",
     "status": "completed"
    },
    "tags": []
   },
   "outputs": [
    {
     "data": {
      "text/plain": [
       "['MSZoning',\n",
       " 'Street',\n",
       " 'LotShape',\n",
       " 'LandContour',\n",
       " 'Utilities',\n",
       " 'LotConfig',\n",
       " 'LandSlope',\n",
       " 'Condition2',\n",
       " 'BldgType',\n",
       " 'RoofMatl',\n",
       " 'MasVnrType',\n",
       " 'ExterQual',\n",
       " 'ExterCond',\n",
       " 'BsmtQual',\n",
       " 'BsmtCond',\n",
       " 'BsmtExposure',\n",
       " 'Heating',\n",
       " 'HeatingQC',\n",
       " 'CentralAir',\n",
       " 'Electrical',\n",
       " 'KitchenQual',\n",
       " 'GarageFinish',\n",
       " 'GarageQual',\n",
       " 'PavedDrive']"
      ]
     },
     "execution_count": 69,
     "metadata": {},
     "output_type": "execute_result"
    }
   ],
   "source": [
    "OneHot_test_data = [col for col in test_data.columns if (test_data[col].dtypes == 'object' and test_data[col].nunique() <= 5)]\n",
    "OneHot_test_data"
   ]
  },
  {
   "cell_type": "markdown",
   "id": "d70e1ed1",
   "metadata": {
    "papermill": {
     "duration": 0.027855,
     "end_time": "2022-11-14T12:55:09.328791",
     "exception": false,
     "start_time": "2022-11-14T12:55:09.300936",
     "status": "completed"
    },
    "tags": []
   },
   "source": [
    "# Encoding test data"
   ]
  },
  {
   "cell_type": "code",
   "execution_count": 70,
   "id": "73f02286",
   "metadata": {
    "execution": {
     "iopub.execute_input": "2022-11-14T12:55:09.386790Z",
     "iopub.status.busy": "2022-11-14T12:55:09.385863Z",
     "iopub.status.idle": "2022-11-14T12:55:09.408214Z",
     "shell.execute_reply": "2022-11-14T12:55:09.407142Z"
    },
    "papermill": {
     "duration": 0.05485,
     "end_time": "2022-11-14T12:55:09.411081",
     "exception": false,
     "start_time": "2022-11-14T12:55:09.356231",
     "status": "completed"
    },
    "tags": []
   },
   "outputs": [],
   "source": [
    "from sklearn.preprocessing import LabelEncoder\n",
    "L1 = test_data[Label_test_data] = test_data[Label_test_data].apply(LabelEncoder().fit_transform)\n",
    "L1 = np.array(L1)"
   ]
  },
  {
   "cell_type": "code",
   "execution_count": 71,
   "id": "2d8bc7f2",
   "metadata": {
    "execution": {
     "iopub.execute_input": "2022-11-14T12:55:09.468584Z",
     "iopub.status.busy": "2022-11-14T12:55:09.468106Z",
     "iopub.status.idle": "2022-11-14T12:55:09.475089Z",
     "shell.execute_reply": "2022-11-14T12:55:09.474197Z"
    },
    "papermill": {
     "duration": 0.038961,
     "end_time": "2022-11-14T12:55:09.477577",
     "exception": false,
     "start_time": "2022-11-14T12:55:09.438616",
     "status": "completed"
    },
    "tags": []
   },
   "outputs": [
    {
     "data": {
      "text/plain": [
       "array([[12,  1,  2, ...,  1,  8,  4],\n",
       "       [12,  2,  2, ...,  1,  8,  4],\n",
       "       [ 8,  2,  4, ...,  1,  8,  4],\n",
       "       ...,\n",
       "       [11,  2,  2, ...,  5,  8,  0],\n",
       "       [11,  2,  5, ...,  1,  8,  4],\n",
       "       [11,  2,  4, ...,  1,  8,  4]])"
      ]
     },
     "execution_count": 71,
     "metadata": {},
     "output_type": "execute_result"
    }
   ],
   "source": [
    "L1"
   ]
  },
  {
   "cell_type": "code",
   "execution_count": 72,
   "id": "d5ef183e",
   "metadata": {
    "execution": {
     "iopub.execute_input": "2022-11-14T12:55:09.534817Z",
     "iopub.status.busy": "2022-11-14T12:55:09.534321Z",
     "iopub.status.idle": "2022-11-14T12:55:09.544248Z",
     "shell.execute_reply": "2022-11-14T12:55:09.543072Z"
    },
    "papermill": {
     "duration": 0.04157,
     "end_time": "2022-11-14T12:55:09.546791",
     "exception": false,
     "start_time": "2022-11-14T12:55:09.505221",
     "status": "completed"
    },
    "tags": []
   },
   "outputs": [],
   "source": [
    "X1 = test_data.iloc[:, :].values"
   ]
  },
  {
   "cell_type": "code",
   "execution_count": 73,
   "id": "ab763244",
   "metadata": {
    "execution": {
     "iopub.execute_input": "2022-11-14T12:55:09.603468Z",
     "iopub.status.busy": "2022-11-14T12:55:09.602929Z",
     "iopub.status.idle": "2022-11-14T12:55:09.610274Z",
     "shell.execute_reply": "2022-11-14T12:55:09.609375Z"
    },
    "papermill": {
     "duration": 0.038137,
     "end_time": "2022-11-14T12:55:09.612403",
     "exception": false,
     "start_time": "2022-11-14T12:55:09.574266",
     "status": "completed"
    },
    "tags": []
   },
   "outputs": [
    {
     "data": {
      "text/plain": [
       "(1459, 74)"
      ]
     },
     "execution_count": 73,
     "metadata": {},
     "output_type": "execute_result"
    }
   ],
   "source": [
    "X1.shape"
   ]
  },
  {
   "cell_type": "code",
   "execution_count": 74,
   "id": "f37a2ae5",
   "metadata": {
    "execution": {
     "iopub.execute_input": "2022-11-14T12:55:09.670138Z",
     "iopub.status.busy": "2022-11-14T12:55:09.668744Z",
     "iopub.status.idle": "2022-11-14T12:55:09.675061Z",
     "shell.execute_reply": "2022-11-14T12:55:09.674218Z"
    },
    "papermill": {
     "duration": 0.037748,
     "end_time": "2022-11-14T12:55:09.677424",
     "exception": false,
     "start_time": "2022-11-14T12:55:09.639676",
     "status": "completed"
    },
    "tags": []
   },
   "outputs": [],
   "source": [
    "unique_col_index_test = []\n",
    "for i in OneHot_test_data:\n",
    "    unique_col_index_test.append(test_data.columns.get_loc(i))     "
   ]
  },
  {
   "cell_type": "code",
   "execution_count": 75,
   "id": "6f56708a",
   "metadata": {
    "execution": {
     "iopub.execute_input": "2022-11-14T12:55:09.735665Z",
     "iopub.status.busy": "2022-11-14T12:55:09.734843Z",
     "iopub.status.idle": "2022-11-14T12:55:09.770083Z",
     "shell.execute_reply": "2022-11-14T12:55:09.768932Z"
    },
    "papermill": {
     "duration": 0.067514,
     "end_time": "2022-11-14T12:55:09.773116",
     "exception": false,
     "start_time": "2022-11-14T12:55:09.705602",
     "status": "completed"
    },
    "tags": []
   },
   "outputs": [],
   "source": [
    "from sklearn.compose import ColumnTransformer\n",
    "from sklearn.preprocessing import OneHotEncoder\n",
    "ct1 = ColumnTransformer(transformers =[('enc', OneHotEncoder(sparse = False, drop ='first'), unique_col_index_test), ], remainder ='passthrough')\n",
    "X1 = np.array(ct1.fit_transform(X1))"
   ]
  },
  {
   "cell_type": "code",
   "execution_count": 76,
   "id": "270c3d0f",
   "metadata": {
    "execution": {
     "iopub.execute_input": "2022-11-14T12:55:09.830088Z",
     "iopub.status.busy": "2022-11-14T12:55:09.829036Z",
     "iopub.status.idle": "2022-11-14T12:55:09.836713Z",
     "shell.execute_reply": "2022-11-14T12:55:09.835804Z"
    },
    "papermill": {
     "duration": 0.038733,
     "end_time": "2022-11-14T12:55:09.839042",
     "exception": false,
     "start_time": "2022-11-14T12:55:09.800309",
     "status": "completed"
    },
    "tags": []
   },
   "outputs": [],
   "source": [
    "main_test = np.concatenate((X1, L1), axis = 1)"
   ]
  },
  {
   "cell_type": "code",
   "execution_count": 77,
   "id": "9d7b783f",
   "metadata": {
    "execution": {
     "iopub.execute_input": "2022-11-14T12:55:09.895227Z",
     "iopub.status.busy": "2022-11-14T12:55:09.894788Z",
     "iopub.status.idle": "2022-11-14T12:55:09.901593Z",
     "shell.execute_reply": "2022-11-14T12:55:09.900436Z"
    },
    "papermill": {
     "duration": 0.038033,
     "end_time": "2022-11-14T12:55:09.904382",
     "exception": false,
     "start_time": "2022-11-14T12:55:09.866349",
     "status": "completed"
    },
    "tags": []
   },
   "outputs": [
    {
     "data": {
      "text/plain": [
       "array([[0.0, 1.0, 0.0, ..., 1, 8, 4],\n",
       "       [0.0, 0.0, 1.0, ..., 1, 8, 4],\n",
       "       [0.0, 0.0, 1.0, ..., 1, 8, 4],\n",
       "       ...,\n",
       "       [0.0, 0.0, 1.0, ..., 5, 8, 0],\n",
       "       [0.0, 0.0, 1.0, ..., 1, 8, 4],\n",
       "       [0.0, 0.0, 1.0, ..., 1, 8, 4]], dtype=object)"
      ]
     },
     "execution_count": 77,
     "metadata": {},
     "output_type": "execute_result"
    }
   ],
   "source": [
    "main_test"
   ]
  },
  {
   "cell_type": "code",
   "execution_count": 78,
   "id": "dac0f4e8",
   "metadata": {
    "execution": {
     "iopub.execute_input": "2022-11-14T12:55:09.961130Z",
     "iopub.status.busy": "2022-11-14T12:55:09.960038Z",
     "iopub.status.idle": "2022-11-14T12:55:09.967099Z",
     "shell.execute_reply": "2022-11-14T12:55:09.966070Z"
    },
    "papermill": {
     "duration": 0.038129,
     "end_time": "2022-11-14T12:55:09.969451",
     "exception": false,
     "start_time": "2022-11-14T12:55:09.931322",
     "status": "completed"
    },
    "tags": []
   },
   "outputs": [
    {
     "data": {
      "text/plain": [
       "(1459, 131)"
      ]
     },
     "execution_count": 78,
     "metadata": {},
     "output_type": "execute_result"
    }
   ],
   "source": [
    "main_test.shape"
   ]
  },
  {
   "cell_type": "markdown",
   "id": "05810412",
   "metadata": {
    "papermill": {
     "duration": 0.027581,
     "end_time": "2022-11-14T12:55:10.025527",
     "exception": false,
     "start_time": "2022-11-14T12:55:09.997946",
     "status": "completed"
    },
    "tags": []
   },
   "source": [
    "# Train Random Forest Regression upon train data."
   ]
  },
  {
   "cell_type": "code",
   "execution_count": 79,
   "id": "a9863a4e",
   "metadata": {
    "execution": {
     "iopub.execute_input": "2022-11-14T12:55:10.084941Z",
     "iopub.status.busy": "2022-11-14T12:55:10.084469Z",
     "iopub.status.idle": "2022-11-14T12:55:37.510243Z",
     "shell.execute_reply": "2022-11-14T12:55:37.508887Z"
    },
    "papermill": {
     "duration": 27.458347,
     "end_time": "2022-11-14T12:55:37.513077",
     "exception": false,
     "start_time": "2022-11-14T12:55:10.054730",
     "status": "completed"
    },
    "tags": []
   },
   "outputs": [
    {
     "data": {
      "text/plain": [
       "RandomForestRegressor(n_estimators=1000, oob_score=True, random_state=0)"
      ]
     },
     "execution_count": 79,
     "metadata": {},
     "output_type": "execute_result"
    }
   ],
   "source": [
    "from sklearn.ensemble import RandomForestRegressor\n",
    "regressor = RandomForestRegressor(max_features = 'auto', n_estimators = 1000, random_state = 0, oob_score = True)\n",
    "regressor.fit(main_train, y)"
   ]
  },
  {
   "cell_type": "code",
   "execution_count": 80,
   "id": "94532f1c",
   "metadata": {
    "execution": {
     "iopub.execute_input": "2022-11-14T12:55:37.571841Z",
     "iopub.status.busy": "2022-11-14T12:55:37.571385Z",
     "iopub.status.idle": "2022-11-14T12:55:38.026089Z",
     "shell.execute_reply": "2022-11-14T12:55:38.024675Z"
    },
    "papermill": {
     "duration": 0.487859,
     "end_time": "2022-11-14T12:55:38.029476",
     "exception": false,
     "start_time": "2022-11-14T12:55:37.541617",
     "status": "completed"
    },
    "tags": []
   },
   "outputs": [],
   "source": [
    "y_pred = regressor.predict(main_test)"
   ]
  },
  {
   "cell_type": "code",
   "execution_count": 81,
   "id": "609e5bbc",
   "metadata": {
    "execution": {
     "iopub.execute_input": "2022-11-14T12:55:38.089686Z",
     "iopub.status.busy": "2022-11-14T12:55:38.089076Z",
     "iopub.status.idle": "2022-11-14T12:55:38.097834Z",
     "shell.execute_reply": "2022-11-14T12:55:38.096515Z"
    },
    "papermill": {
     "duration": 0.041922,
     "end_time": "2022-11-14T12:55:38.100368",
     "exception": false,
     "start_time": "2022-11-14T12:55:38.058446",
     "status": "completed"
    },
    "tags": []
   },
   "outputs": [
    {
     "data": {
      "text/plain": [
       "array([126163.635, 155409.402, 179513.122, ..., 149778.651, 113534.815,\n",
       "       224443.385])"
      ]
     },
     "execution_count": 81,
     "metadata": {},
     "output_type": "execute_result"
    }
   ],
   "source": [
    "y_pred"
   ]
  },
  {
   "cell_type": "code",
   "execution_count": 82,
   "id": "0902de23",
   "metadata": {
    "execution": {
     "iopub.execute_input": "2022-11-14T12:55:38.159953Z",
     "iopub.status.busy": "2022-11-14T12:55:38.159331Z",
     "iopub.status.idle": "2022-11-14T12:55:38.168254Z",
     "shell.execute_reply": "2022-11-14T12:55:38.166965Z"
    },
    "papermill": {
     "duration": 0.042243,
     "end_time": "2022-11-14T12:55:38.171147",
     "exception": false,
     "start_time": "2022-11-14T12:55:38.128904",
     "status": "completed"
    },
    "tags": []
   },
   "outputs": [
    {
     "data": {
      "text/plain": [
       "1459"
      ]
     },
     "execution_count": 82,
     "metadata": {},
     "output_type": "execute_result"
    }
   ],
   "source": [
    "len(y_pred)"
   ]
  },
  {
   "cell_type": "code",
   "execution_count": 83,
   "id": "ec8fa672",
   "metadata": {
    "execution": {
     "iopub.execute_input": "2022-11-14T12:55:38.232338Z",
     "iopub.status.busy": "2022-11-14T12:55:38.231742Z",
     "iopub.status.idle": "2022-11-14T12:55:38.248018Z",
     "shell.execute_reply": "2022-11-14T12:55:38.246740Z"
    },
    "papermill": {
     "duration": 0.050034,
     "end_time": "2022-11-14T12:55:38.250950",
     "exception": false,
     "start_time": "2022-11-14T12:55:38.200916",
     "status": "completed"
    },
    "tags": []
   },
   "outputs": [],
   "source": [
    "output = pd.DataFrame({'Id' : test_data['Id'], 'SalePrice' : y_pred})\n",
    "output.to_csv('submission.csv', index = False)"
   ]
  }
 ],
 "metadata": {
  "kernelspec": {
   "display_name": "Python 3",
   "language": "python",
   "name": "python3"
  },
  "language_info": {
   "codemirror_mode": {
    "name": "ipython",
    "version": 3
   },
   "file_extension": ".py",
   "mimetype": "text/x-python",
   "name": "python",
   "nbconvert_exporter": "python",
   "pygments_lexer": "ipython3",
   "version": "3.7.12"
  },
  "papermill": {
   "default_parameters": {},
   "duration": 47.0352,
   "end_time": "2022-11-14T12:55:39.406182",
   "environment_variables": {},
   "exception": null,
   "input_path": "__notebook__.ipynb",
   "output_path": "__notebook__.ipynb",
   "parameters": {},
   "start_time": "2022-11-14T12:54:52.370982",
   "version": "2.3.4"
  }
 },
 "nbformat": 4,
 "nbformat_minor": 5
}
