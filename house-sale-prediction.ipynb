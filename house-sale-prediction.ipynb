{
 "cells": [
  {
   "cell_type": "code",
   "execution_count": 1,
   "id": "db370e0c",
   "metadata": {
    "_cell_guid": "b1076dfc-b9ad-4769-8c92-a6c4dae69d19",
    "_uuid": "8f2839f25d086af736a60e9eeb907d3b93b6e0e5",
    "execution": {
     "iopub.execute_input": "2022-10-31T15:58:04.068629Z",
     "iopub.status.busy": "2022-10-31T15:58:04.068069Z",
     "iopub.status.idle": "2022-10-31T15:58:04.084739Z",
     "shell.execute_reply": "2022-10-31T15:58:04.083501Z"
    },
    "papermill": {
     "duration": 0.053223,
     "end_time": "2022-10-31T15:58:04.087896",
     "exception": false,
     "start_time": "2022-10-31T15:58:04.034673",
     "status": "completed"
    },
    "tags": []
   },
   "outputs": [
    {
     "name": "stdout",
     "output_type": "stream",
     "text": [
      "/kaggle/input/house-prices-advanced-regression-techniques/sample_submission.csv\n",
      "/kaggle/input/house-prices-advanced-regression-techniques/data_description.txt\n",
      "/kaggle/input/house-prices-advanced-regression-techniques/train.csv\n",
      "/kaggle/input/house-prices-advanced-regression-techniques/test.csv\n"
     ]
    }
   ],
   "source": [
    "# This Python 3 environment comes with many helpful analytics libraries installed\n",
    "# It is defined by the kaggle/python Docker image: https://github.com/kaggle/docker-python\n",
    "# For example, here's several helpful packages to load\n",
    "\n",
    "import numpy as np # linear algebra\n",
    "import pandas as pd # data processing, CSV file I/O (e.g. pd.read_csv)\n",
    "\n",
    "# Input data files are available in the read-only \"../input/\" directory\n",
    "# For example, running this (by clicking run or pressing Shift+Enter) will list all files under the input directory\n",
    "\n",
    "import os\n",
    "for dirname, _, filenames in os.walk('/kaggle/input'):\n",
    "    for filename in filenames:\n",
    "        print(os.path.join(dirname, filename))\n",
    "\n",
    "# You can write up to 20GB to the current directory (/kaggle/working/) that gets preserved as output when you create a version using \"Save & Run All\" \n",
    "# You can also write temporary files to /kaggle/temp/, but they won't be saved outside of the current session"
   ]
  },
  {
   "cell_type": "markdown",
   "id": "bf2b79d9",
   "metadata": {
    "papermill": {
     "duration": 0.019835,
     "end_time": "2022-10-31T15:58:04.128794",
     "exception": false,
     "start_time": "2022-10-31T15:58:04.108959",
     "status": "completed"
    },
    "tags": []
   },
   "source": [
    "> # **Read the datasets**"
   ]
  },
  {
   "cell_type": "code",
   "execution_count": 2,
   "id": "47fc8ff3",
   "metadata": {
    "execution": {
     "iopub.execute_input": "2022-10-31T15:58:04.172149Z",
     "iopub.status.busy": "2022-10-31T15:58:04.171240Z",
     "iopub.status.idle": "2022-10-31T15:58:04.247155Z",
     "shell.execute_reply": "2022-10-31T15:58:04.245992Z"
    },
    "papermill": {
     "duration": 0.101945,
     "end_time": "2022-10-31T15:58:04.250684",
     "exception": false,
     "start_time": "2022-10-31T15:58:04.148739",
     "status": "completed"
    },
    "tags": []
   },
   "outputs": [],
   "source": [
    "train_data = pd.read_csv('/kaggle/input/house-prices-advanced-regression-techniques/train.csv')\n",
    "test_data = pd.read_csv('/kaggle/input/house-prices-advanced-regression-techniques/test.csv')"
   ]
  },
  {
   "cell_type": "markdown",
   "id": "51cc49d7",
   "metadata": {
    "papermill": {
     "duration": 0.019605,
     "end_time": "2022-10-31T15:58:04.293856",
     "exception": false,
     "start_time": "2022-10-31T15:58:04.274251",
     "status": "completed"
    },
    "tags": []
   },
   "source": [
    "> # **Feature Engineering**"
   ]
  },
  {
   "cell_type": "markdown",
   "id": "0e8e1266",
   "metadata": {
    "papermill": {
     "duration": 0.019342,
     "end_time": "2022-10-31T15:58:04.332779",
     "exception": false,
     "start_time": "2022-10-31T15:58:04.313437",
     "status": "completed"
    },
    "tags": []
   },
   "source": [
    "## Drop the column where missing value greater then 1000"
   ]
  },
  {
   "cell_type": "code",
   "execution_count": 3,
   "id": "03c85bf1",
   "metadata": {
    "execution": {
     "iopub.execute_input": "2022-10-31T15:58:04.373628Z",
     "iopub.status.busy": "2022-10-31T15:58:04.373188Z",
     "iopub.status.idle": "2022-10-31T15:58:04.398218Z",
     "shell.execute_reply": "2022-10-31T15:58:04.397086Z"
    },
    "papermill": {
     "duration": 0.048159,
     "end_time": "2022-10-31T15:58:04.400546",
     "exception": false,
     "start_time": "2022-10-31T15:58:04.352387",
     "status": "completed"
    },
    "tags": []
   },
   "outputs": [
    {
     "data": {
      "text/plain": [
       "(1460, 77)"
      ]
     },
     "execution_count": 3,
     "metadata": {},
     "output_type": "execute_result"
    }
   ],
   "source": [
    "train_data = train_data.drop(train_data.columns[train_data.isna().sum() > 1000], axis = 1)\n",
    "train_data.shape"
   ]
  },
  {
   "cell_type": "code",
   "execution_count": 4,
   "id": "379d682d",
   "metadata": {
    "execution": {
     "iopub.execute_input": "2022-10-31T15:58:04.442063Z",
     "iopub.status.busy": "2022-10-31T15:58:04.441626Z",
     "iopub.status.idle": "2022-10-31T15:58:04.455815Z",
     "shell.execute_reply": "2022-10-31T15:58:04.454775Z"
    },
    "papermill": {
     "duration": 0.037448,
     "end_time": "2022-10-31T15:58:04.458093",
     "exception": false,
     "start_time": "2022-10-31T15:58:04.420645",
     "status": "completed"
    },
    "tags": []
   },
   "outputs": [
    {
     "data": {
      "text/plain": [
       "(1459, 76)"
      ]
     },
     "execution_count": 4,
     "metadata": {},
     "output_type": "execute_result"
    }
   ],
   "source": [
    "test_data = test_data.drop(test_data.columns[test_data.isna().sum() > 1000], axis = 1)\n",
    "test_data.shape"
   ]
  },
  {
   "cell_type": "markdown",
   "id": "bd25993e",
   "metadata": {
    "papermill": {
     "duration": 0.020144,
     "end_time": "2022-10-31T15:58:04.498389",
     "exception": false,
     "start_time": "2022-10-31T15:58:04.478245",
     "status": "completed"
    },
    "tags": []
   },
   "source": [
    "## Read train and test data"
   ]
  },
  {
   "cell_type": "code",
   "execution_count": 5,
   "id": "309764a1",
   "metadata": {
    "execution": {
     "iopub.execute_input": "2022-10-31T15:58:04.540078Z",
     "iopub.status.busy": "2022-10-31T15:58:04.539665Z",
     "iopub.status.idle": "2022-10-31T15:58:04.580375Z",
     "shell.execute_reply": "2022-10-31T15:58:04.579237Z"
    },
    "papermill": {
     "duration": 0.064277,
     "end_time": "2022-10-31T15:58:04.582988",
     "exception": false,
     "start_time": "2022-10-31T15:58:04.518711",
     "status": "completed"
    },
    "tags": []
   },
   "outputs": [
    {
     "data": {
      "text/html": [
       "<div>\n",
       "<style scoped>\n",
       "    .dataframe tbody tr th:only-of-type {\n",
       "        vertical-align: middle;\n",
       "    }\n",
       "\n",
       "    .dataframe tbody tr th {\n",
       "        vertical-align: top;\n",
       "    }\n",
       "\n",
       "    .dataframe thead th {\n",
       "        text-align: right;\n",
       "    }\n",
       "</style>\n",
       "<table border=\"1\" class=\"dataframe\">\n",
       "  <thead>\n",
       "    <tr style=\"text-align: right;\">\n",
       "      <th></th>\n",
       "      <th>Id</th>\n",
       "      <th>MSSubClass</th>\n",
       "      <th>MSZoning</th>\n",
       "      <th>LotFrontage</th>\n",
       "      <th>LotArea</th>\n",
       "      <th>Street</th>\n",
       "      <th>LotShape</th>\n",
       "      <th>LandContour</th>\n",
       "      <th>Utilities</th>\n",
       "      <th>LotConfig</th>\n",
       "      <th>...</th>\n",
       "      <th>EnclosedPorch</th>\n",
       "      <th>3SsnPorch</th>\n",
       "      <th>ScreenPorch</th>\n",
       "      <th>PoolArea</th>\n",
       "      <th>MiscVal</th>\n",
       "      <th>MoSold</th>\n",
       "      <th>YrSold</th>\n",
       "      <th>SaleType</th>\n",
       "      <th>SaleCondition</th>\n",
       "      <th>SalePrice</th>\n",
       "    </tr>\n",
       "  </thead>\n",
       "  <tbody>\n",
       "    <tr>\n",
       "      <th>0</th>\n",
       "      <td>1</td>\n",
       "      <td>60</td>\n",
       "      <td>RL</td>\n",
       "      <td>65.0</td>\n",
       "      <td>8450</td>\n",
       "      <td>Pave</td>\n",
       "      <td>Reg</td>\n",
       "      <td>Lvl</td>\n",
       "      <td>AllPub</td>\n",
       "      <td>Inside</td>\n",
       "      <td>...</td>\n",
       "      <td>0</td>\n",
       "      <td>0</td>\n",
       "      <td>0</td>\n",
       "      <td>0</td>\n",
       "      <td>0</td>\n",
       "      <td>2</td>\n",
       "      <td>2008</td>\n",
       "      <td>WD</td>\n",
       "      <td>Normal</td>\n",
       "      <td>208500</td>\n",
       "    </tr>\n",
       "    <tr>\n",
       "      <th>1</th>\n",
       "      <td>2</td>\n",
       "      <td>20</td>\n",
       "      <td>RL</td>\n",
       "      <td>80.0</td>\n",
       "      <td>9600</td>\n",
       "      <td>Pave</td>\n",
       "      <td>Reg</td>\n",
       "      <td>Lvl</td>\n",
       "      <td>AllPub</td>\n",
       "      <td>FR2</td>\n",
       "      <td>...</td>\n",
       "      <td>0</td>\n",
       "      <td>0</td>\n",
       "      <td>0</td>\n",
       "      <td>0</td>\n",
       "      <td>0</td>\n",
       "      <td>5</td>\n",
       "      <td>2007</td>\n",
       "      <td>WD</td>\n",
       "      <td>Normal</td>\n",
       "      <td>181500</td>\n",
       "    </tr>\n",
       "    <tr>\n",
       "      <th>2</th>\n",
       "      <td>3</td>\n",
       "      <td>60</td>\n",
       "      <td>RL</td>\n",
       "      <td>68.0</td>\n",
       "      <td>11250</td>\n",
       "      <td>Pave</td>\n",
       "      <td>IR1</td>\n",
       "      <td>Lvl</td>\n",
       "      <td>AllPub</td>\n",
       "      <td>Inside</td>\n",
       "      <td>...</td>\n",
       "      <td>0</td>\n",
       "      <td>0</td>\n",
       "      <td>0</td>\n",
       "      <td>0</td>\n",
       "      <td>0</td>\n",
       "      <td>9</td>\n",
       "      <td>2008</td>\n",
       "      <td>WD</td>\n",
       "      <td>Normal</td>\n",
       "      <td>223500</td>\n",
       "    </tr>\n",
       "    <tr>\n",
       "      <th>3</th>\n",
       "      <td>4</td>\n",
       "      <td>70</td>\n",
       "      <td>RL</td>\n",
       "      <td>60.0</td>\n",
       "      <td>9550</td>\n",
       "      <td>Pave</td>\n",
       "      <td>IR1</td>\n",
       "      <td>Lvl</td>\n",
       "      <td>AllPub</td>\n",
       "      <td>Corner</td>\n",
       "      <td>...</td>\n",
       "      <td>272</td>\n",
       "      <td>0</td>\n",
       "      <td>0</td>\n",
       "      <td>0</td>\n",
       "      <td>0</td>\n",
       "      <td>2</td>\n",
       "      <td>2006</td>\n",
       "      <td>WD</td>\n",
       "      <td>Abnorml</td>\n",
       "      <td>140000</td>\n",
       "    </tr>\n",
       "    <tr>\n",
       "      <th>4</th>\n",
       "      <td>5</td>\n",
       "      <td>60</td>\n",
       "      <td>RL</td>\n",
       "      <td>84.0</td>\n",
       "      <td>14260</td>\n",
       "      <td>Pave</td>\n",
       "      <td>IR1</td>\n",
       "      <td>Lvl</td>\n",
       "      <td>AllPub</td>\n",
       "      <td>FR2</td>\n",
       "      <td>...</td>\n",
       "      <td>0</td>\n",
       "      <td>0</td>\n",
       "      <td>0</td>\n",
       "      <td>0</td>\n",
       "      <td>0</td>\n",
       "      <td>12</td>\n",
       "      <td>2008</td>\n",
       "      <td>WD</td>\n",
       "      <td>Normal</td>\n",
       "      <td>250000</td>\n",
       "    </tr>\n",
       "    <tr>\n",
       "      <th>...</th>\n",
       "      <td>...</td>\n",
       "      <td>...</td>\n",
       "      <td>...</td>\n",
       "      <td>...</td>\n",
       "      <td>...</td>\n",
       "      <td>...</td>\n",
       "      <td>...</td>\n",
       "      <td>...</td>\n",
       "      <td>...</td>\n",
       "      <td>...</td>\n",
       "      <td>...</td>\n",
       "      <td>...</td>\n",
       "      <td>...</td>\n",
       "      <td>...</td>\n",
       "      <td>...</td>\n",
       "      <td>...</td>\n",
       "      <td>...</td>\n",
       "      <td>...</td>\n",
       "      <td>...</td>\n",
       "      <td>...</td>\n",
       "      <td>...</td>\n",
       "    </tr>\n",
       "    <tr>\n",
       "      <th>1455</th>\n",
       "      <td>1456</td>\n",
       "      <td>60</td>\n",
       "      <td>RL</td>\n",
       "      <td>62.0</td>\n",
       "      <td>7917</td>\n",
       "      <td>Pave</td>\n",
       "      <td>Reg</td>\n",
       "      <td>Lvl</td>\n",
       "      <td>AllPub</td>\n",
       "      <td>Inside</td>\n",
       "      <td>...</td>\n",
       "      <td>0</td>\n",
       "      <td>0</td>\n",
       "      <td>0</td>\n",
       "      <td>0</td>\n",
       "      <td>0</td>\n",
       "      <td>8</td>\n",
       "      <td>2007</td>\n",
       "      <td>WD</td>\n",
       "      <td>Normal</td>\n",
       "      <td>175000</td>\n",
       "    </tr>\n",
       "    <tr>\n",
       "      <th>1456</th>\n",
       "      <td>1457</td>\n",
       "      <td>20</td>\n",
       "      <td>RL</td>\n",
       "      <td>85.0</td>\n",
       "      <td>13175</td>\n",
       "      <td>Pave</td>\n",
       "      <td>Reg</td>\n",
       "      <td>Lvl</td>\n",
       "      <td>AllPub</td>\n",
       "      <td>Inside</td>\n",
       "      <td>...</td>\n",
       "      <td>0</td>\n",
       "      <td>0</td>\n",
       "      <td>0</td>\n",
       "      <td>0</td>\n",
       "      <td>0</td>\n",
       "      <td>2</td>\n",
       "      <td>2010</td>\n",
       "      <td>WD</td>\n",
       "      <td>Normal</td>\n",
       "      <td>210000</td>\n",
       "    </tr>\n",
       "    <tr>\n",
       "      <th>1457</th>\n",
       "      <td>1458</td>\n",
       "      <td>70</td>\n",
       "      <td>RL</td>\n",
       "      <td>66.0</td>\n",
       "      <td>9042</td>\n",
       "      <td>Pave</td>\n",
       "      <td>Reg</td>\n",
       "      <td>Lvl</td>\n",
       "      <td>AllPub</td>\n",
       "      <td>Inside</td>\n",
       "      <td>...</td>\n",
       "      <td>0</td>\n",
       "      <td>0</td>\n",
       "      <td>0</td>\n",
       "      <td>0</td>\n",
       "      <td>2500</td>\n",
       "      <td>5</td>\n",
       "      <td>2010</td>\n",
       "      <td>WD</td>\n",
       "      <td>Normal</td>\n",
       "      <td>266500</td>\n",
       "    </tr>\n",
       "    <tr>\n",
       "      <th>1458</th>\n",
       "      <td>1459</td>\n",
       "      <td>20</td>\n",
       "      <td>RL</td>\n",
       "      <td>68.0</td>\n",
       "      <td>9717</td>\n",
       "      <td>Pave</td>\n",
       "      <td>Reg</td>\n",
       "      <td>Lvl</td>\n",
       "      <td>AllPub</td>\n",
       "      <td>Inside</td>\n",
       "      <td>...</td>\n",
       "      <td>112</td>\n",
       "      <td>0</td>\n",
       "      <td>0</td>\n",
       "      <td>0</td>\n",
       "      <td>0</td>\n",
       "      <td>4</td>\n",
       "      <td>2010</td>\n",
       "      <td>WD</td>\n",
       "      <td>Normal</td>\n",
       "      <td>142125</td>\n",
       "    </tr>\n",
       "    <tr>\n",
       "      <th>1459</th>\n",
       "      <td>1460</td>\n",
       "      <td>20</td>\n",
       "      <td>RL</td>\n",
       "      <td>75.0</td>\n",
       "      <td>9937</td>\n",
       "      <td>Pave</td>\n",
       "      <td>Reg</td>\n",
       "      <td>Lvl</td>\n",
       "      <td>AllPub</td>\n",
       "      <td>Inside</td>\n",
       "      <td>...</td>\n",
       "      <td>0</td>\n",
       "      <td>0</td>\n",
       "      <td>0</td>\n",
       "      <td>0</td>\n",
       "      <td>0</td>\n",
       "      <td>6</td>\n",
       "      <td>2008</td>\n",
       "      <td>WD</td>\n",
       "      <td>Normal</td>\n",
       "      <td>147500</td>\n",
       "    </tr>\n",
       "  </tbody>\n",
       "</table>\n",
       "<p>1460 rows × 77 columns</p>\n",
       "</div>"
      ],
      "text/plain": [
       "        Id  MSSubClass MSZoning  LotFrontage  LotArea Street LotShape  \\\n",
       "0        1          60       RL         65.0     8450   Pave      Reg   \n",
       "1        2          20       RL         80.0     9600   Pave      Reg   \n",
       "2        3          60       RL         68.0    11250   Pave      IR1   \n",
       "3        4          70       RL         60.0     9550   Pave      IR1   \n",
       "4        5          60       RL         84.0    14260   Pave      IR1   \n",
       "...    ...         ...      ...          ...      ...    ...      ...   \n",
       "1455  1456          60       RL         62.0     7917   Pave      Reg   \n",
       "1456  1457          20       RL         85.0    13175   Pave      Reg   \n",
       "1457  1458          70       RL         66.0     9042   Pave      Reg   \n",
       "1458  1459          20       RL         68.0     9717   Pave      Reg   \n",
       "1459  1460          20       RL         75.0     9937   Pave      Reg   \n",
       "\n",
       "     LandContour Utilities LotConfig  ... EnclosedPorch 3SsnPorch ScreenPorch  \\\n",
       "0            Lvl    AllPub    Inside  ...             0         0           0   \n",
       "1            Lvl    AllPub       FR2  ...             0         0           0   \n",
       "2            Lvl    AllPub    Inside  ...             0         0           0   \n",
       "3            Lvl    AllPub    Corner  ...           272         0           0   \n",
       "4            Lvl    AllPub       FR2  ...             0         0           0   \n",
       "...          ...       ...       ...  ...           ...       ...         ...   \n",
       "1455         Lvl    AllPub    Inside  ...             0         0           0   \n",
       "1456         Lvl    AllPub    Inside  ...             0         0           0   \n",
       "1457         Lvl    AllPub    Inside  ...             0         0           0   \n",
       "1458         Lvl    AllPub    Inside  ...           112         0           0   \n",
       "1459         Lvl    AllPub    Inside  ...             0         0           0   \n",
       "\n",
       "     PoolArea MiscVal MoSold  YrSold  SaleType  SaleCondition  SalePrice  \n",
       "0           0       0      2    2008        WD         Normal     208500  \n",
       "1           0       0      5    2007        WD         Normal     181500  \n",
       "2           0       0      9    2008        WD         Normal     223500  \n",
       "3           0       0      2    2006        WD        Abnorml     140000  \n",
       "4           0       0     12    2008        WD         Normal     250000  \n",
       "...       ...     ...    ...     ...       ...            ...        ...  \n",
       "1455        0       0      8    2007        WD         Normal     175000  \n",
       "1456        0       0      2    2010        WD         Normal     210000  \n",
       "1457        0    2500      5    2010        WD         Normal     266500  \n",
       "1458        0       0      4    2010        WD         Normal     142125  \n",
       "1459        0       0      6    2008        WD         Normal     147500  \n",
       "\n",
       "[1460 rows x 77 columns]"
      ]
     },
     "execution_count": 5,
     "metadata": {},
     "output_type": "execute_result"
    }
   ],
   "source": [
    "train_data"
   ]
  },
  {
   "cell_type": "code",
   "execution_count": 6,
   "id": "47c41b7e",
   "metadata": {
    "execution": {
     "iopub.execute_input": "2022-10-31T15:58:04.626332Z",
     "iopub.status.busy": "2022-10-31T15:58:04.625908Z",
     "iopub.status.idle": "2022-10-31T15:58:04.654514Z",
     "shell.execute_reply": "2022-10-31T15:58:04.653413Z"
    },
    "papermill": {
     "duration": 0.053155,
     "end_time": "2022-10-31T15:58:04.657072",
     "exception": false,
     "start_time": "2022-10-31T15:58:04.603917",
     "status": "completed"
    },
    "tags": []
   },
   "outputs": [
    {
     "data": {
      "text/html": [
       "<div>\n",
       "<style scoped>\n",
       "    .dataframe tbody tr th:only-of-type {\n",
       "        vertical-align: middle;\n",
       "    }\n",
       "\n",
       "    .dataframe tbody tr th {\n",
       "        vertical-align: top;\n",
       "    }\n",
       "\n",
       "    .dataframe thead th {\n",
       "        text-align: right;\n",
       "    }\n",
       "</style>\n",
       "<table border=\"1\" class=\"dataframe\">\n",
       "  <thead>\n",
       "    <tr style=\"text-align: right;\">\n",
       "      <th></th>\n",
       "      <th>Id</th>\n",
       "      <th>MSSubClass</th>\n",
       "      <th>MSZoning</th>\n",
       "      <th>LotFrontage</th>\n",
       "      <th>LotArea</th>\n",
       "      <th>Street</th>\n",
       "      <th>LotShape</th>\n",
       "      <th>LandContour</th>\n",
       "      <th>Utilities</th>\n",
       "      <th>LotConfig</th>\n",
       "      <th>...</th>\n",
       "      <th>OpenPorchSF</th>\n",
       "      <th>EnclosedPorch</th>\n",
       "      <th>3SsnPorch</th>\n",
       "      <th>ScreenPorch</th>\n",
       "      <th>PoolArea</th>\n",
       "      <th>MiscVal</th>\n",
       "      <th>MoSold</th>\n",
       "      <th>YrSold</th>\n",
       "      <th>SaleType</th>\n",
       "      <th>SaleCondition</th>\n",
       "    </tr>\n",
       "  </thead>\n",
       "  <tbody>\n",
       "    <tr>\n",
       "      <th>0</th>\n",
       "      <td>1461</td>\n",
       "      <td>20</td>\n",
       "      <td>RH</td>\n",
       "      <td>80.0</td>\n",
       "      <td>11622</td>\n",
       "      <td>Pave</td>\n",
       "      <td>Reg</td>\n",
       "      <td>Lvl</td>\n",
       "      <td>AllPub</td>\n",
       "      <td>Inside</td>\n",
       "      <td>...</td>\n",
       "      <td>0</td>\n",
       "      <td>0</td>\n",
       "      <td>0</td>\n",
       "      <td>120</td>\n",
       "      <td>0</td>\n",
       "      <td>0</td>\n",
       "      <td>6</td>\n",
       "      <td>2010</td>\n",
       "      <td>WD</td>\n",
       "      <td>Normal</td>\n",
       "    </tr>\n",
       "    <tr>\n",
       "      <th>1</th>\n",
       "      <td>1462</td>\n",
       "      <td>20</td>\n",
       "      <td>RL</td>\n",
       "      <td>81.0</td>\n",
       "      <td>14267</td>\n",
       "      <td>Pave</td>\n",
       "      <td>IR1</td>\n",
       "      <td>Lvl</td>\n",
       "      <td>AllPub</td>\n",
       "      <td>Corner</td>\n",
       "      <td>...</td>\n",
       "      <td>36</td>\n",
       "      <td>0</td>\n",
       "      <td>0</td>\n",
       "      <td>0</td>\n",
       "      <td>0</td>\n",
       "      <td>12500</td>\n",
       "      <td>6</td>\n",
       "      <td>2010</td>\n",
       "      <td>WD</td>\n",
       "      <td>Normal</td>\n",
       "    </tr>\n",
       "    <tr>\n",
       "      <th>2</th>\n",
       "      <td>1463</td>\n",
       "      <td>60</td>\n",
       "      <td>RL</td>\n",
       "      <td>74.0</td>\n",
       "      <td>13830</td>\n",
       "      <td>Pave</td>\n",
       "      <td>IR1</td>\n",
       "      <td>Lvl</td>\n",
       "      <td>AllPub</td>\n",
       "      <td>Inside</td>\n",
       "      <td>...</td>\n",
       "      <td>34</td>\n",
       "      <td>0</td>\n",
       "      <td>0</td>\n",
       "      <td>0</td>\n",
       "      <td>0</td>\n",
       "      <td>0</td>\n",
       "      <td>3</td>\n",
       "      <td>2010</td>\n",
       "      <td>WD</td>\n",
       "      <td>Normal</td>\n",
       "    </tr>\n",
       "    <tr>\n",
       "      <th>3</th>\n",
       "      <td>1464</td>\n",
       "      <td>60</td>\n",
       "      <td>RL</td>\n",
       "      <td>78.0</td>\n",
       "      <td>9978</td>\n",
       "      <td>Pave</td>\n",
       "      <td>IR1</td>\n",
       "      <td>Lvl</td>\n",
       "      <td>AllPub</td>\n",
       "      <td>Inside</td>\n",
       "      <td>...</td>\n",
       "      <td>36</td>\n",
       "      <td>0</td>\n",
       "      <td>0</td>\n",
       "      <td>0</td>\n",
       "      <td>0</td>\n",
       "      <td>0</td>\n",
       "      <td>6</td>\n",
       "      <td>2010</td>\n",
       "      <td>WD</td>\n",
       "      <td>Normal</td>\n",
       "    </tr>\n",
       "    <tr>\n",
       "      <th>4</th>\n",
       "      <td>1465</td>\n",
       "      <td>120</td>\n",
       "      <td>RL</td>\n",
       "      <td>43.0</td>\n",
       "      <td>5005</td>\n",
       "      <td>Pave</td>\n",
       "      <td>IR1</td>\n",
       "      <td>HLS</td>\n",
       "      <td>AllPub</td>\n",
       "      <td>Inside</td>\n",
       "      <td>...</td>\n",
       "      <td>82</td>\n",
       "      <td>0</td>\n",
       "      <td>0</td>\n",
       "      <td>144</td>\n",
       "      <td>0</td>\n",
       "      <td>0</td>\n",
       "      <td>1</td>\n",
       "      <td>2010</td>\n",
       "      <td>WD</td>\n",
       "      <td>Normal</td>\n",
       "    </tr>\n",
       "    <tr>\n",
       "      <th>...</th>\n",
       "      <td>...</td>\n",
       "      <td>...</td>\n",
       "      <td>...</td>\n",
       "      <td>...</td>\n",
       "      <td>...</td>\n",
       "      <td>...</td>\n",
       "      <td>...</td>\n",
       "      <td>...</td>\n",
       "      <td>...</td>\n",
       "      <td>...</td>\n",
       "      <td>...</td>\n",
       "      <td>...</td>\n",
       "      <td>...</td>\n",
       "      <td>...</td>\n",
       "      <td>...</td>\n",
       "      <td>...</td>\n",
       "      <td>...</td>\n",
       "      <td>...</td>\n",
       "      <td>...</td>\n",
       "      <td>...</td>\n",
       "      <td>...</td>\n",
       "    </tr>\n",
       "    <tr>\n",
       "      <th>1454</th>\n",
       "      <td>2915</td>\n",
       "      <td>160</td>\n",
       "      <td>RM</td>\n",
       "      <td>21.0</td>\n",
       "      <td>1936</td>\n",
       "      <td>Pave</td>\n",
       "      <td>Reg</td>\n",
       "      <td>Lvl</td>\n",
       "      <td>AllPub</td>\n",
       "      <td>Inside</td>\n",
       "      <td>...</td>\n",
       "      <td>0</td>\n",
       "      <td>0</td>\n",
       "      <td>0</td>\n",
       "      <td>0</td>\n",
       "      <td>0</td>\n",
       "      <td>0</td>\n",
       "      <td>6</td>\n",
       "      <td>2006</td>\n",
       "      <td>WD</td>\n",
       "      <td>Normal</td>\n",
       "    </tr>\n",
       "    <tr>\n",
       "      <th>1455</th>\n",
       "      <td>2916</td>\n",
       "      <td>160</td>\n",
       "      <td>RM</td>\n",
       "      <td>21.0</td>\n",
       "      <td>1894</td>\n",
       "      <td>Pave</td>\n",
       "      <td>Reg</td>\n",
       "      <td>Lvl</td>\n",
       "      <td>AllPub</td>\n",
       "      <td>Inside</td>\n",
       "      <td>...</td>\n",
       "      <td>24</td>\n",
       "      <td>0</td>\n",
       "      <td>0</td>\n",
       "      <td>0</td>\n",
       "      <td>0</td>\n",
       "      <td>0</td>\n",
       "      <td>4</td>\n",
       "      <td>2006</td>\n",
       "      <td>WD</td>\n",
       "      <td>Abnorml</td>\n",
       "    </tr>\n",
       "    <tr>\n",
       "      <th>1456</th>\n",
       "      <td>2917</td>\n",
       "      <td>20</td>\n",
       "      <td>RL</td>\n",
       "      <td>160.0</td>\n",
       "      <td>20000</td>\n",
       "      <td>Pave</td>\n",
       "      <td>Reg</td>\n",
       "      <td>Lvl</td>\n",
       "      <td>AllPub</td>\n",
       "      <td>Inside</td>\n",
       "      <td>...</td>\n",
       "      <td>0</td>\n",
       "      <td>0</td>\n",
       "      <td>0</td>\n",
       "      <td>0</td>\n",
       "      <td>0</td>\n",
       "      <td>0</td>\n",
       "      <td>9</td>\n",
       "      <td>2006</td>\n",
       "      <td>WD</td>\n",
       "      <td>Abnorml</td>\n",
       "    </tr>\n",
       "    <tr>\n",
       "      <th>1457</th>\n",
       "      <td>2918</td>\n",
       "      <td>85</td>\n",
       "      <td>RL</td>\n",
       "      <td>62.0</td>\n",
       "      <td>10441</td>\n",
       "      <td>Pave</td>\n",
       "      <td>Reg</td>\n",
       "      <td>Lvl</td>\n",
       "      <td>AllPub</td>\n",
       "      <td>Inside</td>\n",
       "      <td>...</td>\n",
       "      <td>32</td>\n",
       "      <td>0</td>\n",
       "      <td>0</td>\n",
       "      <td>0</td>\n",
       "      <td>0</td>\n",
       "      <td>700</td>\n",
       "      <td>7</td>\n",
       "      <td>2006</td>\n",
       "      <td>WD</td>\n",
       "      <td>Normal</td>\n",
       "    </tr>\n",
       "    <tr>\n",
       "      <th>1458</th>\n",
       "      <td>2919</td>\n",
       "      <td>60</td>\n",
       "      <td>RL</td>\n",
       "      <td>74.0</td>\n",
       "      <td>9627</td>\n",
       "      <td>Pave</td>\n",
       "      <td>Reg</td>\n",
       "      <td>Lvl</td>\n",
       "      <td>AllPub</td>\n",
       "      <td>Inside</td>\n",
       "      <td>...</td>\n",
       "      <td>48</td>\n",
       "      <td>0</td>\n",
       "      <td>0</td>\n",
       "      <td>0</td>\n",
       "      <td>0</td>\n",
       "      <td>0</td>\n",
       "      <td>11</td>\n",
       "      <td>2006</td>\n",
       "      <td>WD</td>\n",
       "      <td>Normal</td>\n",
       "    </tr>\n",
       "  </tbody>\n",
       "</table>\n",
       "<p>1459 rows × 76 columns</p>\n",
       "</div>"
      ],
      "text/plain": [
       "        Id  MSSubClass MSZoning  LotFrontage  LotArea Street LotShape  \\\n",
       "0     1461          20       RH         80.0    11622   Pave      Reg   \n",
       "1     1462          20       RL         81.0    14267   Pave      IR1   \n",
       "2     1463          60       RL         74.0    13830   Pave      IR1   \n",
       "3     1464          60       RL         78.0     9978   Pave      IR1   \n",
       "4     1465         120       RL         43.0     5005   Pave      IR1   \n",
       "...    ...         ...      ...          ...      ...    ...      ...   \n",
       "1454  2915         160       RM         21.0     1936   Pave      Reg   \n",
       "1455  2916         160       RM         21.0     1894   Pave      Reg   \n",
       "1456  2917          20       RL        160.0    20000   Pave      Reg   \n",
       "1457  2918          85       RL         62.0    10441   Pave      Reg   \n",
       "1458  2919          60       RL         74.0     9627   Pave      Reg   \n",
       "\n",
       "     LandContour Utilities LotConfig  ... OpenPorchSF EnclosedPorch 3SsnPorch  \\\n",
       "0            Lvl    AllPub    Inside  ...           0             0         0   \n",
       "1            Lvl    AllPub    Corner  ...          36             0         0   \n",
       "2            Lvl    AllPub    Inside  ...          34             0         0   \n",
       "3            Lvl    AllPub    Inside  ...          36             0         0   \n",
       "4            HLS    AllPub    Inside  ...          82             0         0   \n",
       "...          ...       ...       ...  ...         ...           ...       ...   \n",
       "1454         Lvl    AllPub    Inside  ...           0             0         0   \n",
       "1455         Lvl    AllPub    Inside  ...          24             0         0   \n",
       "1456         Lvl    AllPub    Inside  ...           0             0         0   \n",
       "1457         Lvl    AllPub    Inside  ...          32             0         0   \n",
       "1458         Lvl    AllPub    Inside  ...          48             0         0   \n",
       "\n",
       "     ScreenPorch PoolArea MiscVal  MoSold  YrSold  SaleType  SaleCondition  \n",
       "0            120        0       0       6    2010        WD         Normal  \n",
       "1              0        0   12500       6    2010        WD         Normal  \n",
       "2              0        0       0       3    2010        WD         Normal  \n",
       "3              0        0       0       6    2010        WD         Normal  \n",
       "4            144        0       0       1    2010        WD         Normal  \n",
       "...          ...      ...     ...     ...     ...       ...            ...  \n",
       "1454           0        0       0       6    2006        WD         Normal  \n",
       "1455           0        0       0       4    2006        WD        Abnorml  \n",
       "1456           0        0       0       9    2006        WD        Abnorml  \n",
       "1457           0        0     700       7    2006        WD         Normal  \n",
       "1458           0        0       0      11    2006        WD         Normal  \n",
       "\n",
       "[1459 rows x 76 columns]"
      ]
     },
     "execution_count": 6,
     "metadata": {},
     "output_type": "execute_result"
    }
   ],
   "source": [
    "test_data"
   ]
  },
  {
   "cell_type": "markdown",
   "id": "c819b051",
   "metadata": {
    "papermill": {
     "duration": 0.020766,
     "end_time": "2022-10-31T15:58:04.699112",
     "exception": false,
     "start_time": "2022-10-31T15:58:04.678346",
     "status": "completed"
    },
    "tags": []
   },
   "source": [
    "## Find number of missing values of train data"
   ]
  },
  {
   "cell_type": "code",
   "execution_count": 7,
   "id": "946efd1b",
   "metadata": {
    "execution": {
     "iopub.execute_input": "2022-10-31T15:58:04.743654Z",
     "iopub.status.busy": "2022-10-31T15:58:04.742843Z",
     "iopub.status.idle": "2022-10-31T15:58:04.773828Z",
     "shell.execute_reply": "2022-10-31T15:58:04.772651Z"
    },
    "papermill": {
     "duration": 0.055962,
     "end_time": "2022-10-31T15:58:04.776288",
     "exception": false,
     "start_time": "2022-10-31T15:58:04.720326",
     "status": "completed"
    },
    "tags": []
   },
   "outputs": [
    {
     "name": "stdout",
     "output_type": "stream",
     "text": [
      "LotFrontage 259 float64\n",
      "MasVnrType 8 object\n",
      "MasVnrArea 8 float64\n",
      "BsmtQual 37 object\n",
      "BsmtCond 37 object\n",
      "BsmtExposure 38 object\n",
      "BsmtFinType1 37 object\n",
      "BsmtFinType2 38 object\n",
      "Electrical 1 object\n",
      "FireplaceQu 690 object\n",
      "GarageType 81 object\n",
      "GarageYrBlt 81 float64\n",
      "GarageFinish 81 object\n",
      "GarageQual 81 object\n",
      "GarageCond 81 object\n"
     ]
    }
   ],
   "source": [
    "missing_train_values = [col for col in train_data.columns if train_data[col].isna().sum() > 0]\n",
    "for col in missing_train_values:\n",
    "    print(col, train_data[col].isna().sum(), train_data[col].dtypes)"
   ]
  },
  {
   "cell_type": "markdown",
   "id": "499aadc8",
   "metadata": {
    "papermill": {
     "duration": 0.021302,
     "end_time": "2022-10-31T15:58:04.818815",
     "exception": false,
     "start_time": "2022-10-31T15:58:04.797513",
     "status": "completed"
    },
    "tags": []
   },
   "source": [
    "## Checking skewness of missing columns of train data"
   ]
  },
  {
   "cell_type": "code",
   "execution_count": 8,
   "id": "36e01e37",
   "metadata": {
    "execution": {
     "iopub.execute_input": "2022-10-31T15:58:04.863145Z",
     "iopub.status.busy": "2022-10-31T15:58:04.862496Z",
     "iopub.status.idle": "2022-10-31T15:58:06.207969Z",
     "shell.execute_reply": "2022-10-31T15:58:06.206886Z"
    },
    "papermill": {
     "duration": 1.370323,
     "end_time": "2022-10-31T15:58:06.210305",
     "exception": false,
     "start_time": "2022-10-31T15:58:04.839982",
     "status": "completed"
    },
    "tags": []
   },
   "outputs": [
    {
     "name": "stderr",
     "output_type": "stream",
     "text": [
      "/opt/conda/lib/python3.7/site-packages/seaborn/distributions.py:2619: FutureWarning: `distplot` is a deprecated function and will be removed in a future version. Please adapt your code to use either `displot` (a figure-level function with similar flexibility) or `histplot` (an axes-level function for histograms).\n",
      "  warnings.warn(msg, FutureWarning)\n"
     ]
    },
    {
     "data": {
      "text/plain": [
       "<AxesSubplot:xlabel='LotFrontage', ylabel='Density'>"
      ]
     },
     "execution_count": 8,
     "metadata": {},
     "output_type": "execute_result"
    },
    {
     "data": {
      "image/png": "[encoded data removed]",
      "text/plain": [
       "<Figure size 720x432 with 1 Axes>"
      ]
     },
     "metadata": {
      "needs_background": "light"
     },
     "output_type": "display_data"
    }
   ],
   "source": [
    "import seaborn as sns\n",
    "import matplotlib.pyplot as plt\n",
    "fig, ax = plt.subplots(figsize = (10, 6))\n",
    "sns.distplot(train_data['LotFrontage'])"
   ]
  },
  {
   "cell_type": "code",
   "execution_count": 9,
   "id": "0b1f7abc",
   "metadata": {
    "execution": {
     "iopub.execute_input": "2022-10-31T15:58:06.256424Z",
     "iopub.status.busy": "2022-10-31T15:58:06.255646Z",
     "iopub.status.idle": "2022-10-31T15:58:06.502158Z",
     "shell.execute_reply": "2022-10-31T15:58:06.501077Z"
    },
    "papermill": {
     "duration": 0.271965,
     "end_time": "2022-10-31T15:58:06.504684",
     "exception": false,
     "start_time": "2022-10-31T15:58:06.232719",
     "status": "completed"
    },
    "tags": []
   },
   "outputs": [
    {
     "name": "stderr",
     "output_type": "stream",
     "text": [
      "/opt/conda/lib/python3.7/site-packages/seaborn/distributions.py:2619: FutureWarning: `distplot` is a deprecated function and will be removed in a future version. Please adapt your code to use either `displot` (a figure-level function with similar flexibility) or `histplot` (an axes-level function for histograms).\n",
      "  warnings.warn(msg, FutureWarning)\n"
     ]
    },
    {
     "data": {
      "text/plain": [
       "<AxesSubplot:xlabel='GarageYrBlt', ylabel='Density'>"
      ]
     },
     "execution_count": 9,
     "metadata": {},
     "output_type": "execute_result"
    },
    {
     "data": {
      "image/png": "[encoded data removed]",
      "text/plain": [
       "<Figure size 432x288 with 1 Axes>"
      ]
     },
     "metadata": {
      "needs_background": "light"
     },
     "output_type": "display_data"
    }
   ],
   "source": [
    "sns.distplot(train_data['GarageYrBlt'])"
   ]
  },
  {
   "cell_type": "markdown",
   "id": "b0f72e06",
   "metadata": {
    "papermill": {
     "duration": 0.02189,
     "end_time": "2022-10-31T15:58:06.549238",
     "exception": false,
     "start_time": "2022-10-31T15:58:06.527348",
     "status": "completed"
    },
    "tags": []
   },
   "source": [
    "## Fullfill missing data by median in train dataset"
   ]
  },
  {
   "cell_type": "code",
   "execution_count": 10,
   "id": "ba31f3a4",
   "metadata": {
    "execution": {
     "iopub.execute_input": "2022-10-31T15:58:06.595071Z",
     "iopub.status.busy": "2022-10-31T15:58:06.594664Z",
     "iopub.status.idle": "2022-10-31T15:58:06.874652Z",
     "shell.execute_reply": "2022-10-31T15:58:06.873534Z"
    },
    "papermill": {
     "duration": 0.305927,
     "end_time": "2022-10-31T15:58:06.877297",
     "exception": false,
     "start_time": "2022-10-31T15:58:06.571370",
     "status": "completed"
    },
    "tags": []
   },
   "outputs": [],
   "source": [
    "from sklearn.impute import SimpleImputer\n",
    "imputer_median = SimpleImputer(missing_values = np.nan, strategy = 'median')\n",
    "imputer_median.fit(train_data[['LotFrontage', 'GarageYrBlt', 'MasVnrArea']])\n",
    "train_data[['LotFrontage', 'GarageYrBlt', 'MasVnrArea']] = imputer_median.transform(train_data[['LotFrontage', 'GarageYrBlt', 'MasVnrArea']])"
   ]
  },
  {
   "cell_type": "code",
   "execution_count": 11,
   "id": "cc94c9f8",
   "metadata": {
    "execution": {
     "iopub.execute_input": "2022-10-31T15:58:06.924552Z",
     "iopub.status.busy": "2022-10-31T15:58:06.924154Z",
     "iopub.status.idle": "2022-10-31T15:58:06.957278Z",
     "shell.execute_reply": "2022-10-31T15:58:06.956232Z"
    },
    "papermill": {
     "duration": 0.060036,
     "end_time": "2022-10-31T15:58:06.959640",
     "exception": false,
     "start_time": "2022-10-31T15:58:06.899604",
     "status": "completed"
    },
    "tags": []
   },
   "outputs": [
    {
     "name": "stdout",
     "output_type": "stream",
     "text": [
      "MasVnrType 8 object\n",
      "BsmtQual 37 object\n",
      "BsmtCond 37 object\n",
      "BsmtExposure 38 object\n",
      "BsmtFinType1 37 object\n",
      "BsmtFinType2 38 object\n",
      "Electrical 1 object\n",
      "FireplaceQu 690 object\n",
      "GarageType 81 object\n",
      "GarageFinish 81 object\n",
      "GarageQual 81 object\n",
      "GarageCond 81 object\n"
     ]
    }
   ],
   "source": [
    "missing_train_values = [col for col in train_data.columns if train_data[col].isna().sum() > 0]\n",
    "for col in missing_train_values:\n",
    "    print(col, train_data[col].isna().sum(), train_data[col].dtypes)"
   ]
  },
  {
   "cell_type": "markdown",
   "id": "7fccd334",
   "metadata": {
    "papermill": {
     "duration": 0.022145,
     "end_time": "2022-10-31T15:58:07.004683",
     "exception": false,
     "start_time": "2022-10-31T15:58:06.982538",
     "status": "completed"
    },
    "tags": []
   },
   "source": [
    "## Drop FireplaceQu column for high missing value on train dataset"
   ]
  },
  {
   "cell_type": "code",
   "execution_count": 12,
   "id": "6382b4ba",
   "metadata": {
    "execution": {
     "iopub.execute_input": "2022-10-31T15:58:07.050964Z",
     "iopub.status.busy": "2022-10-31T15:58:07.050566Z",
     "iopub.status.idle": "2022-10-31T15:58:07.057437Z",
     "shell.execute_reply": "2022-10-31T15:58:07.056421Z"
    },
    "papermill": {
     "duration": 0.032703,
     "end_time": "2022-10-31T15:58:07.059683",
     "exception": false,
     "start_time": "2022-10-31T15:58:07.026980",
     "status": "completed"
    },
    "tags": []
   },
   "outputs": [],
   "source": [
    "train_data = train_data.drop(columns = 'FireplaceQu')"
   ]
  },
  {
   "cell_type": "markdown",
   "id": "41d4b25c",
   "metadata": {
    "papermill": {
     "duration": 0.021858,
     "end_time": "2022-10-31T15:58:07.103935",
     "exception": false,
     "start_time": "2022-10-31T15:58:07.082077",
     "status": "completed"
    },
    "tags": []
   },
   "source": [
    "## Fullfill missing categorical data by most frequent value on training dataset "
   ]
  },
  {
   "cell_type": "code",
   "execution_count": 13,
   "id": "f424659b",
   "metadata": {
    "execution": {
     "iopub.execute_input": "2022-10-31T15:58:07.151438Z",
     "iopub.status.busy": "2022-10-31T15:58:07.150642Z",
     "iopub.status.idle": "2022-10-31T15:58:07.181339Z",
     "shell.execute_reply": "2022-10-31T15:58:07.180251Z"
    },
    "papermill": {
     "duration": 0.057168,
     "end_time": "2022-10-31T15:58:07.183787",
     "exception": false,
     "start_time": "2022-10-31T15:58:07.126619",
     "status": "completed"
    },
    "tags": []
   },
   "outputs": [],
   "source": [
    "object_train_data = [col for col in train_data.columns if (train_data[col].dtypes == 'object' and train_data[col].isna().sum() > 0)]\n",
    "imputer_object = SimpleImputer(missing_values = np.nan, strategy = 'most_frequent')\n",
    "imputer_object.fit(train_data[object_train_data])\n",
    "train_data[object_train_data] = imputer_object.transform(train_data[object_train_data])"
   ]
  },
  {
   "cell_type": "markdown",
   "id": "a07baa6a",
   "metadata": {
    "papermill": {
     "duration": 0.021982,
     "end_time": "2022-10-31T15:58:07.228596",
     "exception": false,
     "start_time": "2022-10-31T15:58:07.206614",
     "status": "completed"
    },
    "tags": []
   },
   "source": [
    "### Checking missing values(if any)"
   ]
  },
  {
   "cell_type": "code",
   "execution_count": 14,
   "id": "d50071cd",
   "metadata": {
    "execution": {
     "iopub.execute_input": "2022-10-31T15:58:07.275538Z",
     "iopub.status.busy": "2022-10-31T15:58:07.275110Z",
     "iopub.status.idle": "2022-10-31T15:58:07.286538Z",
     "shell.execute_reply": "2022-10-31T15:58:07.285517Z"
    },
    "papermill": {
     "duration": 0.037627,
     "end_time": "2022-10-31T15:58:07.288883",
     "exception": false,
     "start_time": "2022-10-31T15:58:07.251256",
     "status": "completed"
    },
    "tags": []
   },
   "outputs": [
    {
     "data": {
      "text/plain": [
       "0"
      ]
     },
     "execution_count": 14,
     "metadata": {},
     "output_type": "execute_result"
    }
   ],
   "source": [
    "train_data.isna().sum().sum()"
   ]
  },
  {
   "cell_type": "code",
   "execution_count": 15,
   "id": "8975c28c",
   "metadata": {
    "execution": {
     "iopub.execute_input": "2022-10-31T15:58:07.335649Z",
     "iopub.status.busy": "2022-10-31T15:58:07.334859Z",
     "iopub.status.idle": "2022-10-31T15:58:07.341595Z",
     "shell.execute_reply": "2022-10-31T15:58:07.340725Z"
    },
    "papermill": {
     "duration": 0.032562,
     "end_time": "2022-10-31T15:58:07.343751",
     "exception": false,
     "start_time": "2022-10-31T15:58:07.311189",
     "status": "completed"
    },
    "tags": []
   },
   "outputs": [
    {
     "data": {
      "text/plain": [
       "(1460, 76)"
      ]
     },
     "execution_count": 15,
     "metadata": {},
     "output_type": "execute_result"
    }
   ],
   "source": [
    "train_data.shape"
   ]
  },
  {
   "cell_type": "markdown",
   "id": "94b656cd",
   "metadata": {
    "papermill": {
     "duration": 0.022126,
     "end_time": "2022-10-31T15:58:07.388310",
     "exception": false,
     "start_time": "2022-10-31T15:58:07.366184",
     "status": "completed"
    },
    "tags": []
   },
   "source": [
    "## Find the number of missing data of test data."
   ]
  },
  {
   "cell_type": "code",
   "execution_count": 16,
   "id": "dd5a702c",
   "metadata": {
    "execution": {
     "iopub.execute_input": "2022-10-31T15:58:07.435174Z",
     "iopub.status.busy": "2022-10-31T15:58:07.434439Z",
     "iopub.status.idle": "2022-10-31T15:58:07.467949Z",
     "shell.execute_reply": "2022-10-31T15:58:07.466286Z"
    },
    "papermill": {
     "duration": 0.059815,
     "end_time": "2022-10-31T15:58:07.470436",
     "exception": false,
     "start_time": "2022-10-31T15:58:07.410621",
     "status": "completed"
    },
    "tags": []
   },
   "outputs": [
    {
     "name": "stdout",
     "output_type": "stream",
     "text": [
      "MSZoning 4 object\n",
      "LotFrontage 227 float64\n",
      "Utilities 2 object\n",
      "Exterior1st 1 object\n",
      "Exterior2nd 1 object\n",
      "MasVnrType 16 object\n",
      "MasVnrArea 15 float64\n",
      "BsmtQual 44 object\n",
      "BsmtCond 45 object\n",
      "BsmtExposure 44 object\n",
      "BsmtFinType1 42 object\n",
      "BsmtFinSF1 1 float64\n",
      "BsmtFinType2 42 object\n",
      "BsmtFinSF2 1 float64\n",
      "BsmtUnfSF 1 float64\n",
      "TotalBsmtSF 1 float64\n",
      "BsmtFullBath 2 float64\n",
      "BsmtHalfBath 2 float64\n",
      "KitchenQual 1 object\n",
      "Functional 2 object\n",
      "FireplaceQu 730 object\n",
      "GarageType 76 object\n",
      "GarageYrBlt 78 float64\n",
      "GarageFinish 78 object\n",
      "GarageCars 1 float64\n",
      "GarageArea 1 float64\n",
      "GarageQual 78 object\n",
      "GarageCond 78 object\n",
      "SaleType 1 object\n"
     ]
    }
   ],
   "source": [
    "missing_test_values = [col for col in test_data.columns if test_data[col].isna().sum() > 0]\n",
    "for col in missing_test_values:\n",
    "    print(col, test_data[col].isna().sum(), test_data[col].dtypes)"
   ]
  },
  {
   "cell_type": "markdown",
   "id": "cf32ab72",
   "metadata": {
    "papermill": {
     "duration": 0.022303,
     "end_time": "2022-10-31T15:58:07.515332",
     "exception": false,
     "start_time": "2022-10-31T15:58:07.493029",
     "status": "completed"
    },
    "tags": []
   },
   "source": [
    "## Replacing missing value with mode and median."
   ]
  },
  {
   "cell_type": "code",
   "execution_count": 17,
   "id": "9efac5bf",
   "metadata": {
    "execution": {
     "iopub.execute_input": "2022-10-31T15:58:07.562667Z",
     "iopub.status.busy": "2022-10-31T15:58:07.561677Z",
     "iopub.status.idle": "2022-10-31T15:58:07.577248Z",
     "shell.execute_reply": "2022-10-31T15:58:07.576380Z"
    },
    "papermill": {
     "duration": 0.041782,
     "end_time": "2022-10-31T15:58:07.579643",
     "exception": false,
     "start_time": "2022-10-31T15:58:07.537861",
     "status": "completed"
    },
    "tags": []
   },
   "outputs": [],
   "source": [
    "float_test_data = [col for col in test_data.columns if (test_data[col].dtypes == 'float64' and test_data[col].isna().sum() > 0)]\n",
    "imputer_test_median = SimpleImputer(missing_values = np.nan, strategy = 'median')\n",
    "imputer_test_median.fit(test_data[float_test_data])\n",
    "test_data[float_test_data] = imputer_test_median.transform(test_data[float_test_data])"
   ]
  },
  {
   "cell_type": "code",
   "execution_count": 18,
   "id": "aeed7438",
   "metadata": {
    "execution": {
     "iopub.execute_input": "2022-10-31T15:58:07.627040Z",
     "iopub.status.busy": "2022-10-31T15:58:07.626272Z",
     "iopub.status.idle": "2022-10-31T15:58:07.632411Z",
     "shell.execute_reply": "2022-10-31T15:58:07.631554Z"
    },
    "papermill": {
     "duration": 0.032069,
     "end_time": "2022-10-31T15:58:07.634495",
     "exception": false,
     "start_time": "2022-10-31T15:58:07.602426",
     "status": "completed"
    },
    "tags": []
   },
   "outputs": [],
   "source": [
    "test_data = test_data.drop(columns = 'FireplaceQu')"
   ]
  },
  {
   "cell_type": "code",
   "execution_count": 19,
   "id": "d1856050",
   "metadata": {
    "execution": {
     "iopub.execute_input": "2022-10-31T15:58:07.681761Z",
     "iopub.status.busy": "2022-10-31T15:58:07.681079Z",
     "iopub.status.idle": "2022-10-31T15:58:07.710987Z",
     "shell.execute_reply": "2022-10-31T15:58:07.709742Z"
    },
    "papermill": {
     "duration": 0.056581,
     "end_time": "2022-10-31T15:58:07.713715",
     "exception": false,
     "start_time": "2022-10-31T15:58:07.657134",
     "status": "completed"
    },
    "tags": []
   },
   "outputs": [],
   "source": [
    "object_test_data = [col for col in test_data.columns if (test_data[col].dtypes == 'object' and test_data[col].isna().sum() > 0)]\n",
    "imputer_test_mode = SimpleImputer(missing_values = np.nan, strategy = 'most_frequent')\n",
    "imputer_test_mode.fit(test_data[object_test_data])\n",
    "test_data[object_test_data] = imputer_test_mode.transform(test_data[object_test_data])"
   ]
  },
  {
   "cell_type": "code",
   "execution_count": 20,
   "id": "f67c90c9",
   "metadata": {
    "execution": {
     "iopub.execute_input": "2022-10-31T15:58:07.761683Z",
     "iopub.status.busy": "2022-10-31T15:58:07.760618Z",
     "iopub.status.idle": "2022-10-31T15:58:07.767045Z",
     "shell.execute_reply": "2022-10-31T15:58:07.766268Z"
    },
    "papermill": {
     "duration": 0.032704,
     "end_time": "2022-10-31T15:58:07.769139",
     "exception": false,
     "start_time": "2022-10-31T15:58:07.736435",
     "status": "completed"
    },
    "tags": []
   },
   "outputs": [
    {
     "data": {
      "text/plain": [
       "(1459, 75)"
      ]
     },
     "execution_count": 20,
     "metadata": {},
     "output_type": "execute_result"
    }
   ],
   "source": [
    "test_data.shape"
   ]
  },
  {
   "cell_type": "markdown",
   "id": "f2db0e0f",
   "metadata": {
    "papermill": {
     "duration": 0.022754,
     "end_time": "2022-10-31T15:58:07.814741",
     "exception": false,
     "start_time": "2022-10-31T15:58:07.791987",
     "status": "completed"
    },
    "tags": []
   },
   "source": [
    "### Checking missing values(if any)"
   ]
  },
  {
   "cell_type": "code",
   "execution_count": 21,
   "id": "a4cd9030",
   "metadata": {
    "execution": {
     "iopub.execute_input": "2022-10-31T15:58:07.862804Z",
     "iopub.status.busy": "2022-10-31T15:58:07.862025Z",
     "iopub.status.idle": "2022-10-31T15:58:07.872197Z",
     "shell.execute_reply": "2022-10-31T15:58:07.871434Z"
    },
    "papermill": {
     "duration": 0.036554,
     "end_time": "2022-10-31T15:58:07.874247",
     "exception": false,
     "start_time": "2022-10-31T15:58:07.837693",
     "status": "completed"
    },
    "tags": []
   },
   "outputs": [
    {
     "data": {
      "text/plain": [
       "0"
      ]
     },
     "execution_count": 21,
     "metadata": {},
     "output_type": "execute_result"
    }
   ],
   "source": [
    "test_data.isna().sum().sum()"
   ]
  },
  {
   "cell_type": "markdown",
   "id": "5f45c9e2",
   "metadata": {
    "papermill": {
     "duration": 0.023123,
     "end_time": "2022-10-31T15:58:07.920258",
     "exception": false,
     "start_time": "2022-10-31T15:58:07.897135",
     "status": "completed"
    },
    "tags": []
   },
   "source": [
    "## Find no of unique categorical data of train data"
   ]
  },
  {
   "cell_type": "code",
   "execution_count": 22,
   "id": "1fd97c62",
   "metadata": {
    "execution": {
     "iopub.execute_input": "2022-10-31T15:58:07.968160Z",
     "iopub.status.busy": "2022-10-31T15:58:07.967446Z",
     "iopub.status.idle": "2022-10-31T15:58:07.985658Z",
     "shell.execute_reply": "2022-10-31T15:58:07.984217Z"
    },
    "papermill": {
     "duration": 0.044848,
     "end_time": "2022-10-31T15:58:07.987981",
     "exception": false,
     "start_time": "2022-10-31T15:58:07.943133",
     "status": "completed"
    },
    "tags": []
   },
   "outputs": [
    {
     "name": "stdout",
     "output_type": "stream",
     "text": [
      "MSZoning : 5\n",
      "Street : 2\n",
      "LotShape : 4\n",
      "LandContour : 4\n",
      "Utilities : 2\n",
      "LotConfig : 5\n",
      "LandSlope : 3\n",
      "Neighborhood : 25\n",
      "Condition1 : 9\n",
      "Condition2 : 8\n",
      "BldgType : 5\n",
      "HouseStyle : 8\n",
      "RoofStyle : 6\n",
      "RoofMatl : 8\n",
      "Exterior1st : 15\n",
      "Exterior2nd : 16\n",
      "MasVnrType : 4\n",
      "ExterQual : 4\n",
      "ExterCond : 5\n",
      "Foundation : 6\n",
      "BsmtQual : 4\n",
      "BsmtCond : 4\n",
      "BsmtExposure : 4\n",
      "BsmtFinType1 : 6\n",
      "BsmtFinType2 : 6\n",
      "Heating : 6\n",
      "HeatingQC : 5\n",
      "CentralAir : 2\n",
      "Electrical : 5\n",
      "KitchenQual : 4\n",
      "Functional : 7\n",
      "GarageType : 6\n",
      "GarageFinish : 3\n",
      "GarageQual : 5\n",
      "GarageCond : 5\n",
      "PavedDrive : 3\n",
      "SaleType : 9\n",
      "SaleCondition : 6\n"
     ]
    }
   ],
   "source": [
    "for i in train_data.columns:\n",
    "    if train_data[i].dtypes == 'object':\n",
    "        print(f\"{i} : {train_data[i].nunique()}\")"
   ]
  },
  {
   "cell_type": "code",
   "execution_count": 23,
   "id": "1a32357b",
   "metadata": {
    "execution": {
     "iopub.execute_input": "2022-10-31T15:58:08.035851Z",
     "iopub.status.busy": "2022-10-31T15:58:08.035466Z",
     "iopub.status.idle": "2022-10-31T15:58:08.044608Z",
     "shell.execute_reply": "2022-10-31T15:58:08.043689Z"
    },
    "papermill": {
     "duration": 0.035789,
     "end_time": "2022-10-31T15:58:08.046889",
     "exception": false,
     "start_time": "2022-10-31T15:58:08.011100",
     "status": "completed"
    },
    "tags": []
   },
   "outputs": [],
   "source": [
    "NoSeWa = train_data[train_data['Utilities'] != 'AllPub'].index\n",
    "train_data.drop(NoSeWa, inplace = True)"
   ]
  },
  {
   "cell_type": "markdown",
   "id": "2e421a09",
   "metadata": {
    "papermill": {
     "duration": 0.023405,
     "end_time": "2022-10-31T15:58:08.093547",
     "exception": false,
     "start_time": "2022-10-31T15:58:08.070142",
     "status": "completed"
    },
    "tags": []
   },
   "source": [
    "## Comparison no of categorical variable between train and test data"
   ]
  },
  {
   "cell_type": "code",
   "execution_count": 24,
   "id": "1f05a0e9",
   "metadata": {
    "execution": {
     "iopub.execute_input": "2022-10-31T15:58:08.142059Z",
     "iopub.status.busy": "2022-10-31T15:58:08.141676Z",
     "iopub.status.idle": "2022-10-31T15:58:08.152231Z",
     "shell.execute_reply": "2022-10-31T15:58:08.151225Z"
    },
    "papermill": {
     "duration": 0.037894,
     "end_time": "2022-10-31T15:58:08.154604",
     "exception": false,
     "start_time": "2022-10-31T15:58:08.116710",
     "status": "completed"
    },
    "tags": []
   },
   "outputs": [
    {
     "data": {
      "text/plain": [
       "Condition2  Condition2\n",
       "Artery      Artery           2\n",
       "Feedr       Feedr            6\n",
       "Norm        Norm          1444\n",
       "PosA        PosA             1\n",
       "PosN        PosN             2\n",
       "RRAe        RRAe             1\n",
       "RRAn        RRAn             1\n",
       "RRNn        RRNn             2\n",
       "Name: Condition2, dtype: int64"
      ]
     },
     "execution_count": 24,
     "metadata": {},
     "output_type": "execute_result"
    }
   ],
   "source": [
    "train_data.groupby('Condition2')['Condition2'].value_counts()"
   ]
  },
  {
   "cell_type": "code",
   "execution_count": 25,
   "id": "b32f01f9",
   "metadata": {
    "execution": {
     "iopub.execute_input": "2022-10-31T15:58:08.203882Z",
     "iopub.status.busy": "2022-10-31T15:58:08.203503Z",
     "iopub.status.idle": "2022-10-31T15:58:08.213708Z",
     "shell.execute_reply": "2022-10-31T15:58:08.212726Z"
    },
    "papermill": {
     "duration": 0.037434,
     "end_time": "2022-10-31T15:58:08.215873",
     "exception": false,
     "start_time": "2022-10-31T15:58:08.178439",
     "status": "completed"
    },
    "tags": []
   },
   "outputs": [
    {
     "data": {
      "text/plain": [
       "Condition2  Condition2\n",
       "Artery      Artery           3\n",
       "Feedr       Feedr            7\n",
       "Norm        Norm          1444\n",
       "PosA        PosA             3\n",
       "PosN        PosN             2\n",
       "Name: Condition2, dtype: int64"
      ]
     },
     "execution_count": 25,
     "metadata": {},
     "output_type": "execute_result"
    }
   ],
   "source": [
    "test_data.groupby('Condition2')['Condition2'].value_counts()"
   ]
  },
  {
   "cell_type": "code",
   "execution_count": 26,
   "id": "e641848c",
   "metadata": {
    "execution": {
     "iopub.execute_input": "2022-10-31T15:58:08.265164Z",
     "iopub.status.busy": "2022-10-31T15:58:08.264636Z",
     "iopub.status.idle": "2022-10-31T15:58:08.274370Z",
     "shell.execute_reply": "2022-10-31T15:58:08.273254Z"
    },
    "papermill": {
     "duration": 0.037004,
     "end_time": "2022-10-31T15:58:08.276594",
     "exception": false,
     "start_time": "2022-10-31T15:58:08.239590",
     "status": "completed"
    },
    "tags": []
   },
   "outputs": [],
   "source": [
    "D1 = train_data[(train_data['Condition2'] == 'RRAe') | (train_data['Condition2'] == 'RRAn') | (train_data['Condition2'] == 'RRNn')].index\n",
    "train_data.drop(D1, inplace = True)"
   ]
  },
  {
   "cell_type": "code",
   "execution_count": 27,
   "id": "824eee04",
   "metadata": {
    "execution": {
     "iopub.execute_input": "2022-10-31T15:58:08.325120Z",
     "iopub.status.busy": "2022-10-31T15:58:08.324705Z",
     "iopub.status.idle": "2022-10-31T15:58:08.335924Z",
     "shell.execute_reply": "2022-10-31T15:58:08.334882Z"
    },
    "papermill": {
     "duration": 0.038359,
     "end_time": "2022-10-31T15:58:08.338382",
     "exception": false,
     "start_time": "2022-10-31T15:58:08.300023",
     "status": "completed"
    },
    "tags": []
   },
   "outputs": [
    {
     "data": {
      "text/plain": [
       "HouseStyle  HouseStyle\n",
       "1.5Fin      1.5Fin        153\n",
       "1.5Unf      1.5Unf         14\n",
       "1Story      1Story        723\n",
       "2.5Fin      2.5Fin          8\n",
       "2.5Unf      2.5Unf         11\n",
       "2Story      2Story        445\n",
       "SFoyer      SFoyer         37\n",
       "SLvl        SLvl           64\n",
       "Name: HouseStyle, dtype: int64"
      ]
     },
     "execution_count": 27,
     "metadata": {},
     "output_type": "execute_result"
    }
   ],
   "source": [
    "train_data.groupby('HouseStyle')['HouseStyle'].value_counts()"
   ]
  },
  {
   "cell_type": "code",
   "execution_count": 28,
   "id": "3e57ae45",
   "metadata": {
    "execution": {
     "iopub.execute_input": "2022-10-31T15:58:08.388247Z",
     "iopub.status.busy": "2022-10-31T15:58:08.387850Z",
     "iopub.status.idle": "2022-10-31T15:58:08.397979Z",
     "shell.execute_reply": "2022-10-31T15:58:08.396945Z"
    },
    "papermill": {
     "duration": 0.037661,
     "end_time": "2022-10-31T15:58:08.400019",
     "exception": false,
     "start_time": "2022-10-31T15:58:08.362358",
     "status": "completed"
    },
    "tags": []
   },
   "outputs": [
    {
     "data": {
      "text/plain": [
       "HouseStyle  HouseStyle\n",
       "1.5Fin      1.5Fin        160\n",
       "1.5Unf      1.5Unf          5\n",
       "1Story      1Story        745\n",
       "2.5Unf      2.5Unf         13\n",
       "2Story      2Story        427\n",
       "SFoyer      SFoyer         46\n",
       "SLvl        SLvl           63\n",
       "Name: HouseStyle, dtype: int64"
      ]
     },
     "execution_count": 28,
     "metadata": {},
     "output_type": "execute_result"
    }
   ],
   "source": [
    "test_data.groupby('HouseStyle')['HouseStyle'].value_counts()"
   ]
  },
  {
   "cell_type": "code",
   "execution_count": 29,
   "id": "de7bda1f",
   "metadata": {
    "execution": {
     "iopub.execute_input": "2022-10-31T15:58:08.450370Z",
     "iopub.status.busy": "2022-10-31T15:58:08.449858Z",
     "iopub.status.idle": "2022-10-31T15:58:08.458042Z",
     "shell.execute_reply": "2022-10-31T15:58:08.457067Z"
    },
    "papermill": {
     "duration": 0.035766,
     "end_time": "2022-10-31T15:58:08.460370",
     "exception": false,
     "start_time": "2022-10-31T15:58:08.424604",
     "status": "completed"
    },
    "tags": []
   },
   "outputs": [],
   "source": [
    "D2 = train_data[train_data['HouseStyle'] == '2.5Fin'].index\n",
    "train_data.drop(D2, inplace = True)"
   ]
  },
  {
   "cell_type": "code",
   "execution_count": 30,
   "id": "71ce50b3",
   "metadata": {
    "execution": {
     "iopub.execute_input": "2022-10-31T15:58:08.510182Z",
     "iopub.status.busy": "2022-10-31T15:58:08.509091Z",
     "iopub.status.idle": "2022-10-31T15:58:08.519826Z",
     "shell.execute_reply": "2022-10-31T15:58:08.518635Z"
    },
    "papermill": {
     "duration": 0.038226,
     "end_time": "2022-10-31T15:58:08.522290",
     "exception": false,
     "start_time": "2022-10-31T15:58:08.484064",
     "status": "completed"
    },
    "tags": []
   },
   "outputs": [
    {
     "data": {
      "text/plain": [
       "RoofMatl  RoofMatl\n",
       "ClyTile   ClyTile        1\n",
       "CompShg   CompShg     1422\n",
       "Membran   Membran        1\n",
       "Metal     Metal          1\n",
       "Roll      Roll           1\n",
       "Tar&Grv   Tar&Grv       11\n",
       "WdShake   WdShake        5\n",
       "WdShngl   WdShngl        5\n",
       "Name: RoofMatl, dtype: int64"
      ]
     },
     "execution_count": 30,
     "metadata": {},
     "output_type": "execute_result"
    }
   ],
   "source": [
    "train_data.groupby('RoofMatl')['RoofMatl'].value_counts()"
   ]
  },
  {
   "cell_type": "code",
   "execution_count": 31,
   "id": "11d1f6f8",
   "metadata": {
    "execution": {
     "iopub.execute_input": "2022-10-31T15:58:08.571756Z",
     "iopub.status.busy": "2022-10-31T15:58:08.571004Z",
     "iopub.status.idle": "2022-10-31T15:58:08.581578Z",
     "shell.execute_reply": "2022-10-31T15:58:08.580625Z"
    },
    "papermill": {
     "duration": 0.037455,
     "end_time": "2022-10-31T15:58:08.583582",
     "exception": false,
     "start_time": "2022-10-31T15:58:08.546127",
     "status": "completed"
    },
    "tags": []
   },
   "outputs": [
    {
     "data": {
      "text/plain": [
       "RoofMatl  RoofMatl\n",
       "CompShg   CompShg     1442\n",
       "Tar&Grv   Tar&Grv       12\n",
       "WdShake   WdShake        4\n",
       "WdShngl   WdShngl        1\n",
       "Name: RoofMatl, dtype: int64"
      ]
     },
     "execution_count": 31,
     "metadata": {},
     "output_type": "execute_result"
    }
   ],
   "source": [
    "test_data.groupby('RoofMatl')['RoofMatl'].value_counts()"
   ]
  },
  {
   "cell_type": "code",
   "execution_count": 32,
   "id": "d7a84a35",
   "metadata": {
    "execution": {
     "iopub.execute_input": "2022-10-31T15:58:08.632990Z",
     "iopub.status.busy": "2022-10-31T15:58:08.632596Z",
     "iopub.status.idle": "2022-10-31T15:58:08.642545Z",
     "shell.execute_reply": "2022-10-31T15:58:08.641546Z"
    },
    "papermill": {
     "duration": 0.03755,
     "end_time": "2022-10-31T15:58:08.644868",
     "exception": false,
     "start_time": "2022-10-31T15:58:08.607318",
     "status": "completed"
    },
    "tags": []
   },
   "outputs": [],
   "source": [
    "D3 = train_data[(train_data['RoofMatl'] == 'ClyTile') | (train_data['RoofMatl'] == 'Membran') | (train_data['RoofMatl'] == 'Metal') | (train_data['RoofMatl'] == 'Roll')].index\n",
    "train_data.drop(D3, inplace = True)"
   ]
  },
  {
   "cell_type": "code",
   "execution_count": 33,
   "id": "70a28c15",
   "metadata": {
    "execution": {
     "iopub.execute_input": "2022-10-31T15:58:08.695255Z",
     "iopub.status.busy": "2022-10-31T15:58:08.694456Z",
     "iopub.status.idle": "2022-10-31T15:58:08.705426Z",
     "shell.execute_reply": "2022-10-31T15:58:08.704602Z"
    },
    "papermill": {
     "duration": 0.038707,
     "end_time": "2022-10-31T15:58:08.707412",
     "exception": false,
     "start_time": "2022-10-31T15:58:08.668705",
     "status": "completed"
    },
    "tags": []
   },
   "outputs": [
    {
     "data": {
      "text/plain": [
       "Exterior1st  Exterior1st\n",
       "AsbShng      AsbShng         19\n",
       "AsphShn      AsphShn          1\n",
       "BrkComm      BrkComm          2\n",
       "BrkFace      BrkFace         50\n",
       "CBlock       CBlock           1\n",
       "CemntBd      CemntBd         60\n",
       "HdBoard      HdBoard        221\n",
       "ImStucc      ImStucc          1\n",
       "MetalSd      MetalSd        217\n",
       "Plywood      Plywood        105\n",
       "Stone        Stone            2\n",
       "Stucco       Stucco          24\n",
       "VinylSd      VinylSd        513\n",
       "Wd Sdng      Wd Sdng        201\n",
       "WdShing      WdShing         26\n",
       "Name: Exterior1st, dtype: int64"
      ]
     },
     "execution_count": 33,
     "metadata": {},
     "output_type": "execute_result"
    }
   ],
   "source": [
    "train_data.groupby('Exterior1st')['Exterior1st'].value_counts()"
   ]
  },
  {
   "cell_type": "code",
   "execution_count": 34,
   "id": "18318c49",
   "metadata": {
    "execution": {
     "iopub.execute_input": "2022-10-31T15:58:08.757363Z",
     "iopub.status.busy": "2022-10-31T15:58:08.756954Z",
     "iopub.status.idle": "2022-10-31T15:58:08.768137Z",
     "shell.execute_reply": "2022-10-31T15:58:08.766982Z"
    },
    "papermill": {
     "duration": 0.038888,
     "end_time": "2022-10-31T15:58:08.770393",
     "exception": false,
     "start_time": "2022-10-31T15:58:08.731505",
     "status": "completed"
    },
    "tags": []
   },
   "outputs": [
    {
     "data": {
      "text/plain": [
       "Exterior1st  Exterior1st\n",
       "AsbShng      AsbShng         24\n",
       "AsphShn      AsphShn          1\n",
       "BrkComm      BrkComm          4\n",
       "BrkFace      BrkFace         37\n",
       "CBlock       CBlock           1\n",
       "CemntBd      CemntBd         65\n",
       "HdBoard      HdBoard        220\n",
       "MetalSd      MetalSd        230\n",
       "Plywood      Plywood        113\n",
       "Stucco       Stucco          18\n",
       "VinylSd      VinylSd        511\n",
       "Wd Sdng      Wd Sdng        205\n",
       "WdShing      WdShing         30\n",
       "Name: Exterior1st, dtype: int64"
      ]
     },
     "execution_count": 34,
     "metadata": {},
     "output_type": "execute_result"
    }
   ],
   "source": [
    "test_data.groupby('Exterior1st')['Exterior1st'].value_counts()"
   ]
  },
  {
   "cell_type": "code",
   "execution_count": 35,
   "id": "9782dc44",
   "metadata": {
    "execution": {
     "iopub.execute_input": "2022-10-31T15:58:08.821250Z",
     "iopub.status.busy": "2022-10-31T15:58:08.820807Z",
     "iopub.status.idle": "2022-10-31T15:58:08.829582Z",
     "shell.execute_reply": "2022-10-31T15:58:08.828474Z"
    },
    "papermill": {
     "duration": 0.037027,
     "end_time": "2022-10-31T15:58:08.832114",
     "exception": false,
     "start_time": "2022-10-31T15:58:08.795087",
     "status": "completed"
    },
    "tags": []
   },
   "outputs": [],
   "source": [
    "D4 = train_data[(train_data['Exterior1st'] == 'Stone') | (train_data['Exterior1st'] == 'ImStucc')].index\n",
    "train_data.drop(D4, inplace = True)                     "
   ]
  },
  {
   "cell_type": "code",
   "execution_count": 36,
   "id": "f15bbea0",
   "metadata": {
    "execution": {
     "iopub.execute_input": "2022-10-31T15:58:08.882278Z",
     "iopub.status.busy": "2022-10-31T15:58:08.881838Z",
     "iopub.status.idle": "2022-10-31T15:58:08.893087Z",
     "shell.execute_reply": "2022-10-31T15:58:08.892060Z"
    },
    "papermill": {
     "duration": 0.038653,
     "end_time": "2022-10-31T15:58:08.895246",
     "exception": false,
     "start_time": "2022-10-31T15:58:08.856593",
     "status": "completed"
    },
    "tags": []
   },
   "outputs": [
    {
     "data": {
      "text/plain": [
       "Exterior2nd  Exterior2nd\n",
       "AsbShng      AsbShng         19\n",
       "AsphShn      AsphShn          3\n",
       "Brk Cmn      Brk Cmn          7\n",
       "BrkFace      BrkFace         25\n",
       "CBlock       CBlock           1\n",
       "CmentBd      CmentBd         59\n",
       "HdBoard      HdBoard        205\n",
       "ImStucc      ImStucc          9\n",
       "MetalSd      MetalSd        211\n",
       "Other        Other            1\n",
       "Plywood      Plywood        138\n",
       "Stone        Stone            4\n",
       "Stucco       Stucco          25\n",
       "VinylSd      VinylSd        502\n",
       "Wd Sdng      Wd Sdng        193\n",
       "Wd Shng      Wd Shng         38\n",
       "Name: Exterior2nd, dtype: int64"
      ]
     },
     "execution_count": 36,
     "metadata": {},
     "output_type": "execute_result"
    }
   ],
   "source": [
    "train_data.groupby('Exterior2nd')['Exterior2nd'].value_counts()"
   ]
  },
  {
   "cell_type": "code",
   "execution_count": 37,
   "id": "ccafa739",
   "metadata": {
    "execution": {
     "iopub.execute_input": "2022-10-31T15:58:08.946535Z",
     "iopub.status.busy": "2022-10-31T15:58:08.946109Z",
     "iopub.status.idle": "2022-10-31T15:58:08.956642Z",
     "shell.execute_reply": "2022-10-31T15:58:08.955787Z"
    },
    "papermill": {
     "duration": 0.039267,
     "end_time": "2022-10-31T15:58:08.958847",
     "exception": false,
     "start_time": "2022-10-31T15:58:08.919580",
     "status": "completed"
    },
    "tags": []
   },
   "outputs": [
    {
     "data": {
      "text/plain": [
       "Exterior2nd  Exterior2nd\n",
       "AsbShng      AsbShng         18\n",
       "AsphShn      AsphShn          1\n",
       "Brk Cmn      Brk Cmn         15\n",
       "BrkFace      BrkFace         22\n",
       "CBlock       CBlock           2\n",
       "CmentBd      CmentBd         66\n",
       "HdBoard      HdBoard        199\n",
       "ImStucc      ImStucc          5\n",
       "MetalSd      MetalSd        233\n",
       "Plywood      Plywood        128\n",
       "Stone        Stone            1\n",
       "Stucco       Stucco          21\n",
       "VinylSd      VinylSd        511\n",
       "Wd Sdng      Wd Sdng        194\n",
       "Wd Shng      Wd Shng         43\n",
       "Name: Exterior2nd, dtype: int64"
      ]
     },
     "execution_count": 37,
     "metadata": {},
     "output_type": "execute_result"
    }
   ],
   "source": [
    "test_data.groupby('Exterior2nd')['Exterior2nd'].value_counts()"
   ]
  },
  {
   "cell_type": "code",
   "execution_count": 38,
   "id": "a6eb9227",
   "metadata": {
    "execution": {
     "iopub.execute_input": "2022-10-31T15:58:09.009151Z",
     "iopub.status.busy": "2022-10-31T15:58:09.008785Z",
     "iopub.status.idle": "2022-10-31T15:58:09.015574Z",
     "shell.execute_reply": "2022-10-31T15:58:09.014777Z"
    },
    "papermill": {
     "duration": 0.034597,
     "end_time": "2022-10-31T15:58:09.017830",
     "exception": false,
     "start_time": "2022-10-31T15:58:08.983233",
     "status": "completed"
    },
    "tags": []
   },
   "outputs": [],
   "source": [
    "D5 = train_data[(train_data['Exterior2nd'] == 'Other')].index\n",
    "train_data.drop(D5, inplace = True)"
   ]
  },
  {
   "cell_type": "code",
   "execution_count": 39,
   "id": "a1b848ea",
   "metadata": {
    "execution": {
     "iopub.execute_input": "2022-10-31T15:58:09.068680Z",
     "iopub.status.busy": "2022-10-31T15:58:09.068301Z",
     "iopub.status.idle": "2022-10-31T15:58:09.078053Z",
     "shell.execute_reply": "2022-10-31T15:58:09.077169Z"
    },
    "papermill": {
     "duration": 0.037814,
     "end_time": "2022-10-31T15:58:09.080191",
     "exception": false,
     "start_time": "2022-10-31T15:58:09.042377",
     "status": "completed"
    },
    "tags": []
   },
   "outputs": [
    {
     "data": {
      "text/plain": [
       "Heating  Heating\n",
       "Floor    Floor         1\n",
       "GasA     GasA       1407\n",
       "GasW     GasW         18\n",
       "Grav     Grav          7\n",
       "OthW     OthW          2\n",
       "Wall     Wall          4\n",
       "Name: Heating, dtype: int64"
      ]
     },
     "execution_count": 39,
     "metadata": {},
     "output_type": "execute_result"
    }
   ],
   "source": [
    "train_data.groupby('Heating')['Heating'].value_counts()"
   ]
  },
  {
   "cell_type": "code",
   "execution_count": 40,
   "id": "220f7d90",
   "metadata": {
    "execution": {
     "iopub.execute_input": "2022-10-31T15:58:09.130619Z",
     "iopub.status.busy": "2022-10-31T15:58:09.130247Z",
     "iopub.status.idle": "2022-10-31T15:58:09.138743Z",
     "shell.execute_reply": "2022-10-31T15:58:09.137963Z"
    },
    "papermill": {
     "duration": 0.036504,
     "end_time": "2022-10-31T15:58:09.140967",
     "exception": false,
     "start_time": "2022-10-31T15:58:09.104463",
     "status": "completed"
    },
    "tags": []
   },
   "outputs": [
    {
     "data": {
      "text/plain": [
       "Heating  Heating\n",
       "GasA     GasA       1446\n",
       "GasW     GasW          9\n",
       "Grav     Grav          2\n",
       "Wall     Wall          2\n",
       "Name: Heating, dtype: int64"
      ]
     },
     "execution_count": 40,
     "metadata": {},
     "output_type": "execute_result"
    }
   ],
   "source": [
    "test_data.groupby('Heating')['Heating'].value_counts()"
   ]
  },
  {
   "cell_type": "code",
   "execution_count": 41,
   "id": "f585799a",
   "metadata": {
    "execution": {
     "iopub.execute_input": "2022-10-31T15:58:09.191873Z",
     "iopub.status.busy": "2022-10-31T15:58:09.191259Z",
     "iopub.status.idle": "2022-10-31T15:58:09.198783Z",
     "shell.execute_reply": "2022-10-31T15:58:09.197922Z"
    },
    "papermill": {
     "duration": 0.035759,
     "end_time": "2022-10-31T15:58:09.201121",
     "exception": false,
     "start_time": "2022-10-31T15:58:09.165362",
     "status": "completed"
    },
    "tags": []
   },
   "outputs": [],
   "source": [
    "D6 = train_data[(train_data['Heating'] == 'Floor') | (train_data['Heating'] == 'OthW')].index\n",
    "train_data.drop(D6, inplace = True)"
   ]
  },
  {
   "cell_type": "code",
   "execution_count": 42,
   "id": "28206554",
   "metadata": {
    "execution": {
     "iopub.execute_input": "2022-10-31T15:58:09.252652Z",
     "iopub.status.busy": "2022-10-31T15:58:09.252029Z",
     "iopub.status.idle": "2022-10-31T15:58:09.260931Z",
     "shell.execute_reply": "2022-10-31T15:58:09.260074Z"
    },
    "papermill": {
     "duration": 0.037435,
     "end_time": "2022-10-31T15:58:09.263305",
     "exception": false,
     "start_time": "2022-10-31T15:58:09.225870",
     "status": "completed"
    },
    "tags": []
   },
   "outputs": [
    {
     "data": {
      "text/plain": [
       "Electrical  Electrical\n",
       "FuseA       FuseA           91\n",
       "FuseF       FuseF           27\n",
       "FuseP       FuseP            3\n",
       "Mix         Mix              1\n",
       "SBrkr       SBrkr         1314\n",
       "Name: Electrical, dtype: int64"
      ]
     },
     "execution_count": 42,
     "metadata": {},
     "output_type": "execute_result"
    }
   ],
   "source": [
    "train_data.groupby('Electrical')['Electrical'].value_counts()"
   ]
  },
  {
   "cell_type": "code",
   "execution_count": 43,
   "id": "8acefd77",
   "metadata": {
    "execution": {
     "iopub.execute_input": "2022-10-31T15:58:09.315951Z",
     "iopub.status.busy": "2022-10-31T15:58:09.315318Z",
     "iopub.status.idle": "2022-10-31T15:58:09.324007Z",
     "shell.execute_reply": "2022-10-31T15:58:09.323257Z"
    },
    "papermill": {
     "duration": 0.037614,
     "end_time": "2022-10-31T15:58:09.326281",
     "exception": false,
     "start_time": "2022-10-31T15:58:09.288667",
     "status": "completed"
    },
    "tags": []
   },
   "outputs": [
    {
     "data": {
      "text/plain": [
       "Electrical  Electrical\n",
       "FuseA       FuseA           94\n",
       "FuseF       FuseF           23\n",
       "FuseP       FuseP            5\n",
       "SBrkr       SBrkr         1337\n",
       "Name: Electrical, dtype: int64"
      ]
     },
     "execution_count": 43,
     "metadata": {},
     "output_type": "execute_result"
    }
   ],
   "source": [
    "test_data.groupby('Electrical')['Electrical'].value_counts()"
   ]
  },
  {
   "cell_type": "code",
   "execution_count": 44,
   "id": "56a0a363",
   "metadata": {
    "execution": {
     "iopub.execute_input": "2022-10-31T15:58:09.379333Z",
     "iopub.status.busy": "2022-10-31T15:58:09.378532Z",
     "iopub.status.idle": "2022-10-31T15:58:09.386944Z",
     "shell.execute_reply": "2022-10-31T15:58:09.385849Z"
    },
    "papermill": {
     "duration": 0.037519,
     "end_time": "2022-10-31T15:58:09.389321",
     "exception": false,
     "start_time": "2022-10-31T15:58:09.351802",
     "status": "completed"
    },
    "tags": []
   },
   "outputs": [],
   "source": [
    "D7 = train_data[(train_data['Electrical'] == 'Mix')].index\n",
    "train_data.drop(D7, inplace = True)"
   ]
  },
  {
   "cell_type": "code",
   "execution_count": 45,
   "id": "f0f9dac1",
   "metadata": {
    "execution": {
     "iopub.execute_input": "2022-10-31T15:58:09.441294Z",
     "iopub.status.busy": "2022-10-31T15:58:09.440867Z",
     "iopub.status.idle": "2022-10-31T15:58:09.451070Z",
     "shell.execute_reply": "2022-10-31T15:58:09.450072Z"
    },
    "papermill": {
     "duration": 0.039258,
     "end_time": "2022-10-31T15:58:09.453495",
     "exception": false,
     "start_time": "2022-10-31T15:58:09.414237",
     "status": "completed"
    },
    "tags": []
   },
   "outputs": [
    {
     "data": {
      "text/plain": [
       "GarageQual  GarageQual\n",
       "Ex          Ex               2\n",
       "Fa          Fa              46\n",
       "Gd          Gd              14\n",
       "Po          Po               2\n",
       "TA          TA            1371\n",
       "Name: GarageQual, dtype: int64"
      ]
     },
     "execution_count": 45,
     "metadata": {},
     "output_type": "execute_result"
    }
   ],
   "source": [
    "train_data.groupby('GarageQual')['GarageQual'].value_counts()"
   ]
  },
  {
   "cell_type": "code",
   "execution_count": 46,
   "id": "dd7b3fc2",
   "metadata": {
    "execution": {
     "iopub.execute_input": "2022-10-31T15:58:09.505377Z",
     "iopub.status.busy": "2022-10-31T15:58:09.504947Z",
     "iopub.status.idle": "2022-10-31T15:58:09.515291Z",
     "shell.execute_reply": "2022-10-31T15:58:09.514341Z"
    },
    "papermill": {
     "duration": 0.038864,
     "end_time": "2022-10-31T15:58:09.517471",
     "exception": false,
     "start_time": "2022-10-31T15:58:09.478607",
     "status": "completed"
    },
    "tags": []
   },
   "outputs": [
    {
     "data": {
      "text/plain": [
       "GarageQual  GarageQual\n",
       "Fa          Fa              76\n",
       "Gd          Gd              10\n",
       "Po          Po               2\n",
       "TA          TA            1371\n",
       "Name: GarageQual, dtype: int64"
      ]
     },
     "execution_count": 46,
     "metadata": {},
     "output_type": "execute_result"
    }
   ],
   "source": [
    "test_data.groupby('GarageQual')['GarageQual'].value_counts()"
   ]
  },
  {
   "cell_type": "code",
   "execution_count": 47,
   "id": "8108ba85",
   "metadata": {
    "execution": {
     "iopub.execute_input": "2022-10-31T15:58:09.569168Z",
     "iopub.status.busy": "2022-10-31T15:58:09.568576Z",
     "iopub.status.idle": "2022-10-31T15:58:09.575505Z",
     "shell.execute_reply": "2022-10-31T15:58:09.574569Z"
    },
    "papermill": {
     "duration": 0.035374,
     "end_time": "2022-10-31T15:58:09.577826",
     "exception": false,
     "start_time": "2022-10-31T15:58:09.542452",
     "status": "completed"
    },
    "tags": []
   },
   "outputs": [],
   "source": [
    "D8 = train_data[(train_data['GarageQual'] == 'Ex')].index\n",
    "train_data.drop(D8, inplace = True)"
   ]
  },
  {
   "cell_type": "code",
   "execution_count": 48,
   "id": "0cd4f76b",
   "metadata": {
    "execution": {
     "iopub.execute_input": "2022-10-31T15:58:09.629147Z",
     "iopub.status.busy": "2022-10-31T15:58:09.628729Z",
     "iopub.status.idle": "2022-10-31T15:58:09.635383Z",
     "shell.execute_reply": "2022-10-31T15:58:09.634542Z"
    },
    "papermill": {
     "duration": 0.034837,
     "end_time": "2022-10-31T15:58:09.637479",
     "exception": false,
     "start_time": "2022-10-31T15:58:09.602642",
     "status": "completed"
    },
    "tags": []
   },
   "outputs": [],
   "source": [
    "train_data = train_data.drop(columns = 'GarageCond')"
   ]
  },
  {
   "cell_type": "code",
   "execution_count": 49,
   "id": "6bd995f8",
   "metadata": {
    "execution": {
     "iopub.execute_input": "2022-10-31T15:58:09.689409Z",
     "iopub.status.busy": "2022-10-31T15:58:09.688406Z",
     "iopub.status.idle": "2022-10-31T15:58:09.695376Z",
     "shell.execute_reply": "2022-10-31T15:58:09.694364Z"
    },
    "papermill": {
     "duration": 0.035188,
     "end_time": "2022-10-31T15:58:09.697548",
     "exception": false,
     "start_time": "2022-10-31T15:58:09.662360",
     "status": "completed"
    },
    "tags": []
   },
   "outputs": [],
   "source": [
    "test_data = test_data.drop(columns = 'GarageCond')"
   ]
  },
  {
   "cell_type": "code",
   "execution_count": 50,
   "id": "11773a92",
   "metadata": {
    "execution": {
     "iopub.execute_input": "2022-10-31T15:58:09.748999Z",
     "iopub.status.busy": "2022-10-31T15:58:09.748581Z",
     "iopub.status.idle": "2022-10-31T15:58:09.769873Z",
     "shell.execute_reply": "2022-10-31T15:58:09.768223Z"
    },
    "papermill": {
     "duration": 0.050246,
     "end_time": "2022-10-31T15:58:09.772692",
     "exception": false,
     "start_time": "2022-10-31T15:58:09.722446",
     "status": "completed"
    },
    "tags": []
   },
   "outputs": [
    {
     "name": "stdout",
     "output_type": "stream",
     "text": [
      "MSZoning : 5\n",
      "Street : 2\n",
      "LotShape : 4\n",
      "LandContour : 4\n",
      "Utilities : 1\n",
      "LotConfig : 5\n",
      "LandSlope : 3\n",
      "Neighborhood : 25\n",
      "Condition1 : 9\n",
      "Condition2 : 5\n",
      "BldgType : 5\n",
      "HouseStyle : 7\n",
      "RoofStyle : 6\n",
      "RoofMatl : 4\n",
      "Exterior1st : 13\n",
      "Exterior2nd : 15\n",
      "MasVnrType : 4\n",
      "ExterQual : 4\n",
      "ExterCond : 5\n",
      "Foundation : 6\n",
      "BsmtQual : 4\n",
      "BsmtCond : 4\n",
      "BsmtExposure : 4\n",
      "BsmtFinType1 : 6\n",
      "BsmtFinType2 : 6\n",
      "Heating : 4\n",
      "HeatingQC : 5\n",
      "CentralAir : 2\n",
      "Electrical : 4\n",
      "KitchenQual : 4\n",
      "Functional : 7\n",
      "GarageType : 6\n",
      "GarageFinish : 3\n",
      "GarageQual : 4\n",
      "PavedDrive : 3\n",
      "SaleType : 9\n",
      "SaleCondition : 6\n"
     ]
    }
   ],
   "source": [
    "for i in train_data.columns:\n",
    "    if train_data[i].dtypes == 'object':\n",
    "        print(f\"{i} : {train_data[i].nunique()}\")"
   ]
  },
  {
   "cell_type": "code",
   "execution_count": 51,
   "id": "3fa6a8b3",
   "metadata": {
    "execution": {
     "iopub.execute_input": "2022-10-31T15:58:09.825097Z",
     "iopub.status.busy": "2022-10-31T15:58:09.824657Z",
     "iopub.status.idle": "2022-10-31T15:58:09.836916Z",
     "shell.execute_reply": "2022-10-31T15:58:09.835804Z"
    },
    "papermill": {
     "duration": 0.0412,
     "end_time": "2022-10-31T15:58:09.839141",
     "exception": false,
     "start_time": "2022-10-31T15:58:09.797941",
     "status": "completed"
    },
    "tags": []
   },
   "outputs": [
    {
     "data": {
      "text/plain": [
       "0"
      ]
     },
     "execution_count": 51,
     "metadata": {},
     "output_type": "execute_result"
    }
   ],
   "source": [
    "train_data.isna().sum().sum()"
   ]
  },
  {
   "cell_type": "code",
   "execution_count": 52,
   "id": "b11e08cf",
   "metadata": {
    "execution": {
     "iopub.execute_input": "2022-10-31T15:58:09.892293Z",
     "iopub.status.busy": "2022-10-31T15:58:09.891522Z",
     "iopub.status.idle": "2022-10-31T15:58:09.898628Z",
     "shell.execute_reply": "2022-10-31T15:58:09.897483Z"
    },
    "papermill": {
     "duration": 0.035807,
     "end_time": "2022-10-31T15:58:09.900893",
     "exception": false,
     "start_time": "2022-10-31T15:58:09.865086",
     "status": "completed"
    },
    "tags": []
   },
   "outputs": [
    {
     "data": {
      "text/plain": [
       "(1433, 75)"
      ]
     },
     "execution_count": 52,
     "metadata": {},
     "output_type": "execute_result"
    }
   ],
   "source": [
    "train_data.shape"
   ]
  },
  {
   "cell_type": "code",
   "execution_count": 53,
   "id": "a4be25be",
   "metadata": {
    "execution": {
     "iopub.execute_input": "2022-10-31T15:58:09.954067Z",
     "iopub.status.busy": "2022-10-31T15:58:09.953665Z",
     "iopub.status.idle": "2022-10-31T15:58:09.971019Z",
     "shell.execute_reply": "2022-10-31T15:58:09.969862Z"
    },
    "papermill": {
     "duration": 0.047292,
     "end_time": "2022-10-31T15:58:09.973529",
     "exception": false,
     "start_time": "2022-10-31T15:58:09.926237",
     "status": "completed"
    },
    "tags": []
   },
   "outputs": [
    {
     "data": {
      "text/plain": [
       "['MSZoning',\n",
       " 'LotShape',\n",
       " 'LandContour',\n",
       " 'LotConfig',\n",
       " 'LandSlope',\n",
       " 'Neighborhood',\n",
       " 'Condition1',\n",
       " 'Condition2',\n",
       " 'BldgType',\n",
       " 'HouseStyle',\n",
       " 'RoofStyle',\n",
       " 'RoofMatl',\n",
       " 'Exterior1st',\n",
       " 'Exterior2nd',\n",
       " 'MasVnrType',\n",
       " 'ExterQual',\n",
       " 'ExterCond',\n",
       " 'Foundation',\n",
       " 'BsmtQual',\n",
       " 'BsmtCond',\n",
       " 'BsmtExposure',\n",
       " 'BsmtFinType1',\n",
       " 'BsmtFinType2',\n",
       " 'Heating',\n",
       " 'HeatingQC',\n",
       " 'Electrical',\n",
       " 'KitchenQual',\n",
       " 'Functional',\n",
       " 'GarageType',\n",
       " 'GarageFinish',\n",
       " 'GarageQual',\n",
       " 'PavedDrive',\n",
       " 'SaleType',\n",
       " 'SaleCondition']"
      ]
     },
     "execution_count": 53,
     "metadata": {},
     "output_type": "execute_result"
    }
   ],
   "source": [
    "OneHot_train_data = [col for col in train_data.columns if (train_data[col].dtypes == 'object' and train_data[col].nunique() > 2)]\n",
    "OneHot_train_data"
   ]
  },
  {
   "cell_type": "code",
   "execution_count": 54,
   "id": "015d8c80",
   "metadata": {
    "execution": {
     "iopub.execute_input": "2022-10-31T15:58:10.028363Z",
     "iopub.status.busy": "2022-10-31T15:58:10.027948Z",
     "iopub.status.idle": "2022-10-31T15:58:10.044070Z",
     "shell.execute_reply": "2022-10-31T15:58:10.042923Z"
    },
    "papermill": {
     "duration": 0.045843,
     "end_time": "2022-10-31T15:58:10.046374",
     "exception": false,
     "start_time": "2022-10-31T15:58:10.000531",
     "status": "completed"
    },
    "tags": []
   },
   "outputs": [
    {
     "data": {
      "text/plain": [
       "['Street', 'Utilities', 'CentralAir']"
      ]
     },
     "execution_count": 54,
     "metadata": {},
     "output_type": "execute_result"
    }
   ],
   "source": [
    "Label_train_data = [col for col in train_data.columns if (train_data[col].dtypes == 'object' and train_data[col].nunique() <= 2)]\n",
    "Label_train_data"
   ]
  },
  {
   "cell_type": "markdown",
   "id": "c1a53e2e",
   "metadata": {
    "papermill": {
     "duration": 0.02576,
     "end_time": "2022-10-31T15:58:10.098373",
     "exception": false,
     "start_time": "2022-10-31T15:58:10.072613",
     "status": "completed"
    },
    "tags": []
   },
   "source": [
    "# Encoding train data"
   ]
  },
  {
   "cell_type": "code",
   "execution_count": 55,
   "id": "dd59f5fa",
   "metadata": {
    "execution": {
     "iopub.execute_input": "2022-10-31T15:58:10.153255Z",
     "iopub.status.busy": "2022-10-31T15:58:10.152063Z",
     "iopub.status.idle": "2022-10-31T15:58:10.163781Z",
     "shell.execute_reply": "2022-10-31T15:58:10.162683Z"
    },
    "papermill": {
     "duration": 0.041925,
     "end_time": "2022-10-31T15:58:10.166342",
     "exception": false,
     "start_time": "2022-10-31T15:58:10.124417",
     "status": "completed"
    },
    "tags": []
   },
   "outputs": [],
   "source": [
    "from sklearn.preprocessing import LabelEncoder\n",
    "L = train_data[Label_train_data] = train_data[Label_train_data].apply(LabelEncoder().fit_transform)\n",
    "L = np.array(L)"
   ]
  },
  {
   "cell_type": "code",
   "execution_count": 56,
   "id": "f0891561",
   "metadata": {
    "execution": {
     "iopub.execute_input": "2022-10-31T15:58:10.221127Z",
     "iopub.status.busy": "2022-10-31T15:58:10.220306Z",
     "iopub.status.idle": "2022-10-31T15:58:10.227841Z",
     "shell.execute_reply": "2022-10-31T15:58:10.226894Z"
    },
    "papermill": {
     "duration": 0.037561,
     "end_time": "2022-10-31T15:58:10.230173",
     "exception": false,
     "start_time": "2022-10-31T15:58:10.192612",
     "status": "completed"
    },
    "tags": []
   },
   "outputs": [
    {
     "data": {
      "text/plain": [
       "array([[1, 0, 1],\n",
       "       [1, 0, 1],\n",
       "       [1, 0, 1],\n",
       "       ...,\n",
       "       [1, 0, 1],\n",
       "       [1, 0, 1],\n",
       "       [1, 0, 1]])"
      ]
     },
     "execution_count": 56,
     "metadata": {},
     "output_type": "execute_result"
    }
   ],
   "source": [
    "L"
   ]
  },
  {
   "cell_type": "code",
   "execution_count": 57,
   "id": "b7045053",
   "metadata": {
    "execution": {
     "iopub.execute_input": "2022-10-31T15:58:10.284314Z",
     "iopub.status.busy": "2022-10-31T15:58:10.283887Z",
     "iopub.status.idle": "2022-10-31T15:58:10.294842Z",
     "shell.execute_reply": "2022-10-31T15:58:10.293720Z"
    },
    "papermill": {
     "duration": 0.040604,
     "end_time": "2022-10-31T15:58:10.297060",
     "exception": false,
     "start_time": "2022-10-31T15:58:10.256456",
     "status": "completed"
    },
    "tags": []
   },
   "outputs": [],
   "source": [
    "X = train_data.iloc[:, :-1].values\n",
    "y = train_data.iloc[:,-1].values"
   ]
  },
  {
   "cell_type": "code",
   "execution_count": 58,
   "id": "592fbd3a",
   "metadata": {
    "execution": {
     "iopub.execute_input": "2022-10-31T15:58:10.351223Z",
     "iopub.status.busy": "2022-10-31T15:58:10.350818Z",
     "iopub.status.idle": "2022-10-31T15:58:10.357833Z",
     "shell.execute_reply": "2022-10-31T15:58:10.356598Z"
    },
    "papermill": {
     "duration": 0.036563,
     "end_time": "2022-10-31T15:58:10.360290",
     "exception": false,
     "start_time": "2022-10-31T15:58:10.323727",
     "status": "completed"
    },
    "tags": []
   },
   "outputs": [
    {
     "data": {
      "text/plain": [
       "(1433, 74)"
      ]
     },
     "execution_count": 58,
     "metadata": {},
     "output_type": "execute_result"
    }
   ],
   "source": [
    "X.shape"
   ]
  },
  {
   "cell_type": "code",
   "execution_count": 59,
   "id": "fda6b3a3",
   "metadata": {
    "execution": {
     "iopub.execute_input": "2022-10-31T15:58:10.415973Z",
     "iopub.status.busy": "2022-10-31T15:58:10.415186Z",
     "iopub.status.idle": "2022-10-31T15:58:10.421130Z",
     "shell.execute_reply": "2022-10-31T15:58:10.420335Z"
    },
    "papermill": {
     "duration": 0.039096,
     "end_time": "2022-10-31T15:58:10.426099",
     "exception": false,
     "start_time": "2022-10-31T15:58:10.387003",
     "status": "completed"
    },
    "tags": []
   },
   "outputs": [
    {
     "data": {
      "text/plain": [
       "array([208500, 181500, 223500, ..., 266500, 142125, 147500])"
      ]
     },
     "execution_count": 59,
     "metadata": {},
     "output_type": "execute_result"
    }
   ],
   "source": [
    "y"
   ]
  },
  {
   "cell_type": "code",
   "execution_count": 60,
   "id": "bc7a228e",
   "metadata": {
    "execution": {
     "iopub.execute_input": "2022-10-31T15:58:10.481124Z",
     "iopub.status.busy": "2022-10-31T15:58:10.480367Z",
     "iopub.status.idle": "2022-10-31T15:58:10.485511Z",
     "shell.execute_reply": "2022-10-31T15:58:10.484432Z"
    },
    "papermill": {
     "duration": 0.035235,
     "end_time": "2022-10-31T15:58:10.488046",
     "exception": false,
     "start_time": "2022-10-31T15:58:10.452811",
     "status": "completed"
    },
    "tags": []
   },
   "outputs": [],
   "source": [
    "unique_col_index = []\n",
    "for i in OneHot_train_data:\n",
    "    unique_col_index.append(train_data.columns.get_loc(i))    "
   ]
  },
  {
   "cell_type": "code",
   "execution_count": 61,
   "id": "cb060f1b",
   "metadata": {
    "execution": {
     "iopub.execute_input": "2022-10-31T15:58:10.542926Z",
     "iopub.status.busy": "2022-10-31T15:58:10.542525Z",
     "iopub.status.idle": "2022-10-31T15:58:10.601933Z",
     "shell.execute_reply": "2022-10-31T15:58:10.600617Z"
    },
    "papermill": {
     "duration": 0.090004,
     "end_time": "2022-10-31T15:58:10.604757",
     "exception": false,
     "start_time": "2022-10-31T15:58:10.514753",
     "status": "completed"
    },
    "tags": []
   },
   "outputs": [],
   "source": [
    "from sklearn.compose import ColumnTransformer\n",
    "from sklearn.preprocessing import OneHotEncoder\n",
    "ct = ColumnTransformer(transformers =[('enc', OneHotEncoder(sparse = False, drop ='first'), unique_col_index), ], remainder ='passthrough')\n",
    "X = np.array(ct.fit_transform(X))"
   ]
  },
  {
   "cell_type": "code",
   "execution_count": 62,
   "id": "bc714b47",
   "metadata": {
    "execution": {
     "iopub.execute_input": "2022-10-31T15:58:10.659313Z",
     "iopub.status.busy": "2022-10-31T15:58:10.658872Z",
     "iopub.status.idle": "2022-10-31T15:58:10.668750Z",
     "shell.execute_reply": "2022-10-31T15:58:10.667646Z"
    },
    "papermill": {
     "duration": 0.039828,
     "end_time": "2022-10-31T15:58:10.671032",
     "exception": false,
     "start_time": "2022-10-31T15:58:10.631204",
     "status": "completed"
    },
    "tags": []
   },
   "outputs": [
    {
     "data": {
      "text/plain": [
       "array([[0.0, 0.0, 1.0, ..., 1, 0, 1],\n",
       "       [0.0, 0.0, 1.0, ..., 1, 0, 1],\n",
       "       [0.0, 0.0, 1.0, ..., 1, 0, 1],\n",
       "       ...,\n",
       "       [0.0, 0.0, 1.0, ..., 1, 0, 1],\n",
       "       [0.0, 0.0, 1.0, ..., 1, 0, 1],\n",
       "       [0.0, 0.0, 1.0, ..., 1, 0, 1]], dtype=object)"
      ]
     },
     "execution_count": 62,
     "metadata": {},
     "output_type": "execute_result"
    }
   ],
   "source": [
    "main_train = np.concatenate((X,L), axis = 1)\n",
    "main_train"
   ]
  },
  {
   "cell_type": "code",
   "execution_count": 63,
   "id": "6b991afa",
   "metadata": {
    "execution": {
     "iopub.execute_input": "2022-10-31T15:58:10.725637Z",
     "iopub.status.busy": "2022-10-31T15:58:10.724964Z",
     "iopub.status.idle": "2022-10-31T15:58:10.731529Z",
     "shell.execute_reply": "2022-10-31T15:58:10.730640Z"
    },
    "papermill": {
     "duration": 0.036233,
     "end_time": "2022-10-31T15:58:10.733670",
     "exception": false,
     "start_time": "2022-10-31T15:58:10.697437",
     "status": "completed"
    },
    "tags": []
   },
   "outputs": [
    {
     "data": {
      "text/plain": [
       "(1433, 217)"
      ]
     },
     "execution_count": 63,
     "metadata": {},
     "output_type": "execute_result"
    }
   ],
   "source": [
    "main_train.shape"
   ]
  },
  {
   "cell_type": "markdown",
   "id": "9fe7ed1f",
   "metadata": {
    "papermill": {
     "duration": 0.025517,
     "end_time": "2022-10-31T15:58:10.785366",
     "exception": false,
     "start_time": "2022-10-31T15:58:10.759849",
     "status": "completed"
    },
    "tags": []
   },
   "source": [
    "## Find no of unique categorical data of test data"
   ]
  },
  {
   "cell_type": "code",
   "execution_count": 64,
   "id": "1415bfb7",
   "metadata": {
    "execution": {
     "iopub.execute_input": "2022-10-31T15:58:10.839275Z",
     "iopub.status.busy": "2022-10-31T15:58:10.838518Z",
     "iopub.status.idle": "2022-10-31T15:58:10.857613Z",
     "shell.execute_reply": "2022-10-31T15:58:10.856205Z"
    },
    "papermill": {
     "duration": 0.048502,
     "end_time": "2022-10-31T15:58:10.859883",
     "exception": false,
     "start_time": "2022-10-31T15:58:10.811381",
     "status": "completed"
    },
    "tags": []
   },
   "outputs": [
    {
     "name": "stdout",
     "output_type": "stream",
     "text": [
      "MSZoning : 5\n",
      "Street : 2\n",
      "LotShape : 4\n",
      "LandContour : 4\n",
      "Utilities : 1\n",
      "LotConfig : 5\n",
      "LandSlope : 3\n",
      "Neighborhood : 25\n",
      "Condition1 : 9\n",
      "Condition2 : 5\n",
      "BldgType : 5\n",
      "HouseStyle : 7\n",
      "RoofStyle : 6\n",
      "RoofMatl : 4\n",
      "Exterior1st : 13\n",
      "Exterior2nd : 15\n",
      "MasVnrType : 4\n",
      "ExterQual : 4\n",
      "ExterCond : 5\n",
      "Foundation : 6\n",
      "BsmtQual : 4\n",
      "BsmtCond : 4\n",
      "BsmtExposure : 4\n",
      "BsmtFinType1 : 6\n",
      "BsmtFinType2 : 6\n",
      "Heating : 4\n",
      "HeatingQC : 5\n",
      "CentralAir : 2\n",
      "Electrical : 4\n",
      "KitchenQual : 4\n",
      "Functional : 7\n",
      "GarageType : 6\n",
      "GarageFinish : 3\n",
      "GarageQual : 4\n",
      "PavedDrive : 3\n",
      "SaleType : 9\n",
      "SaleCondition : 6\n"
     ]
    }
   ],
   "source": [
    "for i in test_data.columns:\n",
    "    if test_data[i].dtypes == 'object':\n",
    "        print(f\"{i} : {test_data[i].nunique()}\")"
   ]
  },
  {
   "cell_type": "code",
   "execution_count": 65,
   "id": "6e4310d9",
   "metadata": {
    "execution": {
     "iopub.execute_input": "2022-10-31T15:58:10.914399Z",
     "iopub.status.busy": "2022-10-31T15:58:10.913266Z",
     "iopub.status.idle": "2022-10-31T15:58:10.929182Z",
     "shell.execute_reply": "2022-10-31T15:58:10.928066Z"
    },
    "papermill": {
     "duration": 0.045229,
     "end_time": "2022-10-31T15:58:10.931583",
     "exception": false,
     "start_time": "2022-10-31T15:58:10.886354",
     "status": "completed"
    },
    "tags": []
   },
   "outputs": [
    {
     "data": {
      "text/plain": [
       "['MSZoning',\n",
       " 'LotShape',\n",
       " 'LandContour',\n",
       " 'LotConfig',\n",
       " 'LandSlope',\n",
       " 'Neighborhood',\n",
       " 'Condition1',\n",
       " 'Condition2',\n",
       " 'BldgType',\n",
       " 'HouseStyle',\n",
       " 'RoofStyle',\n",
       " 'RoofMatl',\n",
       " 'Exterior1st',\n",
       " 'Exterior2nd',\n",
       " 'MasVnrType',\n",
       " 'ExterQual',\n",
       " 'ExterCond',\n",
       " 'Foundation',\n",
       " 'BsmtQual',\n",
       " 'BsmtCond',\n",
       " 'BsmtExposure',\n",
       " 'BsmtFinType1',\n",
       " 'BsmtFinType2',\n",
       " 'Heating',\n",
       " 'HeatingQC',\n",
       " 'Electrical',\n",
       " 'KitchenQual',\n",
       " 'Functional',\n",
       " 'GarageType',\n",
       " 'GarageFinish',\n",
       " 'GarageQual',\n",
       " 'PavedDrive',\n",
       " 'SaleType',\n",
       " 'SaleCondition']"
      ]
     },
     "execution_count": 65,
     "metadata": {},
     "output_type": "execute_result"
    }
   ],
   "source": [
    "OneHot_test_data = [col for col in test_data.columns if (test_data[col].dtypes == 'object' and test_data[col].nunique() > 2)]\n",
    "OneHot_test_data"
   ]
  },
  {
   "cell_type": "code",
   "execution_count": 66,
   "id": "c881ffdf",
   "metadata": {
    "execution": {
     "iopub.execute_input": "2022-10-31T15:58:10.986691Z",
     "iopub.status.busy": "2022-10-31T15:58:10.986279Z",
     "iopub.status.idle": "2022-10-31T15:58:11.002142Z",
     "shell.execute_reply": "2022-10-31T15:58:11.000947Z"
    },
    "papermill": {
     "duration": 0.046243,
     "end_time": "2022-10-31T15:58:11.004614",
     "exception": false,
     "start_time": "2022-10-31T15:58:10.958371",
     "status": "completed"
    },
    "tags": []
   },
   "outputs": [
    {
     "data": {
      "text/plain": [
       "['Street', 'Utilities', 'CentralAir']"
      ]
     },
     "execution_count": 66,
     "metadata": {},
     "output_type": "execute_result"
    }
   ],
   "source": [
    "Label_test_data = [col for col in test_data.columns if (test_data[col].dtypes == 'object' and test_data[col].nunique() <= 2)]\n",
    "Label_test_data"
   ]
  },
  {
   "cell_type": "markdown",
   "id": "3bbb04b8",
   "metadata": {
    "papermill": {
     "duration": 0.026244,
     "end_time": "2022-10-31T15:58:11.057135",
     "exception": false,
     "start_time": "2022-10-31T15:58:11.030891",
     "status": "completed"
    },
    "tags": []
   },
   "source": [
    "# Encoding test data"
   ]
  },
  {
   "cell_type": "code",
   "execution_count": 67,
   "id": "4f011c36",
   "metadata": {
    "execution": {
     "iopub.execute_input": "2022-10-31T15:58:11.111553Z",
     "iopub.status.busy": "2022-10-31T15:58:11.111110Z",
     "iopub.status.idle": "2022-10-31T15:58:11.122359Z",
     "shell.execute_reply": "2022-10-31T15:58:11.121272Z"
    },
    "papermill": {
     "duration": 0.040926,
     "end_time": "2022-10-31T15:58:11.124468",
     "exception": false,
     "start_time": "2022-10-31T15:58:11.083542",
     "status": "completed"
    },
    "tags": []
   },
   "outputs": [],
   "source": [
    "from sklearn.preprocessing import LabelEncoder\n",
    "L1 = test_data[Label_test_data] = test_data[Label_test_data].apply(LabelEncoder().fit_transform)\n",
    "L1 = np.array(L1)"
   ]
  },
  {
   "cell_type": "code",
   "execution_count": 68,
   "id": "015b0177",
   "metadata": {
    "execution": {
     "iopub.execute_input": "2022-10-31T15:58:11.178400Z",
     "iopub.status.busy": "2022-10-31T15:58:11.177975Z",
     "iopub.status.idle": "2022-10-31T15:58:11.185195Z",
     "shell.execute_reply": "2022-10-31T15:58:11.183906Z"
    },
    "papermill": {
     "duration": 0.036894,
     "end_time": "2022-10-31T15:58:11.187493",
     "exception": false,
     "start_time": "2022-10-31T15:58:11.150599",
     "status": "completed"
    },
    "tags": []
   },
   "outputs": [
    {
     "data": {
      "text/plain": [
       "array([[1, 0, 1],\n",
       "       [1, 0, 1],\n",
       "       [1, 0, 1],\n",
       "       ...,\n",
       "       [1, 0, 1],\n",
       "       [1, 0, 1],\n",
       "       [1, 0, 1]])"
      ]
     },
     "execution_count": 68,
     "metadata": {},
     "output_type": "execute_result"
    }
   ],
   "source": [
    "L1"
   ]
  },
  {
   "cell_type": "code",
   "execution_count": 69,
   "id": "f69c16d7",
   "metadata": {
    "execution": {
     "iopub.execute_input": "2022-10-31T15:58:11.244154Z",
     "iopub.status.busy": "2022-10-31T15:58:11.243104Z",
     "iopub.status.idle": "2022-10-31T15:58:11.252602Z",
     "shell.execute_reply": "2022-10-31T15:58:11.251476Z"
    },
    "papermill": {
     "duration": 0.040884,
     "end_time": "2022-10-31T15:58:11.255018",
     "exception": false,
     "start_time": "2022-10-31T15:58:11.214134",
     "status": "completed"
    },
    "tags": []
   },
   "outputs": [],
   "source": [
    "X1 = test_data.iloc[:, :].values"
   ]
  },
  {
   "cell_type": "code",
   "execution_count": 70,
   "id": "fcd1b5be",
   "metadata": {
    "execution": {
     "iopub.execute_input": "2022-10-31T15:58:11.310112Z",
     "iopub.status.busy": "2022-10-31T15:58:11.309695Z",
     "iopub.status.idle": "2022-10-31T15:58:11.316383Z",
     "shell.execute_reply": "2022-10-31T15:58:11.315267Z"
    },
    "papermill": {
     "duration": 0.036757,
     "end_time": "2022-10-31T15:58:11.318593",
     "exception": false,
     "start_time": "2022-10-31T15:58:11.281836",
     "status": "completed"
    },
    "tags": []
   },
   "outputs": [
    {
     "data": {
      "text/plain": [
       "(1459, 74)"
      ]
     },
     "execution_count": 70,
     "metadata": {},
     "output_type": "execute_result"
    }
   ],
   "source": [
    "X1.shape"
   ]
  },
  {
   "cell_type": "code",
   "execution_count": 71,
   "id": "91b4b359",
   "metadata": {
    "execution": {
     "iopub.execute_input": "2022-10-31T15:58:11.374415Z",
     "iopub.status.busy": "2022-10-31T15:58:11.373977Z",
     "iopub.status.idle": "2022-10-31T15:58:11.379396Z",
     "shell.execute_reply": "2022-10-31T15:58:11.378231Z"
    },
    "papermill": {
     "duration": 0.036325,
     "end_time": "2022-10-31T15:58:11.381671",
     "exception": false,
     "start_time": "2022-10-31T15:58:11.345346",
     "status": "completed"
    },
    "tags": []
   },
   "outputs": [],
   "source": [
    "unique_col_index_test = []\n",
    "for i in OneHot_test_data:\n",
    "    unique_col_index_test.append(test_data.columns.get_loc(i))     "
   ]
  },
  {
   "cell_type": "code",
   "execution_count": 72,
   "id": "7d769628",
   "metadata": {
    "execution": {
     "iopub.execute_input": "2022-10-31T15:58:11.438084Z",
     "iopub.status.busy": "2022-10-31T15:58:11.437681Z",
     "iopub.status.idle": "2022-10-31T15:58:11.493706Z",
     "shell.execute_reply": "2022-10-31T15:58:11.492540Z"
    },
    "papermill": {
     "duration": 0.087579,
     "end_time": "2022-10-31T15:58:11.496529",
     "exception": false,
     "start_time": "2022-10-31T15:58:11.408950",
     "status": "completed"
    },
    "tags": []
   },
   "outputs": [],
   "source": [
    "from sklearn.compose import ColumnTransformer\n",
    "from sklearn.preprocessing import OneHotEncoder\n",
    "ct1 = ColumnTransformer(transformers =[('enc', OneHotEncoder(sparse = False, drop ='first'), unique_col_index_test), ], remainder ='passthrough')\n",
    "X1 = np.array(ct1.fit_transform(X1))"
   ]
  },
  {
   "cell_type": "code",
   "execution_count": 73,
   "id": "05b0d8fb",
   "metadata": {
    "execution": {
     "iopub.execute_input": "2022-10-31T15:58:11.552154Z",
     "iopub.status.busy": "2022-10-31T15:58:11.551497Z",
     "iopub.status.idle": "2022-10-31T15:58:11.558653Z",
     "shell.execute_reply": "2022-10-31T15:58:11.557751Z"
    },
    "papermill": {
     "duration": 0.037457,
     "end_time": "2022-10-31T15:58:11.560828",
     "exception": false,
     "start_time": "2022-10-31T15:58:11.523371",
     "status": "completed"
    },
    "tags": []
   },
   "outputs": [],
   "source": [
    "main_test = np.concatenate((X1, L1), axis = 1)"
   ]
  },
  {
   "cell_type": "code",
   "execution_count": 74,
   "id": "da09c0f1",
   "metadata": {
    "execution": {
     "iopub.execute_input": "2022-10-31T15:58:11.615483Z",
     "iopub.status.busy": "2022-10-31T15:58:11.614373Z",
     "iopub.status.idle": "2022-10-31T15:58:11.621225Z",
     "shell.execute_reply": "2022-10-31T15:58:11.620251Z"
    },
    "papermill": {
     "duration": 0.036456,
     "end_time": "2022-10-31T15:58:11.623414",
     "exception": false,
     "start_time": "2022-10-31T15:58:11.586958",
     "status": "completed"
    },
    "tags": []
   },
   "outputs": [
    {
     "data": {
      "text/plain": [
       "array([[0.0, 1.0, 0.0, ..., 1, 0, 1],\n",
       "       [0.0, 0.0, 1.0, ..., 1, 0, 1],\n",
       "       [0.0, 0.0, 1.0, ..., 1, 0, 1],\n",
       "       ...,\n",
       "       [0.0, 0.0, 1.0, ..., 1, 0, 1],\n",
       "       [0.0, 0.0, 1.0, ..., 1, 0, 1],\n",
       "       [0.0, 0.0, 1.0, ..., 1, 0, 1]], dtype=object)"
      ]
     },
     "execution_count": 74,
     "metadata": {},
     "output_type": "execute_result"
    }
   ],
   "source": [
    "main_test"
   ]
  },
  {
   "cell_type": "code",
   "execution_count": 75,
   "id": "8cc10d23",
   "metadata": {
    "execution": {
     "iopub.execute_input": "2022-10-31T15:58:11.678970Z",
     "iopub.status.busy": "2022-10-31T15:58:11.677746Z",
     "iopub.status.idle": "2022-10-31T15:58:11.684990Z",
     "shell.execute_reply": "2022-10-31T15:58:11.683989Z"
    },
    "papermill": {
     "duration": 0.037222,
     "end_time": "2022-10-31T15:58:11.687115",
     "exception": false,
     "start_time": "2022-10-31T15:58:11.649893",
     "status": "completed"
    },
    "tags": []
   },
   "outputs": [
    {
     "data": {
      "text/plain": [
       "(1459, 217)"
      ]
     },
     "execution_count": 75,
     "metadata": {},
     "output_type": "execute_result"
    }
   ],
   "source": [
    "main_test.shape"
   ]
  },
  {
   "cell_type": "markdown",
   "id": "8c4e95a1",
   "metadata": {
    "papermill": {
     "duration": 0.02638,
     "end_time": "2022-10-31T15:58:11.740365",
     "exception": false,
     "start_time": "2022-10-31T15:58:11.713985",
     "status": "completed"
    },
    "tags": []
   },
   "source": [
    "# Train Random Forest Regression upon train data."
   ]
  },
  {
   "cell_type": "code",
   "execution_count": 76,
   "id": "c641fabf",
   "metadata": {
    "execution": {
     "iopub.execute_input": "2022-10-31T15:58:11.795199Z",
     "iopub.status.busy": "2022-10-31T15:58:11.794589Z",
     "iopub.status.idle": "2022-10-31T15:58:41.898372Z",
     "shell.execute_reply": "2022-10-31T15:58:41.897106Z"
    },
    "papermill": {
     "duration": 30.159627,
     "end_time": "2022-10-31T15:58:41.926493",
     "exception": false,
     "start_time": "2022-10-31T15:58:11.766866",
     "status": "completed"
    },
    "tags": []
   },
   "outputs": [
    {
     "data": {
      "text/plain": [
       "RandomForestRegressor(n_estimators=1000, oob_score=True, random_state=0)"
      ]
     },
     "execution_count": 76,
     "metadata": {},
     "output_type": "execute_result"
    }
   ],
   "source": [
    "from sklearn.ensemble import RandomForestRegressor\n",
    "regressor = RandomForestRegressor(max_features = 'auto', n_estimators = 1000, random_state = 0, oob_score = True)\n",
    "regressor.fit(X, y)"
   ]
  },
  {
   "cell_type": "code",
   "execution_count": 77,
   "id": "07d1d0d4",
   "metadata": {
    "execution": {
     "iopub.execute_input": "2022-10-31T15:58:41.982742Z",
     "iopub.status.busy": "2022-10-31T15:58:41.981736Z",
     "iopub.status.idle": "2022-10-31T15:58:42.373482Z",
     "shell.execute_reply": "2022-10-31T15:58:42.372283Z"
    },
    "papermill": {
     "duration": 0.423425,
     "end_time": "2022-10-31T15:58:42.376518",
     "exception": false,
     "start_time": "2022-10-31T15:58:41.953093",
     "status": "completed"
    },
    "tags": []
   },
   "outputs": [],
   "source": [
    "y_pred = regressor.predict(X1)"
   ]
  },
  {
   "cell_type": "code",
   "execution_count": 78,
   "id": "816d1721",
   "metadata": {
    "execution": {
     "iopub.execute_input": "2022-10-31T15:58:42.433234Z",
     "iopub.status.busy": "2022-10-31T15:58:42.432120Z",
     "iopub.status.idle": "2022-10-31T15:58:42.438474Z",
     "shell.execute_reply": "2022-10-31T15:58:42.437630Z"
    },
    "papermill": {
     "duration": 0.036763,
     "end_time": "2022-10-31T15:58:42.440495",
     "exception": false,
     "start_time": "2022-10-31T15:58:42.403732",
     "status": "completed"
    },
    "tags": []
   },
   "outputs": [
    {
     "data": {
      "text/plain": [
       "array([128511.8  , 153882.221, 181377.173, ..., 151824.1  , 114121.276,\n",
       "       225802.006])"
      ]
     },
     "execution_count": 78,
     "metadata": {},
     "output_type": "execute_result"
    }
   ],
   "source": [
    "y_pred"
   ]
  },
  {
   "cell_type": "code",
   "execution_count": 79,
   "id": "e4a34407",
   "metadata": {
    "execution": {
     "iopub.execute_input": "2022-10-31T15:58:42.496349Z",
     "iopub.status.busy": "2022-10-31T15:58:42.495684Z",
     "iopub.status.idle": "2022-10-31T15:58:42.506763Z",
     "shell.execute_reply": "2022-10-31T15:58:42.505560Z"
    },
    "papermill": {
     "duration": 0.042004,
     "end_time": "2022-10-31T15:58:42.509376",
     "exception": false,
     "start_time": "2022-10-31T15:58:42.467372",
     "status": "completed"
    },
    "tags": []
   },
   "outputs": [],
   "source": [
    "output = pd.DataFrame({'Id' : test_data['Id'], 'SalePrice' : y_pred})\n",
    "output.to_csv('submission.csv', index = False)"
   ]
  }
 ],
 "metadata": {
  "kernelspec": {
   "display_name": "Python 3",
   "language": "python",
   "name": "python3"
  },
  "language_info": {
   "codemirror_mode": {
    "name": "ipython",
    "version": 3
   },
   "file_extension": ".py",
   "mimetype": "text/x-python",
   "name": "python",
   "nbconvert_exporter": "python",
   "pygments_lexer": "ipython3",
   "version": "3.7.12"
  },
  "papermill": {
   "default_parameters": {},
   "duration": 47.618473,
   "end_time": "2022-10-31T15:58:43.357700",
   "environment_variables": {},
   "exception": null,
   "input_path": "__notebook__.ipynb",
   "output_path": "__notebook__.ipynb",
   "parameters": {},
   "start_time": "2022-10-31T15:57:55.739227",
   "version": "2.3.4"
  }
 },
 "nbformat": 4,
 "nbformat_minor": 5
}
