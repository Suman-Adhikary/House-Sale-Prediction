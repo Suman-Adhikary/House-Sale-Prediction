{
 "cells": [
  {
   "cell_type": "code",
   "execution_count": 1,
   "id": "81ac830d",
   "metadata": {
    "_cell_guid": "b1076dfc-b9ad-4769-8c92-a6c4dae69d19",
    "_uuid": "8f2839f25d086af736a60e9eeb907d3b93b6e0e5",
    "execution": {
     "iopub.execute_input": "2022-10-31T03:08:52.799948Z",
     "iopub.status.busy": "2022-10-31T03:08:52.799487Z",
     "iopub.status.idle": "2022-10-31T03:08:52.812172Z",
     "shell.execute_reply": "2022-10-31T03:08:52.811031Z"
    },
    "papermill": {
     "duration": 0.041459,
     "end_time": "2022-10-31T03:08:52.814849",
     "exception": false,
     "start_time": "2022-10-31T03:08:52.773390",
     "status": "completed"
    },
    "tags": []
   },
   "outputs": [
    {
     "name": "stdout",
     "output_type": "stream",
     "text": [
      "/kaggle/input/house-prices-advanced-regression-techniques/sample_submission.csv\n",
      "/kaggle/input/house-prices-advanced-regression-techniques/data_description.txt\n",
      "/kaggle/input/house-prices-advanced-regression-techniques/train.csv\n",
      "/kaggle/input/house-prices-advanced-regression-techniques/test.csv\n"
     ]
    }
   ],
   "source": [
    "# This Python 3 environment comes with many helpful analytics libraries installed\n",
    "# It is defined by the kaggle/python Docker image: https://github.com/kaggle/docker-python\n",
    "# For example, here's several helpful packages to load\n",
    "\n",
    "import numpy as np # linear algebra\n",
    "import pandas as pd # data processing, CSV file I/O (e.g. pd.read_csv)\n",
    "\n",
    "# Input data files are available in the read-only \"../input/\" directory\n",
    "# For example, running this (by clicking run or pressing Shift+Enter) will list all files under the input directory\n",
    "\n",
    "import os\n",
    "for dirname, _, filenames in os.walk('/kaggle/input'):\n",
    "    for filename in filenames:\n",
    "        print(os.path.join(dirname, filename))\n",
    "\n",
    "# You can write up to 20GB to the current directory (/kaggle/working/) that gets preserved as output when you create a version using \"Save & Run All\" \n",
    "# You can also write temporary files to /kaggle/temp/, but they won't be saved outside of the current session"
   ]
  },
  {
   "cell_type": "markdown",
   "id": "0299e348",
   "metadata": {
    "papermill": {
     "duration": 0.019375,
     "end_time": "2022-10-31T03:08:52.854222",
     "exception": false,
     "start_time": "2022-10-31T03:08:52.834847",
     "status": "completed"
    },
    "tags": []
   },
   "source": [
    "# Read the datasets"
   ]
  },
  {
   "cell_type": "code",
   "execution_count": 2,
   "id": "a2a4b3e2",
   "metadata": {
    "execution": {
     "iopub.execute_input": "2022-10-31T03:08:52.894943Z",
     "iopub.status.busy": "2022-10-31T03:08:52.894544Z",
     "iopub.status.idle": "2022-10-31T03:08:52.962940Z",
     "shell.execute_reply": "2022-10-31T03:08:52.961776Z"
    },
    "papermill": {
     "duration": 0.092225,
     "end_time": "2022-10-31T03:08:52.965969",
     "exception": false,
     "start_time": "2022-10-31T03:08:52.873744",
     "status": "completed"
    },
    "tags": []
   },
   "outputs": [],
   "source": [
    "train_data = pd.read_csv('/kaggle/input/house-prices-advanced-regression-techniques/train.csv')\n",
    "test_data = pd.read_csv('/kaggle/input/house-prices-advanced-regression-techniques/test.csv')"
   ]
  },
  {
   "cell_type": "markdown",
   "id": "50f5d8dc",
   "metadata": {
    "papermill": {
     "duration": 0.019247,
     "end_time": "2022-10-31T03:08:53.006144",
     "exception": false,
     "start_time": "2022-10-31T03:08:52.986897",
     "status": "completed"
    },
    "tags": []
   },
   "source": [
    "# Feature Engineering"
   ]
  },
  {
   "cell_type": "markdown",
   "id": "79719cd2",
   "metadata": {
    "papermill": {
     "duration": 0.019274,
     "end_time": "2022-10-31T03:08:53.044992",
     "exception": false,
     "start_time": "2022-10-31T03:08:53.025718",
     "status": "completed"
    },
    "tags": []
   },
   "source": [
    "## Drop the column where missing value greater then 1000."
   ]
  },
  {
   "cell_type": "code",
   "execution_count": 3,
   "id": "88cfc60b",
   "metadata": {
    "execution": {
     "iopub.execute_input": "2022-10-31T03:08:53.085966Z",
     "iopub.status.busy": "2022-10-31T03:08:53.085543Z",
     "iopub.status.idle": "2022-10-31T03:08:53.110276Z",
     "shell.execute_reply": "2022-10-31T03:08:53.108997Z"
    },
    "papermill": {
     "duration": 0.048251,
     "end_time": "2022-10-31T03:08:53.112812",
     "exception": false,
     "start_time": "2022-10-31T03:08:53.064561",
     "status": "completed"
    },
    "tags": []
   },
   "outputs": [
    {
     "data": {
      "text/plain": [
       "(1460, 77)"
      ]
     },
     "execution_count": 3,
     "metadata": {},
     "output_type": "execute_result"
    }
   ],
   "source": [
    "train_data = train_data.drop(train_data.columns[train_data.isna().sum() > 1000], axis = 1)\n",
    "train_data.shape"
   ]
  },
  {
   "cell_type": "code",
   "execution_count": 4,
   "id": "086cf184",
   "metadata": {
    "execution": {
     "iopub.execute_input": "2022-10-31T03:08:53.154225Z",
     "iopub.status.busy": "2022-10-31T03:08:53.153453Z",
     "iopub.status.idle": "2022-10-31T03:08:53.167992Z",
     "shell.execute_reply": "2022-10-31T03:08:53.166942Z"
    },
    "papermill": {
     "duration": 0.037817,
     "end_time": "2022-10-31T03:08:53.170321",
     "exception": false,
     "start_time": "2022-10-31T03:08:53.132504",
     "status": "completed"
    },
    "tags": []
   },
   "outputs": [
    {
     "data": {
      "text/plain": [
       "(1459, 76)"
      ]
     },
     "execution_count": 4,
     "metadata": {},
     "output_type": "execute_result"
    }
   ],
   "source": [
    "test_data = test_data.drop(test_data.columns[test_data.isna().sum() > 1000], axis = 1)\n",
    "test_data.shape"
   ]
  },
  {
   "cell_type": "code",
   "execution_count": 5,
   "id": "87b4a832",
   "metadata": {
    "execution": {
     "iopub.execute_input": "2022-10-31T03:08:53.214345Z",
     "iopub.status.busy": "2022-10-31T03:08:53.213926Z",
     "iopub.status.idle": "2022-10-31T03:08:53.256515Z",
     "shell.execute_reply": "2022-10-31T03:08:53.255382Z"
    },
    "papermill": {
     "duration": 0.067443,
     "end_time": "2022-10-31T03:08:53.258727",
     "exception": false,
     "start_time": "2022-10-31T03:08:53.191284",
     "status": "completed"
    },
    "tags": []
   },
   "outputs": [
    {
     "data": {
      "text/html": [
       "<div>\n",
       "<style scoped>\n",
       "    .dataframe tbody tr th:only-of-type {\n",
       "        vertical-align: middle;\n",
       "    }\n",
       "\n",
       "    .dataframe tbody tr th {\n",
       "        vertical-align: top;\n",
       "    }\n",
       "\n",
       "    .dataframe thead th {\n",
       "        text-align: right;\n",
       "    }\n",
       "</style>\n",
       "<table border=\"1\" class=\"dataframe\">\n",
       "  <thead>\n",
       "    <tr style=\"text-align: right;\">\n",
       "      <th></th>\n",
       "      <th>Id</th>\n",
       "      <th>MSSubClass</th>\n",
       "      <th>MSZoning</th>\n",
       "      <th>LotFrontage</th>\n",
       "      <th>LotArea</th>\n",
       "      <th>Street</th>\n",
       "      <th>LotShape</th>\n",
       "      <th>LandContour</th>\n",
       "      <th>Utilities</th>\n",
       "      <th>LotConfig</th>\n",
       "      <th>...</th>\n",
       "      <th>EnclosedPorch</th>\n",
       "      <th>3SsnPorch</th>\n",
       "      <th>ScreenPorch</th>\n",
       "      <th>PoolArea</th>\n",
       "      <th>MiscVal</th>\n",
       "      <th>MoSold</th>\n",
       "      <th>YrSold</th>\n",
       "      <th>SaleType</th>\n",
       "      <th>SaleCondition</th>\n",
       "      <th>SalePrice</th>\n",
       "    </tr>\n",
       "  </thead>\n",
       "  <tbody>\n",
       "    <tr>\n",
       "      <th>0</th>\n",
       "      <td>1</td>\n",
       "      <td>60</td>\n",
       "      <td>RL</td>\n",
       "      <td>65.0</td>\n",
       "      <td>8450</td>\n",
       "      <td>Pave</td>\n",
       "      <td>Reg</td>\n",
       "      <td>Lvl</td>\n",
       "      <td>AllPub</td>\n",
       "      <td>Inside</td>\n",
       "      <td>...</td>\n",
       "      <td>0</td>\n",
       "      <td>0</td>\n",
       "      <td>0</td>\n",
       "      <td>0</td>\n",
       "      <td>0</td>\n",
       "      <td>2</td>\n",
       "      <td>2008</td>\n",
       "      <td>WD</td>\n",
       "      <td>Normal</td>\n",
       "      <td>208500</td>\n",
       "    </tr>\n",
       "    <tr>\n",
       "      <th>1</th>\n",
       "      <td>2</td>\n",
       "      <td>20</td>\n",
       "      <td>RL</td>\n",
       "      <td>80.0</td>\n",
       "      <td>9600</td>\n",
       "      <td>Pave</td>\n",
       "      <td>Reg</td>\n",
       "      <td>Lvl</td>\n",
       "      <td>AllPub</td>\n",
       "      <td>FR2</td>\n",
       "      <td>...</td>\n",
       "      <td>0</td>\n",
       "      <td>0</td>\n",
       "      <td>0</td>\n",
       "      <td>0</td>\n",
       "      <td>0</td>\n",
       "      <td>5</td>\n",
       "      <td>2007</td>\n",
       "      <td>WD</td>\n",
       "      <td>Normal</td>\n",
       "      <td>181500</td>\n",
       "    </tr>\n",
       "    <tr>\n",
       "      <th>2</th>\n",
       "      <td>3</td>\n",
       "      <td>60</td>\n",
       "      <td>RL</td>\n",
       "      <td>68.0</td>\n",
       "      <td>11250</td>\n",
       "      <td>Pave</td>\n",
       "      <td>IR1</td>\n",
       "      <td>Lvl</td>\n",
       "      <td>AllPub</td>\n",
       "      <td>Inside</td>\n",
       "      <td>...</td>\n",
       "      <td>0</td>\n",
       "      <td>0</td>\n",
       "      <td>0</td>\n",
       "      <td>0</td>\n",
       "      <td>0</td>\n",
       "      <td>9</td>\n",
       "      <td>2008</td>\n",
       "      <td>WD</td>\n",
       "      <td>Normal</td>\n",
       "      <td>223500</td>\n",
       "    </tr>\n",
       "    <tr>\n",
       "      <th>3</th>\n",
       "      <td>4</td>\n",
       "      <td>70</td>\n",
       "      <td>RL</td>\n",
       "      <td>60.0</td>\n",
       "      <td>9550</td>\n",
       "      <td>Pave</td>\n",
       "      <td>IR1</td>\n",
       "      <td>Lvl</td>\n",
       "      <td>AllPub</td>\n",
       "      <td>Corner</td>\n",
       "      <td>...</td>\n",
       "      <td>272</td>\n",
       "      <td>0</td>\n",
       "      <td>0</td>\n",
       "      <td>0</td>\n",
       "      <td>0</td>\n",
       "      <td>2</td>\n",
       "      <td>2006</td>\n",
       "      <td>WD</td>\n",
       "      <td>Abnorml</td>\n",
       "      <td>140000</td>\n",
       "    </tr>\n",
       "    <tr>\n",
       "      <th>4</th>\n",
       "      <td>5</td>\n",
       "      <td>60</td>\n",
       "      <td>RL</td>\n",
       "      <td>84.0</td>\n",
       "      <td>14260</td>\n",
       "      <td>Pave</td>\n",
       "      <td>IR1</td>\n",
       "      <td>Lvl</td>\n",
       "      <td>AllPub</td>\n",
       "      <td>FR2</td>\n",
       "      <td>...</td>\n",
       "      <td>0</td>\n",
       "      <td>0</td>\n",
       "      <td>0</td>\n",
       "      <td>0</td>\n",
       "      <td>0</td>\n",
       "      <td>12</td>\n",
       "      <td>2008</td>\n",
       "      <td>WD</td>\n",
       "      <td>Normal</td>\n",
       "      <td>250000</td>\n",
       "    </tr>\n",
       "    <tr>\n",
       "      <th>...</th>\n",
       "      <td>...</td>\n",
       "      <td>...</td>\n",
       "      <td>...</td>\n",
       "      <td>...</td>\n",
       "      <td>...</td>\n",
       "      <td>...</td>\n",
       "      <td>...</td>\n",
       "      <td>...</td>\n",
       "      <td>...</td>\n",
       "      <td>...</td>\n",
       "      <td>...</td>\n",
       "      <td>...</td>\n",
       "      <td>...</td>\n",
       "      <td>...</td>\n",
       "      <td>...</td>\n",
       "      <td>...</td>\n",
       "      <td>...</td>\n",
       "      <td>...</td>\n",
       "      <td>...</td>\n",
       "      <td>...</td>\n",
       "      <td>...</td>\n",
       "    </tr>\n",
       "    <tr>\n",
       "      <th>1455</th>\n",
       "      <td>1456</td>\n",
       "      <td>60</td>\n",
       "      <td>RL</td>\n",
       "      <td>62.0</td>\n",
       "      <td>7917</td>\n",
       "      <td>Pave</td>\n",
       "      <td>Reg</td>\n",
       "      <td>Lvl</td>\n",
       "      <td>AllPub</td>\n",
       "      <td>Inside</td>\n",
       "      <td>...</td>\n",
       "      <td>0</td>\n",
       "      <td>0</td>\n",
       "      <td>0</td>\n",
       "      <td>0</td>\n",
       "      <td>0</td>\n",
       "      <td>8</td>\n",
       "      <td>2007</td>\n",
       "      <td>WD</td>\n",
       "      <td>Normal</td>\n",
       "      <td>175000</td>\n",
       "    </tr>\n",
       "    <tr>\n",
       "      <th>1456</th>\n",
       "      <td>1457</td>\n",
       "      <td>20</td>\n",
       "      <td>RL</td>\n",
       "      <td>85.0</td>\n",
       "      <td>13175</td>\n",
       "      <td>Pave</td>\n",
       "      <td>Reg</td>\n",
       "      <td>Lvl</td>\n",
       "      <td>AllPub</td>\n",
       "      <td>Inside</td>\n",
       "      <td>...</td>\n",
       "      <td>0</td>\n",
       "      <td>0</td>\n",
       "      <td>0</td>\n",
       "      <td>0</td>\n",
       "      <td>0</td>\n",
       "      <td>2</td>\n",
       "      <td>2010</td>\n",
       "      <td>WD</td>\n",
       "      <td>Normal</td>\n",
       "      <td>210000</td>\n",
       "    </tr>\n",
       "    <tr>\n",
       "      <th>1457</th>\n",
       "      <td>1458</td>\n",
       "      <td>70</td>\n",
       "      <td>RL</td>\n",
       "      <td>66.0</td>\n",
       "      <td>9042</td>\n",
       "      <td>Pave</td>\n",
       "      <td>Reg</td>\n",
       "      <td>Lvl</td>\n",
       "      <td>AllPub</td>\n",
       "      <td>Inside</td>\n",
       "      <td>...</td>\n",
       "      <td>0</td>\n",
       "      <td>0</td>\n",
       "      <td>0</td>\n",
       "      <td>0</td>\n",
       "      <td>2500</td>\n",
       "      <td>5</td>\n",
       "      <td>2010</td>\n",
       "      <td>WD</td>\n",
       "      <td>Normal</td>\n",
       "      <td>266500</td>\n",
       "    </tr>\n",
       "    <tr>\n",
       "      <th>1458</th>\n",
       "      <td>1459</td>\n",
       "      <td>20</td>\n",
       "      <td>RL</td>\n",
       "      <td>68.0</td>\n",
       "      <td>9717</td>\n",
       "      <td>Pave</td>\n",
       "      <td>Reg</td>\n",
       "      <td>Lvl</td>\n",
       "      <td>AllPub</td>\n",
       "      <td>Inside</td>\n",
       "      <td>...</td>\n",
       "      <td>112</td>\n",
       "      <td>0</td>\n",
       "      <td>0</td>\n",
       "      <td>0</td>\n",
       "      <td>0</td>\n",
       "      <td>4</td>\n",
       "      <td>2010</td>\n",
       "      <td>WD</td>\n",
       "      <td>Normal</td>\n",
       "      <td>142125</td>\n",
       "    </tr>\n",
       "    <tr>\n",
       "      <th>1459</th>\n",
       "      <td>1460</td>\n",
       "      <td>20</td>\n",
       "      <td>RL</td>\n",
       "      <td>75.0</td>\n",
       "      <td>9937</td>\n",
       "      <td>Pave</td>\n",
       "      <td>Reg</td>\n",
       "      <td>Lvl</td>\n",
       "      <td>AllPub</td>\n",
       "      <td>Inside</td>\n",
       "      <td>...</td>\n",
       "      <td>0</td>\n",
       "      <td>0</td>\n",
       "      <td>0</td>\n",
       "      <td>0</td>\n",
       "      <td>0</td>\n",
       "      <td>6</td>\n",
       "      <td>2008</td>\n",
       "      <td>WD</td>\n",
       "      <td>Normal</td>\n",
       "      <td>147500</td>\n",
       "    </tr>\n",
       "  </tbody>\n",
       "</table>\n",
       "<p>1460 rows × 77 columns</p>\n",
       "</div>"
      ],
      "text/plain": [
       "        Id  MSSubClass MSZoning  LotFrontage  LotArea Street LotShape  \\\n",
       "0        1          60       RL         65.0     8450   Pave      Reg   \n",
       "1        2          20       RL         80.0     9600   Pave      Reg   \n",
       "2        3          60       RL         68.0    11250   Pave      IR1   \n",
       "3        4          70       RL         60.0     9550   Pave      IR1   \n",
       "4        5          60       RL         84.0    14260   Pave      IR1   \n",
       "...    ...         ...      ...          ...      ...    ...      ...   \n",
       "1455  1456          60       RL         62.0     7917   Pave      Reg   \n",
       "1456  1457          20       RL         85.0    13175   Pave      Reg   \n",
       "1457  1458          70       RL         66.0     9042   Pave      Reg   \n",
       "1458  1459          20       RL         68.0     9717   Pave      Reg   \n",
       "1459  1460          20       RL         75.0     9937   Pave      Reg   \n",
       "\n",
       "     LandContour Utilities LotConfig  ... EnclosedPorch 3SsnPorch ScreenPorch  \\\n",
       "0            Lvl    AllPub    Inside  ...             0         0           0   \n",
       "1            Lvl    AllPub       FR2  ...             0         0           0   \n",
       "2            Lvl    AllPub    Inside  ...             0         0           0   \n",
       "3            Lvl    AllPub    Corner  ...           272         0           0   \n",
       "4            Lvl    AllPub       FR2  ...             0         0           0   \n",
       "...          ...       ...       ...  ...           ...       ...         ...   \n",
       "1455         Lvl    AllPub    Inside  ...             0         0           0   \n",
       "1456         Lvl    AllPub    Inside  ...             0         0           0   \n",
       "1457         Lvl    AllPub    Inside  ...             0         0           0   \n",
       "1458         Lvl    AllPub    Inside  ...           112         0           0   \n",
       "1459         Lvl    AllPub    Inside  ...             0         0           0   \n",
       "\n",
       "     PoolArea MiscVal MoSold  YrSold  SaleType  SaleCondition  SalePrice  \n",
       "0           0       0      2    2008        WD         Normal     208500  \n",
       "1           0       0      5    2007        WD         Normal     181500  \n",
       "2           0       0      9    2008        WD         Normal     223500  \n",
       "3           0       0      2    2006        WD        Abnorml     140000  \n",
       "4           0       0     12    2008        WD         Normal     250000  \n",
       "...       ...     ...    ...     ...       ...            ...        ...  \n",
       "1455        0       0      8    2007        WD         Normal     175000  \n",
       "1456        0       0      2    2010        WD         Normal     210000  \n",
       "1457        0    2500      5    2010        WD         Normal     266500  \n",
       "1458        0       0      4    2010        WD         Normal     142125  \n",
       "1459        0       0      6    2008        WD         Normal     147500  \n",
       "\n",
       "[1460 rows x 77 columns]"
      ]
     },
     "execution_count": 5,
     "metadata": {},
     "output_type": "execute_result"
    }
   ],
   "source": [
    "train_data"
   ]
  },
  {
   "cell_type": "code",
   "execution_count": 6,
   "id": "eb3a523e",
   "metadata": {
    "execution": {
     "iopub.execute_input": "2022-10-31T03:08:53.302514Z",
     "iopub.status.busy": "2022-10-31T03:08:53.301931Z",
     "iopub.status.idle": "2022-10-31T03:08:53.333838Z",
     "shell.execute_reply": "2022-10-31T03:08:53.332708Z"
    },
    "papermill": {
     "duration": 0.056153,
     "end_time": "2022-10-31T03:08:53.336203",
     "exception": false,
     "start_time": "2022-10-31T03:08:53.280050",
     "status": "completed"
    },
    "tags": []
   },
   "outputs": [
    {
     "data": {
      "text/html": [
       "<div>\n",
       "<style scoped>\n",
       "    .dataframe tbody tr th:only-of-type {\n",
       "        vertical-align: middle;\n",
       "    }\n",
       "\n",
       "    .dataframe tbody tr th {\n",
       "        vertical-align: top;\n",
       "    }\n",
       "\n",
       "    .dataframe thead th {\n",
       "        text-align: right;\n",
       "    }\n",
       "</style>\n",
       "<table border=\"1\" class=\"dataframe\">\n",
       "  <thead>\n",
       "    <tr style=\"text-align: right;\">\n",
       "      <th></th>\n",
       "      <th>Id</th>\n",
       "      <th>MSSubClass</th>\n",
       "      <th>MSZoning</th>\n",
       "      <th>LotFrontage</th>\n",
       "      <th>LotArea</th>\n",
       "      <th>Street</th>\n",
       "      <th>LotShape</th>\n",
       "      <th>LandContour</th>\n",
       "      <th>Utilities</th>\n",
       "      <th>LotConfig</th>\n",
       "      <th>...</th>\n",
       "      <th>OpenPorchSF</th>\n",
       "      <th>EnclosedPorch</th>\n",
       "      <th>3SsnPorch</th>\n",
       "      <th>ScreenPorch</th>\n",
       "      <th>PoolArea</th>\n",
       "      <th>MiscVal</th>\n",
       "      <th>MoSold</th>\n",
       "      <th>YrSold</th>\n",
       "      <th>SaleType</th>\n",
       "      <th>SaleCondition</th>\n",
       "    </tr>\n",
       "  </thead>\n",
       "  <tbody>\n",
       "    <tr>\n",
       "      <th>0</th>\n",
       "      <td>1461</td>\n",
       "      <td>20</td>\n",
       "      <td>RH</td>\n",
       "      <td>80.0</td>\n",
       "      <td>11622</td>\n",
       "      <td>Pave</td>\n",
       "      <td>Reg</td>\n",
       "      <td>Lvl</td>\n",
       "      <td>AllPub</td>\n",
       "      <td>Inside</td>\n",
       "      <td>...</td>\n",
       "      <td>0</td>\n",
       "      <td>0</td>\n",
       "      <td>0</td>\n",
       "      <td>120</td>\n",
       "      <td>0</td>\n",
       "      <td>0</td>\n",
       "      <td>6</td>\n",
       "      <td>2010</td>\n",
       "      <td>WD</td>\n",
       "      <td>Normal</td>\n",
       "    </tr>\n",
       "    <tr>\n",
       "      <th>1</th>\n",
       "      <td>1462</td>\n",
       "      <td>20</td>\n",
       "      <td>RL</td>\n",
       "      <td>81.0</td>\n",
       "      <td>14267</td>\n",
       "      <td>Pave</td>\n",
       "      <td>IR1</td>\n",
       "      <td>Lvl</td>\n",
       "      <td>AllPub</td>\n",
       "      <td>Corner</td>\n",
       "      <td>...</td>\n",
       "      <td>36</td>\n",
       "      <td>0</td>\n",
       "      <td>0</td>\n",
       "      <td>0</td>\n",
       "      <td>0</td>\n",
       "      <td>12500</td>\n",
       "      <td>6</td>\n",
       "      <td>2010</td>\n",
       "      <td>WD</td>\n",
       "      <td>Normal</td>\n",
       "    </tr>\n",
       "    <tr>\n",
       "      <th>2</th>\n",
       "      <td>1463</td>\n",
       "      <td>60</td>\n",
       "      <td>RL</td>\n",
       "      <td>74.0</td>\n",
       "      <td>13830</td>\n",
       "      <td>Pave</td>\n",
       "      <td>IR1</td>\n",
       "      <td>Lvl</td>\n",
       "      <td>AllPub</td>\n",
       "      <td>Inside</td>\n",
       "      <td>...</td>\n",
       "      <td>34</td>\n",
       "      <td>0</td>\n",
       "      <td>0</td>\n",
       "      <td>0</td>\n",
       "      <td>0</td>\n",
       "      <td>0</td>\n",
       "      <td>3</td>\n",
       "      <td>2010</td>\n",
       "      <td>WD</td>\n",
       "      <td>Normal</td>\n",
       "    </tr>\n",
       "    <tr>\n",
       "      <th>3</th>\n",
       "      <td>1464</td>\n",
       "      <td>60</td>\n",
       "      <td>RL</td>\n",
       "      <td>78.0</td>\n",
       "      <td>9978</td>\n",
       "      <td>Pave</td>\n",
       "      <td>IR1</td>\n",
       "      <td>Lvl</td>\n",
       "      <td>AllPub</td>\n",
       "      <td>Inside</td>\n",
       "      <td>...</td>\n",
       "      <td>36</td>\n",
       "      <td>0</td>\n",
       "      <td>0</td>\n",
       "      <td>0</td>\n",
       "      <td>0</td>\n",
       "      <td>0</td>\n",
       "      <td>6</td>\n",
       "      <td>2010</td>\n",
       "      <td>WD</td>\n",
       "      <td>Normal</td>\n",
       "    </tr>\n",
       "    <tr>\n",
       "      <th>4</th>\n",
       "      <td>1465</td>\n",
       "      <td>120</td>\n",
       "      <td>RL</td>\n",
       "      <td>43.0</td>\n",
       "      <td>5005</td>\n",
       "      <td>Pave</td>\n",
       "      <td>IR1</td>\n",
       "      <td>HLS</td>\n",
       "      <td>AllPub</td>\n",
       "      <td>Inside</td>\n",
       "      <td>...</td>\n",
       "      <td>82</td>\n",
       "      <td>0</td>\n",
       "      <td>0</td>\n",
       "      <td>144</td>\n",
       "      <td>0</td>\n",
       "      <td>0</td>\n",
       "      <td>1</td>\n",
       "      <td>2010</td>\n",
       "      <td>WD</td>\n",
       "      <td>Normal</td>\n",
       "    </tr>\n",
       "    <tr>\n",
       "      <th>...</th>\n",
       "      <td>...</td>\n",
       "      <td>...</td>\n",
       "      <td>...</td>\n",
       "      <td>...</td>\n",
       "      <td>...</td>\n",
       "      <td>...</td>\n",
       "      <td>...</td>\n",
       "      <td>...</td>\n",
       "      <td>...</td>\n",
       "      <td>...</td>\n",
       "      <td>...</td>\n",
       "      <td>...</td>\n",
       "      <td>...</td>\n",
       "      <td>...</td>\n",
       "      <td>...</td>\n",
       "      <td>...</td>\n",
       "      <td>...</td>\n",
       "      <td>...</td>\n",
       "      <td>...</td>\n",
       "      <td>...</td>\n",
       "      <td>...</td>\n",
       "    </tr>\n",
       "    <tr>\n",
       "      <th>1454</th>\n",
       "      <td>2915</td>\n",
       "      <td>160</td>\n",
       "      <td>RM</td>\n",
       "      <td>21.0</td>\n",
       "      <td>1936</td>\n",
       "      <td>Pave</td>\n",
       "      <td>Reg</td>\n",
       "      <td>Lvl</td>\n",
       "      <td>AllPub</td>\n",
       "      <td>Inside</td>\n",
       "      <td>...</td>\n",
       "      <td>0</td>\n",
       "      <td>0</td>\n",
       "      <td>0</td>\n",
       "      <td>0</td>\n",
       "      <td>0</td>\n",
       "      <td>0</td>\n",
       "      <td>6</td>\n",
       "      <td>2006</td>\n",
       "      <td>WD</td>\n",
       "      <td>Normal</td>\n",
       "    </tr>\n",
       "    <tr>\n",
       "      <th>1455</th>\n",
       "      <td>2916</td>\n",
       "      <td>160</td>\n",
       "      <td>RM</td>\n",
       "      <td>21.0</td>\n",
       "      <td>1894</td>\n",
       "      <td>Pave</td>\n",
       "      <td>Reg</td>\n",
       "      <td>Lvl</td>\n",
       "      <td>AllPub</td>\n",
       "      <td>Inside</td>\n",
       "      <td>...</td>\n",
       "      <td>24</td>\n",
       "      <td>0</td>\n",
       "      <td>0</td>\n",
       "      <td>0</td>\n",
       "      <td>0</td>\n",
       "      <td>0</td>\n",
       "      <td>4</td>\n",
       "      <td>2006</td>\n",
       "      <td>WD</td>\n",
       "      <td>Abnorml</td>\n",
       "    </tr>\n",
       "    <tr>\n",
       "      <th>1456</th>\n",
       "      <td>2917</td>\n",
       "      <td>20</td>\n",
       "      <td>RL</td>\n",
       "      <td>160.0</td>\n",
       "      <td>20000</td>\n",
       "      <td>Pave</td>\n",
       "      <td>Reg</td>\n",
       "      <td>Lvl</td>\n",
       "      <td>AllPub</td>\n",
       "      <td>Inside</td>\n",
       "      <td>...</td>\n",
       "      <td>0</td>\n",
       "      <td>0</td>\n",
       "      <td>0</td>\n",
       "      <td>0</td>\n",
       "      <td>0</td>\n",
       "      <td>0</td>\n",
       "      <td>9</td>\n",
       "      <td>2006</td>\n",
       "      <td>WD</td>\n",
       "      <td>Abnorml</td>\n",
       "    </tr>\n",
       "    <tr>\n",
       "      <th>1457</th>\n",
       "      <td>2918</td>\n",
       "      <td>85</td>\n",
       "      <td>RL</td>\n",
       "      <td>62.0</td>\n",
       "      <td>10441</td>\n",
       "      <td>Pave</td>\n",
       "      <td>Reg</td>\n",
       "      <td>Lvl</td>\n",
       "      <td>AllPub</td>\n",
       "      <td>Inside</td>\n",
       "      <td>...</td>\n",
       "      <td>32</td>\n",
       "      <td>0</td>\n",
       "      <td>0</td>\n",
       "      <td>0</td>\n",
       "      <td>0</td>\n",
       "      <td>700</td>\n",
       "      <td>7</td>\n",
       "      <td>2006</td>\n",
       "      <td>WD</td>\n",
       "      <td>Normal</td>\n",
       "    </tr>\n",
       "    <tr>\n",
       "      <th>1458</th>\n",
       "      <td>2919</td>\n",
       "      <td>60</td>\n",
       "      <td>RL</td>\n",
       "      <td>74.0</td>\n",
       "      <td>9627</td>\n",
       "      <td>Pave</td>\n",
       "      <td>Reg</td>\n",
       "      <td>Lvl</td>\n",
       "      <td>AllPub</td>\n",
       "      <td>Inside</td>\n",
       "      <td>...</td>\n",
       "      <td>48</td>\n",
       "      <td>0</td>\n",
       "      <td>0</td>\n",
       "      <td>0</td>\n",
       "      <td>0</td>\n",
       "      <td>0</td>\n",
       "      <td>11</td>\n",
       "      <td>2006</td>\n",
       "      <td>WD</td>\n",
       "      <td>Normal</td>\n",
       "    </tr>\n",
       "  </tbody>\n",
       "</table>\n",
       "<p>1459 rows × 76 columns</p>\n",
       "</div>"
      ],
      "text/plain": [
       "        Id  MSSubClass MSZoning  LotFrontage  LotArea Street LotShape  \\\n",
       "0     1461          20       RH         80.0    11622   Pave      Reg   \n",
       "1     1462          20       RL         81.0    14267   Pave      IR1   \n",
       "2     1463          60       RL         74.0    13830   Pave      IR1   \n",
       "3     1464          60       RL         78.0     9978   Pave      IR1   \n",
       "4     1465         120       RL         43.0     5005   Pave      IR1   \n",
       "...    ...         ...      ...          ...      ...    ...      ...   \n",
       "1454  2915         160       RM         21.0     1936   Pave      Reg   \n",
       "1455  2916         160       RM         21.0     1894   Pave      Reg   \n",
       "1456  2917          20       RL        160.0    20000   Pave      Reg   \n",
       "1457  2918          85       RL         62.0    10441   Pave      Reg   \n",
       "1458  2919          60       RL         74.0     9627   Pave      Reg   \n",
       "\n",
       "     LandContour Utilities LotConfig  ... OpenPorchSF EnclosedPorch 3SsnPorch  \\\n",
       "0            Lvl    AllPub    Inside  ...           0             0         0   \n",
       "1            Lvl    AllPub    Corner  ...          36             0         0   \n",
       "2            Lvl    AllPub    Inside  ...          34             0         0   \n",
       "3            Lvl    AllPub    Inside  ...          36             0         0   \n",
       "4            HLS    AllPub    Inside  ...          82             0         0   \n",
       "...          ...       ...       ...  ...         ...           ...       ...   \n",
       "1454         Lvl    AllPub    Inside  ...           0             0         0   \n",
       "1455         Lvl    AllPub    Inside  ...          24             0         0   \n",
       "1456         Lvl    AllPub    Inside  ...           0             0         0   \n",
       "1457         Lvl    AllPub    Inside  ...          32             0         0   \n",
       "1458         Lvl    AllPub    Inside  ...          48             0         0   \n",
       "\n",
       "     ScreenPorch PoolArea MiscVal  MoSold  YrSold  SaleType  SaleCondition  \n",
       "0            120        0       0       6    2010        WD         Normal  \n",
       "1              0        0   12500       6    2010        WD         Normal  \n",
       "2              0        0       0       3    2010        WD         Normal  \n",
       "3              0        0       0       6    2010        WD         Normal  \n",
       "4            144        0       0       1    2010        WD         Normal  \n",
       "...          ...      ...     ...     ...     ...       ...            ...  \n",
       "1454           0        0       0       6    2006        WD         Normal  \n",
       "1455           0        0       0       4    2006        WD        Abnorml  \n",
       "1456           0        0       0       9    2006        WD        Abnorml  \n",
       "1457           0        0     700       7    2006        WD         Normal  \n",
       "1458           0        0       0      11    2006        WD         Normal  \n",
       "\n",
       "[1459 rows x 76 columns]"
      ]
     },
     "execution_count": 6,
     "metadata": {},
     "output_type": "execute_result"
    }
   ],
   "source": [
    "test_data"
   ]
  },
  {
   "cell_type": "markdown",
   "id": "196ef1c1",
   "metadata": {
    "papermill": {
     "duration": 0.020443,
     "end_time": "2022-10-31T03:08:53.377716",
     "exception": false,
     "start_time": "2022-10-31T03:08:53.357273",
     "status": "completed"
    },
    "tags": []
   },
   "source": [
    "## Drop Id column on train data."
   ]
  },
  {
   "cell_type": "code",
   "execution_count": 7,
   "id": "43153f48",
   "metadata": {
    "execution": {
     "iopub.execute_input": "2022-10-31T03:08:53.422049Z",
     "iopub.status.busy": "2022-10-31T03:08:53.421612Z",
     "iopub.status.idle": "2022-10-31T03:08:53.428641Z",
     "shell.execute_reply": "2022-10-31T03:08:53.427448Z"
    },
    "papermill": {
     "duration": 0.031892,
     "end_time": "2022-10-31T03:08:53.431028",
     "exception": false,
     "start_time": "2022-10-31T03:08:53.399136",
     "status": "completed"
    },
    "tags": []
   },
   "outputs": [],
   "source": [
    "train_data = train_data.drop(columns = 'Id')"
   ]
  },
  {
   "cell_type": "markdown",
   "id": "811330d8",
   "metadata": {
    "papermill": {
     "duration": 0.020711,
     "end_time": "2022-10-31T03:08:53.472908",
     "exception": false,
     "start_time": "2022-10-31T03:08:53.452197",
     "status": "completed"
    },
    "tags": []
   },
   "source": [
    "# Drop Id column on test data."
   ]
  },
  {
   "cell_type": "code",
   "execution_count": 8,
   "id": "635f0a5f",
   "metadata": {
    "execution": {
     "iopub.execute_input": "2022-10-31T03:08:53.517420Z",
     "iopub.status.busy": "2022-10-31T03:08:53.516961Z",
     "iopub.status.idle": "2022-10-31T03:08:53.523806Z",
     "shell.execute_reply": "2022-10-31T03:08:53.522496Z"
    },
    "papermill": {
     "duration": 0.032565,
     "end_time": "2022-10-31T03:08:53.526783",
     "exception": false,
     "start_time": "2022-10-31T03:08:53.494218",
     "status": "completed"
    },
    "tags": []
   },
   "outputs": [],
   "source": [
    "test_data = test_data.drop(columns = 'Id')"
   ]
  },
  {
   "cell_type": "markdown",
   "id": "388919c5",
   "metadata": {
    "papermill": {
     "duration": 0.020518,
     "end_time": "2022-10-31T03:08:53.568702",
     "exception": false,
     "start_time": "2022-10-31T03:08:53.548184",
     "status": "completed"
    },
    "tags": []
   },
   "source": [
    "## Find number of missing values of train data."
   ]
  },
  {
   "cell_type": "code",
   "execution_count": 9,
   "id": "6ded17f8",
   "metadata": {
    "execution": {
     "iopub.execute_input": "2022-10-31T03:08:53.612886Z",
     "iopub.status.busy": "2022-10-31T03:08:53.612464Z",
     "iopub.status.idle": "2022-10-31T03:08:53.654569Z",
     "shell.execute_reply": "2022-10-31T03:08:53.653477Z"
    },
    "papermill": {
     "duration": 0.067914,
     "end_time": "2022-10-31T03:08:53.657439",
     "exception": false,
     "start_time": "2022-10-31T03:08:53.589525",
     "status": "completed"
    },
    "tags": []
   },
   "outputs": [
    {
     "name": "stdout",
     "output_type": "stream",
     "text": [
      "LotFrontage 259 float64\n",
      "MasVnrType 8 object\n",
      "MasVnrArea 8 float64\n",
      "BsmtQual 37 object\n",
      "BsmtCond 37 object\n",
      "BsmtExposure 38 object\n",
      "BsmtFinType1 37 object\n",
      "BsmtFinType2 38 object\n",
      "Electrical 1 object\n",
      "FireplaceQu 690 object\n",
      "GarageType 81 object\n",
      "GarageYrBlt 81 float64\n",
      "GarageFinish 81 object\n",
      "GarageQual 81 object\n",
      "GarageCond 81 object\n"
     ]
    }
   ],
   "source": [
    "missing_train_values = [col for col in train_data.columns if train_data[col].isna().sum() > 0]\n",
    "for col in missing_train_values:\n",
    "    print(col, train_data[col].isna().sum(), train_data[col].dtypes)"
   ]
  },
  {
   "cell_type": "markdown",
   "id": "0948fdf0",
   "metadata": {
    "papermill": {
     "duration": 0.020667,
     "end_time": "2022-10-31T03:08:53.700348",
     "exception": false,
     "start_time": "2022-10-31T03:08:53.679681",
     "status": "completed"
    },
    "tags": []
   },
   "source": [
    "## Checking skewness of missing columns of train data."
   ]
  },
  {
   "cell_type": "code",
   "execution_count": 10,
   "id": "b45ecbae",
   "metadata": {
    "execution": {
     "iopub.execute_input": "2022-10-31T03:08:53.744838Z",
     "iopub.status.busy": "2022-10-31T03:08:53.744394Z",
     "iopub.status.idle": "2022-10-31T03:08:55.199455Z",
     "shell.execute_reply": "2022-10-31T03:08:55.198263Z"
    },
    "papermill": {
     "duration": 1.480665,
     "end_time": "2022-10-31T03:08:55.202486",
     "exception": false,
     "start_time": "2022-10-31T03:08:53.721821",
     "status": "completed"
    },
    "tags": []
   },
   "outputs": [
    {
     "name": "stderr",
     "output_type": "stream",
     "text": [
      "/opt/conda/lib/python3.7/site-packages/seaborn/distributions.py:2619: FutureWarning: `distplot` is a deprecated function and will be removed in a future version. Please adapt your code to use either `displot` (a figure-level function with similar flexibility) or `histplot` (an axes-level function for histograms).\n",
      "  warnings.warn(msg, FutureWarning)\n"
     ]
    },
    {
     "data": {
      "text/plain": [
       "<AxesSubplot:xlabel='LotFrontage', ylabel='Density'>"
      ]
     },
     "execution_count": 10,
     "metadata": {},
     "output_type": "execute_result"
    },
    {
     "data": {
      "image/png": "[encoded data removed]",
      "text/plain": [
       "<Figure size 720x432 with 1 Axes>"
      ]
     },
     "metadata": {
      "needs_background": "light"
     },
     "output_type": "display_data"
    }
   ],
   "source": [
    "import seaborn as sns\n",
    "import matplotlib.pyplot as plt\n",
    "fig, ax = plt.subplots(figsize = (10, 6))\n",
    "sns.distplot(train_data['LotFrontage'])"
   ]
  },
  {
   "cell_type": "code",
   "execution_count": 11,
   "id": "7d6dd776",
   "metadata": {
    "execution": {
     "iopub.execute_input": "2022-10-31T03:08:55.248946Z",
     "iopub.status.busy": "2022-10-31T03:08:55.248547Z",
     "iopub.status.idle": "2022-10-31T03:08:55.520237Z",
     "shell.execute_reply": "2022-10-31T03:08:55.519001Z"
    },
    "papermill": {
     "duration": 0.297824,
     "end_time": "2022-10-31T03:08:55.522755",
     "exception": false,
     "start_time": "2022-10-31T03:08:55.224931",
     "status": "completed"
    },
    "tags": []
   },
   "outputs": [
    {
     "name": "stderr",
     "output_type": "stream",
     "text": [
      "/opt/conda/lib/python3.7/site-packages/seaborn/distributions.py:2619: FutureWarning: `distplot` is a deprecated function and will be removed in a future version. Please adapt your code to use either `displot` (a figure-level function with similar flexibility) or `histplot` (an axes-level function for histograms).\n",
      "  warnings.warn(msg, FutureWarning)\n"
     ]
    },
    {
     "data": {
      "text/plain": [
       "<AxesSubplot:xlabel='GarageYrBlt', ylabel='Density'>"
      ]
     },
     "execution_count": 11,
     "metadata": {},
     "output_type": "execute_result"
    },
    {
     "data": {
      "image/png": "[encoded data removed]",
      "text/plain": [
       "<Figure size 432x288 with 1 Axes>"
      ]
     },
     "metadata": {
      "needs_background": "light"
     },
     "output_type": "display_data"
    }
   ],
   "source": [
    "sns.distplot(train_data['GarageYrBlt'])"
   ]
  },
  {
   "cell_type": "code",
   "execution_count": 12,
   "id": "79d0795b",
   "metadata": {
    "execution": {
     "iopub.execute_input": "2022-10-31T03:08:55.569046Z",
     "iopub.status.busy": "2022-10-31T03:08:55.568660Z",
     "iopub.status.idle": "2022-10-31T03:08:55.875729Z",
     "shell.execute_reply": "2022-10-31T03:08:55.874824Z"
    },
    "papermill": {
     "duration": 0.333053,
     "end_time": "2022-10-31T03:08:55.878311",
     "exception": false,
     "start_time": "2022-10-31T03:08:55.545258",
     "status": "completed"
    },
    "tags": []
   },
   "outputs": [],
   "source": [
    "from sklearn.impute import SimpleImputer\n",
    "imputer_median = SimpleImputer(missing_values = np.nan, strategy = 'median')\n",
    "imputer_median.fit(train_data[['LotFrontage', 'GarageYrBlt', 'MasVnrArea']])\n",
    "train_data[['LotFrontage', 'GarageYrBlt', 'MasVnrArea']] = imputer_median.transform(train_data[['LotFrontage', 'GarageYrBlt', 'MasVnrArea']])"
   ]
  },
  {
   "cell_type": "code",
   "execution_count": 13,
   "id": "c26c7133",
   "metadata": {
    "execution": {
     "iopub.execute_input": "2022-10-31T03:08:55.925382Z",
     "iopub.status.busy": "2022-10-31T03:08:55.924718Z",
     "iopub.status.idle": "2022-10-31T03:08:55.956889Z",
     "shell.execute_reply": "2022-10-31T03:08:55.955441Z"
    },
    "papermill": {
     "duration": 0.05873,
     "end_time": "2022-10-31T03:08:55.959298",
     "exception": false,
     "start_time": "2022-10-31T03:08:55.900568",
     "status": "completed"
    },
    "tags": []
   },
   "outputs": [
    {
     "name": "stdout",
     "output_type": "stream",
     "text": [
      "MasVnrType 8 object\n",
      "BsmtQual 37 object\n",
      "BsmtCond 37 object\n",
      "BsmtExposure 38 object\n",
      "BsmtFinType1 37 object\n",
      "BsmtFinType2 38 object\n",
      "Electrical 1 object\n",
      "FireplaceQu 690 object\n",
      "GarageType 81 object\n",
      "GarageFinish 81 object\n",
      "GarageQual 81 object\n",
      "GarageCond 81 object\n"
     ]
    }
   ],
   "source": [
    "missing_train_values = [col for col in train_data.columns if train_data[col].isna().sum() > 0]\n",
    "for col in missing_train_values:\n",
    "    print(col, train_data[col].isna().sum(), train_data[col].dtypes)"
   ]
  },
  {
   "cell_type": "code",
   "execution_count": 14,
   "id": "7be04162",
   "metadata": {
    "execution": {
     "iopub.execute_input": "2022-10-31T03:08:56.006058Z",
     "iopub.status.busy": "2022-10-31T03:08:56.005605Z",
     "iopub.status.idle": "2022-10-31T03:08:56.014051Z",
     "shell.execute_reply": "2022-10-31T03:08:56.012856Z"
    },
    "papermill": {
     "duration": 0.03469,
     "end_time": "2022-10-31T03:08:56.016477",
     "exception": false,
     "start_time": "2022-10-31T03:08:55.981787",
     "status": "completed"
    },
    "tags": []
   },
   "outputs": [],
   "source": [
    "train_data = train_data.drop(columns = 'FireplaceQu')"
   ]
  },
  {
   "cell_type": "code",
   "execution_count": 15,
   "id": "8e3c592a",
   "metadata": {
    "execution": {
     "iopub.execute_input": "2022-10-31T03:08:56.065270Z",
     "iopub.status.busy": "2022-10-31T03:08:56.064546Z",
     "iopub.status.idle": "2022-10-31T03:08:56.092948Z",
     "shell.execute_reply": "2022-10-31T03:08:56.091682Z"
    },
    "papermill": {
     "duration": 0.056336,
     "end_time": "2022-10-31T03:08:56.095803",
     "exception": false,
     "start_time": "2022-10-31T03:08:56.039467",
     "status": "completed"
    },
    "tags": []
   },
   "outputs": [],
   "source": [
    "object_train_data = [col for col in train_data.columns if (train_data[col].dtypes == 'object' and train_data[col].isna().sum() > 0)]\n",
    "imputer_object = SimpleImputer(missing_values = np.nan, strategy = 'most_frequent')\n",
    "imputer_object.fit(train_data[object_train_data])\n",
    "train_data[object_train_data] = imputer_object.transform(train_data[object_train_data])"
   ]
  },
  {
   "cell_type": "markdown",
   "id": "b668104d",
   "metadata": {
    "papermill": {
     "duration": 0.021943,
     "end_time": "2022-10-31T03:08:56.140781",
     "exception": false,
     "start_time": "2022-10-31T03:08:56.118838",
     "status": "completed"
    },
    "tags": []
   },
   "source": [
    "### Checking missing values(if any)"
   ]
  },
  {
   "cell_type": "code",
   "execution_count": 16,
   "id": "03c6ee63",
   "metadata": {
    "execution": {
     "iopub.execute_input": "2022-10-31T03:08:56.187797Z",
     "iopub.status.busy": "2022-10-31T03:08:56.187366Z",
     "iopub.status.idle": "2022-10-31T03:08:56.199210Z",
     "shell.execute_reply": "2022-10-31T03:08:56.198144Z"
    },
    "papermill": {
     "duration": 0.037923,
     "end_time": "2022-10-31T03:08:56.201324",
     "exception": false,
     "start_time": "2022-10-31T03:08:56.163401",
     "status": "completed"
    },
    "tags": []
   },
   "outputs": [
    {
     "data": {
      "text/plain": [
       "0"
      ]
     },
     "execution_count": 16,
     "metadata": {},
     "output_type": "execute_result"
    }
   ],
   "source": [
    "train_data.isna().sum().sum()"
   ]
  },
  {
   "cell_type": "code",
   "execution_count": 17,
   "id": "b68ba904",
   "metadata": {
    "execution": {
     "iopub.execute_input": "2022-10-31T03:08:56.248957Z",
     "iopub.status.busy": "2022-10-31T03:08:56.248519Z",
     "iopub.status.idle": "2022-10-31T03:08:56.255547Z",
     "shell.execute_reply": "2022-10-31T03:08:56.254371Z"
    },
    "papermill": {
     "duration": 0.034047,
     "end_time": "2022-10-31T03:08:56.257643",
     "exception": false,
     "start_time": "2022-10-31T03:08:56.223596",
     "status": "completed"
    },
    "tags": []
   },
   "outputs": [
    {
     "data": {
      "text/plain": [
       "(1460, 75)"
      ]
     },
     "execution_count": 17,
     "metadata": {},
     "output_type": "execute_result"
    }
   ],
   "source": [
    "train_data.shape"
   ]
  },
  {
   "cell_type": "markdown",
   "id": "e1c2c307",
   "metadata": {
    "papermill": {
     "duration": 0.021965,
     "end_time": "2022-10-31T03:08:56.302081",
     "exception": false,
     "start_time": "2022-10-31T03:08:56.280116",
     "status": "completed"
    },
    "tags": []
   },
   "source": [
    "## Find the number of missing data of test data."
   ]
  },
  {
   "cell_type": "code",
   "execution_count": 18,
   "id": "6105dd71",
   "metadata": {
    "execution": {
     "iopub.execute_input": "2022-10-31T03:08:56.349159Z",
     "iopub.status.busy": "2022-10-31T03:08:56.348438Z",
     "iopub.status.idle": "2022-10-31T03:08:56.381991Z",
     "shell.execute_reply": "2022-10-31T03:08:56.380182Z"
    },
    "papermill": {
     "duration": 0.060011,
     "end_time": "2022-10-31T03:08:56.384466",
     "exception": false,
     "start_time": "2022-10-31T03:08:56.324455",
     "status": "completed"
    },
    "tags": []
   },
   "outputs": [
    {
     "name": "stdout",
     "output_type": "stream",
     "text": [
      "MSZoning 4 object\n",
      "LotFrontage 227 float64\n",
      "Utilities 2 object\n",
      "Exterior1st 1 object\n",
      "Exterior2nd 1 object\n",
      "MasVnrType 16 object\n",
      "MasVnrArea 15 float64\n",
      "BsmtQual 44 object\n",
      "BsmtCond 45 object\n",
      "BsmtExposure 44 object\n",
      "BsmtFinType1 42 object\n",
      "BsmtFinSF1 1 float64\n",
      "BsmtFinType2 42 object\n",
      "BsmtFinSF2 1 float64\n",
      "BsmtUnfSF 1 float64\n",
      "TotalBsmtSF 1 float64\n",
      "BsmtFullBath 2 float64\n",
      "BsmtHalfBath 2 float64\n",
      "KitchenQual 1 object\n",
      "Functional 2 object\n",
      "FireplaceQu 730 object\n",
      "GarageType 76 object\n",
      "GarageYrBlt 78 float64\n",
      "GarageFinish 78 object\n",
      "GarageCars 1 float64\n",
      "GarageArea 1 float64\n",
      "GarageQual 78 object\n",
      "GarageCond 78 object\n",
      "SaleType 1 object\n"
     ]
    }
   ],
   "source": [
    "missing_test_values = [col for col in test_data.columns if test_data[col].isna().sum() > 0]\n",
    "for col in missing_test_values:\n",
    "    print(col, test_data[col].isna().sum(), test_data[col].dtypes)"
   ]
  },
  {
   "cell_type": "markdown",
   "id": "82890951",
   "metadata": {
    "papermill": {
     "duration": 0.022252,
     "end_time": "2022-10-31T03:08:56.429482",
     "exception": false,
     "start_time": "2022-10-31T03:08:56.407230",
     "status": "completed"
    },
    "tags": []
   },
   "source": [
    "## Replacing missing value with mode and median."
   ]
  },
  {
   "cell_type": "code",
   "execution_count": 19,
   "id": "f0dd2994",
   "metadata": {
    "execution": {
     "iopub.execute_input": "2022-10-31T03:08:56.476018Z",
     "iopub.status.busy": "2022-10-31T03:08:56.475580Z",
     "iopub.status.idle": "2022-10-31T03:08:56.493205Z",
     "shell.execute_reply": "2022-10-31T03:08:56.492149Z"
    },
    "papermill": {
     "duration": 0.043715,
     "end_time": "2022-10-31T03:08:56.495655",
     "exception": false,
     "start_time": "2022-10-31T03:08:56.451940",
     "status": "completed"
    },
    "tags": []
   },
   "outputs": [],
   "source": [
    "float_test_data = [col for col in test_data.columns if (test_data[col].dtypes == 'float64' and test_data[col].isna().sum() > 0)]\n",
    "imputer_test_median = SimpleImputer(missing_values = np.nan, strategy = 'median')\n",
    "imputer_test_median.fit(test_data[float_test_data])\n",
    "test_data[float_test_data] = imputer_test_median.transform(test_data[float_test_data])"
   ]
  },
  {
   "cell_type": "code",
   "execution_count": 20,
   "id": "e4507e73",
   "metadata": {
    "execution": {
     "iopub.execute_input": "2022-10-31T03:08:56.543684Z",
     "iopub.status.busy": "2022-10-31T03:08:56.543261Z",
     "iopub.status.idle": "2022-10-31T03:08:56.549830Z",
     "shell.execute_reply": "2022-10-31T03:08:56.548885Z"
    },
    "papermill": {
     "duration": 0.033232,
     "end_time": "2022-10-31T03:08:56.552221",
     "exception": false,
     "start_time": "2022-10-31T03:08:56.518989",
     "status": "completed"
    },
    "tags": []
   },
   "outputs": [],
   "source": [
    "test_data = test_data.drop(columns = 'FireplaceQu')"
   ]
  },
  {
   "cell_type": "code",
   "execution_count": 21,
   "id": "7b4a5b2f",
   "metadata": {
    "execution": {
     "iopub.execute_input": "2022-10-31T03:08:56.599401Z",
     "iopub.status.busy": "2022-10-31T03:08:56.598701Z",
     "iopub.status.idle": "2022-10-31T03:08:56.630280Z",
     "shell.execute_reply": "2022-10-31T03:08:56.629314Z"
    },
    "papermill": {
     "duration": 0.057878,
     "end_time": "2022-10-31T03:08:56.632883",
     "exception": false,
     "start_time": "2022-10-31T03:08:56.575005",
     "status": "completed"
    },
    "tags": []
   },
   "outputs": [],
   "source": [
    "object_test_data = [col for col in test_data.columns if (test_data[col].dtypes == 'object' and test_data[col].isna().sum() > 0)]\n",
    "imputer_test_mode = SimpleImputer(missing_values = np.nan, strategy = 'most_frequent')\n",
    "imputer_test_mode.fit(test_data[object_test_data])\n",
    "test_data[object_test_data] = imputer_test_mode.transform(test_data[object_test_data])"
   ]
  },
  {
   "cell_type": "code",
   "execution_count": 22,
   "id": "11a3a9c6",
   "metadata": {
    "execution": {
     "iopub.execute_input": "2022-10-31T03:08:56.680244Z",
     "iopub.status.busy": "2022-10-31T03:08:56.679814Z",
     "iopub.status.idle": "2022-10-31T03:08:56.686460Z",
     "shell.execute_reply": "2022-10-31T03:08:56.685353Z"
    },
    "papermill": {
     "duration": 0.033137,
     "end_time": "2022-10-31T03:08:56.688765",
     "exception": false,
     "start_time": "2022-10-31T03:08:56.655628",
     "status": "completed"
    },
    "tags": []
   },
   "outputs": [
    {
     "data": {
      "text/plain": [
       "(1459, 74)"
      ]
     },
     "execution_count": 22,
     "metadata": {},
     "output_type": "execute_result"
    }
   ],
   "source": [
    "test_data.shape"
   ]
  },
  {
   "cell_type": "markdown",
   "id": "69476c49",
   "metadata": {
    "papermill": {
     "duration": 0.022423,
     "end_time": "2022-10-31T03:08:56.733701",
     "exception": false,
     "start_time": "2022-10-31T03:08:56.711278",
     "status": "completed"
    },
    "tags": []
   },
   "source": [
    "### Checking missing values(if any)"
   ]
  },
  {
   "cell_type": "code",
   "execution_count": 23,
   "id": "b36acf00",
   "metadata": {
    "execution": {
     "iopub.execute_input": "2022-10-31T03:08:56.780629Z",
     "iopub.status.busy": "2022-10-31T03:08:56.780180Z",
     "iopub.status.idle": "2022-10-31T03:08:56.791412Z",
     "shell.execute_reply": "2022-10-31T03:08:56.790521Z"
    },
    "papermill": {
     "duration": 0.037181,
     "end_time": "2022-10-31T03:08:56.793541",
     "exception": false,
     "start_time": "2022-10-31T03:08:56.756360",
     "status": "completed"
    },
    "tags": []
   },
   "outputs": [
    {
     "data": {
      "text/plain": [
       "0"
      ]
     },
     "execution_count": 23,
     "metadata": {},
     "output_type": "execute_result"
    }
   ],
   "source": [
    "test_data.isna().sum().sum()"
   ]
  },
  {
   "cell_type": "markdown",
   "id": "7f4c8960",
   "metadata": {
    "papermill": {
     "duration": 0.022549,
     "end_time": "2022-10-31T03:08:56.838991",
     "exception": false,
     "start_time": "2022-10-31T03:08:56.816442",
     "status": "completed"
    },
    "tags": []
   },
   "source": [
    "## Find no of unique categorical data of train data"
   ]
  },
  {
   "cell_type": "code",
   "execution_count": 24,
   "id": "f4948550",
   "metadata": {
    "execution": {
     "iopub.execute_input": "2022-10-31T03:08:56.885926Z",
     "iopub.status.busy": "2022-10-31T03:08:56.885479Z",
     "iopub.status.idle": "2022-10-31T03:08:56.905058Z",
     "shell.execute_reply": "2022-10-31T03:08:56.903267Z"
    },
    "papermill": {
     "duration": 0.046022,
     "end_time": "2022-10-31T03:08:56.907548",
     "exception": false,
     "start_time": "2022-10-31T03:08:56.861526",
     "status": "completed"
    },
    "tags": []
   },
   "outputs": [
    {
     "name": "stdout",
     "output_type": "stream",
     "text": [
      "MSZoning : 5\n",
      "Street : 2\n",
      "LotShape : 4\n",
      "LandContour : 4\n",
      "Utilities : 2\n",
      "LotConfig : 5\n",
      "LandSlope : 3\n",
      "Neighborhood : 25\n",
      "Condition1 : 9\n",
      "Condition2 : 8\n",
      "BldgType : 5\n",
      "HouseStyle : 8\n",
      "RoofStyle : 6\n",
      "RoofMatl : 8\n",
      "Exterior1st : 15\n",
      "Exterior2nd : 16\n",
      "MasVnrType : 4\n",
      "ExterQual : 4\n",
      "ExterCond : 5\n",
      "Foundation : 6\n",
      "BsmtQual : 4\n",
      "BsmtCond : 4\n",
      "BsmtExposure : 4\n",
      "BsmtFinType1 : 6\n",
      "BsmtFinType2 : 6\n",
      "Heating : 6\n",
      "HeatingQC : 5\n",
      "CentralAir : 2\n",
      "Electrical : 5\n",
      "KitchenQual : 4\n",
      "Functional : 7\n",
      "GarageType : 6\n",
      "GarageFinish : 3\n",
      "GarageQual : 5\n",
      "GarageCond : 5\n",
      "PavedDrive : 3\n",
      "SaleType : 9\n",
      "SaleCondition : 6\n"
     ]
    }
   ],
   "source": [
    "for i in train_data.columns:\n",
    "    if train_data[i].dtypes == 'object':\n",
    "        print(f\"{i} : {train_data[i].nunique()}\")"
   ]
  },
  {
   "cell_type": "code",
   "execution_count": 25,
   "id": "999b628e",
   "metadata": {
    "execution": {
     "iopub.execute_input": "2022-10-31T03:08:56.956086Z",
     "iopub.status.busy": "2022-10-31T03:08:56.955696Z",
     "iopub.status.idle": "2022-10-31T03:08:56.964129Z",
     "shell.execute_reply": "2022-10-31T03:08:56.962931Z"
    },
    "papermill": {
     "duration": 0.035288,
     "end_time": "2022-10-31T03:08:56.966580",
     "exception": false,
     "start_time": "2022-10-31T03:08:56.931292",
     "status": "completed"
    },
    "tags": []
   },
   "outputs": [],
   "source": [
    "NoSeWa = train_data[train_data['Utilities'] != 'AllPub'].index\n",
    "train_data.drop(NoSeWa, inplace = True)"
   ]
  },
  {
   "cell_type": "markdown",
   "id": "e209f728",
   "metadata": {
    "papermill": {
     "duration": 0.022872,
     "end_time": "2022-10-31T03:08:57.012616",
     "exception": false,
     "start_time": "2022-10-31T03:08:56.989744",
     "status": "completed"
    },
    "tags": []
   },
   "source": [
    "# Comparison no of categorical variable between train and test data"
   ]
  },
  {
   "cell_type": "code",
   "execution_count": 26,
   "id": "3e31507d",
   "metadata": {
    "execution": {
     "iopub.execute_input": "2022-10-31T03:08:57.060165Z",
     "iopub.status.busy": "2022-10-31T03:08:57.059749Z",
     "iopub.status.idle": "2022-10-31T03:08:57.070942Z",
     "shell.execute_reply": "2022-10-31T03:08:57.069823Z"
    },
    "papermill": {
     "duration": 0.037808,
     "end_time": "2022-10-31T03:08:57.073374",
     "exception": false,
     "start_time": "2022-10-31T03:08:57.035566",
     "status": "completed"
    },
    "tags": []
   },
   "outputs": [
    {
     "data": {
      "text/plain": [
       "Condition2  Condition2\n",
       "Artery      Artery           2\n",
       "Feedr       Feedr            6\n",
       "Norm        Norm          1444\n",
       "PosA        PosA             1\n",
       "PosN        PosN             2\n",
       "RRAe        RRAe             1\n",
       "RRAn        RRAn             1\n",
       "RRNn        RRNn             2\n",
       "Name: Condition2, dtype: int64"
      ]
     },
     "execution_count": 26,
     "metadata": {},
     "output_type": "execute_result"
    }
   ],
   "source": [
    "train_data.groupby('Condition2')['Condition2'].value_counts()"
   ]
  },
  {
   "cell_type": "code",
   "execution_count": 27,
   "id": "2d1a7ad5",
   "metadata": {
    "execution": {
     "iopub.execute_input": "2022-10-31T03:08:57.121948Z",
     "iopub.status.busy": "2022-10-31T03:08:57.121553Z",
     "iopub.status.idle": "2022-10-31T03:08:57.131532Z",
     "shell.execute_reply": "2022-10-31T03:08:57.130506Z"
    },
    "papermill": {
     "duration": 0.036805,
     "end_time": "2022-10-31T03:08:57.133593",
     "exception": false,
     "start_time": "2022-10-31T03:08:57.096788",
     "status": "completed"
    },
    "tags": []
   },
   "outputs": [
    {
     "data": {
      "text/plain": [
       "Condition2  Condition2\n",
       "Artery      Artery           3\n",
       "Feedr       Feedr            7\n",
       "Norm        Norm          1444\n",
       "PosA        PosA             3\n",
       "PosN        PosN             2\n",
       "Name: Condition2, dtype: int64"
      ]
     },
     "execution_count": 27,
     "metadata": {},
     "output_type": "execute_result"
    }
   ],
   "source": [
    "test_data.groupby('Condition2')['Condition2'].value_counts()"
   ]
  },
  {
   "cell_type": "code",
   "execution_count": 28,
   "id": "c3a3ed7c",
   "metadata": {
    "execution": {
     "iopub.execute_input": "2022-10-31T03:08:57.182262Z",
     "iopub.status.busy": "2022-10-31T03:08:57.181281Z",
     "iopub.status.idle": "2022-10-31T03:08:57.192019Z",
     "shell.execute_reply": "2022-10-31T03:08:57.190825Z"
    },
    "papermill": {
     "duration": 0.037756,
     "end_time": "2022-10-31T03:08:57.194480",
     "exception": false,
     "start_time": "2022-10-31T03:08:57.156724",
     "status": "completed"
    },
    "tags": []
   },
   "outputs": [],
   "source": [
    "D1 = train_data[(train_data['Condition2'] == 'RRAe') | (train_data['Condition2'] == 'RRAn') | (train_data['Condition2'] == 'RRNn')].index\n",
    "train_data.drop(D1, inplace = True)"
   ]
  },
  {
   "cell_type": "code",
   "execution_count": 29,
   "id": "b7982905",
   "metadata": {
    "execution": {
     "iopub.execute_input": "2022-10-31T03:08:57.242412Z",
     "iopub.status.busy": "2022-10-31T03:08:57.241554Z",
     "iopub.status.idle": "2022-10-31T03:08:57.253207Z",
     "shell.execute_reply": "2022-10-31T03:08:57.252215Z"
    },
    "papermill": {
     "duration": 0.038363,
     "end_time": "2022-10-31T03:08:57.255820",
     "exception": false,
     "start_time": "2022-10-31T03:08:57.217457",
     "status": "completed"
    },
    "tags": []
   },
   "outputs": [
    {
     "data": {
      "text/plain": [
       "HouseStyle  HouseStyle\n",
       "1.5Fin      1.5Fin        153\n",
       "1.5Unf      1.5Unf         14\n",
       "1Story      1Story        723\n",
       "2.5Fin      2.5Fin          8\n",
       "2.5Unf      2.5Unf         11\n",
       "2Story      2Story        445\n",
       "SFoyer      SFoyer         37\n",
       "SLvl        SLvl           64\n",
       "Name: HouseStyle, dtype: int64"
      ]
     },
     "execution_count": 29,
     "metadata": {},
     "output_type": "execute_result"
    }
   ],
   "source": [
    "train_data.groupby('HouseStyle')['HouseStyle'].value_counts()"
   ]
  },
  {
   "cell_type": "code",
   "execution_count": 30,
   "id": "2b058b6d",
   "metadata": {
    "execution": {
     "iopub.execute_input": "2022-10-31T03:08:57.304509Z",
     "iopub.status.busy": "2022-10-31T03:08:57.304045Z",
     "iopub.status.idle": "2022-10-31T03:08:57.315969Z",
     "shell.execute_reply": "2022-10-31T03:08:57.314831Z"
    },
    "papermill": {
     "duration": 0.038733,
     "end_time": "2022-10-31T03:08:57.318286",
     "exception": false,
     "start_time": "2022-10-31T03:08:57.279553",
     "status": "completed"
    },
    "tags": []
   },
   "outputs": [
    {
     "data": {
      "text/plain": [
       "HouseStyle  HouseStyle\n",
       "1.5Fin      1.5Fin        160\n",
       "1.5Unf      1.5Unf          5\n",
       "1Story      1Story        745\n",
       "2.5Unf      2.5Unf         13\n",
       "2Story      2Story        427\n",
       "SFoyer      SFoyer         46\n",
       "SLvl        SLvl           63\n",
       "Name: HouseStyle, dtype: int64"
      ]
     },
     "execution_count": 30,
     "metadata": {},
     "output_type": "execute_result"
    }
   ],
   "source": [
    "test_data.groupby('HouseStyle')['HouseStyle'].value_counts()"
   ]
  },
  {
   "cell_type": "code",
   "execution_count": 31,
   "id": "cf45ec49",
   "metadata": {
    "execution": {
     "iopub.execute_input": "2022-10-31T03:08:57.366339Z",
     "iopub.status.busy": "2022-10-31T03:08:57.365890Z",
     "iopub.status.idle": "2022-10-31T03:08:57.374489Z",
     "shell.execute_reply": "2022-10-31T03:08:57.373527Z"
    },
    "papermill": {
     "duration": 0.03503,
     "end_time": "2022-10-31T03:08:57.376627",
     "exception": false,
     "start_time": "2022-10-31T03:08:57.341597",
     "status": "completed"
    },
    "tags": []
   },
   "outputs": [],
   "source": [
    "D2 = train_data[train_data['HouseStyle'] == '2.5Fin'].index\n",
    "train_data.drop(D2, inplace = True)"
   ]
  },
  {
   "cell_type": "code",
   "execution_count": 32,
   "id": "163678bf",
   "metadata": {
    "execution": {
     "iopub.execute_input": "2022-10-31T03:08:57.424638Z",
     "iopub.status.busy": "2022-10-31T03:08:57.424264Z",
     "iopub.status.idle": "2022-10-31T03:08:57.435122Z",
     "shell.execute_reply": "2022-10-31T03:08:57.434125Z"
    },
    "papermill": {
     "duration": 0.037402,
     "end_time": "2022-10-31T03:08:57.437264",
     "exception": false,
     "start_time": "2022-10-31T03:08:57.399862",
     "status": "completed"
    },
    "tags": []
   },
   "outputs": [
    {
     "data": {
      "text/plain": [
       "RoofMatl  RoofMatl\n",
       "ClyTile   ClyTile        1\n",
       "CompShg   CompShg     1422\n",
       "Membran   Membran        1\n",
       "Metal     Metal          1\n",
       "Roll      Roll           1\n",
       "Tar&Grv   Tar&Grv       11\n",
       "WdShake   WdShake        5\n",
       "WdShngl   WdShngl        5\n",
       "Name: RoofMatl, dtype: int64"
      ]
     },
     "execution_count": 32,
     "metadata": {},
     "output_type": "execute_result"
    }
   ],
   "source": [
    "train_data.groupby('RoofMatl')['RoofMatl'].value_counts()"
   ]
  },
  {
   "cell_type": "code",
   "execution_count": 33,
   "id": "9ade7add",
   "metadata": {
    "execution": {
     "iopub.execute_input": "2022-10-31T03:08:57.485869Z",
     "iopub.status.busy": "2022-10-31T03:08:57.485490Z",
     "iopub.status.idle": "2022-10-31T03:08:57.494506Z",
     "shell.execute_reply": "2022-10-31T03:08:57.493708Z"
    },
    "papermill": {
     "duration": 0.035638,
     "end_time": "2022-10-31T03:08:57.496452",
     "exception": false,
     "start_time": "2022-10-31T03:08:57.460814",
     "status": "completed"
    },
    "tags": []
   },
   "outputs": [
    {
     "data": {
      "text/plain": [
       "RoofMatl  RoofMatl\n",
       "CompShg   CompShg     1442\n",
       "Tar&Grv   Tar&Grv       12\n",
       "WdShake   WdShake        4\n",
       "WdShngl   WdShngl        1\n",
       "Name: RoofMatl, dtype: int64"
      ]
     },
     "execution_count": 33,
     "metadata": {},
     "output_type": "execute_result"
    }
   ],
   "source": [
    "test_data.groupby('RoofMatl')['RoofMatl'].value_counts()"
   ]
  },
  {
   "cell_type": "code",
   "execution_count": 34,
   "id": "439c4414",
   "metadata": {
    "execution": {
     "iopub.execute_input": "2022-10-31T03:08:57.546055Z",
     "iopub.status.busy": "2022-10-31T03:08:57.545668Z",
     "iopub.status.idle": "2022-10-31T03:08:57.554383Z",
     "shell.execute_reply": "2022-10-31T03:08:57.553520Z"
    },
    "papermill": {
     "duration": 0.03637,
     "end_time": "2022-10-31T03:08:57.556532",
     "exception": false,
     "start_time": "2022-10-31T03:08:57.520162",
     "status": "completed"
    },
    "tags": []
   },
   "outputs": [],
   "source": [
    "D3 = train_data[(train_data['RoofMatl'] == 'ClyTile') | (train_data['RoofMatl'] == 'Membran') | (train_data['RoofMatl'] == 'Metal') | (train_data['RoofMatl'] == 'Roll')].index\n",
    "train_data.drop(D3, inplace = True)"
   ]
  },
  {
   "cell_type": "code",
   "execution_count": 35,
   "id": "f7784ae5",
   "metadata": {
    "execution": {
     "iopub.execute_input": "2022-10-31T03:08:57.605917Z",
     "iopub.status.busy": "2022-10-31T03:08:57.605286Z",
     "iopub.status.idle": "2022-10-31T03:08:57.614932Z",
     "shell.execute_reply": "2022-10-31T03:08:57.613674Z"
    },
    "papermill": {
     "duration": 0.037006,
     "end_time": "2022-10-31T03:08:57.617159",
     "exception": false,
     "start_time": "2022-10-31T03:08:57.580153",
     "status": "completed"
    },
    "tags": []
   },
   "outputs": [
    {
     "data": {
      "text/plain": [
       "Exterior1st  Exterior1st\n",
       "AsbShng      AsbShng         19\n",
       "AsphShn      AsphShn          1\n",
       "BrkComm      BrkComm          2\n",
       "BrkFace      BrkFace         50\n",
       "CBlock       CBlock           1\n",
       "CemntBd      CemntBd         60\n",
       "HdBoard      HdBoard        221\n",
       "ImStucc      ImStucc          1\n",
       "MetalSd      MetalSd        217\n",
       "Plywood      Plywood        105\n",
       "Stone        Stone            2\n",
       "Stucco       Stucco          24\n",
       "VinylSd      VinylSd        513\n",
       "Wd Sdng      Wd Sdng        201\n",
       "WdShing      WdShing         26\n",
       "Name: Exterior1st, dtype: int64"
      ]
     },
     "execution_count": 35,
     "metadata": {},
     "output_type": "execute_result"
    }
   ],
   "source": [
    "train_data.groupby('Exterior1st')['Exterior1st'].value_counts()"
   ]
  },
  {
   "cell_type": "code",
   "execution_count": 36,
   "id": "6103d01a",
   "metadata": {
    "execution": {
     "iopub.execute_input": "2022-10-31T03:08:57.668039Z",
     "iopub.status.busy": "2022-10-31T03:08:57.667359Z",
     "iopub.status.idle": "2022-10-31T03:08:57.676401Z",
     "shell.execute_reply": "2022-10-31T03:08:57.675628Z"
    },
    "papermill": {
     "duration": 0.037455,
     "end_time": "2022-10-31T03:08:57.678669",
     "exception": false,
     "start_time": "2022-10-31T03:08:57.641214",
     "status": "completed"
    },
    "tags": []
   },
   "outputs": [
    {
     "data": {
      "text/plain": [
       "Exterior1st  Exterior1st\n",
       "AsbShng      AsbShng         24\n",
       "AsphShn      AsphShn          1\n",
       "BrkComm      BrkComm          4\n",
       "BrkFace      BrkFace         37\n",
       "CBlock       CBlock           1\n",
       "CemntBd      CemntBd         65\n",
       "HdBoard      HdBoard        220\n",
       "MetalSd      MetalSd        230\n",
       "Plywood      Plywood        113\n",
       "Stucco       Stucco          18\n",
       "VinylSd      VinylSd        511\n",
       "Wd Sdng      Wd Sdng        205\n",
       "WdShing      WdShing         30\n",
       "Name: Exterior1st, dtype: int64"
      ]
     },
     "execution_count": 36,
     "metadata": {},
     "output_type": "execute_result"
    }
   ],
   "source": [
    "test_data.groupby('Exterior1st')['Exterior1st'].value_counts()"
   ]
  },
  {
   "cell_type": "code",
   "execution_count": 37,
   "id": "c64ac452",
   "metadata": {
    "execution": {
     "iopub.execute_input": "2022-10-31T03:08:57.728790Z",
     "iopub.status.busy": "2022-10-31T03:08:57.728070Z",
     "iopub.status.idle": "2022-10-31T03:08:57.736662Z",
     "shell.execute_reply": "2022-10-31T03:08:57.735437Z"
    },
    "papermill": {
     "duration": 0.036653,
     "end_time": "2022-10-31T03:08:57.739170",
     "exception": false,
     "start_time": "2022-10-31T03:08:57.702517",
     "status": "completed"
    },
    "tags": []
   },
   "outputs": [],
   "source": [
    "D4 = train_data[(train_data['Exterior1st'] == 'Stone') | (train_data['Exterior1st'] == 'ImStucc')].index\n",
    "train_data.drop(D4, inplace = True)                     "
   ]
  },
  {
   "cell_type": "code",
   "execution_count": 38,
   "id": "3c4fe10b",
   "metadata": {
    "execution": {
     "iopub.execute_input": "2022-10-31T03:08:57.788784Z",
     "iopub.status.busy": "2022-10-31T03:08:57.788374Z",
     "iopub.status.idle": "2022-10-31T03:08:57.800267Z",
     "shell.execute_reply": "2022-10-31T03:08:57.799058Z"
    },
    "papermill": {
     "duration": 0.039747,
     "end_time": "2022-10-31T03:08:57.802829",
     "exception": false,
     "start_time": "2022-10-31T03:08:57.763082",
     "status": "completed"
    },
    "tags": []
   },
   "outputs": [
    {
     "data": {
      "text/plain": [
       "Exterior2nd  Exterior2nd\n",
       "AsbShng      AsbShng         19\n",
       "AsphShn      AsphShn          3\n",
       "Brk Cmn      Brk Cmn          7\n",
       "BrkFace      BrkFace         25\n",
       "CBlock       CBlock           1\n",
       "CmentBd      CmentBd         59\n",
       "HdBoard      HdBoard        205\n",
       "ImStucc      ImStucc          9\n",
       "MetalSd      MetalSd        211\n",
       "Other        Other            1\n",
       "Plywood      Plywood        138\n",
       "Stone        Stone            4\n",
       "Stucco       Stucco          25\n",
       "VinylSd      VinylSd        502\n",
       "Wd Sdng      Wd Sdng        193\n",
       "Wd Shng      Wd Shng         38\n",
       "Name: Exterior2nd, dtype: int64"
      ]
     },
     "execution_count": 38,
     "metadata": {},
     "output_type": "execute_result"
    }
   ],
   "source": [
    "train_data.groupby('Exterior2nd')['Exterior2nd'].value_counts()"
   ]
  },
  {
   "cell_type": "code",
   "execution_count": 39,
   "id": "a51f1bd8",
   "metadata": {
    "execution": {
     "iopub.execute_input": "2022-10-31T03:08:57.853778Z",
     "iopub.status.busy": "2022-10-31T03:08:57.853337Z",
     "iopub.status.idle": "2022-10-31T03:08:57.864847Z",
     "shell.execute_reply": "2022-10-31T03:08:57.863593Z"
    },
    "papermill": {
     "duration": 0.040124,
     "end_time": "2022-10-31T03:08:57.867162",
     "exception": false,
     "start_time": "2022-10-31T03:08:57.827038",
     "status": "completed"
    },
    "tags": []
   },
   "outputs": [
    {
     "data": {
      "text/plain": [
       "Exterior2nd  Exterior2nd\n",
       "AsbShng      AsbShng         18\n",
       "AsphShn      AsphShn          1\n",
       "Brk Cmn      Brk Cmn         15\n",
       "BrkFace      BrkFace         22\n",
       "CBlock       CBlock           2\n",
       "CmentBd      CmentBd         66\n",
       "HdBoard      HdBoard        199\n",
       "ImStucc      ImStucc          5\n",
       "MetalSd      MetalSd        233\n",
       "Plywood      Plywood        128\n",
       "Stone        Stone            1\n",
       "Stucco       Stucco          21\n",
       "VinylSd      VinylSd        511\n",
       "Wd Sdng      Wd Sdng        194\n",
       "Wd Shng      Wd Shng         43\n",
       "Name: Exterior2nd, dtype: int64"
      ]
     },
     "execution_count": 39,
     "metadata": {},
     "output_type": "execute_result"
    }
   ],
   "source": [
    "test_data.groupby('Exterior2nd')['Exterior2nd'].value_counts()"
   ]
  },
  {
   "cell_type": "code",
   "execution_count": 40,
   "id": "42769e4a",
   "metadata": {
    "execution": {
     "iopub.execute_input": "2022-10-31T03:08:57.918383Z",
     "iopub.status.busy": "2022-10-31T03:08:57.917143Z",
     "iopub.status.idle": "2022-10-31T03:08:57.925120Z",
     "shell.execute_reply": "2022-10-31T03:08:57.924247Z"
    },
    "papermill": {
     "duration": 0.035773,
     "end_time": "2022-10-31T03:08:57.927379",
     "exception": false,
     "start_time": "2022-10-31T03:08:57.891606",
     "status": "completed"
    },
    "tags": []
   },
   "outputs": [],
   "source": [
    "D5 = train_data[(train_data['Exterior2nd'] == 'Other')].index\n",
    "train_data.drop(D5, inplace = True)"
   ]
  },
  {
   "cell_type": "code",
   "execution_count": 41,
   "id": "b5e103c4",
   "metadata": {
    "execution": {
     "iopub.execute_input": "2022-10-31T03:08:57.977636Z",
     "iopub.status.busy": "2022-10-31T03:08:57.976540Z",
     "iopub.status.idle": "2022-10-31T03:08:57.986930Z",
     "shell.execute_reply": "2022-10-31T03:08:57.986158Z"
    },
    "papermill": {
     "duration": 0.037531,
     "end_time": "2022-10-31T03:08:57.988896",
     "exception": false,
     "start_time": "2022-10-31T03:08:57.951365",
     "status": "completed"
    },
    "tags": []
   },
   "outputs": [
    {
     "data": {
      "text/plain": [
       "Heating  Heating\n",
       "Floor    Floor         1\n",
       "GasA     GasA       1407\n",
       "GasW     GasW         18\n",
       "Grav     Grav          7\n",
       "OthW     OthW          2\n",
       "Wall     Wall          4\n",
       "Name: Heating, dtype: int64"
      ]
     },
     "execution_count": 41,
     "metadata": {},
     "output_type": "execute_result"
    }
   ],
   "source": [
    "train_data.groupby('Heating')['Heating'].value_counts()"
   ]
  },
  {
   "cell_type": "code",
   "execution_count": 42,
   "id": "bd82ec37",
   "metadata": {
    "execution": {
     "iopub.execute_input": "2022-10-31T03:08:58.039021Z",
     "iopub.status.busy": "2022-10-31T03:08:58.038362Z",
     "iopub.status.idle": "2022-10-31T03:08:58.048584Z",
     "shell.execute_reply": "2022-10-31T03:08:58.047796Z"
    },
    "papermill": {
     "duration": 0.03748,
     "end_time": "2022-10-31T03:08:58.050564",
     "exception": false,
     "start_time": "2022-10-31T03:08:58.013084",
     "status": "completed"
    },
    "tags": []
   },
   "outputs": [
    {
     "data": {
      "text/plain": [
       "Heating  Heating\n",
       "GasA     GasA       1446\n",
       "GasW     GasW          9\n",
       "Grav     Grav          2\n",
       "Wall     Wall          2\n",
       "Name: Heating, dtype: int64"
      ]
     },
     "execution_count": 42,
     "metadata": {},
     "output_type": "execute_result"
    }
   ],
   "source": [
    "test_data.groupby('Heating')['Heating'].value_counts()"
   ]
  },
  {
   "cell_type": "code",
   "execution_count": 43,
   "id": "4c60769c",
   "metadata": {
    "execution": {
     "iopub.execute_input": "2022-10-31T03:08:58.101364Z",
     "iopub.status.busy": "2022-10-31T03:08:58.100496Z",
     "iopub.status.idle": "2022-10-31T03:08:58.109867Z",
     "shell.execute_reply": "2022-10-31T03:08:58.108610Z"
    },
    "papermill": {
     "duration": 0.03731,
     "end_time": "2022-10-31T03:08:58.112199",
     "exception": false,
     "start_time": "2022-10-31T03:08:58.074889",
     "status": "completed"
    },
    "tags": []
   },
   "outputs": [],
   "source": [
    "D6 = train_data[(train_data['Heating'] == 'Floor') | (train_data['Heating'] == 'OthW')].index\n",
    "train_data.drop(D6, inplace = True)"
   ]
  },
  {
   "cell_type": "code",
   "execution_count": 44,
   "id": "c2d84e1a",
   "metadata": {
    "execution": {
     "iopub.execute_input": "2022-10-31T03:08:58.162580Z",
     "iopub.status.busy": "2022-10-31T03:08:58.162162Z",
     "iopub.status.idle": "2022-10-31T03:08:58.173882Z",
     "shell.execute_reply": "2022-10-31T03:08:58.172771Z"
    },
    "papermill": {
     "duration": 0.039706,
     "end_time": "2022-10-31T03:08:58.176209",
     "exception": false,
     "start_time": "2022-10-31T03:08:58.136503",
     "status": "completed"
    },
    "tags": []
   },
   "outputs": [
    {
     "data": {
      "text/plain": [
       "Electrical  Electrical\n",
       "FuseA       FuseA           91\n",
       "FuseF       FuseF           27\n",
       "FuseP       FuseP            3\n",
       "Mix         Mix              1\n",
       "SBrkr       SBrkr         1314\n",
       "Name: Electrical, dtype: int64"
      ]
     },
     "execution_count": 44,
     "metadata": {},
     "output_type": "execute_result"
    }
   ],
   "source": [
    "train_data.groupby('Electrical')['Electrical'].value_counts()"
   ]
  },
  {
   "cell_type": "code",
   "execution_count": 45,
   "id": "adf1ef89",
   "metadata": {
    "execution": {
     "iopub.execute_input": "2022-10-31T03:08:58.227464Z",
     "iopub.status.busy": "2022-10-31T03:08:58.227001Z",
     "iopub.status.idle": "2022-10-31T03:08:58.237867Z",
     "shell.execute_reply": "2022-10-31T03:08:58.236799Z"
    },
    "papermill": {
     "duration": 0.039453,
     "end_time": "2022-10-31T03:08:58.239984",
     "exception": false,
     "start_time": "2022-10-31T03:08:58.200531",
     "status": "completed"
    },
    "tags": []
   },
   "outputs": [
    {
     "data": {
      "text/plain": [
       "Electrical  Electrical\n",
       "FuseA       FuseA           94\n",
       "FuseF       FuseF           23\n",
       "FuseP       FuseP            5\n",
       "SBrkr       SBrkr         1337\n",
       "Name: Electrical, dtype: int64"
      ]
     },
     "execution_count": 45,
     "metadata": {},
     "output_type": "execute_result"
    }
   ],
   "source": [
    "test_data.groupby('Electrical')['Electrical'].value_counts()"
   ]
  },
  {
   "cell_type": "code",
   "execution_count": 46,
   "id": "c6e2e42d",
   "metadata": {
    "execution": {
     "iopub.execute_input": "2022-10-31T03:08:58.291559Z",
     "iopub.status.busy": "2022-10-31T03:08:58.290839Z",
     "iopub.status.idle": "2022-10-31T03:08:58.299846Z",
     "shell.execute_reply": "2022-10-31T03:08:58.298538Z"
    },
    "papermill": {
     "duration": 0.037634,
     "end_time": "2022-10-31T03:08:58.302223",
     "exception": false,
     "start_time": "2022-10-31T03:08:58.264589",
     "status": "completed"
    },
    "tags": []
   },
   "outputs": [],
   "source": [
    "D7 = train_data[(train_data['Electrical'] == 'Mix')].index\n",
    "train_data.drop(D7, inplace = True)"
   ]
  },
  {
   "cell_type": "code",
   "execution_count": 47,
   "id": "0ab01c82",
   "metadata": {
    "execution": {
     "iopub.execute_input": "2022-10-31T03:08:58.353431Z",
     "iopub.status.busy": "2022-10-31T03:08:58.353002Z",
     "iopub.status.idle": "2022-10-31T03:08:58.364713Z",
     "shell.execute_reply": "2022-10-31T03:08:58.363588Z"
    },
    "papermill": {
     "duration": 0.04013,
     "end_time": "2022-10-31T03:08:58.367000",
     "exception": false,
     "start_time": "2022-10-31T03:08:58.326870",
     "status": "completed"
    },
    "tags": []
   },
   "outputs": [
    {
     "data": {
      "text/plain": [
       "GarageQual  GarageQual\n",
       "Ex          Ex               2\n",
       "Fa          Fa              46\n",
       "Gd          Gd              14\n",
       "Po          Po               2\n",
       "TA          TA            1371\n",
       "Name: GarageQual, dtype: int64"
      ]
     },
     "execution_count": 47,
     "metadata": {},
     "output_type": "execute_result"
    }
   ],
   "source": [
    "train_data.groupby('GarageQual')['GarageQual'].value_counts()"
   ]
  },
  {
   "cell_type": "code",
   "execution_count": 48,
   "id": "09b4fef4",
   "metadata": {
    "execution": {
     "iopub.execute_input": "2022-10-31T03:08:58.418091Z",
     "iopub.status.busy": "2022-10-31T03:08:58.417653Z",
     "iopub.status.idle": "2022-10-31T03:08:58.428952Z",
     "shell.execute_reply": "2022-10-31T03:08:58.427840Z"
    },
    "papermill": {
     "duration": 0.039427,
     "end_time": "2022-10-31T03:08:58.431003",
     "exception": false,
     "start_time": "2022-10-31T03:08:58.391576",
     "status": "completed"
    },
    "tags": []
   },
   "outputs": [
    {
     "data": {
      "text/plain": [
       "GarageQual  GarageQual\n",
       "Fa          Fa              76\n",
       "Gd          Gd              10\n",
       "Po          Po               2\n",
       "TA          TA            1371\n",
       "Name: GarageQual, dtype: int64"
      ]
     },
     "execution_count": 48,
     "metadata": {},
     "output_type": "execute_result"
    }
   ],
   "source": [
    "test_data.groupby('GarageQual')['GarageQual'].value_counts()"
   ]
  },
  {
   "cell_type": "code",
   "execution_count": 49,
   "id": "7b895011",
   "metadata": {
    "execution": {
     "iopub.execute_input": "2022-10-31T03:08:58.482309Z",
     "iopub.status.busy": "2022-10-31T03:08:58.481875Z",
     "iopub.status.idle": "2022-10-31T03:08:58.489804Z",
     "shell.execute_reply": "2022-10-31T03:08:58.488556Z"
    },
    "papermill": {
     "duration": 0.03669,
     "end_time": "2022-10-31T03:08:58.492421",
     "exception": false,
     "start_time": "2022-10-31T03:08:58.455731",
     "status": "completed"
    },
    "tags": []
   },
   "outputs": [],
   "source": [
    "D8 = train_data[(train_data['GarageQual'] == 'Ex')].index\n",
    "train_data.drop(D8, inplace = True)"
   ]
  },
  {
   "cell_type": "code",
   "execution_count": 50,
   "id": "5dc3dbdf",
   "metadata": {
    "execution": {
     "iopub.execute_input": "2022-10-31T03:08:58.544865Z",
     "iopub.status.busy": "2022-10-31T03:08:58.544086Z",
     "iopub.status.idle": "2022-10-31T03:08:58.564746Z",
     "shell.execute_reply": "2022-10-31T03:08:58.563018Z"
    },
    "papermill": {
     "duration": 0.050166,
     "end_time": "2022-10-31T03:08:58.567963",
     "exception": false,
     "start_time": "2022-10-31T03:08:58.517797",
     "status": "completed"
    },
    "tags": []
   },
   "outputs": [
    {
     "name": "stdout",
     "output_type": "stream",
     "text": [
      "MSZoning : 5\n",
      "Street : 2\n",
      "LotShape : 4\n",
      "LandContour : 4\n",
      "Utilities : 1\n",
      "LotConfig : 5\n",
      "LandSlope : 3\n",
      "Neighborhood : 25\n",
      "Condition1 : 9\n",
      "Condition2 : 5\n",
      "BldgType : 5\n",
      "HouseStyle : 7\n",
      "RoofStyle : 6\n",
      "RoofMatl : 4\n",
      "Exterior1st : 13\n",
      "Exterior2nd : 15\n",
      "MasVnrType : 4\n",
      "ExterQual : 4\n",
      "ExterCond : 5\n",
      "Foundation : 6\n",
      "BsmtQual : 4\n",
      "BsmtCond : 4\n",
      "BsmtExposure : 4\n",
      "BsmtFinType1 : 6\n",
      "BsmtFinType2 : 6\n",
      "Heating : 4\n",
      "HeatingQC : 5\n",
      "CentralAir : 2\n",
      "Electrical : 4\n",
      "KitchenQual : 4\n",
      "Functional : 7\n",
      "GarageType : 6\n",
      "GarageFinish : 3\n",
      "GarageQual : 4\n",
      "GarageCond : 4\n",
      "PavedDrive : 3\n",
      "SaleType : 9\n",
      "SaleCondition : 6\n"
     ]
    }
   ],
   "source": [
    "for i in train_data.columns:\n",
    "    if train_data[i].dtypes == 'object':\n",
    "        print(f\"{i} : {train_data[i].nunique()}\")"
   ]
  },
  {
   "cell_type": "code",
   "execution_count": 51,
   "id": "0ec4bf83",
   "metadata": {
    "execution": {
     "iopub.execute_input": "2022-10-31T03:08:58.620374Z",
     "iopub.status.busy": "2022-10-31T03:08:58.619965Z",
     "iopub.status.idle": "2022-10-31T03:08:58.630968Z",
     "shell.execute_reply": "2022-10-31T03:08:58.630163Z"
    },
    "papermill": {
     "duration": 0.039312,
     "end_time": "2022-10-31T03:08:58.632968",
     "exception": false,
     "start_time": "2022-10-31T03:08:58.593656",
     "status": "completed"
    },
    "tags": []
   },
   "outputs": [
    {
     "data": {
      "text/plain": [
       "0"
      ]
     },
     "execution_count": 51,
     "metadata": {},
     "output_type": "execute_result"
    }
   ],
   "source": [
    "train_data.isna().sum().sum()"
   ]
  },
  {
   "cell_type": "code",
   "execution_count": 52,
   "id": "61a7b9ef",
   "metadata": {
    "execution": {
     "iopub.execute_input": "2022-10-31T03:08:58.684425Z",
     "iopub.status.busy": "2022-10-31T03:08:58.683954Z",
     "iopub.status.idle": "2022-10-31T03:08:58.690108Z",
     "shell.execute_reply": "2022-10-31T03:08:58.689328Z"
    },
    "papermill": {
     "duration": 0.034419,
     "end_time": "2022-10-31T03:08:58.692069",
     "exception": false,
     "start_time": "2022-10-31T03:08:58.657650",
     "status": "completed"
    },
    "tags": []
   },
   "outputs": [
    {
     "data": {
      "text/plain": [
       "(1433, 75)"
      ]
     },
     "execution_count": 52,
     "metadata": {},
     "output_type": "execute_result"
    }
   ],
   "source": [
    "train_data.shape"
   ]
  },
  {
   "cell_type": "code",
   "execution_count": 53,
   "id": "950dc3c7",
   "metadata": {
    "execution": {
     "iopub.execute_input": "2022-10-31T03:08:58.744021Z",
     "iopub.status.busy": "2022-10-31T03:08:58.743336Z",
     "iopub.status.idle": "2022-10-31T03:08:58.759001Z",
     "shell.execute_reply": "2022-10-31T03:08:58.757874Z"
    },
    "papermill": {
     "duration": 0.044427,
     "end_time": "2022-10-31T03:08:58.761386",
     "exception": false,
     "start_time": "2022-10-31T03:08:58.716959",
     "status": "completed"
    },
    "tags": []
   },
   "outputs": [
    {
     "data": {
      "text/plain": [
       "['MSZoning',\n",
       " 'LotShape',\n",
       " 'LandContour',\n",
       " 'LotConfig',\n",
       " 'LandSlope',\n",
       " 'Neighborhood',\n",
       " 'Condition1',\n",
       " 'Condition2',\n",
       " 'BldgType',\n",
       " 'HouseStyle',\n",
       " 'RoofStyle',\n",
       " 'RoofMatl',\n",
       " 'Exterior1st',\n",
       " 'Exterior2nd',\n",
       " 'MasVnrType',\n",
       " 'ExterQual',\n",
       " 'ExterCond',\n",
       " 'Foundation',\n",
       " 'BsmtQual',\n",
       " 'BsmtCond',\n",
       " 'BsmtExposure',\n",
       " 'BsmtFinType1',\n",
       " 'BsmtFinType2',\n",
       " 'Heating',\n",
       " 'HeatingQC',\n",
       " 'Electrical',\n",
       " 'KitchenQual',\n",
       " 'Functional',\n",
       " 'GarageType',\n",
       " 'GarageFinish',\n",
       " 'GarageQual',\n",
       " 'GarageCond',\n",
       " 'PavedDrive',\n",
       " 'SaleType',\n",
       " 'SaleCondition']"
      ]
     },
     "execution_count": 53,
     "metadata": {},
     "output_type": "execute_result"
    }
   ],
   "source": [
    "OneHot_train_data = [col for col in train_data.columns if (train_data[col].dtypes == 'object' and train_data[col].nunique() > 2)]\n",
    "OneHot_train_data"
   ]
  },
  {
   "cell_type": "code",
   "execution_count": 54,
   "id": "03930e03",
   "metadata": {
    "execution": {
     "iopub.execute_input": "2022-10-31T03:08:58.814443Z",
     "iopub.status.busy": "2022-10-31T03:08:58.813646Z",
     "iopub.status.idle": "2022-10-31T03:08:58.829194Z",
     "shell.execute_reply": "2022-10-31T03:08:58.828125Z"
    },
    "papermill": {
     "duration": 0.04478,
     "end_time": "2022-10-31T03:08:58.831528",
     "exception": false,
     "start_time": "2022-10-31T03:08:58.786748",
     "status": "completed"
    },
    "tags": []
   },
   "outputs": [
    {
     "data": {
      "text/plain": [
       "['Street', 'Utilities', 'CentralAir']"
      ]
     },
     "execution_count": 54,
     "metadata": {},
     "output_type": "execute_result"
    }
   ],
   "source": [
    "Label_train_data = [col for col in train_data.columns if (train_data[col].dtypes == 'object' and train_data[col].nunique() <= 2)]\n",
    "Label_train_data"
   ]
  },
  {
   "cell_type": "markdown",
   "id": "2a09a4a1",
   "metadata": {
    "papermill": {
     "duration": 0.024904,
     "end_time": "2022-10-31T03:08:58.881911",
     "exception": false,
     "start_time": "2022-10-31T03:08:58.857007",
     "status": "completed"
    },
    "tags": []
   },
   "source": [
    "# Encoding train data"
   ]
  },
  {
   "cell_type": "code",
   "execution_count": 55,
   "id": "b635665f",
   "metadata": {
    "execution": {
     "iopub.execute_input": "2022-10-31T03:08:58.935835Z",
     "iopub.status.busy": "2022-10-31T03:08:58.935010Z",
     "iopub.status.idle": "2022-10-31T03:08:58.946127Z",
     "shell.execute_reply": "2022-10-31T03:08:58.945283Z"
    },
    "papermill": {
     "duration": 0.04144,
     "end_time": "2022-10-31T03:08:58.948895",
     "exception": false,
     "start_time": "2022-10-31T03:08:58.907455",
     "status": "completed"
    },
    "tags": []
   },
   "outputs": [],
   "source": [
    "from sklearn.preprocessing import LabelEncoder\n",
    "L = train_data[Label_train_data] = train_data[Label_train_data].apply(LabelEncoder().fit_transform)\n",
    "L = np.array(L)"
   ]
  },
  {
   "cell_type": "code",
   "execution_count": 56,
   "id": "fd729e81",
   "metadata": {
    "execution": {
     "iopub.execute_input": "2022-10-31T03:08:59.002271Z",
     "iopub.status.busy": "2022-10-31T03:08:59.001437Z",
     "iopub.status.idle": "2022-10-31T03:08:59.008609Z",
     "shell.execute_reply": "2022-10-31T03:08:59.007686Z"
    },
    "papermill": {
     "duration": 0.03661,
     "end_time": "2022-10-31T03:08:59.010916",
     "exception": false,
     "start_time": "2022-10-31T03:08:58.974306",
     "status": "completed"
    },
    "tags": []
   },
   "outputs": [
    {
     "data": {
      "text/plain": [
       "array([[1, 0, 1],\n",
       "       [1, 0, 1],\n",
       "       [1, 0, 1],\n",
       "       ...,\n",
       "       [1, 0, 1],\n",
       "       [1, 0, 1],\n",
       "       [1, 0, 1]])"
      ]
     },
     "execution_count": 56,
     "metadata": {},
     "output_type": "execute_result"
    }
   ],
   "source": [
    "L"
   ]
  },
  {
   "cell_type": "code",
   "execution_count": 57,
   "id": "fbda7cf8",
   "metadata": {
    "execution": {
     "iopub.execute_input": "2022-10-31T03:08:59.064806Z",
     "iopub.status.busy": "2022-10-31T03:08:59.063975Z",
     "iopub.status.idle": "2022-10-31T03:08:59.075582Z",
     "shell.execute_reply": "2022-10-31T03:08:59.074540Z"
    },
    "papermill": {
     "duration": 0.04212,
     "end_time": "2022-10-31T03:08:59.078171",
     "exception": false,
     "start_time": "2022-10-31T03:08:59.036051",
     "status": "completed"
    },
    "tags": []
   },
   "outputs": [],
   "source": [
    "X = train_data.iloc[:, :-1].values\n",
    "y = train_data.iloc[:,-1].values"
   ]
  },
  {
   "cell_type": "code",
   "execution_count": 58,
   "id": "b609bc0d",
   "metadata": {
    "execution": {
     "iopub.execute_input": "2022-10-31T03:08:59.130959Z",
     "iopub.status.busy": "2022-10-31T03:08:59.130172Z",
     "iopub.status.idle": "2022-10-31T03:08:59.136990Z",
     "shell.execute_reply": "2022-10-31T03:08:59.136147Z"
    },
    "papermill": {
     "duration": 0.035876,
     "end_time": "2022-10-31T03:08:59.139210",
     "exception": false,
     "start_time": "2022-10-31T03:08:59.103334",
     "status": "completed"
    },
    "tags": []
   },
   "outputs": [
    {
     "data": {
      "text/plain": [
       "(1433, 74)"
      ]
     },
     "execution_count": 58,
     "metadata": {},
     "output_type": "execute_result"
    }
   ],
   "source": [
    "X.shape"
   ]
  },
  {
   "cell_type": "code",
   "execution_count": 59,
   "id": "11253394",
   "metadata": {
    "execution": {
     "iopub.execute_input": "2022-10-31T03:08:59.193312Z",
     "iopub.status.busy": "2022-10-31T03:08:59.192501Z",
     "iopub.status.idle": "2022-10-31T03:08:59.199782Z",
     "shell.execute_reply": "2022-10-31T03:08:59.198648Z"
    },
    "papermill": {
     "duration": 0.037044,
     "end_time": "2022-10-31T03:08:59.202022",
     "exception": false,
     "start_time": "2022-10-31T03:08:59.164978",
     "status": "completed"
    },
    "tags": []
   },
   "outputs": [
    {
     "data": {
      "text/plain": [
       "array([208500, 181500, 223500, ..., 266500, 142125, 147500])"
      ]
     },
     "execution_count": 59,
     "metadata": {},
     "output_type": "execute_result"
    }
   ],
   "source": [
    "y"
   ]
  },
  {
   "cell_type": "code",
   "execution_count": 60,
   "id": "6aa90e01",
   "metadata": {
    "execution": {
     "iopub.execute_input": "2022-10-31T03:08:59.256154Z",
     "iopub.status.busy": "2022-10-31T03:08:59.255528Z",
     "iopub.status.idle": "2022-10-31T03:08:59.260469Z",
     "shell.execute_reply": "2022-10-31T03:08:59.259454Z"
    },
    "papermill": {
     "duration": 0.035266,
     "end_time": "2022-10-31T03:08:59.262691",
     "exception": false,
     "start_time": "2022-10-31T03:08:59.227425",
     "status": "completed"
    },
    "tags": []
   },
   "outputs": [],
   "source": [
    "unique_col_index = []\n",
    "for i in OneHot_train_data:\n",
    "    unique_col_index.append(train_data.columns.get_loc(i))     "
   ]
  },
  {
   "cell_type": "code",
   "execution_count": 61,
   "id": "0c9ff203",
   "metadata": {
    "execution": {
     "iopub.execute_input": "2022-10-31T03:08:59.316300Z",
     "iopub.status.busy": "2022-10-31T03:08:59.315839Z",
     "iopub.status.idle": "2022-10-31T03:08:59.375469Z",
     "shell.execute_reply": "2022-10-31T03:08:59.374255Z"
    },
    "papermill": {
     "duration": 0.08951,
     "end_time": "2022-10-31T03:08:59.378258",
     "exception": false,
     "start_time": "2022-10-31T03:08:59.288748",
     "status": "completed"
    },
    "tags": []
   },
   "outputs": [],
   "source": [
    "from sklearn.compose import ColumnTransformer\n",
    "from sklearn.preprocessing import OneHotEncoder\n",
    "ct = ColumnTransformer(transformers =[('enc', OneHotEncoder(sparse = False, drop ='first'), unique_col_index), ], remainder ='passthrough')\n",
    "X = np.array(ct.fit_transform(X))"
   ]
  },
  {
   "cell_type": "code",
   "execution_count": 62,
   "id": "1ba01fde",
   "metadata": {
    "execution": {
     "iopub.execute_input": "2022-10-31T03:08:59.431680Z",
     "iopub.status.busy": "2022-10-31T03:08:59.431226Z",
     "iopub.status.idle": "2022-10-31T03:08:59.440531Z",
     "shell.execute_reply": "2022-10-31T03:08:59.439723Z"
    },
    "papermill": {
     "duration": 0.038313,
     "end_time": "2022-10-31T03:08:59.442513",
     "exception": false,
     "start_time": "2022-10-31T03:08:59.404200",
     "status": "completed"
    },
    "tags": []
   },
   "outputs": [
    {
     "data": {
      "text/plain": [
       "array([[0.0, 0.0, 1.0, ..., 1, 0, 1],\n",
       "       [0.0, 0.0, 1.0, ..., 1, 0, 1],\n",
       "       [0.0, 0.0, 1.0, ..., 1, 0, 1],\n",
       "       ...,\n",
       "       [0.0, 0.0, 1.0, ..., 1, 0, 1],\n",
       "       [0.0, 0.0, 1.0, ..., 1, 0, 1],\n",
       "       [0.0, 0.0, 1.0, ..., 1, 0, 1]], dtype=object)"
      ]
     },
     "execution_count": 62,
     "metadata": {},
     "output_type": "execute_result"
    }
   ],
   "source": [
    "main_train = np.concatenate((X,L), axis = 1)\n",
    "main_train"
   ]
  },
  {
   "cell_type": "code",
   "execution_count": 63,
   "id": "81f408e2",
   "metadata": {
    "execution": {
     "iopub.execute_input": "2022-10-31T03:08:59.495847Z",
     "iopub.status.busy": "2022-10-31T03:08:59.495206Z",
     "iopub.status.idle": "2022-10-31T03:08:59.501265Z",
     "shell.execute_reply": "2022-10-31T03:08:59.500061Z"
    },
    "papermill": {
     "duration": 0.035407,
     "end_time": "2022-10-31T03:08:59.503606",
     "exception": false,
     "start_time": "2022-10-31T03:08:59.468199",
     "status": "completed"
    },
    "tags": []
   },
   "outputs": [
    {
     "data": {
      "text/plain": [
       "(1433, 219)"
      ]
     },
     "execution_count": 63,
     "metadata": {},
     "output_type": "execute_result"
    }
   ],
   "source": [
    "main_train.shape"
   ]
  },
  {
   "cell_type": "markdown",
   "id": "7aadb3f5",
   "metadata": {
    "papermill": {
     "duration": 0.026365,
     "end_time": "2022-10-31T03:08:59.559014",
     "exception": false,
     "start_time": "2022-10-31T03:08:59.532649",
     "status": "completed"
    },
    "tags": []
   },
   "source": [
    "## Find no of unique categorical data of test data"
   ]
  },
  {
   "cell_type": "code",
   "execution_count": 64,
   "id": "218f49db",
   "metadata": {
    "execution": {
     "iopub.execute_input": "2022-10-31T03:08:59.612365Z",
     "iopub.status.busy": "2022-10-31T03:08:59.611491Z",
     "iopub.status.idle": "2022-10-31T03:08:59.631852Z",
     "shell.execute_reply": "2022-10-31T03:08:59.629993Z"
    },
    "papermill": {
     "duration": 0.049791,
     "end_time": "2022-10-31T03:08:59.634359",
     "exception": false,
     "start_time": "2022-10-31T03:08:59.584568",
     "status": "completed"
    },
    "tags": []
   },
   "outputs": [
    {
     "name": "stdout",
     "output_type": "stream",
     "text": [
      "MSZoning : 5\n",
      "Street : 2\n",
      "LotShape : 4\n",
      "LandContour : 4\n",
      "Utilities : 1\n",
      "LotConfig : 5\n",
      "LandSlope : 3\n",
      "Neighborhood : 25\n",
      "Condition1 : 9\n",
      "Condition2 : 5\n",
      "BldgType : 5\n",
      "HouseStyle : 7\n",
      "RoofStyle : 6\n",
      "RoofMatl : 4\n",
      "Exterior1st : 13\n",
      "Exterior2nd : 15\n",
      "MasVnrType : 4\n",
      "ExterQual : 4\n",
      "ExterCond : 5\n",
      "Foundation : 6\n",
      "BsmtQual : 4\n",
      "BsmtCond : 4\n",
      "BsmtExposure : 4\n",
      "BsmtFinType1 : 6\n",
      "BsmtFinType2 : 6\n",
      "Heating : 4\n",
      "HeatingQC : 5\n",
      "CentralAir : 2\n",
      "Electrical : 4\n",
      "KitchenQual : 4\n",
      "Functional : 7\n",
      "GarageType : 6\n",
      "GarageFinish : 3\n",
      "GarageQual : 4\n",
      "GarageCond : 5\n",
      "PavedDrive : 3\n",
      "SaleType : 9\n",
      "SaleCondition : 6\n"
     ]
    }
   ],
   "source": [
    "for i in test_data.columns:\n",
    "    if test_data[i].dtypes == 'object':\n",
    "        print(f\"{i} : {test_data[i].nunique()}\")"
   ]
  },
  {
   "cell_type": "code",
   "execution_count": 65,
   "id": "ad2f44d4",
   "metadata": {
    "execution": {
     "iopub.execute_input": "2022-10-31T03:08:59.688080Z",
     "iopub.status.busy": "2022-10-31T03:08:59.687688Z",
     "iopub.status.idle": "2022-10-31T03:08:59.699607Z",
     "shell.execute_reply": "2022-10-31T03:08:59.698143Z"
    },
    "papermill": {
     "duration": 0.042108,
     "end_time": "2022-10-31T03:08:59.702351",
     "exception": false,
     "start_time": "2022-10-31T03:08:59.660243",
     "status": "completed"
    },
    "tags": []
   },
   "outputs": [
    {
     "data": {
      "text/plain": [
       "GarageCond  GarageCond\n",
       "Fa          Fa              32\n",
       "Gd          Gd               8\n",
       "Po          Po               6\n",
       "TA          TA            1387\n",
       "Name: GarageCond, dtype: int64"
      ]
     },
     "execution_count": 65,
     "metadata": {},
     "output_type": "execute_result"
    }
   ],
   "source": [
    "train_data.groupby('GarageCond')['GarageCond'].value_counts()"
   ]
  },
  {
   "cell_type": "code",
   "execution_count": 66,
   "id": "cc7ff1bb",
   "metadata": {
    "execution": {
     "iopub.execute_input": "2022-10-31T03:08:59.758878Z",
     "iopub.status.busy": "2022-10-31T03:08:59.758043Z",
     "iopub.status.idle": "2022-10-31T03:08:59.767368Z",
     "shell.execute_reply": "2022-10-31T03:08:59.766533Z"
    },
    "papermill": {
     "duration": 0.039287,
     "end_time": "2022-10-31T03:08:59.769416",
     "exception": false,
     "start_time": "2022-10-31T03:08:59.730129",
     "status": "completed"
    },
    "tags": []
   },
   "outputs": [
    {
     "data": {
      "text/plain": [
       "GarageCond  GarageCond\n",
       "Ex          Ex               1\n",
       "Fa          Fa              39\n",
       "Gd          Gd               6\n",
       "Po          Po               7\n",
       "TA          TA            1406\n",
       "Name: GarageCond, dtype: int64"
      ]
     },
     "execution_count": 66,
     "metadata": {},
     "output_type": "execute_result"
    }
   ],
   "source": [
    "test_data.groupby('GarageCond')['GarageCond'].value_counts()"
   ]
  },
  {
   "cell_type": "code",
   "execution_count": 67,
   "id": "4eb77261",
   "metadata": {
    "execution": {
     "iopub.execute_input": "2022-10-31T03:08:59.823794Z",
     "iopub.status.busy": "2022-10-31T03:08:59.823008Z",
     "iopub.status.idle": "2022-10-31T03:08:59.830843Z",
     "shell.execute_reply": "2022-10-31T03:08:59.829686Z"
    },
    "papermill": {
     "duration": 0.037495,
     "end_time": "2022-10-31T03:08:59.833163",
     "exception": false,
     "start_time": "2022-10-31T03:08:59.795668",
     "status": "completed"
    },
    "tags": []
   },
   "outputs": [],
   "source": [
    "D9 = test_data[(test_data['GarageCond'] == 'Ex')].index\n",
    "test_data.drop(D9, inplace = True)"
   ]
  },
  {
   "cell_type": "code",
   "execution_count": 68,
   "id": "ad7b658a",
   "metadata": {
    "execution": {
     "iopub.execute_input": "2022-10-31T03:08:59.887300Z",
     "iopub.status.busy": "2022-10-31T03:08:59.886843Z",
     "iopub.status.idle": "2022-10-31T03:08:59.907089Z",
     "shell.execute_reply": "2022-10-31T03:08:59.905797Z"
    },
    "papermill": {
     "duration": 0.050142,
     "end_time": "2022-10-31T03:08:59.909516",
     "exception": false,
     "start_time": "2022-10-31T03:08:59.859374",
     "status": "completed"
    },
    "tags": []
   },
   "outputs": [
    {
     "data": {
      "text/plain": [
       "['MSZoning',\n",
       " 'LotShape',\n",
       " 'LandContour',\n",
       " 'LotConfig',\n",
       " 'LandSlope',\n",
       " 'Neighborhood',\n",
       " 'Condition1',\n",
       " 'Condition2',\n",
       " 'BldgType',\n",
       " 'HouseStyle',\n",
       " 'RoofStyle',\n",
       " 'RoofMatl',\n",
       " 'Exterior1st',\n",
       " 'Exterior2nd',\n",
       " 'MasVnrType',\n",
       " 'ExterQual',\n",
       " 'ExterCond',\n",
       " 'Foundation',\n",
       " 'BsmtQual',\n",
       " 'BsmtCond',\n",
       " 'BsmtExposure',\n",
       " 'BsmtFinType1',\n",
       " 'BsmtFinType2',\n",
       " 'Heating',\n",
       " 'HeatingQC',\n",
       " 'Electrical',\n",
       " 'KitchenQual',\n",
       " 'Functional',\n",
       " 'GarageType',\n",
       " 'GarageFinish',\n",
       " 'GarageQual',\n",
       " 'GarageCond',\n",
       " 'PavedDrive',\n",
       " 'SaleType',\n",
       " 'SaleCondition']"
      ]
     },
     "execution_count": 68,
     "metadata": {},
     "output_type": "execute_result"
    }
   ],
   "source": [
    "OneHot_test_data = [col for col in test_data.columns if (test_data[col].dtypes == 'object' and test_data[col].nunique() > 2)]\n",
    "OneHot_test_data"
   ]
  },
  {
   "cell_type": "code",
   "execution_count": 69,
   "id": "15a45f1f",
   "metadata": {
    "execution": {
     "iopub.execute_input": "2022-10-31T03:08:59.963965Z",
     "iopub.status.busy": "2022-10-31T03:08:59.963539Z",
     "iopub.status.idle": "2022-10-31T03:08:59.980651Z",
     "shell.execute_reply": "2022-10-31T03:08:59.979479Z"
    },
    "papermill": {
     "duration": 0.047121,
     "end_time": "2022-10-31T03:08:59.982880",
     "exception": false,
     "start_time": "2022-10-31T03:08:59.935759",
     "status": "completed"
    },
    "tags": []
   },
   "outputs": [
    {
     "data": {
      "text/plain": [
       "['Street', 'Utilities', 'CentralAir']"
      ]
     },
     "execution_count": 69,
     "metadata": {},
     "output_type": "execute_result"
    }
   ],
   "source": [
    "Label_test_data = [col for col in test_data.columns if (test_data[col].dtypes == 'object' and test_data[col].nunique() <= 2)]\n",
    "Label_test_data"
   ]
  },
  {
   "cell_type": "markdown",
   "id": "e435010b",
   "metadata": {
    "papermill": {
     "duration": 0.025876,
     "end_time": "2022-10-31T03:09:00.035235",
     "exception": false,
     "start_time": "2022-10-31T03:09:00.009359",
     "status": "completed"
    },
    "tags": []
   },
   "source": [
    "# Encoding test data"
   ]
  },
  {
   "cell_type": "code",
   "execution_count": 70,
   "id": "b5bf2815",
   "metadata": {
    "execution": {
     "iopub.execute_input": "2022-10-31T03:09:00.091471Z",
     "iopub.status.busy": "2022-10-31T03:09:00.091031Z",
     "iopub.status.idle": "2022-10-31T03:09:00.102510Z",
     "shell.execute_reply": "2022-10-31T03:09:00.101404Z"
    },
    "papermill": {
     "duration": 0.042787,
     "end_time": "2022-10-31T03:09:00.104665",
     "exception": false,
     "start_time": "2022-10-31T03:09:00.061878",
     "status": "completed"
    },
    "tags": []
   },
   "outputs": [],
   "source": [
    "from sklearn.preprocessing import LabelEncoder\n",
    "L1 = test_data[Label_test_data] = test_data[Label_test_data].apply(LabelEncoder().fit_transform)\n",
    "L1 = np.array(L1)"
   ]
  },
  {
   "cell_type": "code",
   "execution_count": 71,
   "id": "1786dc65",
   "metadata": {
    "execution": {
     "iopub.execute_input": "2022-10-31T03:09:00.159730Z",
     "iopub.status.busy": "2022-10-31T03:09:00.159276Z",
     "iopub.status.idle": "2022-10-31T03:09:00.166843Z",
     "shell.execute_reply": "2022-10-31T03:09:00.165741Z"
    },
    "papermill": {
     "duration": 0.038102,
     "end_time": "2022-10-31T03:09:00.169175",
     "exception": false,
     "start_time": "2022-10-31T03:09:00.131073",
     "status": "completed"
    },
    "tags": []
   },
   "outputs": [
    {
     "data": {
      "text/plain": [
       "array([[1, 0, 1],\n",
       "       [1, 0, 1],\n",
       "       [1, 0, 1],\n",
       "       ...,\n",
       "       [1, 0, 1],\n",
       "       [1, 0, 1],\n",
       "       [1, 0, 1]])"
      ]
     },
     "execution_count": 71,
     "metadata": {},
     "output_type": "execute_result"
    }
   ],
   "source": [
    "L1"
   ]
  },
  {
   "cell_type": "code",
   "execution_count": 72,
   "id": "7c4858b1",
   "metadata": {
    "execution": {
     "iopub.execute_input": "2022-10-31T03:09:00.225652Z",
     "iopub.status.busy": "2022-10-31T03:09:00.225210Z",
     "iopub.status.idle": "2022-10-31T03:09:00.235000Z",
     "shell.execute_reply": "2022-10-31T03:09:00.233606Z"
    },
    "papermill": {
     "duration": 0.041545,
     "end_time": "2022-10-31T03:09:00.237673",
     "exception": false,
     "start_time": "2022-10-31T03:09:00.196128",
     "status": "completed"
    },
    "tags": []
   },
   "outputs": [],
   "source": [
    "X1 = test_data.iloc[:, :].values"
   ]
  },
  {
   "cell_type": "code",
   "execution_count": 73,
   "id": "9d20be41",
   "metadata": {
    "execution": {
     "iopub.execute_input": "2022-10-31T03:09:00.294799Z",
     "iopub.status.busy": "2022-10-31T03:09:00.294357Z",
     "iopub.status.idle": "2022-10-31T03:09:00.301209Z",
     "shell.execute_reply": "2022-10-31T03:09:00.300147Z"
    },
    "papermill": {
     "duration": 0.038252,
     "end_time": "2022-10-31T03:09:00.303500",
     "exception": false,
     "start_time": "2022-10-31T03:09:00.265248",
     "status": "completed"
    },
    "tags": []
   },
   "outputs": [
    {
     "data": {
      "text/plain": [
       "(1458, 74)"
      ]
     },
     "execution_count": 73,
     "metadata": {},
     "output_type": "execute_result"
    }
   ],
   "source": [
    "X1.shape"
   ]
  },
  {
   "cell_type": "code",
   "execution_count": 74,
   "id": "826216a3",
   "metadata": {
    "execution": {
     "iopub.execute_input": "2022-10-31T03:09:00.358316Z",
     "iopub.status.busy": "2022-10-31T03:09:00.357749Z",
     "iopub.status.idle": "2022-10-31T03:09:00.363566Z",
     "shell.execute_reply": "2022-10-31T03:09:00.362410Z"
    },
    "papermill": {
     "duration": 0.0358,
     "end_time": "2022-10-31T03:09:00.365775",
     "exception": false,
     "start_time": "2022-10-31T03:09:00.329975",
     "status": "completed"
    },
    "tags": []
   },
   "outputs": [],
   "source": [
    "unique_col_index_test = []\n",
    "for i in OneHot_test_data:\n",
    "    unique_col_index_test.append(test_data.columns.get_loc(i))     "
   ]
  },
  {
   "cell_type": "code",
   "execution_count": 75,
   "id": "a27c410d",
   "metadata": {
    "execution": {
     "iopub.execute_input": "2022-10-31T03:09:00.420780Z",
     "iopub.status.busy": "2022-10-31T03:09:00.420340Z",
     "iopub.status.idle": "2022-10-31T03:09:00.473385Z",
     "shell.execute_reply": "2022-10-31T03:09:00.471975Z"
    },
    "papermill": {
     "duration": 0.083745,
     "end_time": "2022-10-31T03:09:00.476070",
     "exception": false,
     "start_time": "2022-10-31T03:09:00.392325",
     "status": "completed"
    },
    "tags": []
   },
   "outputs": [],
   "source": [
    "from sklearn.compose import ColumnTransformer\n",
    "from sklearn.preprocessing import OneHotEncoder\n",
    "ct1 = ColumnTransformer(transformers =[('enc', OneHotEncoder(sparse = False, drop ='first'), unique_col_index_test), ], remainder ='passthrough')\n",
    "X1 = np.array(ct1.fit_transform(X1))"
   ]
  },
  {
   "cell_type": "code",
   "execution_count": 76,
   "id": "13535249",
   "metadata": {
    "execution": {
     "iopub.execute_input": "2022-10-31T03:09:00.531190Z",
     "iopub.status.busy": "2022-10-31T03:09:00.530761Z",
     "iopub.status.idle": "2022-10-31T03:09:00.538144Z",
     "shell.execute_reply": "2022-10-31T03:09:00.536989Z"
    },
    "papermill": {
     "duration": 0.038039,
     "end_time": "2022-10-31T03:09:00.540440",
     "exception": false,
     "start_time": "2022-10-31T03:09:00.502401",
     "status": "completed"
    },
    "tags": []
   },
   "outputs": [],
   "source": [
    "main_test = np.concatenate((X1, L1), axis = 1)"
   ]
  },
  {
   "cell_type": "code",
   "execution_count": 77,
   "id": "187026a5",
   "metadata": {
    "execution": {
     "iopub.execute_input": "2022-10-31T03:09:00.595249Z",
     "iopub.status.busy": "2022-10-31T03:09:00.594803Z",
     "iopub.status.idle": "2022-10-31T03:09:00.601974Z",
     "shell.execute_reply": "2022-10-31T03:09:00.600822Z"
    },
    "papermill": {
     "duration": 0.036817,
     "end_time": "2022-10-31T03:09:00.604230",
     "exception": false,
     "start_time": "2022-10-31T03:09:00.567413",
     "status": "completed"
    },
    "tags": []
   },
   "outputs": [
    {
     "data": {
      "text/plain": [
       "array([[0.0, 1.0, 0.0, ..., 1, 0, 1],\n",
       "       [0.0, 0.0, 1.0, ..., 1, 0, 1],\n",
       "       [0.0, 0.0, 1.0, ..., 1, 0, 1],\n",
       "       ...,\n",
       "       [0.0, 0.0, 1.0, ..., 1, 0, 1],\n",
       "       [0.0, 0.0, 1.0, ..., 1, 0, 1],\n",
       "       [0.0, 0.0, 1.0, ..., 1, 0, 1]], dtype=object)"
      ]
     },
     "execution_count": 77,
     "metadata": {},
     "output_type": "execute_result"
    }
   ],
   "source": [
    "main_test"
   ]
  },
  {
   "cell_type": "code",
   "execution_count": 78,
   "id": "88b1721a",
   "metadata": {
    "execution": {
     "iopub.execute_input": "2022-10-31T03:09:00.659553Z",
     "iopub.status.busy": "2022-10-31T03:09:00.658393Z",
     "iopub.status.idle": "2022-10-31T03:09:00.666283Z",
     "shell.execute_reply": "2022-10-31T03:09:00.664837Z"
    },
    "papermill": {
     "duration": 0.037902,
     "end_time": "2022-10-31T03:09:00.668698",
     "exception": false,
     "start_time": "2022-10-31T03:09:00.630796",
     "status": "completed"
    },
    "tags": []
   },
   "outputs": [
    {
     "data": {
      "text/plain": [
       "(1458, 219)"
      ]
     },
     "execution_count": 78,
     "metadata": {},
     "output_type": "execute_result"
    }
   ],
   "source": [
    "main_test.shape"
   ]
  },
  {
   "cell_type": "markdown",
   "id": "4ddae6e6",
   "metadata": {
    "papermill": {
     "duration": 0.02621,
     "end_time": "2022-10-31T03:09:00.721443",
     "exception": false,
     "start_time": "2022-10-31T03:09:00.695233",
     "status": "completed"
    },
    "tags": []
   },
   "source": [
    "# Train Random Forest Regression upon train data."
   ]
  },
  {
   "cell_type": "code",
   "execution_count": 79,
   "id": "11360672",
   "metadata": {
    "execution": {
     "iopub.execute_input": "2022-10-31T03:09:00.776197Z",
     "iopub.status.busy": "2022-10-31T03:09:00.775710Z",
     "iopub.status.idle": "2022-10-31T03:09:15.352239Z",
     "shell.execute_reply": "2022-10-31T03:09:15.350939Z"
    },
    "papermill": {
     "duration": 14.606977,
     "end_time": "2022-10-31T03:09:15.354969",
     "exception": false,
     "start_time": "2022-10-31T03:09:00.747992",
     "status": "completed"
    },
    "tags": []
   },
   "outputs": [
    {
     "data": {
      "text/plain": [
       "RandomForestRegressor(n_estimators=500, random_state=0)"
      ]
     },
     "execution_count": 79,
     "metadata": {},
     "output_type": "execute_result"
    }
   ],
   "source": [
    "from sklearn.ensemble import RandomForestRegressor\n",
    "regressor = RandomForestRegressor(n_estimators = 500, random_state = 0)\n",
    "regressor.fit(X, y)"
   ]
  },
  {
   "cell_type": "code",
   "execution_count": 80,
   "id": "e3367490",
   "metadata": {
    "execution": {
     "iopub.execute_input": "2022-10-31T03:09:15.410960Z",
     "iopub.status.busy": "2022-10-31T03:09:15.409628Z",
     "iopub.status.idle": "2022-10-31T03:09:15.637581Z",
     "shell.execute_reply": "2022-10-31T03:09:15.636381Z"
    },
    "papermill": {
     "duration": 0.258749,
     "end_time": "2022-10-31T03:09:15.640533",
     "exception": false,
     "start_time": "2022-10-31T03:09:15.381784",
     "status": "completed"
    },
    "tags": []
   },
   "outputs": [],
   "source": [
    "y_pred = regressor.predict(X1)"
   ]
  },
  {
   "cell_type": "code",
   "execution_count": 81,
   "id": "ee41ff2b",
   "metadata": {
    "execution": {
     "iopub.execute_input": "2022-10-31T03:09:15.695931Z",
     "iopub.status.busy": "2022-10-31T03:09:15.694695Z",
     "iopub.status.idle": "2022-10-31T03:09:15.702398Z",
     "shell.execute_reply": "2022-10-31T03:09:15.701480Z"
    },
    "papermill": {
     "duration": 0.03764,
     "end_time": "2022-10-31T03:09:15.704691",
     "exception": false,
     "start_time": "2022-10-31T03:09:15.667051",
     "status": "completed"
    },
    "tags": []
   },
   "outputs": [
    {
     "data": {
      "text/plain": [
       "array([129184.674, 154896.814, 181839.802, ..., 152588.464, 114310.874,\n",
       "       224928.688])"
      ]
     },
     "execution_count": 81,
     "metadata": {},
     "output_type": "execute_result"
    }
   ],
   "source": [
    "y_pred"
   ]
  }
 ],
 "metadata": {
  "kernelspec": {
   "display_name": "Python 3",
   "language": "python",
   "name": "python3"
  },
  "language_info": {
   "codemirror_mode": {
    "name": "ipython",
    "version": 3
   },
   "file_extension": ".py",
   "mimetype": "text/x-python",
   "name": "python",
   "nbconvert_exporter": "python",
   "pygments_lexer": "ipython3",
   "version": "3.7.12"
  },
  "papermill": {
   "default_parameters": {},
   "duration": 33.881682,
   "end_time": "2022-10-31T03:09:16.554068",
   "environment_variables": {},
   "exception": null,
   "input_path": "__notebook__.ipynb",
   "output_path": "__notebook__.ipynb",
   "parameters": {},
   "start_time": "2022-10-31T03:08:42.672386",
   "version": "2.3.4"
  }
 },
 "nbformat": 4,
 "nbformat_minor": 5
}
