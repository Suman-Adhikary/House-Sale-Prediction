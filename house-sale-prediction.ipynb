{
 "cells": [
  {
   "cell_type": "code",
   "execution_count": 1,
   "id": "38d6f78e",
   "metadata": {
    "_cell_guid": "b1076dfc-b9ad-4769-8c92-a6c4dae69d19",
    "_uuid": "8f2839f25d086af736a60e9eeb907d3b93b6e0e5",
    "execution": {
     "iopub.execute_input": "2022-10-31T15:17:00.180689Z",
     "iopub.status.busy": "2022-10-31T15:17:00.180239Z",
     "iopub.status.idle": "2022-10-31T15:17:00.194607Z",
     "shell.execute_reply": "2022-10-31T15:17:00.193245Z"
    },
    "papermill": {
     "duration": 0.051436,
     "end_time": "2022-10-31T15:17:00.197930",
     "exception": false,
     "start_time": "2022-10-31T15:17:00.146494",
     "status": "completed"
    },
    "tags": []
   },
   "outputs": [
    {
     "name": "stdout",
     "output_type": "stream",
     "text": [
      "/kaggle/input/house-prices-advanced-regression-techniques/sample_submission.csv\n",
      "/kaggle/input/house-prices-advanced-regression-techniques/data_description.txt\n",
      "/kaggle/input/house-prices-advanced-regression-techniques/train.csv\n",
      "/kaggle/input/house-prices-advanced-regression-techniques/test.csv\n"
     ]
    }
   ],
   "source": [
    "# This Python 3 environment comes with many helpful analytics libraries installed\n",
    "# It is defined by the kaggle/python Docker image: https://github.com/kaggle/docker-python\n",
    "# For example, here's several helpful packages to load\n",
    "\n",
    "import numpy as np # linear algebra\n",
    "import pandas as pd # data processing, CSV file I/O (e.g. pd.read_csv)\n",
    "\n",
    "# Input data files are available in the read-only \"../input/\" directory\n",
    "# For example, running this (by clicking run or pressing Shift+Enter) will list all files under the input directory\n",
    "\n",
    "import os\n",
    "for dirname, _, filenames in os.walk('/kaggle/input'):\n",
    "    for filename in filenames:\n",
    "        print(os.path.join(dirname, filename))\n",
    "\n",
    "# You can write up to 20GB to the current directory (/kaggle/working/) that gets preserved as output when you create a version using \"Save & Run All\" \n",
    "# You can also write temporary files to /kaggle/temp/, but they won't be saved outside of the current session"
   ]
  },
  {
   "cell_type": "markdown",
   "id": "4f9dad39",
   "metadata": {
    "papermill": {
     "duration": 0.02028,
     "end_time": "2022-10-31T15:17:00.242975",
     "exception": false,
     "start_time": "2022-10-31T15:17:00.222695",
     "status": "completed"
    },
    "tags": []
   },
   "source": [
    "> # **Read the datasets**"
   ]
  },
  {
   "cell_type": "code",
   "execution_count": 2,
   "id": "0ec6352a",
   "metadata": {
    "execution": {
     "iopub.execute_input": "2022-10-31T15:17:00.285964Z",
     "iopub.status.busy": "2022-10-31T15:17:00.285252Z",
     "iopub.status.idle": "2022-10-31T15:17:00.372478Z",
     "shell.execute_reply": "2022-10-31T15:17:00.371292Z"
    },
    "papermill": {
     "duration": 0.111328,
     "end_time": "2022-10-31T15:17:00.374967",
     "exception": false,
     "start_time": "2022-10-31T15:17:00.263639",
     "status": "completed"
    },
    "tags": []
   },
   "outputs": [],
   "source": [
    "train_data = pd.read_csv('/kaggle/input/house-prices-advanced-regression-techniques/train.csv')\n",
    "test_data = pd.read_csv('/kaggle/input/house-prices-advanced-regression-techniques/test.csv')"
   ]
  },
  {
   "cell_type": "markdown",
   "id": "2c4d61a0",
   "metadata": {
    "papermill": {
     "duration": 0.021817,
     "end_time": "2022-10-31T15:17:00.416919",
     "exception": false,
     "start_time": "2022-10-31T15:17:00.395102",
     "status": "completed"
    },
    "tags": []
   },
   "source": [
    "> # **Feature Engineering**"
   ]
  },
  {
   "cell_type": "markdown",
   "id": "fe761d79",
   "metadata": {
    "papermill": {
     "duration": 0.018901,
     "end_time": "2022-10-31T15:17:00.455450",
     "exception": false,
     "start_time": "2022-10-31T15:17:00.436549",
     "status": "completed"
    },
    "tags": []
   },
   "source": [
    "## Drop the column where missing value greater then 1000"
   ]
  },
  {
   "cell_type": "code",
   "execution_count": 3,
   "id": "6b9d700f",
   "metadata": {
    "execution": {
     "iopub.execute_input": "2022-10-31T15:17:00.496727Z",
     "iopub.status.busy": "2022-10-31T15:17:00.495487Z",
     "iopub.status.idle": "2022-10-31T15:17:00.526297Z",
     "shell.execute_reply": "2022-10-31T15:17:00.525159Z"
    },
    "papermill": {
     "duration": 0.053883,
     "end_time": "2022-10-31T15:17:00.528597",
     "exception": false,
     "start_time": "2022-10-31T15:17:00.474714",
     "status": "completed"
    },
    "tags": []
   },
   "outputs": [
    {
     "data": {
      "text/plain": [
       "(1460, 77)"
      ]
     },
     "execution_count": 3,
     "metadata": {},
     "output_type": "execute_result"
    }
   ],
   "source": [
    "train_data = train_data.drop(train_data.columns[train_data.isna().sum() > 1000], axis = 1)\n",
    "train_data.shape"
   ]
  },
  {
   "cell_type": "code",
   "execution_count": 4,
   "id": "3acd8c53",
   "metadata": {
    "execution": {
     "iopub.execute_input": "2022-10-31T15:17:00.587962Z",
     "iopub.status.busy": "2022-10-31T15:17:00.587590Z",
     "iopub.status.idle": "2022-10-31T15:17:00.602816Z",
     "shell.execute_reply": "2022-10-31T15:17:00.601710Z"
    },
    "papermill": {
     "duration": 0.048457,
     "end_time": "2022-10-31T15:17:00.604818",
     "exception": false,
     "start_time": "2022-10-31T15:17:00.556361",
     "status": "completed"
    },
    "tags": []
   },
   "outputs": [
    {
     "data": {
      "text/plain": [
       "(1459, 76)"
      ]
     },
     "execution_count": 4,
     "metadata": {},
     "output_type": "execute_result"
    }
   ],
   "source": [
    "test_data = test_data.drop(test_data.columns[test_data.isna().sum() > 1000], axis = 1)\n",
    "test_data.shape"
   ]
  },
  {
   "cell_type": "markdown",
   "id": "23d23768",
   "metadata": {
    "papermill": {
     "duration": 0.019087,
     "end_time": "2022-10-31T15:17:00.643119",
     "exception": false,
     "start_time": "2022-10-31T15:17:00.624032",
     "status": "completed"
    },
    "tags": []
   },
   "source": [
    "## Read train and test data"
   ]
  },
  {
   "cell_type": "code",
   "execution_count": 5,
   "id": "36d30f0e",
   "metadata": {
    "execution": {
     "iopub.execute_input": "2022-10-31T15:17:00.683401Z",
     "iopub.status.busy": "2022-10-31T15:17:00.682996Z",
     "iopub.status.idle": "2022-10-31T15:17:00.723627Z",
     "shell.execute_reply": "2022-10-31T15:17:00.722638Z"
    },
    "papermill": {
     "duration": 0.063783,
     "end_time": "2022-10-31T15:17:00.726076",
     "exception": false,
     "start_time": "2022-10-31T15:17:00.662293",
     "status": "completed"
    },
    "tags": []
   },
   "outputs": [
    {
     "data": {
      "text/html": [
       "<div>\n",
       "<style scoped>\n",
       "    .dataframe tbody tr th:only-of-type {\n",
       "        vertical-align: middle;\n",
       "    }\n",
       "\n",
       "    .dataframe tbody tr th {\n",
       "        vertical-align: top;\n",
       "    }\n",
       "\n",
       "    .dataframe thead th {\n",
       "        text-align: right;\n",
       "    }\n",
       "</style>\n",
       "<table border=\"1\" class=\"dataframe\">\n",
       "  <thead>\n",
       "    <tr style=\"text-align: right;\">\n",
       "      <th></th>\n",
       "      <th>Id</th>\n",
       "      <th>MSSubClass</th>\n",
       "      <th>MSZoning</th>\n",
       "      <th>LotFrontage</th>\n",
       "      <th>LotArea</th>\n",
       "      <th>Street</th>\n",
       "      <th>LotShape</th>\n",
       "      <th>LandContour</th>\n",
       "      <th>Utilities</th>\n",
       "      <th>LotConfig</th>\n",
       "      <th>...</th>\n",
       "      <th>EnclosedPorch</th>\n",
       "      <th>3SsnPorch</th>\n",
       "      <th>ScreenPorch</th>\n",
       "      <th>PoolArea</th>\n",
       "      <th>MiscVal</th>\n",
       "      <th>MoSold</th>\n",
       "      <th>YrSold</th>\n",
       "      <th>SaleType</th>\n",
       "      <th>SaleCondition</th>\n",
       "      <th>SalePrice</th>\n",
       "    </tr>\n",
       "  </thead>\n",
       "  <tbody>\n",
       "    <tr>\n",
       "      <th>0</th>\n",
       "      <td>1</td>\n",
       "      <td>60</td>\n",
       "      <td>RL</td>\n",
       "      <td>65.0</td>\n",
       "      <td>8450</td>\n",
       "      <td>Pave</td>\n",
       "      <td>Reg</td>\n",
       "      <td>Lvl</td>\n",
       "      <td>AllPub</td>\n",
       "      <td>Inside</td>\n",
       "      <td>...</td>\n",
       "      <td>0</td>\n",
       "      <td>0</td>\n",
       "      <td>0</td>\n",
       "      <td>0</td>\n",
       "      <td>0</td>\n",
       "      <td>2</td>\n",
       "      <td>2008</td>\n",
       "      <td>WD</td>\n",
       "      <td>Normal</td>\n",
       "      <td>208500</td>\n",
       "    </tr>\n",
       "    <tr>\n",
       "      <th>1</th>\n",
       "      <td>2</td>\n",
       "      <td>20</td>\n",
       "      <td>RL</td>\n",
       "      <td>80.0</td>\n",
       "      <td>9600</td>\n",
       "      <td>Pave</td>\n",
       "      <td>Reg</td>\n",
       "      <td>Lvl</td>\n",
       "      <td>AllPub</td>\n",
       "      <td>FR2</td>\n",
       "      <td>...</td>\n",
       "      <td>0</td>\n",
       "      <td>0</td>\n",
       "      <td>0</td>\n",
       "      <td>0</td>\n",
       "      <td>0</td>\n",
       "      <td>5</td>\n",
       "      <td>2007</td>\n",
       "      <td>WD</td>\n",
       "      <td>Normal</td>\n",
       "      <td>181500</td>\n",
       "    </tr>\n",
       "    <tr>\n",
       "      <th>2</th>\n",
       "      <td>3</td>\n",
       "      <td>60</td>\n",
       "      <td>RL</td>\n",
       "      <td>68.0</td>\n",
       "      <td>11250</td>\n",
       "      <td>Pave</td>\n",
       "      <td>IR1</td>\n",
       "      <td>Lvl</td>\n",
       "      <td>AllPub</td>\n",
       "      <td>Inside</td>\n",
       "      <td>...</td>\n",
       "      <td>0</td>\n",
       "      <td>0</td>\n",
       "      <td>0</td>\n",
       "      <td>0</td>\n",
       "      <td>0</td>\n",
       "      <td>9</td>\n",
       "      <td>2008</td>\n",
       "      <td>WD</td>\n",
       "      <td>Normal</td>\n",
       "      <td>223500</td>\n",
       "    </tr>\n",
       "    <tr>\n",
       "      <th>3</th>\n",
       "      <td>4</td>\n",
       "      <td>70</td>\n",
       "      <td>RL</td>\n",
       "      <td>60.0</td>\n",
       "      <td>9550</td>\n",
       "      <td>Pave</td>\n",
       "      <td>IR1</td>\n",
       "      <td>Lvl</td>\n",
       "      <td>AllPub</td>\n",
       "      <td>Corner</td>\n",
       "      <td>...</td>\n",
       "      <td>272</td>\n",
       "      <td>0</td>\n",
       "      <td>0</td>\n",
       "      <td>0</td>\n",
       "      <td>0</td>\n",
       "      <td>2</td>\n",
       "      <td>2006</td>\n",
       "      <td>WD</td>\n",
       "      <td>Abnorml</td>\n",
       "      <td>140000</td>\n",
       "    </tr>\n",
       "    <tr>\n",
       "      <th>4</th>\n",
       "      <td>5</td>\n",
       "      <td>60</td>\n",
       "      <td>RL</td>\n",
       "      <td>84.0</td>\n",
       "      <td>14260</td>\n",
       "      <td>Pave</td>\n",
       "      <td>IR1</td>\n",
       "      <td>Lvl</td>\n",
       "      <td>AllPub</td>\n",
       "      <td>FR2</td>\n",
       "      <td>...</td>\n",
       "      <td>0</td>\n",
       "      <td>0</td>\n",
       "      <td>0</td>\n",
       "      <td>0</td>\n",
       "      <td>0</td>\n",
       "      <td>12</td>\n",
       "      <td>2008</td>\n",
       "      <td>WD</td>\n",
       "      <td>Normal</td>\n",
       "      <td>250000</td>\n",
       "    </tr>\n",
       "    <tr>\n",
       "      <th>...</th>\n",
       "      <td>...</td>\n",
       "      <td>...</td>\n",
       "      <td>...</td>\n",
       "      <td>...</td>\n",
       "      <td>...</td>\n",
       "      <td>...</td>\n",
       "      <td>...</td>\n",
       "      <td>...</td>\n",
       "      <td>...</td>\n",
       "      <td>...</td>\n",
       "      <td>...</td>\n",
       "      <td>...</td>\n",
       "      <td>...</td>\n",
       "      <td>...</td>\n",
       "      <td>...</td>\n",
       "      <td>...</td>\n",
       "      <td>...</td>\n",
       "      <td>...</td>\n",
       "      <td>...</td>\n",
       "      <td>...</td>\n",
       "      <td>...</td>\n",
       "    </tr>\n",
       "    <tr>\n",
       "      <th>1455</th>\n",
       "      <td>1456</td>\n",
       "      <td>60</td>\n",
       "      <td>RL</td>\n",
       "      <td>62.0</td>\n",
       "      <td>7917</td>\n",
       "      <td>Pave</td>\n",
       "      <td>Reg</td>\n",
       "      <td>Lvl</td>\n",
       "      <td>AllPub</td>\n",
       "      <td>Inside</td>\n",
       "      <td>...</td>\n",
       "      <td>0</td>\n",
       "      <td>0</td>\n",
       "      <td>0</td>\n",
       "      <td>0</td>\n",
       "      <td>0</td>\n",
       "      <td>8</td>\n",
       "      <td>2007</td>\n",
       "      <td>WD</td>\n",
       "      <td>Normal</td>\n",
       "      <td>175000</td>\n",
       "    </tr>\n",
       "    <tr>\n",
       "      <th>1456</th>\n",
       "      <td>1457</td>\n",
       "      <td>20</td>\n",
       "      <td>RL</td>\n",
       "      <td>85.0</td>\n",
       "      <td>13175</td>\n",
       "      <td>Pave</td>\n",
       "      <td>Reg</td>\n",
       "      <td>Lvl</td>\n",
       "      <td>AllPub</td>\n",
       "      <td>Inside</td>\n",
       "      <td>...</td>\n",
       "      <td>0</td>\n",
       "      <td>0</td>\n",
       "      <td>0</td>\n",
       "      <td>0</td>\n",
       "      <td>0</td>\n",
       "      <td>2</td>\n",
       "      <td>2010</td>\n",
       "      <td>WD</td>\n",
       "      <td>Normal</td>\n",
       "      <td>210000</td>\n",
       "    </tr>\n",
       "    <tr>\n",
       "      <th>1457</th>\n",
       "      <td>1458</td>\n",
       "      <td>70</td>\n",
       "      <td>RL</td>\n",
       "      <td>66.0</td>\n",
       "      <td>9042</td>\n",
       "      <td>Pave</td>\n",
       "      <td>Reg</td>\n",
       "      <td>Lvl</td>\n",
       "      <td>AllPub</td>\n",
       "      <td>Inside</td>\n",
       "      <td>...</td>\n",
       "      <td>0</td>\n",
       "      <td>0</td>\n",
       "      <td>0</td>\n",
       "      <td>0</td>\n",
       "      <td>2500</td>\n",
       "      <td>5</td>\n",
       "      <td>2010</td>\n",
       "      <td>WD</td>\n",
       "      <td>Normal</td>\n",
       "      <td>266500</td>\n",
       "    </tr>\n",
       "    <tr>\n",
       "      <th>1458</th>\n",
       "      <td>1459</td>\n",
       "      <td>20</td>\n",
       "      <td>RL</td>\n",
       "      <td>68.0</td>\n",
       "      <td>9717</td>\n",
       "      <td>Pave</td>\n",
       "      <td>Reg</td>\n",
       "      <td>Lvl</td>\n",
       "      <td>AllPub</td>\n",
       "      <td>Inside</td>\n",
       "      <td>...</td>\n",
       "      <td>112</td>\n",
       "      <td>0</td>\n",
       "      <td>0</td>\n",
       "      <td>0</td>\n",
       "      <td>0</td>\n",
       "      <td>4</td>\n",
       "      <td>2010</td>\n",
       "      <td>WD</td>\n",
       "      <td>Normal</td>\n",
       "      <td>142125</td>\n",
       "    </tr>\n",
       "    <tr>\n",
       "      <th>1459</th>\n",
       "      <td>1460</td>\n",
       "      <td>20</td>\n",
       "      <td>RL</td>\n",
       "      <td>75.0</td>\n",
       "      <td>9937</td>\n",
       "      <td>Pave</td>\n",
       "      <td>Reg</td>\n",
       "      <td>Lvl</td>\n",
       "      <td>AllPub</td>\n",
       "      <td>Inside</td>\n",
       "      <td>...</td>\n",
       "      <td>0</td>\n",
       "      <td>0</td>\n",
       "      <td>0</td>\n",
       "      <td>0</td>\n",
       "      <td>0</td>\n",
       "      <td>6</td>\n",
       "      <td>2008</td>\n",
       "      <td>WD</td>\n",
       "      <td>Normal</td>\n",
       "      <td>147500</td>\n",
       "    </tr>\n",
       "  </tbody>\n",
       "</table>\n",
       "<p>1460 rows × 77 columns</p>\n",
       "</div>"
      ],
      "text/plain": [
       "        Id  MSSubClass MSZoning  LotFrontage  LotArea Street LotShape  \\\n",
       "0        1          60       RL         65.0     8450   Pave      Reg   \n",
       "1        2          20       RL         80.0     9600   Pave      Reg   \n",
       "2        3          60       RL         68.0    11250   Pave      IR1   \n",
       "3        4          70       RL         60.0     9550   Pave      IR1   \n",
       "4        5          60       RL         84.0    14260   Pave      IR1   \n",
       "...    ...         ...      ...          ...      ...    ...      ...   \n",
       "1455  1456          60       RL         62.0     7917   Pave      Reg   \n",
       "1456  1457          20       RL         85.0    13175   Pave      Reg   \n",
       "1457  1458          70       RL         66.0     9042   Pave      Reg   \n",
       "1458  1459          20       RL         68.0     9717   Pave      Reg   \n",
       "1459  1460          20       RL         75.0     9937   Pave      Reg   \n",
       "\n",
       "     LandContour Utilities LotConfig  ... EnclosedPorch 3SsnPorch ScreenPorch  \\\n",
       "0            Lvl    AllPub    Inside  ...             0         0           0   \n",
       "1            Lvl    AllPub       FR2  ...             0         0           0   \n",
       "2            Lvl    AllPub    Inside  ...             0         0           0   \n",
       "3            Lvl    AllPub    Corner  ...           272         0           0   \n",
       "4            Lvl    AllPub       FR2  ...             0         0           0   \n",
       "...          ...       ...       ...  ...           ...       ...         ...   \n",
       "1455         Lvl    AllPub    Inside  ...             0         0           0   \n",
       "1456         Lvl    AllPub    Inside  ...             0         0           0   \n",
       "1457         Lvl    AllPub    Inside  ...             0         0           0   \n",
       "1458         Lvl    AllPub    Inside  ...           112         0           0   \n",
       "1459         Lvl    AllPub    Inside  ...             0         0           0   \n",
       "\n",
       "     PoolArea MiscVal MoSold  YrSold  SaleType  SaleCondition  SalePrice  \n",
       "0           0       0      2    2008        WD         Normal     208500  \n",
       "1           0       0      5    2007        WD         Normal     181500  \n",
       "2           0       0      9    2008        WD         Normal     223500  \n",
       "3           0       0      2    2006        WD        Abnorml     140000  \n",
       "4           0       0     12    2008        WD         Normal     250000  \n",
       "...       ...     ...    ...     ...       ...            ...        ...  \n",
       "1455        0       0      8    2007        WD         Normal     175000  \n",
       "1456        0       0      2    2010        WD         Normal     210000  \n",
       "1457        0    2500      5    2010        WD         Normal     266500  \n",
       "1458        0       0      4    2010        WD         Normal     142125  \n",
       "1459        0       0      6    2008        WD         Normal     147500  \n",
       "\n",
       "[1460 rows x 77 columns]"
      ]
     },
     "execution_count": 5,
     "metadata": {},
     "output_type": "execute_result"
    }
   ],
   "source": [
    "train_data"
   ]
  },
  {
   "cell_type": "code",
   "execution_count": 6,
   "id": "a0de0b85",
   "metadata": {
    "execution": {
     "iopub.execute_input": "2022-10-31T15:17:00.768881Z",
     "iopub.status.busy": "2022-10-31T15:17:00.768168Z",
     "iopub.status.idle": "2022-10-31T15:17:00.796489Z",
     "shell.execute_reply": "2022-10-31T15:17:00.795228Z"
    },
    "papermill": {
     "duration": 0.055149,
     "end_time": "2022-10-31T15:17:00.801630",
     "exception": false,
     "start_time": "2022-10-31T15:17:00.746481",
     "status": "completed"
    },
    "tags": []
   },
   "outputs": [
    {
     "data": {
      "text/html": [
       "<div>\n",
       "<style scoped>\n",
       "    .dataframe tbody tr th:only-of-type {\n",
       "        vertical-align: middle;\n",
       "    }\n",
       "\n",
       "    .dataframe tbody tr th {\n",
       "        vertical-align: top;\n",
       "    }\n",
       "\n",
       "    .dataframe thead th {\n",
       "        text-align: right;\n",
       "    }\n",
       "</style>\n",
       "<table border=\"1\" class=\"dataframe\">\n",
       "  <thead>\n",
       "    <tr style=\"text-align: right;\">\n",
       "      <th></th>\n",
       "      <th>Id</th>\n",
       "      <th>MSSubClass</th>\n",
       "      <th>MSZoning</th>\n",
       "      <th>LotFrontage</th>\n",
       "      <th>LotArea</th>\n",
       "      <th>Street</th>\n",
       "      <th>LotShape</th>\n",
       "      <th>LandContour</th>\n",
       "      <th>Utilities</th>\n",
       "      <th>LotConfig</th>\n",
       "      <th>...</th>\n",
       "      <th>OpenPorchSF</th>\n",
       "      <th>EnclosedPorch</th>\n",
       "      <th>3SsnPorch</th>\n",
       "      <th>ScreenPorch</th>\n",
       "      <th>PoolArea</th>\n",
       "      <th>MiscVal</th>\n",
       "      <th>MoSold</th>\n",
       "      <th>YrSold</th>\n",
       "      <th>SaleType</th>\n",
       "      <th>SaleCondition</th>\n",
       "    </tr>\n",
       "  </thead>\n",
       "  <tbody>\n",
       "    <tr>\n",
       "      <th>0</th>\n",
       "      <td>1461</td>\n",
       "      <td>20</td>\n",
       "      <td>RH</td>\n",
       "      <td>80.0</td>\n",
       "      <td>11622</td>\n",
       "      <td>Pave</td>\n",
       "      <td>Reg</td>\n",
       "      <td>Lvl</td>\n",
       "      <td>AllPub</td>\n",
       "      <td>Inside</td>\n",
       "      <td>...</td>\n",
       "      <td>0</td>\n",
       "      <td>0</td>\n",
       "      <td>0</td>\n",
       "      <td>120</td>\n",
       "      <td>0</td>\n",
       "      <td>0</td>\n",
       "      <td>6</td>\n",
       "      <td>2010</td>\n",
       "      <td>WD</td>\n",
       "      <td>Normal</td>\n",
       "    </tr>\n",
       "    <tr>\n",
       "      <th>1</th>\n",
       "      <td>1462</td>\n",
       "      <td>20</td>\n",
       "      <td>RL</td>\n",
       "      <td>81.0</td>\n",
       "      <td>14267</td>\n",
       "      <td>Pave</td>\n",
       "      <td>IR1</td>\n",
       "      <td>Lvl</td>\n",
       "      <td>AllPub</td>\n",
       "      <td>Corner</td>\n",
       "      <td>...</td>\n",
       "      <td>36</td>\n",
       "      <td>0</td>\n",
       "      <td>0</td>\n",
       "      <td>0</td>\n",
       "      <td>0</td>\n",
       "      <td>12500</td>\n",
       "      <td>6</td>\n",
       "      <td>2010</td>\n",
       "      <td>WD</td>\n",
       "      <td>Normal</td>\n",
       "    </tr>\n",
       "    <tr>\n",
       "      <th>2</th>\n",
       "      <td>1463</td>\n",
       "      <td>60</td>\n",
       "      <td>RL</td>\n",
       "      <td>74.0</td>\n",
       "      <td>13830</td>\n",
       "      <td>Pave</td>\n",
       "      <td>IR1</td>\n",
       "      <td>Lvl</td>\n",
       "      <td>AllPub</td>\n",
       "      <td>Inside</td>\n",
       "      <td>...</td>\n",
       "      <td>34</td>\n",
       "      <td>0</td>\n",
       "      <td>0</td>\n",
       "      <td>0</td>\n",
       "      <td>0</td>\n",
       "      <td>0</td>\n",
       "      <td>3</td>\n",
       "      <td>2010</td>\n",
       "      <td>WD</td>\n",
       "      <td>Normal</td>\n",
       "    </tr>\n",
       "    <tr>\n",
       "      <th>3</th>\n",
       "      <td>1464</td>\n",
       "      <td>60</td>\n",
       "      <td>RL</td>\n",
       "      <td>78.0</td>\n",
       "      <td>9978</td>\n",
       "      <td>Pave</td>\n",
       "      <td>IR1</td>\n",
       "      <td>Lvl</td>\n",
       "      <td>AllPub</td>\n",
       "      <td>Inside</td>\n",
       "      <td>...</td>\n",
       "      <td>36</td>\n",
       "      <td>0</td>\n",
       "      <td>0</td>\n",
       "      <td>0</td>\n",
       "      <td>0</td>\n",
       "      <td>0</td>\n",
       "      <td>6</td>\n",
       "      <td>2010</td>\n",
       "      <td>WD</td>\n",
       "      <td>Normal</td>\n",
       "    </tr>\n",
       "    <tr>\n",
       "      <th>4</th>\n",
       "      <td>1465</td>\n",
       "      <td>120</td>\n",
       "      <td>RL</td>\n",
       "      <td>43.0</td>\n",
       "      <td>5005</td>\n",
       "      <td>Pave</td>\n",
       "      <td>IR1</td>\n",
       "      <td>HLS</td>\n",
       "      <td>AllPub</td>\n",
       "      <td>Inside</td>\n",
       "      <td>...</td>\n",
       "      <td>82</td>\n",
       "      <td>0</td>\n",
       "      <td>0</td>\n",
       "      <td>144</td>\n",
       "      <td>0</td>\n",
       "      <td>0</td>\n",
       "      <td>1</td>\n",
       "      <td>2010</td>\n",
       "      <td>WD</td>\n",
       "      <td>Normal</td>\n",
       "    </tr>\n",
       "    <tr>\n",
       "      <th>...</th>\n",
       "      <td>...</td>\n",
       "      <td>...</td>\n",
       "      <td>...</td>\n",
       "      <td>...</td>\n",
       "      <td>...</td>\n",
       "      <td>...</td>\n",
       "      <td>...</td>\n",
       "      <td>...</td>\n",
       "      <td>...</td>\n",
       "      <td>...</td>\n",
       "      <td>...</td>\n",
       "      <td>...</td>\n",
       "      <td>...</td>\n",
       "      <td>...</td>\n",
       "      <td>...</td>\n",
       "      <td>...</td>\n",
       "      <td>...</td>\n",
       "      <td>...</td>\n",
       "      <td>...</td>\n",
       "      <td>...</td>\n",
       "      <td>...</td>\n",
       "    </tr>\n",
       "    <tr>\n",
       "      <th>1454</th>\n",
       "      <td>2915</td>\n",
       "      <td>160</td>\n",
       "      <td>RM</td>\n",
       "      <td>21.0</td>\n",
       "      <td>1936</td>\n",
       "      <td>Pave</td>\n",
       "      <td>Reg</td>\n",
       "      <td>Lvl</td>\n",
       "      <td>AllPub</td>\n",
       "      <td>Inside</td>\n",
       "      <td>...</td>\n",
       "      <td>0</td>\n",
       "      <td>0</td>\n",
       "      <td>0</td>\n",
       "      <td>0</td>\n",
       "      <td>0</td>\n",
       "      <td>0</td>\n",
       "      <td>6</td>\n",
       "      <td>2006</td>\n",
       "      <td>WD</td>\n",
       "      <td>Normal</td>\n",
       "    </tr>\n",
       "    <tr>\n",
       "      <th>1455</th>\n",
       "      <td>2916</td>\n",
       "      <td>160</td>\n",
       "      <td>RM</td>\n",
       "      <td>21.0</td>\n",
       "      <td>1894</td>\n",
       "      <td>Pave</td>\n",
       "      <td>Reg</td>\n",
       "      <td>Lvl</td>\n",
       "      <td>AllPub</td>\n",
       "      <td>Inside</td>\n",
       "      <td>...</td>\n",
       "      <td>24</td>\n",
       "      <td>0</td>\n",
       "      <td>0</td>\n",
       "      <td>0</td>\n",
       "      <td>0</td>\n",
       "      <td>0</td>\n",
       "      <td>4</td>\n",
       "      <td>2006</td>\n",
       "      <td>WD</td>\n",
       "      <td>Abnorml</td>\n",
       "    </tr>\n",
       "    <tr>\n",
       "      <th>1456</th>\n",
       "      <td>2917</td>\n",
       "      <td>20</td>\n",
       "      <td>RL</td>\n",
       "      <td>160.0</td>\n",
       "      <td>20000</td>\n",
       "      <td>Pave</td>\n",
       "      <td>Reg</td>\n",
       "      <td>Lvl</td>\n",
       "      <td>AllPub</td>\n",
       "      <td>Inside</td>\n",
       "      <td>...</td>\n",
       "      <td>0</td>\n",
       "      <td>0</td>\n",
       "      <td>0</td>\n",
       "      <td>0</td>\n",
       "      <td>0</td>\n",
       "      <td>0</td>\n",
       "      <td>9</td>\n",
       "      <td>2006</td>\n",
       "      <td>WD</td>\n",
       "      <td>Abnorml</td>\n",
       "    </tr>\n",
       "    <tr>\n",
       "      <th>1457</th>\n",
       "      <td>2918</td>\n",
       "      <td>85</td>\n",
       "      <td>RL</td>\n",
       "      <td>62.0</td>\n",
       "      <td>10441</td>\n",
       "      <td>Pave</td>\n",
       "      <td>Reg</td>\n",
       "      <td>Lvl</td>\n",
       "      <td>AllPub</td>\n",
       "      <td>Inside</td>\n",
       "      <td>...</td>\n",
       "      <td>32</td>\n",
       "      <td>0</td>\n",
       "      <td>0</td>\n",
       "      <td>0</td>\n",
       "      <td>0</td>\n",
       "      <td>700</td>\n",
       "      <td>7</td>\n",
       "      <td>2006</td>\n",
       "      <td>WD</td>\n",
       "      <td>Normal</td>\n",
       "    </tr>\n",
       "    <tr>\n",
       "      <th>1458</th>\n",
       "      <td>2919</td>\n",
       "      <td>60</td>\n",
       "      <td>RL</td>\n",
       "      <td>74.0</td>\n",
       "      <td>9627</td>\n",
       "      <td>Pave</td>\n",
       "      <td>Reg</td>\n",
       "      <td>Lvl</td>\n",
       "      <td>AllPub</td>\n",
       "      <td>Inside</td>\n",
       "      <td>...</td>\n",
       "      <td>48</td>\n",
       "      <td>0</td>\n",
       "      <td>0</td>\n",
       "      <td>0</td>\n",
       "      <td>0</td>\n",
       "      <td>0</td>\n",
       "      <td>11</td>\n",
       "      <td>2006</td>\n",
       "      <td>WD</td>\n",
       "      <td>Normal</td>\n",
       "    </tr>\n",
       "  </tbody>\n",
       "</table>\n",
       "<p>1459 rows × 76 columns</p>\n",
       "</div>"
      ],
      "text/plain": [
       "        Id  MSSubClass MSZoning  LotFrontage  LotArea Street LotShape  \\\n",
       "0     1461          20       RH         80.0    11622   Pave      Reg   \n",
       "1     1462          20       RL         81.0    14267   Pave      IR1   \n",
       "2     1463          60       RL         74.0    13830   Pave      IR1   \n",
       "3     1464          60       RL         78.0     9978   Pave      IR1   \n",
       "4     1465         120       RL         43.0     5005   Pave      IR1   \n",
       "...    ...         ...      ...          ...      ...    ...      ...   \n",
       "1454  2915         160       RM         21.0     1936   Pave      Reg   \n",
       "1455  2916         160       RM         21.0     1894   Pave      Reg   \n",
       "1456  2917          20       RL        160.0    20000   Pave      Reg   \n",
       "1457  2918          85       RL         62.0    10441   Pave      Reg   \n",
       "1458  2919          60       RL         74.0     9627   Pave      Reg   \n",
       "\n",
       "     LandContour Utilities LotConfig  ... OpenPorchSF EnclosedPorch 3SsnPorch  \\\n",
       "0            Lvl    AllPub    Inside  ...           0             0         0   \n",
       "1            Lvl    AllPub    Corner  ...          36             0         0   \n",
       "2            Lvl    AllPub    Inside  ...          34             0         0   \n",
       "3            Lvl    AllPub    Inside  ...          36             0         0   \n",
       "4            HLS    AllPub    Inside  ...          82             0         0   \n",
       "...          ...       ...       ...  ...         ...           ...       ...   \n",
       "1454         Lvl    AllPub    Inside  ...           0             0         0   \n",
       "1455         Lvl    AllPub    Inside  ...          24             0         0   \n",
       "1456         Lvl    AllPub    Inside  ...           0             0         0   \n",
       "1457         Lvl    AllPub    Inside  ...          32             0         0   \n",
       "1458         Lvl    AllPub    Inside  ...          48             0         0   \n",
       "\n",
       "     ScreenPorch PoolArea MiscVal  MoSold  YrSold  SaleType  SaleCondition  \n",
       "0            120        0       0       6    2010        WD         Normal  \n",
       "1              0        0   12500       6    2010        WD         Normal  \n",
       "2              0        0       0       3    2010        WD         Normal  \n",
       "3              0        0       0       6    2010        WD         Normal  \n",
       "4            144        0       0       1    2010        WD         Normal  \n",
       "...          ...      ...     ...     ...     ...       ...            ...  \n",
       "1454           0        0       0       6    2006        WD         Normal  \n",
       "1455           0        0       0       4    2006        WD        Abnorml  \n",
       "1456           0        0       0       9    2006        WD        Abnorml  \n",
       "1457           0        0     700       7    2006        WD         Normal  \n",
       "1458           0        0       0      11    2006        WD         Normal  \n",
       "\n",
       "[1459 rows x 76 columns]"
      ]
     },
     "execution_count": 6,
     "metadata": {},
     "output_type": "execute_result"
    }
   ],
   "source": [
    "test_data"
   ]
  },
  {
   "cell_type": "markdown",
   "id": "c418a71b",
   "metadata": {
    "papermill": {
     "duration": 0.020212,
     "end_time": "2022-10-31T15:17:00.842896",
     "exception": false,
     "start_time": "2022-10-31T15:17:00.822684",
     "status": "completed"
    },
    "tags": []
   },
   "source": [
    "## Find number of missing values of train data"
   ]
  },
  {
   "cell_type": "code",
   "execution_count": 7,
   "id": "cbf743c2",
   "metadata": {
    "execution": {
     "iopub.execute_input": "2022-10-31T15:17:00.886549Z",
     "iopub.status.busy": "2022-10-31T15:17:00.885732Z",
     "iopub.status.idle": "2022-10-31T15:17:00.926541Z",
     "shell.execute_reply": "2022-10-31T15:17:00.925303Z"
    },
    "papermill": {
     "duration": 0.065082,
     "end_time": "2022-10-31T15:17:00.928960",
     "exception": false,
     "start_time": "2022-10-31T15:17:00.863878",
     "status": "completed"
    },
    "tags": []
   },
   "outputs": [
    {
     "name": "stdout",
     "output_type": "stream",
     "text": [
      "LotFrontage 259 float64\n",
      "MasVnrType 8 object\n",
      "MasVnrArea 8 float64\n",
      "BsmtQual 37 object\n",
      "BsmtCond 37 object\n",
      "BsmtExposure 38 object\n",
      "BsmtFinType1 37 object\n",
      "BsmtFinType2 38 object\n",
      "Electrical 1 object\n",
      "FireplaceQu 690 object\n",
      "GarageType 81 object\n",
      "GarageYrBlt 81 float64\n",
      "GarageFinish 81 object\n",
      "GarageQual 81 object\n",
      "GarageCond 81 object\n"
     ]
    }
   ],
   "source": [
    "missing_train_values = [col for col in train_data.columns if train_data[col].isna().sum() > 0]\n",
    "for col in missing_train_values:\n",
    "    print(col, train_data[col].isna().sum(), train_data[col].dtypes)"
   ]
  },
  {
   "cell_type": "markdown",
   "id": "6f7f393b",
   "metadata": {
    "papermill": {
     "duration": 0.020499,
     "end_time": "2022-10-31T15:17:00.970431",
     "exception": false,
     "start_time": "2022-10-31T15:17:00.949932",
     "status": "completed"
    },
    "tags": []
   },
   "source": [
    "## Checking skewness of missing columns of train data"
   ]
  },
  {
   "cell_type": "code",
   "execution_count": 8,
   "id": "37a0fbf0",
   "metadata": {
    "execution": {
     "iopub.execute_input": "2022-10-31T15:17:01.014014Z",
     "iopub.status.busy": "2022-10-31T15:17:01.013620Z",
     "iopub.status.idle": "2022-10-31T15:17:02.384138Z",
     "shell.execute_reply": "2022-10-31T15:17:02.383310Z"
    },
    "papermill": {
     "duration": 1.394932,
     "end_time": "2022-10-31T15:17:02.386315",
     "exception": false,
     "start_time": "2022-10-31T15:17:00.991383",
     "status": "completed"
    },
    "tags": []
   },
   "outputs": [
    {
     "name": "stderr",
     "output_type": "stream",
     "text": [
      "/opt/conda/lib/python3.7/site-packages/seaborn/distributions.py:2619: FutureWarning: `distplot` is a deprecated function and will be removed in a future version. Please adapt your code to use either `displot` (a figure-level function with similar flexibility) or `histplot` (an axes-level function for histograms).\n",
      "  warnings.warn(msg, FutureWarning)\n"
     ]
    },
    {
     "data": {
      "text/plain": [
       "<AxesSubplot:xlabel='LotFrontage', ylabel='Density'>"
      ]
     },
     "execution_count": 8,
     "metadata": {},
     "output_type": "execute_result"
    },
    {
     "data": {
      "image/png": "[encoded data removed]",
      "text/plain": [
       "<Figure size 720x432 with 1 Axes>"
      ]
     },
     "metadata": {
      "needs_background": "light"
     },
     "output_type": "display_data"
    }
   ],
   "source": [
    "import seaborn as sns\n",
    "import matplotlib.pyplot as plt\n",
    "fig, ax = plt.subplots(figsize = (10, 6))\n",
    "sns.distplot(train_data['LotFrontage'])"
   ]
  },
  {
   "cell_type": "code",
   "execution_count": 9,
   "id": "27648f60",
   "metadata": {
    "execution": {
     "iopub.execute_input": "2022-10-31T15:17:02.431612Z",
     "iopub.status.busy": "2022-10-31T15:17:02.430467Z",
     "iopub.status.idle": "2022-10-31T15:17:02.692769Z",
     "shell.execute_reply": "2022-10-31T15:17:02.691945Z"
    },
    "papermill": {
     "duration": 0.287017,
     "end_time": "2022-10-31T15:17:02.694925",
     "exception": false,
     "start_time": "2022-10-31T15:17:02.407908",
     "status": "completed"
    },
    "tags": []
   },
   "outputs": [
    {
     "name": "stderr",
     "output_type": "stream",
     "text": [
      "/opt/conda/lib/python3.7/site-packages/seaborn/distributions.py:2619: FutureWarning: `distplot` is a deprecated function and will be removed in a future version. Please adapt your code to use either `displot` (a figure-level function with similar flexibility) or `histplot` (an axes-level function for histograms).\n",
      "  warnings.warn(msg, FutureWarning)\n"
     ]
    },
    {
     "data": {
      "text/plain": [
       "<AxesSubplot:xlabel='GarageYrBlt', ylabel='Density'>"
      ]
     },
     "execution_count": 9,
     "metadata": {},
     "output_type": "execute_result"
    },
    {
     "data": {
      "image/png": "[encoded data removed]",
      "text/plain": [
       "<Figure size 432x288 with 1 Axes>"
      ]
     },
     "metadata": {
      "needs_background": "light"
     },
     "output_type": "display_data"
    }
   ],
   "source": [
    "sns.distplot(train_data['GarageYrBlt'])"
   ]
  },
  {
   "cell_type": "markdown",
   "id": "ca5c2476",
   "metadata": {
    "papermill": {
     "duration": 0.021549,
     "end_time": "2022-10-31T15:17:02.738460",
     "exception": false,
     "start_time": "2022-10-31T15:17:02.716911",
     "status": "completed"
    },
    "tags": []
   },
   "source": [
    "## Fullfill missing data by median in train dataset"
   ]
  },
  {
   "cell_type": "code",
   "execution_count": 10,
   "id": "8ae9d368",
   "metadata": {
    "execution": {
     "iopub.execute_input": "2022-10-31T15:17:02.784585Z",
     "iopub.status.busy": "2022-10-31T15:17:02.783549Z",
     "iopub.status.idle": "2022-10-31T15:17:03.083749Z",
     "shell.execute_reply": "2022-10-31T15:17:03.082813Z"
    },
    "papermill": {
     "duration": 0.326169,
     "end_time": "2022-10-31T15:17:03.086433",
     "exception": false,
     "start_time": "2022-10-31T15:17:02.760264",
     "status": "completed"
    },
    "tags": []
   },
   "outputs": [],
   "source": [
    "from sklearn.impute import SimpleImputer\n",
    "imputer_median = SimpleImputer(missing_values = np.nan, strategy = 'median')\n",
    "imputer_median.fit(train_data[['LotFrontage', 'GarageYrBlt', 'MasVnrArea']])\n",
    "train_data[['LotFrontage', 'GarageYrBlt', 'MasVnrArea']] = imputer_median.transform(train_data[['LotFrontage', 'GarageYrBlt', 'MasVnrArea']])"
   ]
  },
  {
   "cell_type": "code",
   "execution_count": 11,
   "id": "7127e129",
   "metadata": {
    "execution": {
     "iopub.execute_input": "2022-10-31T15:17:03.132343Z",
     "iopub.status.busy": "2022-10-31T15:17:03.131350Z",
     "iopub.status.idle": "2022-10-31T15:17:03.160707Z",
     "shell.execute_reply": "2022-10-31T15:17:03.159137Z"
    },
    "papermill": {
     "duration": 0.055219,
     "end_time": "2022-10-31T15:17:03.163637",
     "exception": false,
     "start_time": "2022-10-31T15:17:03.108418",
     "status": "completed"
    },
    "tags": []
   },
   "outputs": [
    {
     "name": "stdout",
     "output_type": "stream",
     "text": [
      "MasVnrType 8 object\n",
      "BsmtQual 37 object\n",
      "BsmtCond 37 object\n",
      "BsmtExposure 38 object\n",
      "BsmtFinType1 37 object\n",
      "BsmtFinType2 38 object\n",
      "Electrical 1 object\n",
      "FireplaceQu 690 object\n",
      "GarageType 81 object\n",
      "GarageFinish 81 object\n",
      "GarageQual 81 object\n",
      "GarageCond 81 object\n"
     ]
    }
   ],
   "source": [
    "missing_train_values = [col for col in train_data.columns if train_data[col].isna().sum() > 0]\n",
    "for col in missing_train_values:\n",
    "    print(col, train_data[col].isna().sum(), train_data[col].dtypes)"
   ]
  },
  {
   "cell_type": "markdown",
   "id": "8c0d4929",
   "metadata": {
    "papermill": {
     "duration": 0.021838,
     "end_time": "2022-10-31T15:17:03.208450",
     "exception": false,
     "start_time": "2022-10-31T15:17:03.186612",
     "status": "completed"
    },
    "tags": []
   },
   "source": [
    "## Drop FireplaceQu column for high missing value on train dataset"
   ]
  },
  {
   "cell_type": "code",
   "execution_count": 12,
   "id": "9b530e9f",
   "metadata": {
    "execution": {
     "iopub.execute_input": "2022-10-31T15:17:03.253952Z",
     "iopub.status.busy": "2022-10-31T15:17:03.253588Z",
     "iopub.status.idle": "2022-10-31T15:17:03.260647Z",
     "shell.execute_reply": "2022-10-31T15:17:03.259777Z"
    },
    "papermill": {
     "duration": 0.032235,
     "end_time": "2022-10-31T15:17:03.262792",
     "exception": false,
     "start_time": "2022-10-31T15:17:03.230557",
     "status": "completed"
    },
    "tags": []
   },
   "outputs": [],
   "source": [
    "train_data = train_data.drop(columns = 'FireplaceQu')"
   ]
  },
  {
   "cell_type": "markdown",
   "id": "e11470ce",
   "metadata": {
    "papermill": {
     "duration": 0.021701,
     "end_time": "2022-10-31T15:17:03.306302",
     "exception": false,
     "start_time": "2022-10-31T15:17:03.284601",
     "status": "completed"
    },
    "tags": []
   },
   "source": [
    "## Fullfill missing categorical data by most frequent value on training dataset "
   ]
  },
  {
   "cell_type": "code",
   "execution_count": 13,
   "id": "2f3b2d76",
   "metadata": {
    "execution": {
     "iopub.execute_input": "2022-10-31T15:17:03.352469Z",
     "iopub.status.busy": "2022-10-31T15:17:03.351447Z",
     "iopub.status.idle": "2022-10-31T15:17:03.378769Z",
     "shell.execute_reply": "2022-10-31T15:17:03.377939Z"
    },
    "papermill": {
     "duration": 0.053037,
     "end_time": "2022-10-31T15:17:03.381056",
     "exception": false,
     "start_time": "2022-10-31T15:17:03.328019",
     "status": "completed"
    },
    "tags": []
   },
   "outputs": [],
   "source": [
    "object_train_data = [col for col in train_data.columns if (train_data[col].dtypes == 'object' and train_data[col].isna().sum() > 0)]\n",
    "imputer_object = SimpleImputer(missing_values = np.nan, strategy = 'most_frequent')\n",
    "imputer_object.fit(train_data[object_train_data])\n",
    "train_data[object_train_data] = imputer_object.transform(train_data[object_train_data])"
   ]
  },
  {
   "cell_type": "markdown",
   "id": "6d3f8edc",
   "metadata": {
    "papermill": {
     "duration": 0.02189,
     "end_time": "2022-10-31T15:17:03.425296",
     "exception": false,
     "start_time": "2022-10-31T15:17:03.403406",
     "status": "completed"
    },
    "tags": []
   },
   "source": [
    "### Checking missing values(if any)"
   ]
  },
  {
   "cell_type": "code",
   "execution_count": 14,
   "id": "b7758efb",
   "metadata": {
    "execution": {
     "iopub.execute_input": "2022-10-31T15:17:03.471697Z",
     "iopub.status.busy": "2022-10-31T15:17:03.470915Z",
     "iopub.status.idle": "2022-10-31T15:17:03.480827Z",
     "shell.execute_reply": "2022-10-31T15:17:03.480130Z"
    },
    "papermill": {
     "duration": 0.035153,
     "end_time": "2022-10-31T15:17:03.482767",
     "exception": false,
     "start_time": "2022-10-31T15:17:03.447614",
     "status": "completed"
    },
    "tags": []
   },
   "outputs": [
    {
     "data": {
      "text/plain": [
       "0"
      ]
     },
     "execution_count": 14,
     "metadata": {},
     "output_type": "execute_result"
    }
   ],
   "source": [
    "train_data.isna().sum().sum()"
   ]
  },
  {
   "cell_type": "code",
   "execution_count": 15,
   "id": "dc1a330f",
   "metadata": {
    "execution": {
     "iopub.execute_input": "2022-10-31T15:17:03.528757Z",
     "iopub.status.busy": "2022-10-31T15:17:03.528337Z",
     "iopub.status.idle": "2022-10-31T15:17:03.534878Z",
     "shell.execute_reply": "2022-10-31T15:17:03.534137Z"
    },
    "papermill": {
     "duration": 0.031705,
     "end_time": "2022-10-31T15:17:03.536824",
     "exception": false,
     "start_time": "2022-10-31T15:17:03.505119",
     "status": "completed"
    },
    "tags": []
   },
   "outputs": [
    {
     "data": {
      "text/plain": [
       "(1460, 76)"
      ]
     },
     "execution_count": 15,
     "metadata": {},
     "output_type": "execute_result"
    }
   ],
   "source": [
    "train_data.shape"
   ]
  },
  {
   "cell_type": "markdown",
   "id": "650ac964",
   "metadata": {
    "papermill": {
     "duration": 0.021801,
     "end_time": "2022-10-31T15:17:03.580618",
     "exception": false,
     "start_time": "2022-10-31T15:17:03.558817",
     "status": "completed"
    },
    "tags": []
   },
   "source": [
    "## Find the number of missing data of test data."
   ]
  },
  {
   "cell_type": "code",
   "execution_count": 16,
   "id": "0c4ca6bb",
   "metadata": {
    "execution": {
     "iopub.execute_input": "2022-10-31T15:17:03.626323Z",
     "iopub.status.busy": "2022-10-31T15:17:03.625531Z",
     "iopub.status.idle": "2022-10-31T15:17:03.659638Z",
     "shell.execute_reply": "2022-10-31T15:17:03.658057Z"
    },
    "papermill": {
     "duration": 0.059717,
     "end_time": "2022-10-31T15:17:03.662160",
     "exception": false,
     "start_time": "2022-10-31T15:17:03.602443",
     "status": "completed"
    },
    "tags": []
   },
   "outputs": [
    {
     "name": "stdout",
     "output_type": "stream",
     "text": [
      "MSZoning 4 object\n",
      "LotFrontage 227 float64\n",
      "Utilities 2 object\n",
      "Exterior1st 1 object\n",
      "Exterior2nd 1 object\n",
      "MasVnrType 16 object\n",
      "MasVnrArea 15 float64\n",
      "BsmtQual 44 object\n",
      "BsmtCond 45 object\n",
      "BsmtExposure 44 object\n",
      "BsmtFinType1 42 object\n",
      "BsmtFinSF1 1 float64\n",
      "BsmtFinType2 42 object\n",
      "BsmtFinSF2 1 float64\n",
      "BsmtUnfSF 1 float64\n",
      "TotalBsmtSF 1 float64\n",
      "BsmtFullBath 2 float64\n",
      "BsmtHalfBath 2 float64\n",
      "KitchenQual 1 object\n",
      "Functional 2 object\n",
      "FireplaceQu 730 object\n",
      "GarageType 76 object\n",
      "GarageYrBlt 78 float64\n",
      "GarageFinish 78 object\n",
      "GarageCars 1 float64\n",
      "GarageArea 1 float64\n",
      "GarageQual 78 object\n",
      "GarageCond 78 object\n",
      "SaleType 1 object\n"
     ]
    }
   ],
   "source": [
    "missing_test_values = [col for col in test_data.columns if test_data[col].isna().sum() > 0]\n",
    "for col in missing_test_values:\n",
    "    print(col, test_data[col].isna().sum(), test_data[col].dtypes)"
   ]
  },
  {
   "cell_type": "markdown",
   "id": "d6d706c1",
   "metadata": {
    "papermill": {
     "duration": 0.021827,
     "end_time": "2022-10-31T15:17:03.706697",
     "exception": false,
     "start_time": "2022-10-31T15:17:03.684870",
     "status": "completed"
    },
    "tags": []
   },
   "source": [
    "## Replacing missing value with mode and median."
   ]
  },
  {
   "cell_type": "code",
   "execution_count": 17,
   "id": "bda5c680",
   "metadata": {
    "execution": {
     "iopub.execute_input": "2022-10-31T15:17:03.752736Z",
     "iopub.status.busy": "2022-10-31T15:17:03.752377Z",
     "iopub.status.idle": "2022-10-31T15:17:03.768577Z",
     "shell.execute_reply": "2022-10-31T15:17:03.767602Z"
    },
    "papermill": {
     "duration": 0.041962,
     "end_time": "2022-10-31T15:17:03.770929",
     "exception": false,
     "start_time": "2022-10-31T15:17:03.728967",
     "status": "completed"
    },
    "tags": []
   },
   "outputs": [],
   "source": [
    "float_test_data = [col for col in test_data.columns if (test_data[col].dtypes == 'float64' and test_data[col].isna().sum() > 0)]\n",
    "imputer_test_median = SimpleImputer(missing_values = np.nan, strategy = 'median')\n",
    "imputer_test_median.fit(test_data[float_test_data])\n",
    "test_data[float_test_data] = imputer_test_median.transform(test_data[float_test_data])"
   ]
  },
  {
   "cell_type": "code",
   "execution_count": 18,
   "id": "a2922e06",
   "metadata": {
    "execution": {
     "iopub.execute_input": "2022-10-31T15:17:03.816837Z",
     "iopub.status.busy": "2022-10-31T15:17:03.816438Z",
     "iopub.status.idle": "2022-10-31T15:17:03.821903Z",
     "shell.execute_reply": "2022-10-31T15:17:03.821196Z"
    },
    "papermill": {
     "duration": 0.030733,
     "end_time": "2022-10-31T15:17:03.824037",
     "exception": false,
     "start_time": "2022-10-31T15:17:03.793304",
     "status": "completed"
    },
    "tags": []
   },
   "outputs": [],
   "source": [
    "test_data = test_data.drop(columns = 'FireplaceQu')"
   ]
  },
  {
   "cell_type": "code",
   "execution_count": 19,
   "id": "526b96df",
   "metadata": {
    "execution": {
     "iopub.execute_input": "2022-10-31T15:17:03.871008Z",
     "iopub.status.busy": "2022-10-31T15:17:03.870051Z",
     "iopub.status.idle": "2022-10-31T15:17:03.898824Z",
     "shell.execute_reply": "2022-10-31T15:17:03.897669Z"
    },
    "papermill": {
     "duration": 0.05502,
     "end_time": "2022-10-31T15:17:03.901408",
     "exception": false,
     "start_time": "2022-10-31T15:17:03.846388",
     "status": "completed"
    },
    "tags": []
   },
   "outputs": [],
   "source": [
    "object_test_data = [col for col in test_data.columns if (test_data[col].dtypes == 'object' and test_data[col].isna().sum() > 0)]\n",
    "imputer_test_mode = SimpleImputer(missing_values = np.nan, strategy = 'most_frequent')\n",
    "imputer_test_mode.fit(test_data[object_test_data])\n",
    "test_data[object_test_data] = imputer_test_mode.transform(test_data[object_test_data])"
   ]
  },
  {
   "cell_type": "code",
   "execution_count": 20,
   "id": "d94ffbba",
   "metadata": {
    "execution": {
     "iopub.execute_input": "2022-10-31T15:17:03.949774Z",
     "iopub.status.busy": "2022-10-31T15:17:03.949401Z",
     "iopub.status.idle": "2022-10-31T15:17:03.954820Z",
     "shell.execute_reply": "2022-10-31T15:17:03.954134Z"
    },
    "papermill": {
     "duration": 0.032621,
     "end_time": "2022-10-31T15:17:03.956674",
     "exception": false,
     "start_time": "2022-10-31T15:17:03.924053",
     "status": "completed"
    },
    "tags": []
   },
   "outputs": [
    {
     "data": {
      "text/plain": [
       "(1459, 75)"
      ]
     },
     "execution_count": 20,
     "metadata": {},
     "output_type": "execute_result"
    }
   ],
   "source": [
    "test_data.shape"
   ]
  },
  {
   "cell_type": "markdown",
   "id": "e78b5057",
   "metadata": {
    "papermill": {
     "duration": 0.022014,
     "end_time": "2022-10-31T15:17:04.001020",
     "exception": false,
     "start_time": "2022-10-31T15:17:03.979006",
     "status": "completed"
    },
    "tags": []
   },
   "source": [
    "### Checking missing values(if any)"
   ]
  },
  {
   "cell_type": "code",
   "execution_count": 21,
   "id": "cc2c9a20",
   "metadata": {
    "execution": {
     "iopub.execute_input": "2022-10-31T15:17:04.046854Z",
     "iopub.status.busy": "2022-10-31T15:17:04.046494Z",
     "iopub.status.idle": "2022-10-31T15:17:04.057471Z",
     "shell.execute_reply": "2022-10-31T15:17:04.056385Z"
    },
    "papermill": {
     "duration": 0.036781,
     "end_time": "2022-10-31T15:17:04.060088",
     "exception": false,
     "start_time": "2022-10-31T15:17:04.023307",
     "status": "completed"
    },
    "tags": []
   },
   "outputs": [
    {
     "data": {
      "text/plain": [
       "0"
      ]
     },
     "execution_count": 21,
     "metadata": {},
     "output_type": "execute_result"
    }
   ],
   "source": [
    "test_data.isna().sum().sum()"
   ]
  },
  {
   "cell_type": "markdown",
   "id": "c5dba3c0",
   "metadata": {
    "papermill": {
     "duration": 0.022165,
     "end_time": "2022-10-31T15:17:04.104421",
     "exception": false,
     "start_time": "2022-10-31T15:17:04.082256",
     "status": "completed"
    },
    "tags": []
   },
   "source": [
    "## Find no of unique categorical data of train data"
   ]
  },
  {
   "cell_type": "code",
   "execution_count": 22,
   "id": "e95672dc",
   "metadata": {
    "execution": {
     "iopub.execute_input": "2022-10-31T15:17:04.151784Z",
     "iopub.status.busy": "2022-10-31T15:17:04.150615Z",
     "iopub.status.idle": "2022-10-31T15:17:04.168986Z",
     "shell.execute_reply": "2022-10-31T15:17:04.167754Z"
    },
    "papermill": {
     "duration": 0.044817,
     "end_time": "2022-10-31T15:17:04.171767",
     "exception": false,
     "start_time": "2022-10-31T15:17:04.126950",
     "status": "completed"
    },
    "tags": []
   },
   "outputs": [
    {
     "name": "stdout",
     "output_type": "stream",
     "text": [
      "MSZoning : 5\n",
      "Street : 2\n",
      "LotShape : 4\n",
      "LandContour : 4\n",
      "Utilities : 2\n",
      "LotConfig : 5\n",
      "LandSlope : 3\n",
      "Neighborhood : 25\n",
      "Condition1 : 9\n",
      "Condition2 : 8\n",
      "BldgType : 5\n",
      "HouseStyle : 8\n",
      "RoofStyle : 6\n",
      "RoofMatl : 8\n",
      "Exterior1st : 15\n",
      "Exterior2nd : 16\n",
      "MasVnrType : 4\n",
      "ExterQual : 4\n",
      "ExterCond : 5\n",
      "Foundation : 6\n",
      "BsmtQual : 4\n",
      "BsmtCond : 4\n",
      "BsmtExposure : 4\n",
      "BsmtFinType1 : 6\n",
      "BsmtFinType2 : 6\n",
      "Heating : 6\n",
      "HeatingQC : 5\n",
      "CentralAir : 2\n",
      "Electrical : 5\n",
      "KitchenQual : 4\n",
      "Functional : 7\n",
      "GarageType : 6\n",
      "GarageFinish : 3\n",
      "GarageQual : 5\n",
      "GarageCond : 5\n",
      "PavedDrive : 3\n",
      "SaleType : 9\n",
      "SaleCondition : 6\n"
     ]
    }
   ],
   "source": [
    "for i in train_data.columns:\n",
    "    if train_data[i].dtypes == 'object':\n",
    "        print(f\"{i} : {train_data[i].nunique()}\")"
   ]
  },
  {
   "cell_type": "code",
   "execution_count": 23,
   "id": "8138e05c",
   "metadata": {
    "execution": {
     "iopub.execute_input": "2022-10-31T15:17:04.219899Z",
     "iopub.status.busy": "2022-10-31T15:17:04.219130Z",
     "iopub.status.idle": "2022-10-31T15:17:04.228062Z",
     "shell.execute_reply": "2022-10-31T15:17:04.227338Z"
    },
    "papermill": {
     "duration": 0.034821,
     "end_time": "2022-10-31T15:17:04.230243",
     "exception": false,
     "start_time": "2022-10-31T15:17:04.195422",
     "status": "completed"
    },
    "tags": []
   },
   "outputs": [],
   "source": [
    "NoSeWa = train_data[train_data['Utilities'] != 'AllPub'].index\n",
    "train_data.drop(NoSeWa, inplace = True)"
   ]
  },
  {
   "cell_type": "markdown",
   "id": "b76727a2",
   "metadata": {
    "papermill": {
     "duration": 0.022141,
     "end_time": "2022-10-31T15:17:04.274666",
     "exception": false,
     "start_time": "2022-10-31T15:17:04.252525",
     "status": "completed"
    },
    "tags": []
   },
   "source": [
    "## Comparison no of categorical variable between train and test data"
   ]
  },
  {
   "cell_type": "code",
   "execution_count": 24,
   "id": "a6683c0a",
   "metadata": {
    "execution": {
     "iopub.execute_input": "2022-10-31T15:17:04.321749Z",
     "iopub.status.busy": "2022-10-31T15:17:04.320755Z",
     "iopub.status.idle": "2022-10-31T15:17:04.332024Z",
     "shell.execute_reply": "2022-10-31T15:17:04.330602Z"
    },
    "papermill": {
     "duration": 0.037269,
     "end_time": "2022-10-31T15:17:04.334320",
     "exception": false,
     "start_time": "2022-10-31T15:17:04.297051",
     "status": "completed"
    },
    "tags": []
   },
   "outputs": [
    {
     "data": {
      "text/plain": [
       "Condition2  Condition2\n",
       "Artery      Artery           2\n",
       "Feedr       Feedr            6\n",
       "Norm        Norm          1444\n",
       "PosA        PosA             1\n",
       "PosN        PosN             2\n",
       "RRAe        RRAe             1\n",
       "RRAn        RRAn             1\n",
       "RRNn        RRNn             2\n",
       "Name: Condition2, dtype: int64"
      ]
     },
     "execution_count": 24,
     "metadata": {},
     "output_type": "execute_result"
    }
   ],
   "source": [
    "train_data.groupby('Condition2')['Condition2'].value_counts()"
   ]
  },
  {
   "cell_type": "code",
   "execution_count": 25,
   "id": "5e17446f",
   "metadata": {
    "execution": {
     "iopub.execute_input": "2022-10-31T15:17:04.381328Z",
     "iopub.status.busy": "2022-10-31T15:17:04.380933Z",
     "iopub.status.idle": "2022-10-31T15:17:04.391661Z",
     "shell.execute_reply": "2022-10-31T15:17:04.390593Z"
    },
    "papermill": {
     "duration": 0.036873,
     "end_time": "2022-10-31T15:17:04.393820",
     "exception": false,
     "start_time": "2022-10-31T15:17:04.356947",
     "status": "completed"
    },
    "tags": []
   },
   "outputs": [
    {
     "data": {
      "text/plain": [
       "Condition2  Condition2\n",
       "Artery      Artery           3\n",
       "Feedr       Feedr            7\n",
       "Norm        Norm          1444\n",
       "PosA        PosA             3\n",
       "PosN        PosN             2\n",
       "Name: Condition2, dtype: int64"
      ]
     },
     "execution_count": 25,
     "metadata": {},
     "output_type": "execute_result"
    }
   ],
   "source": [
    "test_data.groupby('Condition2')['Condition2'].value_counts()"
   ]
  },
  {
   "cell_type": "code",
   "execution_count": 26,
   "id": "d4d63ee9",
   "metadata": {
    "execution": {
     "iopub.execute_input": "2022-10-31T15:17:04.441820Z",
     "iopub.status.busy": "2022-10-31T15:17:04.441415Z",
     "iopub.status.idle": "2022-10-31T15:17:04.450633Z",
     "shell.execute_reply": "2022-10-31T15:17:04.449865Z"
    },
    "papermill": {
     "duration": 0.035486,
     "end_time": "2022-10-31T15:17:04.452666",
     "exception": false,
     "start_time": "2022-10-31T15:17:04.417180",
     "status": "completed"
    },
    "tags": []
   },
   "outputs": [],
   "source": [
    "D1 = train_data[(train_data['Condition2'] == 'RRAe') | (train_data['Condition2'] == 'RRAn') | (train_data['Condition2'] == 'RRNn')].index\n",
    "train_data.drop(D1, inplace = True)"
   ]
  },
  {
   "cell_type": "code",
   "execution_count": 27,
   "id": "3f45a394",
   "metadata": {
    "execution": {
     "iopub.execute_input": "2022-10-31T15:17:04.499917Z",
     "iopub.status.busy": "2022-10-31T15:17:04.499308Z",
     "iopub.status.idle": "2022-10-31T15:17:04.509448Z",
     "shell.execute_reply": "2022-10-31T15:17:04.508421Z"
    },
    "papermill": {
     "duration": 0.036422,
     "end_time": "2022-10-31T15:17:04.511623",
     "exception": false,
     "start_time": "2022-10-31T15:17:04.475201",
     "status": "completed"
    },
    "tags": []
   },
   "outputs": [
    {
     "data": {
      "text/plain": [
       "HouseStyle  HouseStyle\n",
       "1.5Fin      1.5Fin        153\n",
       "1.5Unf      1.5Unf         14\n",
       "1Story      1Story        723\n",
       "2.5Fin      2.5Fin          8\n",
       "2.5Unf      2.5Unf         11\n",
       "2Story      2Story        445\n",
       "SFoyer      SFoyer         37\n",
       "SLvl        SLvl           64\n",
       "Name: HouseStyle, dtype: int64"
      ]
     },
     "execution_count": 27,
     "metadata": {},
     "output_type": "execute_result"
    }
   ],
   "source": [
    "train_data.groupby('HouseStyle')['HouseStyle'].value_counts()"
   ]
  },
  {
   "cell_type": "code",
   "execution_count": 28,
   "id": "761f6100",
   "metadata": {
    "execution": {
     "iopub.execute_input": "2022-10-31T15:17:04.560138Z",
     "iopub.status.busy": "2022-10-31T15:17:04.559291Z",
     "iopub.status.idle": "2022-10-31T15:17:04.568397Z",
     "shell.execute_reply": "2022-10-31T15:17:04.567659Z"
    },
    "papermill": {
     "duration": 0.036029,
     "end_time": "2022-10-31T15:17:04.570431",
     "exception": false,
     "start_time": "2022-10-31T15:17:04.534402",
     "status": "completed"
    },
    "tags": []
   },
   "outputs": [
    {
     "data": {
      "text/plain": [
       "HouseStyle  HouseStyle\n",
       "1.5Fin      1.5Fin        160\n",
       "1.5Unf      1.5Unf          5\n",
       "1Story      1Story        745\n",
       "2.5Unf      2.5Unf         13\n",
       "2Story      2Story        427\n",
       "SFoyer      SFoyer         46\n",
       "SLvl        SLvl           63\n",
       "Name: HouseStyle, dtype: int64"
      ]
     },
     "execution_count": 28,
     "metadata": {},
     "output_type": "execute_result"
    }
   ],
   "source": [
    "test_data.groupby('HouseStyle')['HouseStyle'].value_counts()"
   ]
  },
  {
   "cell_type": "code",
   "execution_count": 29,
   "id": "92fd6058",
   "metadata": {
    "execution": {
     "iopub.execute_input": "2022-10-31T15:17:04.617433Z",
     "iopub.status.busy": "2022-10-31T15:17:04.617051Z",
     "iopub.status.idle": "2022-10-31T15:17:04.624778Z",
     "shell.execute_reply": "2022-10-31T15:17:04.623647Z"
    },
    "papermill": {
     "duration": 0.033962,
     "end_time": "2022-10-31T15:17:04.627154",
     "exception": false,
     "start_time": "2022-10-31T15:17:04.593192",
     "status": "completed"
    },
    "tags": []
   },
   "outputs": [],
   "source": [
    "D2 = train_data[train_data['HouseStyle'] == '2.5Fin'].index\n",
    "train_data.drop(D2, inplace = True)"
   ]
  },
  {
   "cell_type": "code",
   "execution_count": 30,
   "id": "2e257d7d",
   "metadata": {
    "execution": {
     "iopub.execute_input": "2022-10-31T15:17:04.675752Z",
     "iopub.status.busy": "2022-10-31T15:17:04.675394Z",
     "iopub.status.idle": "2022-10-31T15:17:04.684848Z",
     "shell.execute_reply": "2022-10-31T15:17:04.683793Z"
    },
    "papermill": {
     "duration": 0.035985,
     "end_time": "2022-10-31T15:17:04.686974",
     "exception": false,
     "start_time": "2022-10-31T15:17:04.650989",
     "status": "completed"
    },
    "tags": []
   },
   "outputs": [
    {
     "data": {
      "text/plain": [
       "RoofMatl  RoofMatl\n",
       "ClyTile   ClyTile        1\n",
       "CompShg   CompShg     1422\n",
       "Membran   Membran        1\n",
       "Metal     Metal          1\n",
       "Roll      Roll           1\n",
       "Tar&Grv   Tar&Grv       11\n",
       "WdShake   WdShake        5\n",
       "WdShngl   WdShngl        5\n",
       "Name: RoofMatl, dtype: int64"
      ]
     },
     "execution_count": 30,
     "metadata": {},
     "output_type": "execute_result"
    }
   ],
   "source": [
    "train_data.groupby('RoofMatl')['RoofMatl'].value_counts()"
   ]
  },
  {
   "cell_type": "code",
   "execution_count": 31,
   "id": "21fe2b21",
   "metadata": {
    "execution": {
     "iopub.execute_input": "2022-10-31T15:17:04.735470Z",
     "iopub.status.busy": "2022-10-31T15:17:04.735050Z",
     "iopub.status.idle": "2022-10-31T15:17:04.745217Z",
     "shell.execute_reply": "2022-10-31T15:17:04.744221Z"
    },
    "papermill": {
     "duration": 0.037244,
     "end_time": "2022-10-31T15:17:04.747472",
     "exception": false,
     "start_time": "2022-10-31T15:17:04.710228",
     "status": "completed"
    },
    "tags": []
   },
   "outputs": [
    {
     "data": {
      "text/plain": [
       "RoofMatl  RoofMatl\n",
       "CompShg   CompShg     1442\n",
       "Tar&Grv   Tar&Grv       12\n",
       "WdShake   WdShake        4\n",
       "WdShngl   WdShngl        1\n",
       "Name: RoofMatl, dtype: int64"
      ]
     },
     "execution_count": 31,
     "metadata": {},
     "output_type": "execute_result"
    }
   ],
   "source": [
    "test_data.groupby('RoofMatl')['RoofMatl'].value_counts()"
   ]
  },
  {
   "cell_type": "code",
   "execution_count": 32,
   "id": "9ff003a1",
   "metadata": {
    "execution": {
     "iopub.execute_input": "2022-10-31T15:17:04.796805Z",
     "iopub.status.busy": "2022-10-31T15:17:04.796428Z",
     "iopub.status.idle": "2022-10-31T15:17:04.805369Z",
     "shell.execute_reply": "2022-10-31T15:17:04.804391Z"
    },
    "papermill": {
     "duration": 0.036114,
     "end_time": "2022-10-31T15:17:04.807501",
     "exception": false,
     "start_time": "2022-10-31T15:17:04.771387",
     "status": "completed"
    },
    "tags": []
   },
   "outputs": [],
   "source": [
    "D3 = train_data[(train_data['RoofMatl'] == 'ClyTile') | (train_data['RoofMatl'] == 'Membran') | (train_data['RoofMatl'] == 'Metal') | (train_data['RoofMatl'] == 'Roll')].index\n",
    "train_data.drop(D3, inplace = True)"
   ]
  },
  {
   "cell_type": "code",
   "execution_count": 33,
   "id": "5729b02b",
   "metadata": {
    "execution": {
     "iopub.execute_input": "2022-10-31T15:17:04.855764Z",
     "iopub.status.busy": "2022-10-31T15:17:04.855382Z",
     "iopub.status.idle": "2022-10-31T15:17:04.864890Z",
     "shell.execute_reply": "2022-10-31T15:17:04.863997Z"
    },
    "papermill": {
     "duration": 0.036235,
     "end_time": "2022-10-31T15:17:04.866885",
     "exception": false,
     "start_time": "2022-10-31T15:17:04.830650",
     "status": "completed"
    },
    "tags": []
   },
   "outputs": [
    {
     "data": {
      "text/plain": [
       "Exterior1st  Exterior1st\n",
       "AsbShng      AsbShng         19\n",
       "AsphShn      AsphShn          1\n",
       "BrkComm      BrkComm          2\n",
       "BrkFace      BrkFace         50\n",
       "CBlock       CBlock           1\n",
       "CemntBd      CemntBd         60\n",
       "HdBoard      HdBoard        221\n",
       "ImStucc      ImStucc          1\n",
       "MetalSd      MetalSd        217\n",
       "Plywood      Plywood        105\n",
       "Stone        Stone            2\n",
       "Stucco       Stucco          24\n",
       "VinylSd      VinylSd        513\n",
       "Wd Sdng      Wd Sdng        201\n",
       "WdShing      WdShing         26\n",
       "Name: Exterior1st, dtype: int64"
      ]
     },
     "execution_count": 33,
     "metadata": {},
     "output_type": "execute_result"
    }
   ],
   "source": [
    "train_data.groupby('Exterior1st')['Exterior1st'].value_counts()"
   ]
  },
  {
   "cell_type": "code",
   "execution_count": 34,
   "id": "f9b944f5",
   "metadata": {
    "execution": {
     "iopub.execute_input": "2022-10-31T15:17:04.915329Z",
     "iopub.status.busy": "2022-10-31T15:17:04.914925Z",
     "iopub.status.idle": "2022-10-31T15:17:04.924802Z",
     "shell.execute_reply": "2022-10-31T15:17:04.924018Z"
    },
    "papermill": {
     "duration": 0.0366,
     "end_time": "2022-10-31T15:17:04.926812",
     "exception": false,
     "start_time": "2022-10-31T15:17:04.890212",
     "status": "completed"
    },
    "tags": []
   },
   "outputs": [
    {
     "data": {
      "text/plain": [
       "Exterior1st  Exterior1st\n",
       "AsbShng      AsbShng         24\n",
       "AsphShn      AsphShn          1\n",
       "BrkComm      BrkComm          4\n",
       "BrkFace      BrkFace         37\n",
       "CBlock       CBlock           1\n",
       "CemntBd      CemntBd         65\n",
       "HdBoard      HdBoard        220\n",
       "MetalSd      MetalSd        230\n",
       "Plywood      Plywood        113\n",
       "Stucco       Stucco          18\n",
       "VinylSd      VinylSd        511\n",
       "Wd Sdng      Wd Sdng        205\n",
       "WdShing      WdShing         30\n",
       "Name: Exterior1st, dtype: int64"
      ]
     },
     "execution_count": 34,
     "metadata": {},
     "output_type": "execute_result"
    }
   ],
   "source": [
    "test_data.groupby('Exterior1st')['Exterior1st'].value_counts()"
   ]
  },
  {
   "cell_type": "code",
   "execution_count": 35,
   "id": "8e896b63",
   "metadata": {
    "execution": {
     "iopub.execute_input": "2022-10-31T15:17:04.975676Z",
     "iopub.status.busy": "2022-10-31T15:17:04.974939Z",
     "iopub.status.idle": "2022-10-31T15:17:04.983219Z",
     "shell.execute_reply": "2022-10-31T15:17:04.982196Z"
    },
    "papermill": {
     "duration": 0.034943,
     "end_time": "2022-10-31T15:17:04.985433",
     "exception": false,
     "start_time": "2022-10-31T15:17:04.950490",
     "status": "completed"
    },
    "tags": []
   },
   "outputs": [],
   "source": [
    "D4 = train_data[(train_data['Exterior1st'] == 'Stone') | (train_data['Exterior1st'] == 'ImStucc')].index\n",
    "train_data.drop(D4, inplace = True)                     "
   ]
  },
  {
   "cell_type": "code",
   "execution_count": 36,
   "id": "859d52c2",
   "metadata": {
    "execution": {
     "iopub.execute_input": "2022-10-31T15:17:05.034011Z",
     "iopub.status.busy": "2022-10-31T15:17:05.033296Z",
     "iopub.status.idle": "2022-10-31T15:17:05.043527Z",
     "shell.execute_reply": "2022-10-31T15:17:05.042555Z"
    },
    "papermill": {
     "duration": 0.036831,
     "end_time": "2022-10-31T15:17:05.045683",
     "exception": false,
     "start_time": "2022-10-31T15:17:05.008852",
     "status": "completed"
    },
    "tags": []
   },
   "outputs": [
    {
     "data": {
      "text/plain": [
       "Exterior2nd  Exterior2nd\n",
       "AsbShng      AsbShng         19\n",
       "AsphShn      AsphShn          3\n",
       "Brk Cmn      Brk Cmn          7\n",
       "BrkFace      BrkFace         25\n",
       "CBlock       CBlock           1\n",
       "CmentBd      CmentBd         59\n",
       "HdBoard      HdBoard        205\n",
       "ImStucc      ImStucc          9\n",
       "MetalSd      MetalSd        211\n",
       "Other        Other            1\n",
       "Plywood      Plywood        138\n",
       "Stone        Stone            4\n",
       "Stucco       Stucco          25\n",
       "VinylSd      VinylSd        502\n",
       "Wd Sdng      Wd Sdng        193\n",
       "Wd Shng      Wd Shng         38\n",
       "Name: Exterior2nd, dtype: int64"
      ]
     },
     "execution_count": 36,
     "metadata": {},
     "output_type": "execute_result"
    }
   ],
   "source": [
    "train_data.groupby('Exterior2nd')['Exterior2nd'].value_counts()"
   ]
  },
  {
   "cell_type": "code",
   "execution_count": 37,
   "id": "f497e3f0",
   "metadata": {
    "execution": {
     "iopub.execute_input": "2022-10-31T15:17:05.094975Z",
     "iopub.status.busy": "2022-10-31T15:17:05.094049Z",
     "iopub.status.idle": "2022-10-31T15:17:05.104335Z",
     "shell.execute_reply": "2022-10-31T15:17:05.103416Z"
    },
    "papermill": {
     "duration": 0.036617,
     "end_time": "2022-10-31T15:17:05.106258",
     "exception": false,
     "start_time": "2022-10-31T15:17:05.069641",
     "status": "completed"
    },
    "tags": []
   },
   "outputs": [
    {
     "data": {
      "text/plain": [
       "Exterior2nd  Exterior2nd\n",
       "AsbShng      AsbShng         18\n",
       "AsphShn      AsphShn          1\n",
       "Brk Cmn      Brk Cmn         15\n",
       "BrkFace      BrkFace         22\n",
       "CBlock       CBlock           2\n",
       "CmentBd      CmentBd         66\n",
       "HdBoard      HdBoard        199\n",
       "ImStucc      ImStucc          5\n",
       "MetalSd      MetalSd        233\n",
       "Plywood      Plywood        128\n",
       "Stone        Stone            1\n",
       "Stucco       Stucco          21\n",
       "VinylSd      VinylSd        511\n",
       "Wd Sdng      Wd Sdng        194\n",
       "Wd Shng      Wd Shng         43\n",
       "Name: Exterior2nd, dtype: int64"
      ]
     },
     "execution_count": 37,
     "metadata": {},
     "output_type": "execute_result"
    }
   ],
   "source": [
    "test_data.groupby('Exterior2nd')['Exterior2nd'].value_counts()"
   ]
  },
  {
   "cell_type": "code",
   "execution_count": 38,
   "id": "ba3f0a53",
   "metadata": {
    "execution": {
     "iopub.execute_input": "2022-10-31T15:17:05.155646Z",
     "iopub.status.busy": "2022-10-31T15:17:05.154939Z",
     "iopub.status.idle": "2022-10-31T15:17:05.162508Z",
     "shell.execute_reply": "2022-10-31T15:17:05.161649Z"
    },
    "papermill": {
     "duration": 0.034806,
     "end_time": "2022-10-31T15:17:05.164607",
     "exception": false,
     "start_time": "2022-10-31T15:17:05.129801",
     "status": "completed"
    },
    "tags": []
   },
   "outputs": [],
   "source": [
    "D5 = train_data[(train_data['Exterior2nd'] == 'Other')].index\n",
    "train_data.drop(D5, inplace = True)"
   ]
  },
  {
   "cell_type": "code",
   "execution_count": 39,
   "id": "c2ca00af",
   "metadata": {
    "execution": {
     "iopub.execute_input": "2022-10-31T15:17:05.213739Z",
     "iopub.status.busy": "2022-10-31T15:17:05.213361Z",
     "iopub.status.idle": "2022-10-31T15:17:05.223110Z",
     "shell.execute_reply": "2022-10-31T15:17:05.222007Z"
    },
    "papermill": {
     "duration": 0.03719,
     "end_time": "2022-10-31T15:17:05.225488",
     "exception": false,
     "start_time": "2022-10-31T15:17:05.188298",
     "status": "completed"
    },
    "tags": []
   },
   "outputs": [
    {
     "data": {
      "text/plain": [
       "Heating  Heating\n",
       "Floor    Floor         1\n",
       "GasA     GasA       1407\n",
       "GasW     GasW         18\n",
       "Grav     Grav          7\n",
       "OthW     OthW          2\n",
       "Wall     Wall          4\n",
       "Name: Heating, dtype: int64"
      ]
     },
     "execution_count": 39,
     "metadata": {},
     "output_type": "execute_result"
    }
   ],
   "source": [
    "train_data.groupby('Heating')['Heating'].value_counts()"
   ]
  },
  {
   "cell_type": "code",
   "execution_count": 40,
   "id": "e4930fbb",
   "metadata": {
    "execution": {
     "iopub.execute_input": "2022-10-31T15:17:05.275098Z",
     "iopub.status.busy": "2022-10-31T15:17:05.274685Z",
     "iopub.status.idle": "2022-10-31T15:17:05.285148Z",
     "shell.execute_reply": "2022-10-31T15:17:05.284326Z"
    },
    "papermill": {
     "duration": 0.037983,
     "end_time": "2022-10-31T15:17:05.287305",
     "exception": false,
     "start_time": "2022-10-31T15:17:05.249322",
     "status": "completed"
    },
    "tags": []
   },
   "outputs": [
    {
     "data": {
      "text/plain": [
       "Heating  Heating\n",
       "GasA     GasA       1446\n",
       "GasW     GasW          9\n",
       "Grav     Grav          2\n",
       "Wall     Wall          2\n",
       "Name: Heating, dtype: int64"
      ]
     },
     "execution_count": 40,
     "metadata": {},
     "output_type": "execute_result"
    }
   ],
   "source": [
    "test_data.groupby('Heating')['Heating'].value_counts()"
   ]
  },
  {
   "cell_type": "code",
   "execution_count": 41,
   "id": "48106678",
   "metadata": {
    "execution": {
     "iopub.execute_input": "2022-10-31T15:17:05.337911Z",
     "iopub.status.busy": "2022-10-31T15:17:05.337146Z",
     "iopub.status.idle": "2022-10-31T15:17:05.345321Z",
     "shell.execute_reply": "2022-10-31T15:17:05.344422Z"
    },
    "papermill": {
     "duration": 0.035817,
     "end_time": "2022-10-31T15:17:05.347542",
     "exception": false,
     "start_time": "2022-10-31T15:17:05.311725",
     "status": "completed"
    },
    "tags": []
   },
   "outputs": [],
   "source": [
    "D6 = train_data[(train_data['Heating'] == 'Floor') | (train_data['Heating'] == 'OthW')].index\n",
    "train_data.drop(D6, inplace = True)"
   ]
  },
  {
   "cell_type": "code",
   "execution_count": 42,
   "id": "b139e1f0",
   "metadata": {
    "execution": {
     "iopub.execute_input": "2022-10-31T15:17:05.397340Z",
     "iopub.status.busy": "2022-10-31T15:17:05.396685Z",
     "iopub.status.idle": "2022-10-31T15:17:05.406537Z",
     "shell.execute_reply": "2022-10-31T15:17:05.405678Z"
    },
    "papermill": {
     "duration": 0.03717,
     "end_time": "2022-10-31T15:17:05.408537",
     "exception": false,
     "start_time": "2022-10-31T15:17:05.371367",
     "status": "completed"
    },
    "tags": []
   },
   "outputs": [
    {
     "data": {
      "text/plain": [
       "Electrical  Electrical\n",
       "FuseA       FuseA           91\n",
       "FuseF       FuseF           27\n",
       "FuseP       FuseP            3\n",
       "Mix         Mix              1\n",
       "SBrkr       SBrkr         1314\n",
       "Name: Electrical, dtype: int64"
      ]
     },
     "execution_count": 42,
     "metadata": {},
     "output_type": "execute_result"
    }
   ],
   "source": [
    "train_data.groupby('Electrical')['Electrical'].value_counts()"
   ]
  },
  {
   "cell_type": "code",
   "execution_count": 43,
   "id": "a91ec10a",
   "metadata": {
    "execution": {
     "iopub.execute_input": "2022-10-31T15:17:05.458931Z",
     "iopub.status.busy": "2022-10-31T15:17:05.458197Z",
     "iopub.status.idle": "2022-10-31T15:17:05.467592Z",
     "shell.execute_reply": "2022-10-31T15:17:05.466571Z"
    },
    "papermill": {
     "duration": 0.036953,
     "end_time": "2022-10-31T15:17:05.469552",
     "exception": false,
     "start_time": "2022-10-31T15:17:05.432599",
     "status": "completed"
    },
    "tags": []
   },
   "outputs": [
    {
     "data": {
      "text/plain": [
       "Electrical  Electrical\n",
       "FuseA       FuseA           94\n",
       "FuseF       FuseF           23\n",
       "FuseP       FuseP            5\n",
       "SBrkr       SBrkr         1337\n",
       "Name: Electrical, dtype: int64"
      ]
     },
     "execution_count": 43,
     "metadata": {},
     "output_type": "execute_result"
    }
   ],
   "source": [
    "test_data.groupby('Electrical')['Electrical'].value_counts()"
   ]
  },
  {
   "cell_type": "code",
   "execution_count": 44,
   "id": "581c04cf",
   "metadata": {
    "execution": {
     "iopub.execute_input": "2022-10-31T15:17:05.519697Z",
     "iopub.status.busy": "2022-10-31T15:17:05.519099Z",
     "iopub.status.idle": "2022-10-31T15:17:05.527067Z",
     "shell.execute_reply": "2022-10-31T15:17:05.526342Z"
    },
    "papermill": {
     "duration": 0.035181,
     "end_time": "2022-10-31T15:17:05.529072",
     "exception": false,
     "start_time": "2022-10-31T15:17:05.493891",
     "status": "completed"
    },
    "tags": []
   },
   "outputs": [],
   "source": [
    "D7 = train_data[(train_data['Electrical'] == 'Mix')].index\n",
    "train_data.drop(D7, inplace = True)"
   ]
  },
  {
   "cell_type": "code",
   "execution_count": 45,
   "id": "d8237380",
   "metadata": {
    "execution": {
     "iopub.execute_input": "2022-10-31T15:17:05.579775Z",
     "iopub.status.busy": "2022-10-31T15:17:05.578963Z",
     "iopub.status.idle": "2022-10-31T15:17:05.589654Z",
     "shell.execute_reply": "2022-10-31T15:17:05.588569Z"
    },
    "papermill": {
     "duration": 0.038542,
     "end_time": "2022-10-31T15:17:05.591921",
     "exception": false,
     "start_time": "2022-10-31T15:17:05.553379",
     "status": "completed"
    },
    "tags": []
   },
   "outputs": [
    {
     "data": {
      "text/plain": [
       "GarageQual  GarageQual\n",
       "Ex          Ex               2\n",
       "Fa          Fa              46\n",
       "Gd          Gd              14\n",
       "Po          Po               2\n",
       "TA          TA            1371\n",
       "Name: GarageQual, dtype: int64"
      ]
     },
     "execution_count": 45,
     "metadata": {},
     "output_type": "execute_result"
    }
   ],
   "source": [
    "train_data.groupby('GarageQual')['GarageQual'].value_counts()"
   ]
  },
  {
   "cell_type": "code",
   "execution_count": 46,
   "id": "0a149a2e",
   "metadata": {
    "execution": {
     "iopub.execute_input": "2022-10-31T15:17:05.642768Z",
     "iopub.status.busy": "2022-10-31T15:17:05.642019Z",
     "iopub.status.idle": "2022-10-31T15:17:05.651840Z",
     "shell.execute_reply": "2022-10-31T15:17:05.651029Z"
    },
    "papermill": {
     "duration": 0.037681,
     "end_time": "2022-10-31T15:17:05.653983",
     "exception": false,
     "start_time": "2022-10-31T15:17:05.616302",
     "status": "completed"
    },
    "tags": []
   },
   "outputs": [
    {
     "data": {
      "text/plain": [
       "GarageQual  GarageQual\n",
       "Fa          Fa              76\n",
       "Gd          Gd              10\n",
       "Po          Po               2\n",
       "TA          TA            1371\n",
       "Name: GarageQual, dtype: int64"
      ]
     },
     "execution_count": 46,
     "metadata": {},
     "output_type": "execute_result"
    }
   ],
   "source": [
    "test_data.groupby('GarageQual')['GarageQual'].value_counts()"
   ]
  },
  {
   "cell_type": "code",
   "execution_count": 47,
   "id": "2c469228",
   "metadata": {
    "execution": {
     "iopub.execute_input": "2022-10-31T15:17:05.705164Z",
     "iopub.status.busy": "2022-10-31T15:17:05.704419Z",
     "iopub.status.idle": "2022-10-31T15:17:05.712009Z",
     "shell.execute_reply": "2022-10-31T15:17:05.711317Z"
    },
    "papermill": {
     "duration": 0.035641,
     "end_time": "2022-10-31T15:17:05.714035",
     "exception": false,
     "start_time": "2022-10-31T15:17:05.678394",
     "status": "completed"
    },
    "tags": []
   },
   "outputs": [],
   "source": [
    "D8 = train_data[(train_data['GarageQual'] == 'Ex')].index\n",
    "train_data.drop(D8, inplace = True)"
   ]
  },
  {
   "cell_type": "code",
   "execution_count": 48,
   "id": "51b49007",
   "metadata": {
    "execution": {
     "iopub.execute_input": "2022-10-31T15:17:05.764307Z",
     "iopub.status.busy": "2022-10-31T15:17:05.763659Z",
     "iopub.status.idle": "2022-10-31T15:17:05.782598Z",
     "shell.execute_reply": "2022-10-31T15:17:05.781167Z"
    },
    "papermill": {
     "duration": 0.046783,
     "end_time": "2022-10-31T15:17:05.785029",
     "exception": false,
     "start_time": "2022-10-31T15:17:05.738246",
     "status": "completed"
    },
    "tags": []
   },
   "outputs": [
    {
     "name": "stdout",
     "output_type": "stream",
     "text": [
      "MSZoning : 5\n",
      "Street : 2\n",
      "LotShape : 4\n",
      "LandContour : 4\n",
      "Utilities : 1\n",
      "LotConfig : 5\n",
      "LandSlope : 3\n",
      "Neighborhood : 25\n",
      "Condition1 : 9\n",
      "Condition2 : 5\n",
      "BldgType : 5\n",
      "HouseStyle : 7\n",
      "RoofStyle : 6\n",
      "RoofMatl : 4\n",
      "Exterior1st : 13\n",
      "Exterior2nd : 15\n",
      "MasVnrType : 4\n",
      "ExterQual : 4\n",
      "ExterCond : 5\n",
      "Foundation : 6\n",
      "BsmtQual : 4\n",
      "BsmtCond : 4\n",
      "BsmtExposure : 4\n",
      "BsmtFinType1 : 6\n",
      "BsmtFinType2 : 6\n",
      "Heating : 4\n",
      "HeatingQC : 5\n",
      "CentralAir : 2\n",
      "Electrical : 4\n",
      "KitchenQual : 4\n",
      "Functional : 7\n",
      "GarageType : 6\n",
      "GarageFinish : 3\n",
      "GarageQual : 4\n",
      "GarageCond : 4\n",
      "PavedDrive : 3\n",
      "SaleType : 9\n",
      "SaleCondition : 6\n"
     ]
    }
   ],
   "source": [
    "for i in train_data.columns:\n",
    "    if train_data[i].dtypes == 'object':\n",
    "        print(f\"{i} : {train_data[i].nunique()}\")"
   ]
  },
  {
   "cell_type": "code",
   "execution_count": 49,
   "id": "4c42b85c",
   "metadata": {
    "execution": {
     "iopub.execute_input": "2022-10-31T15:17:05.838041Z",
     "iopub.status.busy": "2022-10-31T15:17:05.837632Z",
     "iopub.status.idle": "2022-10-31T15:17:05.848189Z",
     "shell.execute_reply": "2022-10-31T15:17:05.847497Z"
    },
    "papermill": {
     "duration": 0.040846,
     "end_time": "2022-10-31T15:17:05.850062",
     "exception": false,
     "start_time": "2022-10-31T15:17:05.809216",
     "status": "completed"
    },
    "tags": []
   },
   "outputs": [
    {
     "data": {
      "text/plain": [
       "0"
      ]
     },
     "execution_count": 49,
     "metadata": {},
     "output_type": "execute_result"
    }
   ],
   "source": [
    "train_data.isna().sum().sum()"
   ]
  },
  {
   "cell_type": "code",
   "execution_count": 50,
   "id": "49a6c261",
   "metadata": {
    "execution": {
     "iopub.execute_input": "2022-10-31T15:17:05.900922Z",
     "iopub.status.busy": "2022-10-31T15:17:05.899923Z",
     "iopub.status.idle": "2022-10-31T15:17:05.906319Z",
     "shell.execute_reply": "2022-10-31T15:17:05.905447Z"
    },
    "papermill": {
     "duration": 0.033893,
     "end_time": "2022-10-31T15:17:05.908286",
     "exception": false,
     "start_time": "2022-10-31T15:17:05.874393",
     "status": "completed"
    },
    "tags": []
   },
   "outputs": [
    {
     "data": {
      "text/plain": [
       "(1433, 76)"
      ]
     },
     "execution_count": 50,
     "metadata": {},
     "output_type": "execute_result"
    }
   ],
   "source": [
    "train_data.shape"
   ]
  },
  {
   "cell_type": "code",
   "execution_count": 51,
   "id": "8b492d8f",
   "metadata": {
    "execution": {
     "iopub.execute_input": "2022-10-31T15:17:05.958614Z",
     "iopub.status.busy": "2022-10-31T15:17:05.957941Z",
     "iopub.status.idle": "2022-10-31T15:17:05.971822Z",
     "shell.execute_reply": "2022-10-31T15:17:05.971133Z"
    },
    "papermill": {
     "duration": 0.04117,
     "end_time": "2022-10-31T15:17:05.973749",
     "exception": false,
     "start_time": "2022-10-31T15:17:05.932579",
     "status": "completed"
    },
    "tags": []
   },
   "outputs": [
    {
     "data": {
      "text/plain": [
       "['MSZoning',\n",
       " 'LotShape',\n",
       " 'LandContour',\n",
       " 'LotConfig',\n",
       " 'LandSlope',\n",
       " 'Neighborhood',\n",
       " 'Condition1',\n",
       " 'Condition2',\n",
       " 'BldgType',\n",
       " 'HouseStyle',\n",
       " 'RoofStyle',\n",
       " 'RoofMatl',\n",
       " 'Exterior1st',\n",
       " 'Exterior2nd',\n",
       " 'MasVnrType',\n",
       " 'ExterQual',\n",
       " 'ExterCond',\n",
       " 'Foundation',\n",
       " 'BsmtQual',\n",
       " 'BsmtCond',\n",
       " 'BsmtExposure',\n",
       " 'BsmtFinType1',\n",
       " 'BsmtFinType2',\n",
       " 'Heating',\n",
       " 'HeatingQC',\n",
       " 'Electrical',\n",
       " 'KitchenQual',\n",
       " 'Functional',\n",
       " 'GarageType',\n",
       " 'GarageFinish',\n",
       " 'GarageQual',\n",
       " 'GarageCond',\n",
       " 'PavedDrive',\n",
       " 'SaleType',\n",
       " 'SaleCondition']"
      ]
     },
     "execution_count": 51,
     "metadata": {},
     "output_type": "execute_result"
    }
   ],
   "source": [
    "OneHot_train_data = [col for col in train_data.columns if (train_data[col].dtypes == 'object' and train_data[col].nunique() > 2)]\n",
    "OneHot_train_data"
   ]
  },
  {
   "cell_type": "code",
   "execution_count": 52,
   "id": "47435337",
   "metadata": {
    "execution": {
     "iopub.execute_input": "2022-10-31T15:17:06.025707Z",
     "iopub.status.busy": "2022-10-31T15:17:06.025053Z",
     "iopub.status.idle": "2022-10-31T15:17:06.038728Z",
     "shell.execute_reply": "2022-10-31T15:17:06.037736Z"
    },
    "papermill": {
     "duration": 0.042113,
     "end_time": "2022-10-31T15:17:06.040991",
     "exception": false,
     "start_time": "2022-10-31T15:17:05.998878",
     "status": "completed"
    },
    "tags": []
   },
   "outputs": [
    {
     "data": {
      "text/plain": [
       "['Street', 'Utilities', 'CentralAir']"
      ]
     },
     "execution_count": 52,
     "metadata": {},
     "output_type": "execute_result"
    }
   ],
   "source": [
    "Label_train_data = [col for col in train_data.columns if (train_data[col].dtypes == 'object' and train_data[col].nunique() <= 2)]\n",
    "Label_train_data"
   ]
  },
  {
   "cell_type": "markdown",
   "id": "009afb03",
   "metadata": {
    "papermill": {
     "duration": 0.025742,
     "end_time": "2022-10-31T15:17:06.092452",
     "exception": false,
     "start_time": "2022-10-31T15:17:06.066710",
     "status": "completed"
    },
    "tags": []
   },
   "source": [
    "# Encoding train data"
   ]
  },
  {
   "cell_type": "code",
   "execution_count": 53,
   "id": "ee8fb9f6",
   "metadata": {
    "execution": {
     "iopub.execute_input": "2022-10-31T15:17:06.144950Z",
     "iopub.status.busy": "2022-10-31T15:17:06.144578Z",
     "iopub.status.idle": "2022-10-31T15:17:06.155035Z",
     "shell.execute_reply": "2022-10-31T15:17:06.154290Z"
    },
    "papermill": {
     "duration": 0.039535,
     "end_time": "2022-10-31T15:17:06.157148",
     "exception": false,
     "start_time": "2022-10-31T15:17:06.117613",
     "status": "completed"
    },
    "tags": []
   },
   "outputs": [],
   "source": [
    "from sklearn.preprocessing import LabelEncoder\n",
    "L = train_data[Label_train_data] = train_data[Label_train_data].apply(LabelEncoder().fit_transform)\n",
    "L = np.array(L)"
   ]
  },
  {
   "cell_type": "code",
   "execution_count": 54,
   "id": "50c73ff7",
   "metadata": {
    "execution": {
     "iopub.execute_input": "2022-10-31T15:17:06.210416Z",
     "iopub.status.busy": "2022-10-31T15:17:06.209398Z",
     "iopub.status.idle": "2022-10-31T15:17:06.216122Z",
     "shell.execute_reply": "2022-10-31T15:17:06.215194Z"
    },
    "papermill": {
     "duration": 0.036006,
     "end_time": "2022-10-31T15:17:06.218375",
     "exception": false,
     "start_time": "2022-10-31T15:17:06.182369",
     "status": "completed"
    },
    "tags": []
   },
   "outputs": [
    {
     "data": {
      "text/plain": [
       "array([[1, 0, 1],\n",
       "       [1, 0, 1],\n",
       "       [1, 0, 1],\n",
       "       ...,\n",
       "       [1, 0, 1],\n",
       "       [1, 0, 1],\n",
       "       [1, 0, 1]])"
      ]
     },
     "execution_count": 54,
     "metadata": {},
     "output_type": "execute_result"
    }
   ],
   "source": [
    "L"
   ]
  },
  {
   "cell_type": "code",
   "execution_count": 55,
   "id": "a1260316",
   "metadata": {
    "execution": {
     "iopub.execute_input": "2022-10-31T15:17:06.270962Z",
     "iopub.status.busy": "2022-10-31T15:17:06.270568Z",
     "iopub.status.idle": "2022-10-31T15:17:06.281622Z",
     "shell.execute_reply": "2022-10-31T15:17:06.280824Z"
    },
    "papermill": {
     "duration": 0.03982,
     "end_time": "2022-10-31T15:17:06.283758",
     "exception": false,
     "start_time": "2022-10-31T15:17:06.243938",
     "status": "completed"
    },
    "tags": []
   },
   "outputs": [],
   "source": [
    "X = train_data.iloc[:, :-1].values\n",
    "y = train_data.iloc[:,-1].values"
   ]
  },
  {
   "cell_type": "code",
   "execution_count": 56,
   "id": "8ff42615",
   "metadata": {
    "execution": {
     "iopub.execute_input": "2022-10-31T15:17:06.335281Z",
     "iopub.status.busy": "2022-10-31T15:17:06.334653Z",
     "iopub.status.idle": "2022-10-31T15:17:06.341021Z",
     "shell.execute_reply": "2022-10-31T15:17:06.340119Z"
    },
    "papermill": {
     "duration": 0.034558,
     "end_time": "2022-10-31T15:17:06.343313",
     "exception": false,
     "start_time": "2022-10-31T15:17:06.308755",
     "status": "completed"
    },
    "tags": []
   },
   "outputs": [
    {
     "data": {
      "text/plain": [
       "(1433, 75)"
      ]
     },
     "execution_count": 56,
     "metadata": {},
     "output_type": "execute_result"
    }
   ],
   "source": [
    "X.shape"
   ]
  },
  {
   "cell_type": "code",
   "execution_count": 57,
   "id": "bb2cda8b",
   "metadata": {
    "execution": {
     "iopub.execute_input": "2022-10-31T15:17:06.394824Z",
     "iopub.status.busy": "2022-10-31T15:17:06.394468Z",
     "iopub.status.idle": "2022-10-31T15:17:06.400032Z",
     "shell.execute_reply": "2022-10-31T15:17:06.399314Z"
    },
    "papermill": {
     "duration": 0.034112,
     "end_time": "2022-10-31T15:17:06.402241",
     "exception": false,
     "start_time": "2022-10-31T15:17:06.368129",
     "status": "completed"
    },
    "tags": []
   },
   "outputs": [
    {
     "data": {
      "text/plain": [
       "array([208500, 181500, 223500, ..., 266500, 142125, 147500])"
      ]
     },
     "execution_count": 57,
     "metadata": {},
     "output_type": "execute_result"
    }
   ],
   "source": [
    "y"
   ]
  },
  {
   "cell_type": "code",
   "execution_count": 58,
   "id": "a5a618f0",
   "metadata": {
    "execution": {
     "iopub.execute_input": "2022-10-31T15:17:06.455290Z",
     "iopub.status.busy": "2022-10-31T15:17:06.454713Z",
     "iopub.status.idle": "2022-10-31T15:17:06.460451Z",
     "shell.execute_reply": "2022-10-31T15:17:06.459120Z"
    },
    "papermill": {
     "duration": 0.035197,
     "end_time": "2022-10-31T15:17:06.463142",
     "exception": false,
     "start_time": "2022-10-31T15:17:06.427945",
     "status": "completed"
    },
    "tags": []
   },
   "outputs": [],
   "source": [
    "unique_col_index = []\n",
    "for i in OneHot_train_data:\n",
    "    unique_col_index.append(train_data.columns.get_loc(i))     "
   ]
  },
  {
   "cell_type": "code",
   "execution_count": 59,
   "id": "1399899d",
   "metadata": {
    "execution": {
     "iopub.execute_input": "2022-10-31T15:17:06.515906Z",
     "iopub.status.busy": "2022-10-31T15:17:06.515546Z",
     "iopub.status.idle": "2022-10-31T15:17:06.573914Z",
     "shell.execute_reply": "2022-10-31T15:17:06.573038Z"
    },
    "papermill": {
     "duration": 0.087306,
     "end_time": "2022-10-31T15:17:06.576349",
     "exception": false,
     "start_time": "2022-10-31T15:17:06.489043",
     "status": "completed"
    },
    "tags": []
   },
   "outputs": [],
   "source": [
    "from sklearn.compose import ColumnTransformer\n",
    "from sklearn.preprocessing import OneHotEncoder\n",
    "ct = ColumnTransformer(transformers =[('enc', OneHotEncoder(sparse = False, drop ='first'), unique_col_index), ], remainder ='passthrough')\n",
    "X = np.array(ct.fit_transform(X))"
   ]
  },
  {
   "cell_type": "code",
   "execution_count": 60,
   "id": "51f9524b",
   "metadata": {
    "execution": {
     "iopub.execute_input": "2022-10-31T15:17:06.627722Z",
     "iopub.status.busy": "2022-10-31T15:17:06.627364Z",
     "iopub.status.idle": "2022-10-31T15:17:06.635910Z",
     "shell.execute_reply": "2022-10-31T15:17:06.634820Z"
    },
    "papermill": {
     "duration": 0.036856,
     "end_time": "2022-10-31T15:17:06.638037",
     "exception": false,
     "start_time": "2022-10-31T15:17:06.601181",
     "status": "completed"
    },
    "tags": []
   },
   "outputs": [
    {
     "data": {
      "text/plain": [
       "array([[0.0, 0.0, 1.0, ..., 1, 0, 1],\n",
       "       [0.0, 0.0, 1.0, ..., 1, 0, 1],\n",
       "       [0.0, 0.0, 1.0, ..., 1, 0, 1],\n",
       "       ...,\n",
       "       [0.0, 0.0, 1.0, ..., 1, 0, 1],\n",
       "       [0.0, 0.0, 1.0, ..., 1, 0, 1],\n",
       "       [0.0, 0.0, 1.0, ..., 1, 0, 1]], dtype=object)"
      ]
     },
     "execution_count": 60,
     "metadata": {},
     "output_type": "execute_result"
    }
   ],
   "source": [
    "main_train = np.concatenate((X,L), axis = 1)\n",
    "main_train"
   ]
  },
  {
   "cell_type": "code",
   "execution_count": 61,
   "id": "0c214bb3",
   "metadata": {
    "execution": {
     "iopub.execute_input": "2022-10-31T15:17:06.691437Z",
     "iopub.status.busy": "2022-10-31T15:17:06.690746Z",
     "iopub.status.idle": "2022-10-31T15:17:06.697172Z",
     "shell.execute_reply": "2022-10-31T15:17:06.696239Z"
    },
    "papermill": {
     "duration": 0.035813,
     "end_time": "2022-10-31T15:17:06.699396",
     "exception": false,
     "start_time": "2022-10-31T15:17:06.663583",
     "status": "completed"
    },
    "tags": []
   },
   "outputs": [
    {
     "data": {
      "text/plain": [
       "(1433, 220)"
      ]
     },
     "execution_count": 61,
     "metadata": {},
     "output_type": "execute_result"
    }
   ],
   "source": [
    "main_train.shape"
   ]
  },
  {
   "cell_type": "markdown",
   "id": "9db69678",
   "metadata": {
    "papermill": {
     "duration": 0.02459,
     "end_time": "2022-10-31T15:17:06.748777",
     "exception": false,
     "start_time": "2022-10-31T15:17:06.724187",
     "status": "completed"
    },
    "tags": []
   },
   "source": [
    "## Find no of unique categorical data of test data"
   ]
  },
  {
   "cell_type": "code",
   "execution_count": 62,
   "id": "8bd1a68c",
   "metadata": {
    "execution": {
     "iopub.execute_input": "2022-10-31T15:17:06.800005Z",
     "iopub.status.busy": "2022-10-31T15:17:06.799631Z",
     "iopub.status.idle": "2022-10-31T15:17:06.817667Z",
     "shell.execute_reply": "2022-10-31T15:17:06.816000Z"
    },
    "papermill": {
     "duration": 0.04674,
     "end_time": "2022-10-31T15:17:06.820267",
     "exception": false,
     "start_time": "2022-10-31T15:17:06.773527",
     "status": "completed"
    },
    "tags": []
   },
   "outputs": [
    {
     "name": "stdout",
     "output_type": "stream",
     "text": [
      "MSZoning : 5\n",
      "Street : 2\n",
      "LotShape : 4\n",
      "LandContour : 4\n",
      "Utilities : 1\n",
      "LotConfig : 5\n",
      "LandSlope : 3\n",
      "Neighborhood : 25\n",
      "Condition1 : 9\n",
      "Condition2 : 5\n",
      "BldgType : 5\n",
      "HouseStyle : 7\n",
      "RoofStyle : 6\n",
      "RoofMatl : 4\n",
      "Exterior1st : 13\n",
      "Exterior2nd : 15\n",
      "MasVnrType : 4\n",
      "ExterQual : 4\n",
      "ExterCond : 5\n",
      "Foundation : 6\n",
      "BsmtQual : 4\n",
      "BsmtCond : 4\n",
      "BsmtExposure : 4\n",
      "BsmtFinType1 : 6\n",
      "BsmtFinType2 : 6\n",
      "Heating : 4\n",
      "HeatingQC : 5\n",
      "CentralAir : 2\n",
      "Electrical : 4\n",
      "KitchenQual : 4\n",
      "Functional : 7\n",
      "GarageType : 6\n",
      "GarageFinish : 3\n",
      "GarageQual : 4\n",
      "GarageCond : 5\n",
      "PavedDrive : 3\n",
      "SaleType : 9\n",
      "SaleCondition : 6\n"
     ]
    }
   ],
   "source": [
    "for i in test_data.columns:\n",
    "    if test_data[i].dtypes == 'object':\n",
    "        print(f\"{i} : {test_data[i].nunique()}\")"
   ]
  },
  {
   "cell_type": "code",
   "execution_count": 63,
   "id": "124ff7ab",
   "metadata": {
    "execution": {
     "iopub.execute_input": "2022-10-31T15:17:06.872383Z",
     "iopub.status.busy": "2022-10-31T15:17:06.872007Z",
     "iopub.status.idle": "2022-10-31T15:17:06.881498Z",
     "shell.execute_reply": "2022-10-31T15:17:06.880621Z"
    },
    "papermill": {
     "duration": 0.03763,
     "end_time": "2022-10-31T15:17:06.883624",
     "exception": false,
     "start_time": "2022-10-31T15:17:06.845994",
     "status": "completed"
    },
    "tags": []
   },
   "outputs": [
    {
     "data": {
      "text/plain": [
       "GarageCond  GarageCond\n",
       "Fa          Fa              32\n",
       "Gd          Gd               8\n",
       "Po          Po               6\n",
       "TA          TA            1387\n",
       "Name: GarageCond, dtype: int64"
      ]
     },
     "execution_count": 63,
     "metadata": {},
     "output_type": "execute_result"
    }
   ],
   "source": [
    "train_data.groupby('GarageCond')['GarageCond'].value_counts()"
   ]
  },
  {
   "cell_type": "code",
   "execution_count": 64,
   "id": "517a0062",
   "metadata": {
    "execution": {
     "iopub.execute_input": "2022-10-31T15:17:06.936049Z",
     "iopub.status.busy": "2022-10-31T15:17:06.935687Z",
     "iopub.status.idle": "2022-10-31T15:17:06.945656Z",
     "shell.execute_reply": "2022-10-31T15:17:06.944894Z"
    },
    "papermill": {
     "duration": 0.038844,
     "end_time": "2022-10-31T15:17:06.947520",
     "exception": false,
     "start_time": "2022-10-31T15:17:06.908676",
     "status": "completed"
    },
    "tags": []
   },
   "outputs": [
    {
     "data": {
      "text/plain": [
       "GarageCond  GarageCond\n",
       "Ex          Ex               1\n",
       "Fa          Fa              39\n",
       "Gd          Gd               6\n",
       "Po          Po               7\n",
       "TA          TA            1406\n",
       "Name: GarageCond, dtype: int64"
      ]
     },
     "execution_count": 64,
     "metadata": {},
     "output_type": "execute_result"
    }
   ],
   "source": [
    "test_data.groupby('GarageCond')['GarageCond'].value_counts()"
   ]
  },
  {
   "cell_type": "code",
   "execution_count": 65,
   "id": "a3af41da",
   "metadata": {
    "execution": {
     "iopub.execute_input": "2022-10-31T15:17:06.999388Z",
     "iopub.status.busy": "2022-10-31T15:17:06.998975Z",
     "iopub.status.idle": "2022-10-31T15:17:07.006634Z",
     "shell.execute_reply": "2022-10-31T15:17:07.005881Z"
    },
    "papermill": {
     "duration": 0.035939,
     "end_time": "2022-10-31T15:17:07.008508",
     "exception": false,
     "start_time": "2022-10-31T15:17:06.972569",
     "status": "completed"
    },
    "tags": []
   },
   "outputs": [],
   "source": [
    "D9 = test_data[(test_data['GarageCond'] == 'Ex')].index\n",
    "test_data.drop(D9, inplace = True)"
   ]
  },
  {
   "cell_type": "code",
   "execution_count": 66,
   "id": "01d35529",
   "metadata": {
    "execution": {
     "iopub.execute_input": "2022-10-31T15:17:07.060955Z",
     "iopub.status.busy": "2022-10-31T15:17:07.060575Z",
     "iopub.status.idle": "2022-10-31T15:17:07.079521Z",
     "shell.execute_reply": "2022-10-31T15:17:07.078556Z"
    },
    "papermill": {
     "duration": 0.047766,
     "end_time": "2022-10-31T15:17:07.081736",
     "exception": false,
     "start_time": "2022-10-31T15:17:07.033970",
     "status": "completed"
    },
    "tags": []
   },
   "outputs": [
    {
     "data": {
      "text/plain": [
       "['MSZoning',\n",
       " 'LotShape',\n",
       " 'LandContour',\n",
       " 'LotConfig',\n",
       " 'LandSlope',\n",
       " 'Neighborhood',\n",
       " 'Condition1',\n",
       " 'Condition2',\n",
       " 'BldgType',\n",
       " 'HouseStyle',\n",
       " 'RoofStyle',\n",
       " 'RoofMatl',\n",
       " 'Exterior1st',\n",
       " 'Exterior2nd',\n",
       " 'MasVnrType',\n",
       " 'ExterQual',\n",
       " 'ExterCond',\n",
       " 'Foundation',\n",
       " 'BsmtQual',\n",
       " 'BsmtCond',\n",
       " 'BsmtExposure',\n",
       " 'BsmtFinType1',\n",
       " 'BsmtFinType2',\n",
       " 'Heating',\n",
       " 'HeatingQC',\n",
       " 'Electrical',\n",
       " 'KitchenQual',\n",
       " 'Functional',\n",
       " 'GarageType',\n",
       " 'GarageFinish',\n",
       " 'GarageQual',\n",
       " 'GarageCond',\n",
       " 'PavedDrive',\n",
       " 'SaleType',\n",
       " 'SaleCondition']"
      ]
     },
     "execution_count": 66,
     "metadata": {},
     "output_type": "execute_result"
    }
   ],
   "source": [
    "OneHot_test_data = [col for col in test_data.columns if (test_data[col].dtypes == 'object' and test_data[col].nunique() > 2)]\n",
    "OneHot_test_data"
   ]
  },
  {
   "cell_type": "code",
   "execution_count": 67,
   "id": "f311d40a",
   "metadata": {
    "execution": {
     "iopub.execute_input": "2022-10-31T15:17:07.134634Z",
     "iopub.status.busy": "2022-10-31T15:17:07.134249Z",
     "iopub.status.idle": "2022-10-31T15:17:07.148823Z",
     "shell.execute_reply": "2022-10-31T15:17:07.148071Z"
    },
    "papermill": {
     "duration": 0.043486,
     "end_time": "2022-10-31T15:17:07.151018",
     "exception": false,
     "start_time": "2022-10-31T15:17:07.107532",
     "status": "completed"
    },
    "tags": []
   },
   "outputs": [
    {
     "data": {
      "text/plain": [
       "['Street', 'Utilities', 'CentralAir']"
      ]
     },
     "execution_count": 67,
     "metadata": {},
     "output_type": "execute_result"
    }
   ],
   "source": [
    "Label_test_data = [col for col in test_data.columns if (test_data[col].dtypes == 'object' and test_data[col].nunique() <= 2)]\n",
    "Label_test_data"
   ]
  },
  {
   "cell_type": "markdown",
   "id": "c0558421",
   "metadata": {
    "papermill": {
     "duration": 0.02513,
     "end_time": "2022-10-31T15:17:07.202053",
     "exception": false,
     "start_time": "2022-10-31T15:17:07.176923",
     "status": "completed"
    },
    "tags": []
   },
   "source": [
    "# Encoding test data"
   ]
  },
  {
   "cell_type": "code",
   "execution_count": 68,
   "id": "df60c250",
   "metadata": {
    "execution": {
     "iopub.execute_input": "2022-10-31T15:17:07.254251Z",
     "iopub.status.busy": "2022-10-31T15:17:07.253627Z",
     "iopub.status.idle": "2022-10-31T15:17:07.264599Z",
     "shell.execute_reply": "2022-10-31T15:17:07.263780Z"
    },
    "papermill": {
     "duration": 0.039694,
     "end_time": "2022-10-31T15:17:07.266703",
     "exception": false,
     "start_time": "2022-10-31T15:17:07.227009",
     "status": "completed"
    },
    "tags": []
   },
   "outputs": [],
   "source": [
    "from sklearn.preprocessing import LabelEncoder\n",
    "L1 = test_data[Label_test_data] = test_data[Label_test_data].apply(LabelEncoder().fit_transform)\n",
    "L1 = np.array(L1)"
   ]
  },
  {
   "cell_type": "code",
   "execution_count": 69,
   "id": "b1e9d10a",
   "metadata": {
    "execution": {
     "iopub.execute_input": "2022-10-31T15:17:07.318865Z",
     "iopub.status.busy": "2022-10-31T15:17:07.318509Z",
     "iopub.status.idle": "2022-10-31T15:17:07.325122Z",
     "shell.execute_reply": "2022-10-31T15:17:07.324060Z"
    },
    "papermill": {
     "duration": 0.035379,
     "end_time": "2022-10-31T15:17:07.327197",
     "exception": false,
     "start_time": "2022-10-31T15:17:07.291818",
     "status": "completed"
    },
    "tags": []
   },
   "outputs": [
    {
     "data": {
      "text/plain": [
       "array([[1, 0, 1],\n",
       "       [1, 0, 1],\n",
       "       [1, 0, 1],\n",
       "       ...,\n",
       "       [1, 0, 1],\n",
       "       [1, 0, 1],\n",
       "       [1, 0, 1]])"
      ]
     },
     "execution_count": 69,
     "metadata": {},
     "output_type": "execute_result"
    }
   ],
   "source": [
    "L1"
   ]
  },
  {
   "cell_type": "code",
   "execution_count": 70,
   "id": "17d4f876",
   "metadata": {
    "execution": {
     "iopub.execute_input": "2022-10-31T15:17:07.381329Z",
     "iopub.status.busy": "2022-10-31T15:17:07.380233Z",
     "iopub.status.idle": "2022-10-31T15:17:07.388775Z",
     "shell.execute_reply": "2022-10-31T15:17:07.387889Z"
    },
    "papermill": {
     "duration": 0.037831,
     "end_time": "2022-10-31T15:17:07.390936",
     "exception": false,
     "start_time": "2022-10-31T15:17:07.353105",
     "status": "completed"
    },
    "tags": []
   },
   "outputs": [],
   "source": [
    "X1 = test_data.iloc[:, :].values"
   ]
  },
  {
   "cell_type": "code",
   "execution_count": 71,
   "id": "f419d307",
   "metadata": {
    "execution": {
     "iopub.execute_input": "2022-10-31T15:17:07.444827Z",
     "iopub.status.busy": "2022-10-31T15:17:07.443989Z",
     "iopub.status.idle": "2022-10-31T15:17:07.450646Z",
     "shell.execute_reply": "2022-10-31T15:17:07.449550Z"
    },
    "papermill": {
     "duration": 0.035898,
     "end_time": "2022-10-31T15:17:07.452745",
     "exception": false,
     "start_time": "2022-10-31T15:17:07.416847",
     "status": "completed"
    },
    "tags": []
   },
   "outputs": [
    {
     "data": {
      "text/plain": [
       "(1458, 75)"
      ]
     },
     "execution_count": 71,
     "metadata": {},
     "output_type": "execute_result"
    }
   ],
   "source": [
    "X1.shape"
   ]
  },
  {
   "cell_type": "code",
   "execution_count": 72,
   "id": "e35085cd",
   "metadata": {
    "execution": {
     "iopub.execute_input": "2022-10-31T15:17:07.505762Z",
     "iopub.status.busy": "2022-10-31T15:17:07.505392Z",
     "iopub.status.idle": "2022-10-31T15:17:07.510611Z",
     "shell.execute_reply": "2022-10-31T15:17:07.509477Z"
    },
    "papermill": {
     "duration": 0.034189,
     "end_time": "2022-10-31T15:17:07.512818",
     "exception": false,
     "start_time": "2022-10-31T15:17:07.478629",
     "status": "completed"
    },
    "tags": []
   },
   "outputs": [],
   "source": [
    "unique_col_index_test = []\n",
    "for i in OneHot_test_data:\n",
    "    unique_col_index_test.append(test_data.columns.get_loc(i))     "
   ]
  },
  {
   "cell_type": "code",
   "execution_count": 73,
   "id": "82fc66fc",
   "metadata": {
    "execution": {
     "iopub.execute_input": "2022-10-31T15:17:07.567077Z",
     "iopub.status.busy": "2022-10-31T15:17:07.566686Z",
     "iopub.status.idle": "2022-10-31T15:17:07.618260Z",
     "shell.execute_reply": "2022-10-31T15:17:07.617348Z"
    },
    "papermill": {
     "duration": 0.081901,
     "end_time": "2022-10-31T15:17:07.620863",
     "exception": false,
     "start_time": "2022-10-31T15:17:07.538962",
     "status": "completed"
    },
    "tags": []
   },
   "outputs": [],
   "source": [
    "from sklearn.compose import ColumnTransformer\n",
    "from sklearn.preprocessing import OneHotEncoder\n",
    "ct1 = ColumnTransformer(transformers =[('enc', OneHotEncoder(sparse = False, drop ='first'), unique_col_index_test), ], remainder ='passthrough')\n",
    "X1 = np.array(ct1.fit_transform(X1))"
   ]
  },
  {
   "cell_type": "code",
   "execution_count": 74,
   "id": "259ed348",
   "metadata": {
    "execution": {
     "iopub.execute_input": "2022-10-31T15:17:07.673740Z",
     "iopub.status.busy": "2022-10-31T15:17:07.672971Z",
     "iopub.status.idle": "2022-10-31T15:17:07.679904Z",
     "shell.execute_reply": "2022-10-31T15:17:07.679073Z"
    },
    "papermill": {
     "duration": 0.03574,
     "end_time": "2022-10-31T15:17:07.682046",
     "exception": false,
     "start_time": "2022-10-31T15:17:07.646306",
     "status": "completed"
    },
    "tags": []
   },
   "outputs": [],
   "source": [
    "main_test = np.concatenate((X1, L1), axis = 1)"
   ]
  },
  {
   "cell_type": "code",
   "execution_count": 75,
   "id": "78fbcc8c",
   "metadata": {
    "execution": {
     "iopub.execute_input": "2022-10-31T15:17:07.734919Z",
     "iopub.status.busy": "2022-10-31T15:17:07.734547Z",
     "iopub.status.idle": "2022-10-31T15:17:07.741137Z",
     "shell.execute_reply": "2022-10-31T15:17:07.740149Z"
    },
    "papermill": {
     "duration": 0.035626,
     "end_time": "2022-10-31T15:17:07.743352",
     "exception": false,
     "start_time": "2022-10-31T15:17:07.707726",
     "status": "completed"
    },
    "tags": []
   },
   "outputs": [
    {
     "data": {
      "text/plain": [
       "array([[0.0, 1.0, 0.0, ..., 1, 0, 1],\n",
       "       [0.0, 0.0, 1.0, ..., 1, 0, 1],\n",
       "       [0.0, 0.0, 1.0, ..., 1, 0, 1],\n",
       "       ...,\n",
       "       [0.0, 0.0, 1.0, ..., 1, 0, 1],\n",
       "       [0.0, 0.0, 1.0, ..., 1, 0, 1],\n",
       "       [0.0, 0.0, 1.0, ..., 1, 0, 1]], dtype=object)"
      ]
     },
     "execution_count": 75,
     "metadata": {},
     "output_type": "execute_result"
    }
   ],
   "source": [
    "main_test"
   ]
  },
  {
   "cell_type": "code",
   "execution_count": 76,
   "id": "d4c736c3",
   "metadata": {
    "execution": {
     "iopub.execute_input": "2022-10-31T15:17:07.797418Z",
     "iopub.status.busy": "2022-10-31T15:17:07.796703Z",
     "iopub.status.idle": "2022-10-31T15:17:07.803166Z",
     "shell.execute_reply": "2022-10-31T15:17:07.802171Z"
    },
    "papermill": {
     "duration": 0.036168,
     "end_time": "2022-10-31T15:17:07.805481",
     "exception": false,
     "start_time": "2022-10-31T15:17:07.769313",
     "status": "completed"
    },
    "tags": []
   },
   "outputs": [
    {
     "data": {
      "text/plain": [
       "(1458, 220)"
      ]
     },
     "execution_count": 76,
     "metadata": {},
     "output_type": "execute_result"
    }
   ],
   "source": [
    "main_test.shape"
   ]
  },
  {
   "cell_type": "markdown",
   "id": "bee25a30",
   "metadata": {
    "papermill": {
     "duration": 0.025804,
     "end_time": "2022-10-31T15:17:07.857998",
     "exception": false,
     "start_time": "2022-10-31T15:17:07.832194",
     "status": "completed"
    },
    "tags": []
   },
   "source": [
    "# Train Random Forest Regression upon train data."
   ]
  },
  {
   "cell_type": "code",
   "execution_count": 77,
   "id": "6b5188e6",
   "metadata": {
    "execution": {
     "iopub.execute_input": "2022-10-31T15:17:07.911371Z",
     "iopub.status.busy": "2022-10-31T15:17:07.910948Z",
     "iopub.status.idle": "2022-10-31T15:17:37.619605Z",
     "shell.execute_reply": "2022-10-31T15:17:37.618373Z"
    },
    "papermill": {
     "duration": 29.738103,
     "end_time": "2022-10-31T15:17:37.621817",
     "exception": false,
     "start_time": "2022-10-31T15:17:07.883714",
     "status": "completed"
    },
    "tags": []
   },
   "outputs": [
    {
     "data": {
      "text/plain": [
       "RandomForestRegressor(n_estimators=1000, oob_score=True, random_state=50)"
      ]
     },
     "execution_count": 77,
     "metadata": {},
     "output_type": "execute_result"
    }
   ],
   "source": [
    "from sklearn.ensemble import RandomForestRegressor\n",
    "regressor = RandomForestRegressor(max_features = 'auto', n_estimators = 1000, random_state = 50, oob_score = True)\n",
    "regressor.fit(X, y)"
   ]
  },
  {
   "cell_type": "code",
   "execution_count": 78,
   "id": "bd835c5a",
   "metadata": {
    "execution": {
     "iopub.execute_input": "2022-10-31T15:17:37.676486Z",
     "iopub.status.busy": "2022-10-31T15:17:37.675400Z",
     "iopub.status.idle": "2022-10-31T15:17:38.086974Z",
     "shell.execute_reply": "2022-10-31T15:17:38.086145Z"
    },
    "papermill": {
     "duration": 0.44107,
     "end_time": "2022-10-31T15:17:38.089347",
     "exception": false,
     "start_time": "2022-10-31T15:17:37.648277",
     "status": "completed"
    },
    "tags": []
   },
   "outputs": [],
   "source": [
    "y_pred = regressor.predict(X1)"
   ]
  },
  {
   "cell_type": "code",
   "execution_count": 79,
   "id": "492482af",
   "metadata": {
    "execution": {
     "iopub.execute_input": "2022-10-31T15:17:38.144924Z",
     "iopub.status.busy": "2022-10-31T15:17:38.144293Z",
     "iopub.status.idle": "2022-10-31T15:17:38.151274Z",
     "shell.execute_reply": "2022-10-31T15:17:38.150279Z"
    },
    "papermill": {
     "duration": 0.037191,
     "end_time": "2022-10-31T15:17:38.153391",
     "exception": false,
     "start_time": "2022-10-31T15:17:38.116200",
     "status": "completed"
    },
    "tags": []
   },
   "outputs": [
    {
     "data": {
      "text/plain": [
       "array([128931.812, 154229.483, 179201.925, ..., 151855.824, 112602.812,\n",
       "       224411.061])"
      ]
     },
     "execution_count": 79,
     "metadata": {},
     "output_type": "execute_result"
    }
   ],
   "source": [
    "y_pred"
   ]
  },
  {
   "cell_type": "code",
   "execution_count": 80,
   "id": "533a67ab",
   "metadata": {
    "execution": {
     "iopub.execute_input": "2022-10-31T15:17:38.207582Z",
     "iopub.status.busy": "2022-10-31T15:17:38.207192Z",
     "iopub.status.idle": "2022-10-31T15:17:38.218768Z",
     "shell.execute_reply": "2022-10-31T15:17:38.217724Z"
    },
    "papermill": {
     "duration": 0.041138,
     "end_time": "2022-10-31T15:17:38.221005",
     "exception": false,
     "start_time": "2022-10-31T15:17:38.179867",
     "status": "completed"
    },
    "tags": []
   },
   "outputs": [],
   "source": [
    "output = pd.DataFrame({'Id' : test_data['Id'], 'SalePrice' : y_pred})\n",
    "output.to_csv('submission.csv', index = False)"
   ]
  }
 ],
 "metadata": {
  "kernelspec": {
   "display_name": "Python 3",
   "language": "python",
   "name": "python3"
  },
  "language_info": {
   "codemirror_mode": {
    "name": "ipython",
    "version": 3
   },
   "file_extension": ".py",
   "mimetype": "text/x-python",
   "name": "python",
   "nbconvert_exporter": "python",
   "pygments_lexer": "ipython3",
   "version": "3.7.12"
  },
  "papermill": {
   "default_parameters": {},
   "duration": 47.031434,
   "end_time": "2022-10-31T15:17:38.968852",
   "environment_variables": {},
   "exception": null,
   "input_path": "__notebook__.ipynb",
   "output_path": "__notebook__.ipynb",
   "parameters": {},
   "start_time": "2022-10-31T15:16:51.937418",
   "version": "2.3.4"
  }
 },
 "nbformat": 4,
 "nbformat_minor": 5
}
